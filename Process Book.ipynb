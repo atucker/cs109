{
 "metadata": {
  "name": ""
 },
 "nbformat": 3,
 "nbformat_minor": 0,
 "worksheets": [
  {
   "cells": [
    {
     "cell_type": "code",
     "collapsed": false,
     "input": [
      "import requests\n",
      "import json\n",
      "import re\n",
      "import time\n",
      "import unicodedata\n",
      "import pandas as pd\n",
      "import matplotlib.pyplot as plt\n",
      "import HTMLParser\n",
      "import urllib\n",
      "from pattern import web\n",
      "import numpy as np\n",
      "import datetime\n",
      "import dateutil\n",
      "%matplotlib inline\n",
      "\n",
      "html_parser = HTMLParser.HTMLParser()\n",
      "\n",
      "\n",
      "\n",
      "#CS109's remove_border code:\n",
      "def remove_border(axes=None, top=False, right=False, left=True, bottom=True):\n",
      "    \"\"\"\n",
      "    Minimize chartjunk by stripping out unnecesasry plot borders and axis ticks\n",
      "    \n",
      "    The top/right/left/bottom keywords toggle whether the corresponding plot border is drawn\n",
      "    \"\"\"\n",
      "    ax = axes or plt.gca()\n",
      "    ax.spines['top'].set_visible(top)\n",
      "    ax.spines['right'].set_visible(right)\n",
      "    ax.spines['left'].set_visible(left)\n",
      "    ax.spines['bottom'].set_visible(bottom)\n",
      "    \n",
      "    #turn off all ticks\n",
      "    ax.yaxis.set_ticks_position('none')\n",
      "    ax.xaxis.set_ticks_position('none')\n",
      "    \n",
      "    #now re-enable visibles\n",
      "    if top:\n",
      "        ax.xaxis.tick_top()\n",
      "    if bottom:\n",
      "        ax.xaxis.tick_bottom()\n",
      "    if left:\n",
      "        ax.yaxis.tick_left()\n",
      "    if right:\n",
      "        ax.yaxis.tick_right()"
     ],
     "language": "python",
     "metadata": {},
     "outputs": [],
     "prompt_number": 1
    },
    {
     "cell_type": "code",
     "collapsed": false,
     "input": [
      "a = \"asdlkfjalskjfdalksjfd\"\n",
      "print a[2:]"
     ],
     "language": "python",
     "metadata": {},
     "outputs": [
      {
       "output_type": "stream",
       "stream": "stdout",
       "text": [
        "dlkfjalskjfdalksjfd\n"
       ]
      }
     ],
     "prompt_number": 2
    },
    {
     "cell_type": "code",
     "collapsed": false,
     "input": [
      "def cat_string(categories):\n",
      "    s = \"\"\n",
      "    for c in categories:\n",
      "        s += \"&Categories=\" + str(c)\n",
      "    return s\n",
      "\n",
      "def make_url(year, month, day, categories):\n",
      "    year = str(year)\n",
      "    month = str(month)\n",
      "    day = str(day)\n",
      "    \n",
      "    return \"http://www.kickspy.com/projects/find?Keywords=&Settings.ExpandStatus=true&AnyStatus=true&Settings.ExpandCategories=true\" + cat_string(categories) + \"&Settings.ExpandDates=true&StartedAfter=\" + year + \"%2F\" + month + \"%2F\" + day + \"&StartedBefore=\" + year + \"%2F\" + month + \"%2F\" + day + \"&SortBy=0\"\n",
      "\n",
      "def get_titles(year, month, day):\n",
      "    #url = \"http://www.kickspy.com/projects/find?Keywords=&Settings.ExpandStatus=true&AnyStatus=true&AllCategories=true&Settings.ExpandDates=true&StartedAfter=\" + year + \"%2F\" + month + \"%2F\" + day + \"&StartedBefore=\" + year + \"%2F\" + month + \"%2F\" + day + \"&SortBy=0\"\n",
      "    \n",
      "    titles = set()\n",
      "    \n",
      "    text = requests.get(make_url(year, month, day, [j for j in range(14)])).text[60928:]\n",
      "    for line in text.split('\\n'):\n",
      "        if \"<h3>\" in line:\n",
      "            l = re.findall(r'\">(.*)<\\/a><\\/h3>', text)\n",
      "            titles.update([unicodedata.normalize('NFKD', j.strip()).encode('ascii','ignore') for j in l])\n",
      "        \n",
      "    text = requests.get(make_url(year, month, day, [j + 14 for j in range(17)])).text[60928:]\n",
      "    for line in text.split('\\n'):\n",
      "        if \"<h3>\" in line:\n",
      "            l = re.findall(r'\">(.*)<\\/a><\\/h3>', text)\n",
      "            titles.update([unicodedata.normalize('NFKD', j.strip()).encode('ascii','ignore') for j in l])\n",
      "\n",
      "    text = requests.get(make_url(year, month, day, [j + 31 for j in range(31)])).text[60928:]\n",
      "    for line in text.split('\\n'):\n",
      "        if \"<h3>\" in line:\n",
      "            l = re.findall(r'\">(.*)<\\/a><\\/h3>', text)\n",
      "            titles.update([unicodedata.normalize('NFKD', j.strip()).encode('ascii','ignore') for j in l])\n",
      "            \n",
      "    time.sleep(2)\n",
      "        \n",
      "    return titles\n",
      "\n",
      "def all_titles():\n",
      "    years = [2009, 2010, 2011, 2012, 2013]\n",
      "    months = [i + 1 for i in range(12)]\n",
      "    \n",
      "    all_titles = []\n",
      "    \n",
      "    for y in years:\n",
      "        for m in months:\n",
      "            print m\n",
      "            days = []\n",
      "            if m in [1, 3, 5, 7, 8, 10, 12]:\n",
      "                days = [1 + i for i in range(31)]\n",
      "            elif m in [4,6,9,11]:\n",
      "                days = [1 + i for i in range(30)]\n",
      "            else:\n",
      "                days = [1+i for i in range(28)]\n",
      "            for d in days:\n",
      "                all_titles.extend(get_titles(y, m, d))\n",
      "    \n",
      "    return all_titles"
     ],
     "language": "python",
     "metadata": {},
     "outputs": [],
     "prompt_number": 3
    },
    {
     "cell_type": "code",
     "collapsed": false,
     "input": [
      "#titles_2009 = all_titles()"
     ],
     "language": "python",
     "metadata": {},
     "outputs": [],
     "prompt_number": 5
    },
    {
     "cell_type": "code",
     "collapsed": false,
     "input": [
      "len(titles_2009)"
     ],
     "language": "python",
     "metadata": {},
     "outputs": []
    },
    {
     "cell_type": "code",
     "collapsed": false,
     "input": [
      "titles_all = all_titles()"
     ],
     "language": "python",
     "metadata": {},
     "outputs": []
    },
    {
     "cell_type": "code",
     "collapsed": false,
     "input": [
      "titles_all.reverse()"
     ],
     "language": "python",
     "metadata": {},
     "outputs": []
    },
    {
     "cell_type": "code",
     "collapsed": false,
     "input": [
      "print titles_all[0:100]"
     ],
     "language": "python",
     "metadata": {},
     "outputs": []
    },
    {
     "cell_type": "code",
     "collapsed": false,
     "input": [
      "f = open(\"titles_all\", \"w\")\n",
      "for t in titles_all:\n",
      "    f.write(t)\n",
      "    f.write(\"\\n\")\n",
      "f.close()"
     ],
     "language": "python",
     "metadata": {},
     "outputs": []
    },
    {
     "cell_type": "code",
     "collapsed": false,
     "input": [
      "test_2009v1 = all_titles()\n",
      "len(test_2009v1)"
     ],
     "language": "python",
     "metadata": {},
     "outputs": []
    },
    {
     "cell_type": "code",
     "collapsed": false,
     "input": [
      "test_2009v2 = all_titles()\n",
      "len(test_2009v2)"
     ],
     "language": "python",
     "metadata": {},
     "outputs": []
    },
    {
     "cell_type": "code",
     "collapsed": false,
     "input": [
      "a = get_titles(2013, 11, 12)\n",
      "len(a)"
     ],
     "language": "python",
     "metadata": {},
     "outputs": []
    },
    {
     "cell_type": "code",
     "collapsed": false,
     "input": [
      "year = 2013\n",
      "month = 11\n",
      "day = 12\n",
      "print make_url(year, month, day, [j + 1 for j in range(13)])\n",
      "print make_url(year, month, day, [j + 14 for j in range(17)])\n",
      "print make_url(year, month, day, [j + 31 for j in range(20)])"
     ],
     "language": "python",
     "metadata": {},
     "outputs": []
    },
    {
     "cell_type": "code",
     "collapsed": false,
     "input": [
      "# open the text file list of kickstarter titles, convert formatting\n",
      "f = open(\"titles_all.txt\", \"r\")\n",
      "all_titles = f.read().split(\"\\n\")\n",
      "f.close()\n",
      "\n",
      "print len(all_titles)"
     ],
     "language": "python",
     "metadata": {},
     "outputs": [
      {
       "output_type": "stream",
       "stream": "stdout",
       "text": [
        "121279\n"
       ]
      }
     ],
     "prompt_number": 6
    },
    {
     "cell_type": "code",
     "collapsed": false,
     "input": [
      "#convert titles to normal text format\n",
      "for i, title in enumerate(all_titles):\n",
      "    all_titles[i] = unicode(html_parser.unescape(title))"
     ],
     "language": "python",
     "metadata": {},
     "outputs": [],
     "prompt_number": 7
    },
    {
     "cell_type": "code",
     "collapsed": false,
     "input": [
      "def dict_iterator(my_dict):\n",
      "    for key, value in my_dict.iteritems():\n",
      "        if type(value)==list:\n",
      "            for item in value:\n",
      "                new_dict = dict_iterator(item)\n",
      "                my_dict[key] = new_dict\n",
      "        if type(value)==dict:\n",
      "            new_dict = dict_iterator(value)\n",
      "            my_dict[key] = new_dict\n",
      "        if type(value)==unicode:\n",
      "            if 'saal_tucker_sturm_zimble' in value:\n",
      "                value = value.replace('saal_tucker_sturm_zimble','\"')\n",
      "                my_dict[key] = value\n",
      "    return my_dict\n",
      "\n",
      "def tm_remover(title):\n",
      "    words = []\n",
      "    for word in title.split(' '):\n",
      "        if 'TM' not in word:\n",
      "            words.append(word)\n",
      "    return \" \".join(words)\n",
      "            \n",
      "def alt_project_fetch(title):\n",
      "    url_endings = []\n",
      "    new_dicts = []\n",
      "    url = 'http://www.kickspy.com/projects/find?Keywords='+title+'&Settings.ExpandStatus=true&AnyStatus=true&AllCategories=true&SortBy=0'\n",
      "    try:\n",
      "        text = requests.get(url).text\n",
      "    except ValueError:\n",
      "        return None\n",
      "    for line in text.split('\\n'):\n",
      "        if \"0 results found\" in line:\n",
      "            if \"TM\" in title:\n",
      "                return alt_project_fetch(tm_remover(title))\n",
      "            else:\n",
      "                return None\n",
      "        elif \"<h3>\" in line:\n",
      "            url_ending = line.split('href=\"',1)[1]\n",
      "            url_ending = url_ending.split('\">',1)[0]\n",
      "            url_endings.append(url_ending)\n",
      "    if url_endings==[]:\n",
      "        return None\n",
      "    for url_ending in url_endings:\n",
      "        url_2 = \"http://www.kickstarter.com/\" + url_ending\n",
      "        try:\n",
      "            text_2 = requests.get(url_2).text\n",
      "        except ValueError:\n",
      "            return None\n",
      "        for line in text_2.split('\\n'):\n",
      "            if 'window.current_project' in line:\n",
      "                data = unicode(html_parser.unescape(line))\n",
      "                data = data.split('window.current_project = \"',1)[1]\n",
      "                data = data.split('\";')[0]\n",
      "                data = str(data)\n",
      "                data = data.replace('\\\\\"','\\\\saal_tucker_sturm_zimble')\n",
      "                data = data.replace('\\\\','')\n",
      "                try:\n",
      "                    data = json.loads(data)\n",
      "                except ValueError:\n",
      "                    continue\n",
      "                data = dict_iterator(data)\n",
      "                new_dicts.append(data)\n",
      "    return new_dicts\n"
     ],
     "language": "python",
     "metadata": {},
     "outputs": [],
     "prompt_number": 8
    },
    {
     "cell_type": "code",
     "collapsed": false,
     "input": [
      "# function to get info (from kickstarter) about all the projects associated to titles in a list of titles\n",
      "def get_projects(titles):\n",
      "    error_titles=[]\n",
      "    base_url = \"http://www.kickstarter.com/projects/search.json\"\n",
      "    fields = ['creator_id', 'creator_name', 'creator_slug',\n",
      "              'project_id', 'project_name', 'project_slug', 'blurb', 'category',\n",
      "              'currency', 'goal', 'pledged', 'backers_count',\n",
      "              'launched_at', 'deadline', 'last_state_change', 'state',\n",
      "              'location_id', 'location_name', 'country',\n",
      "              'project_url', 'creator_url']\n",
      "    projects = dict((field, []) for field in fields)\n",
      "    \n",
      "    for i, title in enumerate(titles):\n",
      "        if i%100 == 0:\n",
      "            print i\n",
      "        try:\n",
      "            data = requests.get(base_url, params = {'search': '', 'term': title}).json()['projects']\n",
      "        except ValueError:\n",
      "            data = alt_project_fetch(title)\n",
      "            if data == None:\n",
      "                error_titles.append(title)\n",
      "                continue\n",
      "            \n",
      "        if len(data) == 0:\n",
      "            data = alt_project_fetch(title)\n",
      "            if data == None:\n",
      "                error_titles.append(title)\n",
      "                continue\n",
      "            data = [data]\n",
      "            \n",
      "            \n",
      "        for project in data:\n",
      "            if project['id'] not in projects['project_id']:\n",
      "                \n",
      "                \n",
      "                try:\n",
      "                    projects['creator_id'].append( project['creator']['id'] )\n",
      "                except KeyError:\n",
      "                    projects['creator_id'].append( '' )\n",
      "                    \n",
      "                try:\n",
      "                    projects['creator_name'].append( project['creator']['name'].encode('utf-8') )\n",
      "                except KeyError:\n",
      "                    projects['creator_name'].append( '' )\n",
      "                    \n",
      "                try:\n",
      "                    projects['creator_slug'].append( project['creator']['slug'].encode('utf-8') )\n",
      "                except KeyError:\n",
      "                    projects['creator_slug'].append( '' )\n",
      "                \n",
      "                try:\n",
      "                    projects['project_id'].append( project['id'] )\n",
      "                except KeyError:\n",
      "                    projects['project_id'].append( '' )\n",
      "                    \n",
      "                try:\n",
      "                    projects['project_name'].append( project['name'].encode('utf-8') )\n",
      "                except KeyError:\n",
      "                    projects['project_name'].append( '' )\n",
      "                    \n",
      "                try:\n",
      "                    projects['project_slug'].append( project['slug'].encode('utf-8') )\n",
      "                except KeyError:\n",
      "                    projects['project_slug'].append( '' )\n",
      "                    \n",
      "                try:\n",
      "                    projects['blurb'].append( project['blurb'].encode('utf-8') )\n",
      "                except KeyError:\n",
      "                    projects['blurb'].append( '' )\n",
      "                    \n",
      "                try:\n",
      "                    projects['category'].append( project['category']['name'].encode('utf-8') )\n",
      "                except KeyError:\n",
      "                    projects['category'].append( '' )\n",
      "                    \n",
      "                try:\n",
      "                    projects['currency'].append( project['currency'].encode('utf-8') )\n",
      "                except KeyError:\n",
      "                    projects['currency'].append( '' )\n",
      "                \n",
      "                try:\n",
      "                    projects['goal'].append( project['goal'] )\n",
      "                except KeyError:\n",
      "                    projects['goal'].append( '' )\n",
      "                    \n",
      "                try:\n",
      "                    projects['pledged'].append( project['pledged'] )\n",
      "                except KeyError:\n",
      "                    projects['pledged'].append( '' )\n",
      "                \n",
      "                try:\n",
      "                    projects['backers_count'].append( project['backers_count'] )\n",
      "                except KeyError:\n",
      "                    projects['backers_count'].append( '' )\n",
      "                    \n",
      "                try:\n",
      "                    projects['launched_at'].append( project['launched_at'] )\n",
      "                except KeyError:\n",
      "                    projects['launched_at'].append( '' )\n",
      "                    \n",
      "                try:\n",
      "                    projects['deadline'].append( project['deadline'] )\n",
      "                except KeyError:\n",
      "                    projects['deadline'].append( '' )\n",
      "                    \n",
      "                try:\n",
      "                    projects['last_state_change'].append( project['state_changed_at'] )\n",
      "                except KeyError:\n",
      "                    projects['last_state_change'].append( '' )\n",
      "                    \n",
      "                try:\n",
      "                    projects['state'].append( project['state'].encode('utf-8') )\n",
      "                except KeyError:\n",
      "                    projects['state'].append( '' )\n",
      "                    \n",
      "                try:\n",
      "                    projects['location_id'].append( project['location']['id'] )\n",
      "                except KeyError:\n",
      "                    projects['location_id'].append( '' )\n",
      "                    \n",
      "                try:\n",
      "                    projects['location_name'].append( project['location']['name'].encode('utf-8') )\n",
      "                except KeyError:\n",
      "                    projects['location_name'].append( '' )\n",
      "                    \n",
      "                try:\n",
      "                    projects['country'].append( project['country'].encode('utf-8') )\n",
      "                except KeyError:\n",
      "                    projects['country'].append( '' )\n",
      "                \n",
      "                try:\n",
      "                    projects['project_url'].append( project['urls']['web']['project'].encode('utf-8') )\n",
      "                except KeyError:\n",
      "                    projects['project_url'].append( '' )\n",
      "                \n",
      "                try:\n",
      "                    projects['creator_url'].append( project['creator']['urls']['web']['user'].encode('utf-8') )\n",
      "                except KeyError:\n",
      "                    projects['creator_url'].append( '' )\n",
      "            \n",
      "    return error_titles, pd.DataFrame(projects)"
     ],
     "language": "python",
     "metadata": {},
     "outputs": [],
     "prompt_number": 9
    },
    {
     "cell_type": "code",
     "collapsed": false,
     "input": [
      "# get info about all the projects, save it to a csv\n",
      "project_errors, all_projects = get_projects(all_titles)\n",
      "all_projects.to_csv('all_project_data.csv')\n",
      "f_n = open(\"project_errors.txt\", \"w\")\n",
      "for error in project_errors:\n",
      "    error = error.encode('ascii','ignore')\n",
      "    f_n.write(error)\n",
      "    f_n.write(\"\\n\")\n",
      "f_n.close()"
     ],
     "language": "python",
     "metadata": {},
     "outputs": []
    },
    {
     "cell_type": "code",
     "collapsed": false,
     "input": [
      "#this function outputs a modified copy of an inputted data frame in which the \n",
      "#values in the selected fields are converted from timestamps to datetimes\n",
      "def time_to_datetimes(input_df, fields):\n",
      "    df = input_df.copy()\n",
      "    for field in fields:\n",
      "        df[field] = df[field].astype(str)\n",
      "        for i, time in enumerate(df[field]):\n",
      "            df[field][i] = str(datetime.datetime.fromtimestamp(float(time)))\n",
      "    return df"
     ],
     "language": "python",
     "metadata": {},
     "outputs": [],
     "prompt_number": 10
    },
    {
     "cell_type": "code",
     "collapsed": false,
     "input": [
      "#convert the csv of projects to having dates in datetime format, save to new csv\n",
      "all_projects = pd.read_csv('all_project_data.csv')\n",
      "time_fields = ['launched_at', 'deadline', 'last_state_change']\n",
      "all_projects_time = time_to_datetimes(all_projects, time_fields)\n",
      "all_projects_time.to_csv('all_project_data_time.csv')"
     ],
     "language": "python",
     "metadata": {},
     "outputs": [
      {
       "ename": "NameError",
       "evalue": "name 'time_to_datetimes' is not defined",
       "output_type": "pyerr",
       "traceback": [
        "\u001b[1;31m---------------------------------------------------------------------------\u001b[0m\n\u001b[1;31mNameError\u001b[0m                                 Traceback (most recent call last)",
        "\u001b[1;32m<ipython-input-2-70561cb4a9ef>\u001b[0m in \u001b[0;36m<module>\u001b[1;34m()\u001b[0m\n\u001b[0;32m      2\u001b[0m \u001b[0mall_projects\u001b[0m \u001b[1;33m=\u001b[0m \u001b[0mpd\u001b[0m\u001b[1;33m.\u001b[0m\u001b[0mread_csv\u001b[0m\u001b[1;33m(\u001b[0m\u001b[1;34m'all_project_data.csv'\u001b[0m\u001b[1;33m)\u001b[0m\u001b[1;33m\u001b[0m\u001b[0m\n\u001b[0;32m      3\u001b[0m \u001b[0mtime_fields\u001b[0m \u001b[1;33m=\u001b[0m \u001b[1;33m[\u001b[0m\u001b[1;34m'launched_at'\u001b[0m\u001b[1;33m,\u001b[0m \u001b[1;34m'deadline'\u001b[0m\u001b[1;33m,\u001b[0m \u001b[1;34m'last_state_change'\u001b[0m\u001b[1;33m]\u001b[0m\u001b[1;33m\u001b[0m\u001b[0m\n\u001b[1;32m----> 4\u001b[1;33m \u001b[0mall_projects_time\u001b[0m \u001b[1;33m=\u001b[0m \u001b[0mtime_to_datetimes\u001b[0m\u001b[1;33m(\u001b[0m\u001b[0mall_projects\u001b[0m\u001b[1;33m,\u001b[0m \u001b[0mtime_fields\u001b[0m\u001b[1;33m)\u001b[0m\u001b[1;33m\u001b[0m\u001b[0m\n\u001b[0m\u001b[0;32m      5\u001b[0m \u001b[0mall_projects_time\u001b[0m\u001b[1;33m.\u001b[0m\u001b[0mto_csv\u001b[0m\u001b[1;33m(\u001b[0m\u001b[1;34m'all_project_data_time.csv'\u001b[0m\u001b[1;33m)\u001b[0m\u001b[1;33m\u001b[0m\u001b[0m\n",
        "\u001b[1;31mNameError\u001b[0m: name 'time_to_datetimes' is not defined"
       ]
      }
     ],
     "prompt_number": 2
    },
    {
     "cell_type": "code",
     "collapsed": false,
     "input": [
      "# open the text file list of kickstarter titles\n",
      "print len(all_titles)\n",
      "f = open(\"project_errors.txt\", \"r\")\n",
      "project_errors = f.read().split(\"\\n\")\n",
      "f.close()\n",
      "\n",
      "all_projects= pd.read_csv('all_project_data_time.csv')\n",
      "print len(all_projects.project_id)\n",
      "print len(project_errors)\n",
      "print all_projects.creator_id.nunique()"
     ],
     "language": "python",
     "metadata": {},
     "outputs": [
      {
       "output_type": "stream",
       "stream": "stdout",
       "text": [
        "121279\n",
        "120099"
       ]
      },
      {
       "output_type": "stream",
       "stream": "stdout",
       "text": [
        "\n",
        "399\n",
        "103944\n"
       ]
      }
     ],
     "prompt_number": 11
    },
    {
     "cell_type": "code",
     "collapsed": false,
     "input": [
      "def get_user_data(titles_df):    \n",
      "    fields = ['creator_name', 'creator_slug',\n",
      "              'projects_created', 'projects_backed','creator_id', 'location', 'date_joined',\n",
      "              'facebook_link','twitter_link', 'creator_url']\n",
      "    individual_users = dict((field, []) for field in fields)\n",
      "    missing_created_project_data = []\n",
      "    missing_backed_project_data = []\n",
      "    url_list = all_projects['creator_url'].unique()\n",
      "    \n",
      "    #For John\n",
      "    for i,url in enumerate(url_list[25986: 51972]):\n",
      "    \n",
      "    #For Eli\n",
      "    #for i,url in enumerate(url_list[51972: 77958]):\n",
      "    \n",
      "    #For Aaron\n",
      "    #for i,url in enumerate(url_list[77958: ]):\n",
      "    \n",
      "    #For Jake\n",
      "    #for i,url in enumerate(url_list[: 25986]):\n",
      "        if i%1000 == 0:\n",
      "            print i\n",
      "        # Define Variables\n",
      "        projects_created_name = []\n",
      "        projects_created_id = []\n",
      "        projects_created_missing = []\n",
      "        projects_backed_url = []\n",
      "        projects_backed_id = []\n",
      "        projects_backed_missing = []\n",
      "        projects_created = ''\n",
      "        projects_backed = ''\n",
      "        location = ''\n",
      "        date_joined = ''\n",
      "        facebook_link = ''\n",
      "        twitter_link = ''\n",
      "\n",
      "        # Get userpage data\n",
      "        usr_df = titles_df[titles_df.creator_url == url]\n",
      "        xml = requests.get(url).text\n",
      "        dom = web.Element(xml)\n",
      "        \n",
      "        # Get data from project dataframe\n",
      "        creator_slug = usr_df.creator_slug.unique()\n",
      "        creator_slug = creator_slug[0]\n",
      "        creator_name = usr_df.creator_name.unique()\n",
      "        creator_name = creator_name[0]\n",
      "        creator_id = usr_df.creator_id.unique()\n",
      "        creator_id = creator_id[0]\n",
      "\n",
      "        # Get the projects the user created\n",
      "        for project in usr_df.project_name:\n",
      "            project = project.decode('utf-8')\n",
      "            projects_created_name.append(project)\n",
      "        for subset in dom.by_class(\"profile_created_projects\"):\n",
      "            for item in subset.by_class(\"project_name\"):\n",
      "                project = item.content.replace('\\n','')\n",
      "                project = unicode(html_parser.unescape(project))\n",
      "                if project not in projects_created_name:\n",
      "                    projects_created_missing.append( project )\n",
      "                    missing_created_project_data.append( project )\n",
      "        for project_id in usr_df.project_id:\n",
      "            project_id = int( project_id )\n",
      "            projects_created_id.append( str(project_id) )\n",
      "        projects_created = ','.join(projects_created_id)\n",
      "        \n",
      "        \n",
      "        # Get the projects the user backed\n",
      "        for subset in dom.by_class(\"mobius\"):\n",
      "            for subdict in subset.by_tag('a'):\n",
      "                base_url = 'http://www.kickstarter.com'\n",
      "                projects_backed_url.append( base_url + subdict.attrs['href'] )\n",
      "        for project_backed_url in projects_backed_url:\n",
      "            backed_id = titles_df.project_id[titles_df.project_url == project_backed_url]\n",
      "            if len(backed_id) == 0:\n",
      "                backed_id = titles_df.project_id[titles_df.project_url == project_backed_url+'?ref=live']\n",
      "            if len(backed_id) == 0:\n",
      "                backed_id = 0\n",
      "                missing_backed_project_data.append( project_backed_url )\n",
      "            backed_id = int(backed_id)\n",
      "            projects_backed_id.append( str(backed_id) )\n",
      "        projects_backed = ','.join(projects_backed_id)\n",
      "    \n",
      "        #Get Location\n",
      "        for city in dom.by_class(\"location\"):\n",
      "            city = city.content.replace('\\n','')\n",
      "            city = unicode(html_parser.unescape(city))\n",
      "            location = city.encode('utf-8')\n",
      "    \n",
      "        # Get User Join Date\n",
      "        for join_date in dom.by_class(\"joined\"):\n",
      "            join_date = join_date.content.replace('\\n','')\n",
      "            join_date = join_date.replace('Joined','')\n",
      "            join_date = unicode(html_parser.unescape(join_date))\n",
      "            date_joined = join_date.encode('utf-8')\n",
      "            \n",
      "        #Access A Seperate Dom for the Bio Data    \n",
      "        for line in dom.by_class('remote_modal_dialog'):\n",
      "            bio_url = 'http://www.kickstarter.com'+ line.attrs['href']\n",
      "            bio_xml = requests.get(bio_url).text\n",
      "            bio_dom = web.Element(bio_xml)\n",
      "            for subset in bio_dom.by_class('menu-submenu'):\n",
      "                for link in subset('a'):\n",
      "                    my_link = link.attrs['href']\n",
      "                    if 'facebook' in my_link:\n",
      "                        facebook_link = my_link\n",
      "                    if 'twitter' in my_link:\n",
      "                        twitter_link = my_link\n",
      "        \n",
      "        #Update the Dictionary\n",
      "        individual_users['creator_url'].append( url )\n",
      "        individual_users['creator_slug'].append( creator_slug )\n",
      "        individual_users['creator_name'].append( creator_name )\n",
      "        individual_users['creator_id'].append( creator_id )\n",
      "        individual_users['projects_created'].append( projects_created )                \n",
      "        individual_users['projects_backed'].append( projects_backed )\n",
      "        individual_users['location'].append( location )\n",
      "        individual_users['date_joined'].append( date_joined )\n",
      "        individual_users['facebook_link'].append( facebook_link )\n",
      "        individual_users['twitter_link'].append( twitter_link )\n",
      "        \n",
      "    return missing_created_project_data, missing_backed_project_data, pd.DataFrame(individual_users)"
     ],
     "language": "python",
     "metadata": {},
     "outputs": [],
     "prompt_number": 12
    },
    {
     "cell_type": "code",
     "collapsed": false,
     "input": [
      "missing_created_project_data, missing_backed_project_data, user_df = get_user_data(all_projects)\n",
      "\n",
      "#Put your name in the YOURNAMEHERE so the docs will be different\n",
      "user_df.to_csv('User_data_johnsturm.csv')\n",
      "f = open(\"missing_created_project_johnsturm.txt\", \"w\")\n",
      "for missing_created_project in missing_created_project_data:\n",
      "    missing_created_project = missing_created_project.encode('ascii','ignore')\n",
      "    f.write(missing_created_project)\n",
      "    f.write(\"\\n\")\n",
      "f.close()\n",
      "f = open(\"missing_backed_project_johnsturm.txt\", \"w\")\n",
      "for missing_backed_project in missing_backed_project_data:\n",
      "    missing_backed_project = missing_backed_project.encode('ascii','ignore')\n",
      "    f.write(missing_backed_project)\n",
      "    f.write(\"\\n\")\n",
      "f.close()"
     ],
     "language": "python",
     "metadata": {},
     "outputs": [
      {
       "ename": "KeyboardInterrupt",
       "evalue": "",
       "output_type": "pyerr",
       "traceback": [
        "\u001b[1;31m---------------------------------------------------------------------------\u001b[0m\n\u001b[1;31mKeyboardInterrupt\u001b[0m                         Traceback (most recent call last)",
        "\u001b[1;32m<ipython-input-13-b40122af0d98>\u001b[0m in \u001b[0;36m<module>\u001b[1;34m()\u001b[0m\n\u001b[1;32m----> 1\u001b[1;33m \u001b[0mmissing_created_project_data\u001b[0m\u001b[1;33m,\u001b[0m \u001b[0mmissing_backed_project_data\u001b[0m\u001b[1;33m,\u001b[0m \u001b[0muser_df\u001b[0m \u001b[1;33m=\u001b[0m \u001b[0mget_user_data\u001b[0m\u001b[1;33m(\u001b[0m\u001b[0mall_projects\u001b[0m\u001b[1;33m)\u001b[0m\u001b[1;33m\u001b[0m\u001b[0m\n\u001b[0m\u001b[0;32m      2\u001b[0m \u001b[1;33m\u001b[0m\u001b[0m\n\u001b[0;32m      3\u001b[0m \u001b[1;31m#Put your name in the YOURNAMEHERE so the docs will be different\u001b[0m\u001b[1;33m\u001b[0m\u001b[1;33m\u001b[0m\u001b[0m\n\u001b[0;32m      4\u001b[0m \u001b[0muser_df\u001b[0m\u001b[1;33m.\u001b[0m\u001b[0mto_csv\u001b[0m\u001b[1;33m(\u001b[0m\u001b[1;34m'User_data_johnsturm.csv'\u001b[0m\u001b[1;33m)\u001b[0m\u001b[1;33m\u001b[0m\u001b[0m\n\u001b[0;32m      5\u001b[0m \u001b[0mf\u001b[0m \u001b[1;33m=\u001b[0m \u001b[0mopen\u001b[0m\u001b[1;33m(\u001b[0m\u001b[1;34m\"missing_created_project_johnsturm.txt\"\u001b[0m\u001b[1;33m,\u001b[0m \u001b[1;34m\"w\"\u001b[0m\u001b[1;33m)\u001b[0m\u001b[1;33m\u001b[0m\u001b[0m\n",
        "\u001b[1;32m<ipython-input-12-64f3cc9fb05c>\u001b[0m in \u001b[0;36mget_user_data\u001b[1;34m(titles_df)\u001b[0m\n\u001b[0;32m     37\u001b[0m         \u001b[1;31m# Get userpage data\u001b[0m\u001b[1;33m\u001b[0m\u001b[1;33m\u001b[0m\u001b[0m\n\u001b[0;32m     38\u001b[0m         \u001b[0musr_df\u001b[0m \u001b[1;33m=\u001b[0m \u001b[0mtitles_df\u001b[0m\u001b[1;33m[\u001b[0m\u001b[0mtitles_df\u001b[0m\u001b[1;33m.\u001b[0m\u001b[0mcreator_url\u001b[0m \u001b[1;33m==\u001b[0m \u001b[0murl\u001b[0m\u001b[1;33m]\u001b[0m\u001b[1;33m\u001b[0m\u001b[0m\n\u001b[1;32m---> 39\u001b[1;33m         \u001b[0mxml\u001b[0m \u001b[1;33m=\u001b[0m \u001b[0mrequests\u001b[0m\u001b[1;33m.\u001b[0m\u001b[0mget\u001b[0m\u001b[1;33m(\u001b[0m\u001b[0murl\u001b[0m\u001b[1;33m)\u001b[0m\u001b[1;33m.\u001b[0m\u001b[0mtext\u001b[0m\u001b[1;33m\u001b[0m\u001b[0m\n\u001b[0m\u001b[0;32m     40\u001b[0m         \u001b[0mdom\u001b[0m \u001b[1;33m=\u001b[0m \u001b[0mweb\u001b[0m\u001b[1;33m.\u001b[0m\u001b[0mElement\u001b[0m\u001b[1;33m(\u001b[0m\u001b[0mxml\u001b[0m\u001b[1;33m)\u001b[0m\u001b[1;33m\u001b[0m\u001b[0m\n\u001b[0;32m     41\u001b[0m \u001b[1;33m\u001b[0m\u001b[0m\n",
        "\u001b[1;32m/home/aaron/anaconda/lib/python2.7/site-packages/requests/api.pyc\u001b[0m in \u001b[0;36mget\u001b[1;34m(url, **kwargs)\u001b[0m\n\u001b[0;32m     53\u001b[0m \u001b[1;33m\u001b[0m\u001b[0m\n\u001b[0;32m     54\u001b[0m     \u001b[0mkwargs\u001b[0m\u001b[1;33m.\u001b[0m\u001b[0msetdefault\u001b[0m\u001b[1;33m(\u001b[0m\u001b[1;34m'allow_redirects'\u001b[0m\u001b[1;33m,\u001b[0m \u001b[0mTrue\u001b[0m\u001b[1;33m)\u001b[0m\u001b[1;33m\u001b[0m\u001b[0m\n\u001b[1;32m---> 55\u001b[1;33m     \u001b[1;32mreturn\u001b[0m \u001b[0mrequest\u001b[0m\u001b[1;33m(\u001b[0m\u001b[1;34m'get'\u001b[0m\u001b[1;33m,\u001b[0m \u001b[0murl\u001b[0m\u001b[1;33m,\u001b[0m \u001b[1;33m**\u001b[0m\u001b[0mkwargs\u001b[0m\u001b[1;33m)\u001b[0m\u001b[1;33m\u001b[0m\u001b[0m\n\u001b[0m\u001b[0;32m     56\u001b[0m \u001b[1;33m\u001b[0m\u001b[0m\n\u001b[0;32m     57\u001b[0m \u001b[1;33m\u001b[0m\u001b[0m\n",
        "\u001b[1;32m/home/aaron/anaconda/lib/python2.7/site-packages/requests/api.pyc\u001b[0m in \u001b[0;36mrequest\u001b[1;34m(method, url, **kwargs)\u001b[0m\n\u001b[0;32m     42\u001b[0m \u001b[1;33m\u001b[0m\u001b[0m\n\u001b[0;32m     43\u001b[0m     \u001b[0msession\u001b[0m \u001b[1;33m=\u001b[0m \u001b[0msessions\u001b[0m\u001b[1;33m.\u001b[0m\u001b[0mSession\u001b[0m\u001b[1;33m(\u001b[0m\u001b[1;33m)\u001b[0m\u001b[1;33m\u001b[0m\u001b[0m\n\u001b[1;32m---> 44\u001b[1;33m     \u001b[1;32mreturn\u001b[0m \u001b[0msession\u001b[0m\u001b[1;33m.\u001b[0m\u001b[0mrequest\u001b[0m\u001b[1;33m(\u001b[0m\u001b[0mmethod\u001b[0m\u001b[1;33m=\u001b[0m\u001b[0mmethod\u001b[0m\u001b[1;33m,\u001b[0m \u001b[0murl\u001b[0m\u001b[1;33m=\u001b[0m\u001b[0murl\u001b[0m\u001b[1;33m,\u001b[0m \u001b[1;33m**\u001b[0m\u001b[0mkwargs\u001b[0m\u001b[1;33m)\u001b[0m\u001b[1;33m\u001b[0m\u001b[0m\n\u001b[0m\u001b[0;32m     45\u001b[0m \u001b[1;33m\u001b[0m\u001b[0m\n\u001b[0;32m     46\u001b[0m \u001b[1;33m\u001b[0m\u001b[0m\n",
        "\u001b[1;32m/home/aaron/anaconda/lib/python2.7/site-packages/requests/sessions.pyc\u001b[0m in \u001b[0;36mrequest\u001b[1;34m(self, method, url, params, data, headers, cookies, files, auth, timeout, allow_redirects, proxies, hooks, stream, verify, cert)\u001b[0m\n\u001b[0;32m    333\u001b[0m             \u001b[1;34m'allow_redirects'\u001b[0m\u001b[1;33m:\u001b[0m \u001b[0mallow_redirects\u001b[0m\u001b[1;33m,\u001b[0m\u001b[1;33m\u001b[0m\u001b[0m\n\u001b[0;32m    334\u001b[0m         }\n\u001b[1;32m--> 335\u001b[1;33m         \u001b[0mresp\u001b[0m \u001b[1;33m=\u001b[0m \u001b[0mself\u001b[0m\u001b[1;33m.\u001b[0m\u001b[0msend\u001b[0m\u001b[1;33m(\u001b[0m\u001b[0mprep\u001b[0m\u001b[1;33m,\u001b[0m \u001b[1;33m**\u001b[0m\u001b[0msend_kwargs\u001b[0m\u001b[1;33m)\u001b[0m\u001b[1;33m\u001b[0m\u001b[0m\n\u001b[0m\u001b[0;32m    336\u001b[0m \u001b[1;33m\u001b[0m\u001b[0m\n\u001b[0;32m    337\u001b[0m         \u001b[1;32mreturn\u001b[0m \u001b[0mresp\u001b[0m\u001b[1;33m\u001b[0m\u001b[0m\n",
        "\u001b[1;32m/home/aaron/anaconda/lib/python2.7/site-packages/requests/sessions.pyc\u001b[0m in \u001b[0;36msend\u001b[1;34m(self, request, **kwargs)\u001b[0m\n\u001b[0;32m    436\u001b[0m         \u001b[0mstart\u001b[0m \u001b[1;33m=\u001b[0m \u001b[0mdatetime\u001b[0m\u001b[1;33m.\u001b[0m\u001b[0mutcnow\u001b[0m\u001b[1;33m(\u001b[0m\u001b[1;33m)\u001b[0m\u001b[1;33m\u001b[0m\u001b[0m\n\u001b[0;32m    437\u001b[0m         \u001b[1;31m# Send the request\u001b[0m\u001b[1;33m\u001b[0m\u001b[1;33m\u001b[0m\u001b[0m\n\u001b[1;32m--> 438\u001b[1;33m         \u001b[0mr\u001b[0m \u001b[1;33m=\u001b[0m \u001b[0madapter\u001b[0m\u001b[1;33m.\u001b[0m\u001b[0msend\u001b[0m\u001b[1;33m(\u001b[0m\u001b[0mrequest\u001b[0m\u001b[1;33m,\u001b[0m \u001b[1;33m**\u001b[0m\u001b[0mkwargs\u001b[0m\u001b[1;33m)\u001b[0m\u001b[1;33m\u001b[0m\u001b[0m\n\u001b[0m\u001b[0;32m    439\u001b[0m         \u001b[1;31m# Total elapsed time of the request (approximately)\u001b[0m\u001b[1;33m\u001b[0m\u001b[1;33m\u001b[0m\u001b[0m\n\u001b[0;32m    440\u001b[0m         \u001b[0mr\u001b[0m\u001b[1;33m.\u001b[0m\u001b[0melapsed\u001b[0m \u001b[1;33m=\u001b[0m \u001b[0mdatetime\u001b[0m\u001b[1;33m.\u001b[0m\u001b[0mutcnow\u001b[0m\u001b[1;33m(\u001b[0m\u001b[1;33m)\u001b[0m \u001b[1;33m-\u001b[0m \u001b[0mstart\u001b[0m\u001b[1;33m\u001b[0m\u001b[0m\n",
        "\u001b[1;32m/home/aaron/anaconda/lib/python2.7/site-packages/requests/adapters.pyc\u001b[0m in \u001b[0;36msend\u001b[1;34m(self, request, stream, timeout, verify, cert, proxies)\u001b[0m\n\u001b[0;32m    290\u001b[0m                     \u001b[0mdecode_content\u001b[0m\u001b[1;33m=\u001b[0m\u001b[0mFalse\u001b[0m\u001b[1;33m,\u001b[0m\u001b[1;33m\u001b[0m\u001b[0m\n\u001b[0;32m    291\u001b[0m                     \u001b[0mretries\u001b[0m\u001b[1;33m=\u001b[0m\u001b[0mself\u001b[0m\u001b[1;33m.\u001b[0m\u001b[0mmax_retries\u001b[0m\u001b[1;33m,\u001b[0m\u001b[1;33m\u001b[0m\u001b[0m\n\u001b[1;32m--> 292\u001b[1;33m                     \u001b[0mtimeout\u001b[0m\u001b[1;33m=\u001b[0m\u001b[0mtimeout\u001b[0m\u001b[1;33m\u001b[0m\u001b[0m\n\u001b[0m\u001b[0;32m    293\u001b[0m                 )\n\u001b[0;32m    294\u001b[0m \u001b[1;33m\u001b[0m\u001b[0m\n",
        "\u001b[1;32m/home/aaron/anaconda/lib/python2.7/site-packages/requests/packages/urllib3/connectionpool.pyc\u001b[0m in \u001b[0;36murlopen\u001b[1;34m(self, method, url, body, headers, retries, redirect, assert_same_host, timeout, pool_timeout, release_conn, **response_kw)\u001b[0m\n\u001b[0;32m    426\u001b[0m             httplib_response = self._make_request(conn, method, url,\n\u001b[0;32m    427\u001b[0m                                                   \u001b[0mtimeout\u001b[0m\u001b[1;33m=\u001b[0m\u001b[0mtimeout\u001b[0m\u001b[1;33m,\u001b[0m\u001b[1;33m\u001b[0m\u001b[0m\n\u001b[1;32m--> 428\u001b[1;33m                                                   body=body, headers=headers)\n\u001b[0m\u001b[0;32m    429\u001b[0m \u001b[1;33m\u001b[0m\u001b[0m\n\u001b[0;32m    430\u001b[0m             \u001b[1;31m# If we're going to release the connection in ``finally:``, then\u001b[0m\u001b[1;33m\u001b[0m\u001b[1;33m\u001b[0m\u001b[0m\n",
        "\u001b[1;32m/home/aaron/anaconda/lib/python2.7/site-packages/requests/packages/urllib3/connectionpool.pyc\u001b[0m in \u001b[0;36m_make_request\u001b[1;34m(self, conn, method, url, timeout, **httplib_request_kw)\u001b[0m\n\u001b[0;32m    286\u001b[0m \u001b[1;33m\u001b[0m\u001b[0m\n\u001b[0;32m    287\u001b[0m         \u001b[1;32mtry\u001b[0m\u001b[1;33m:\u001b[0m \u001b[1;31m# Python 2.7+, use buffering of HTTP responses\u001b[0m\u001b[1;33m\u001b[0m\u001b[0m\n\u001b[1;32m--> 288\u001b[1;33m             \u001b[0mhttplib_response\u001b[0m \u001b[1;33m=\u001b[0m \u001b[0mconn\u001b[0m\u001b[1;33m.\u001b[0m\u001b[0mgetresponse\u001b[0m\u001b[1;33m(\u001b[0m\u001b[0mbuffering\u001b[0m\u001b[1;33m=\u001b[0m\u001b[0mTrue\u001b[0m\u001b[1;33m)\u001b[0m\u001b[1;33m\u001b[0m\u001b[0m\n\u001b[0m\u001b[0;32m    289\u001b[0m         \u001b[1;32mexcept\u001b[0m \u001b[0mTypeError\u001b[0m\u001b[1;33m:\u001b[0m \u001b[1;31m# Python 2.6 and older\u001b[0m\u001b[1;33m\u001b[0m\u001b[0m\n\u001b[0;32m    290\u001b[0m             \u001b[0mhttplib_response\u001b[0m \u001b[1;33m=\u001b[0m \u001b[0mconn\u001b[0m\u001b[1;33m.\u001b[0m\u001b[0mgetresponse\u001b[0m\u001b[1;33m(\u001b[0m\u001b[1;33m)\u001b[0m\u001b[1;33m\u001b[0m\u001b[0m\n",
        "\u001b[1;32m/home/aaron/anaconda/lib/python2.7/httplib.pyc\u001b[0m in \u001b[0;36mgetresponse\u001b[1;34m(self, buffering)\u001b[0m\n\u001b[0;32m   1043\u001b[0m         \u001b[0mresponse\u001b[0m \u001b[1;33m=\u001b[0m \u001b[0mself\u001b[0m\u001b[1;33m.\u001b[0m\u001b[0mresponse_class\u001b[0m\u001b[1;33m(\u001b[0m\u001b[1;33m*\u001b[0m\u001b[0margs\u001b[0m\u001b[1;33m,\u001b[0m \u001b[1;33m**\u001b[0m\u001b[0mkwds\u001b[0m\u001b[1;33m)\u001b[0m\u001b[1;33m\u001b[0m\u001b[0m\n\u001b[0;32m   1044\u001b[0m \u001b[1;33m\u001b[0m\u001b[0m\n\u001b[1;32m-> 1045\u001b[1;33m         \u001b[0mresponse\u001b[0m\u001b[1;33m.\u001b[0m\u001b[0mbegin\u001b[0m\u001b[1;33m(\u001b[0m\u001b[1;33m)\u001b[0m\u001b[1;33m\u001b[0m\u001b[0m\n\u001b[0m\u001b[0;32m   1046\u001b[0m         \u001b[1;32massert\u001b[0m \u001b[0mresponse\u001b[0m\u001b[1;33m.\u001b[0m\u001b[0mwill_close\u001b[0m \u001b[1;33m!=\u001b[0m \u001b[0m_UNKNOWN\u001b[0m\u001b[1;33m\u001b[0m\u001b[0m\n\u001b[0;32m   1047\u001b[0m         \u001b[0mself\u001b[0m\u001b[1;33m.\u001b[0m\u001b[0m__state\u001b[0m \u001b[1;33m=\u001b[0m \u001b[0m_CS_IDLE\u001b[0m\u001b[1;33m\u001b[0m\u001b[0m\n",
        "\u001b[1;32m/home/aaron/anaconda/lib/python2.7/httplib.pyc\u001b[0m in \u001b[0;36mbegin\u001b[1;34m(self)\u001b[0m\n\u001b[0;32m    407\u001b[0m         \u001b[1;31m# read until we get a non-100 response\u001b[0m\u001b[1;33m\u001b[0m\u001b[1;33m\u001b[0m\u001b[0m\n\u001b[0;32m    408\u001b[0m         \u001b[1;32mwhile\u001b[0m \u001b[0mTrue\u001b[0m\u001b[1;33m:\u001b[0m\u001b[1;33m\u001b[0m\u001b[0m\n\u001b[1;32m--> 409\u001b[1;33m             \u001b[0mversion\u001b[0m\u001b[1;33m,\u001b[0m \u001b[0mstatus\u001b[0m\u001b[1;33m,\u001b[0m \u001b[0mreason\u001b[0m \u001b[1;33m=\u001b[0m \u001b[0mself\u001b[0m\u001b[1;33m.\u001b[0m\u001b[0m_read_status\u001b[0m\u001b[1;33m(\u001b[0m\u001b[1;33m)\u001b[0m\u001b[1;33m\u001b[0m\u001b[0m\n\u001b[0m\u001b[0;32m    410\u001b[0m             \u001b[1;32mif\u001b[0m \u001b[0mstatus\u001b[0m \u001b[1;33m!=\u001b[0m \u001b[0mCONTINUE\u001b[0m\u001b[1;33m:\u001b[0m\u001b[1;33m\u001b[0m\u001b[0m\n\u001b[0;32m    411\u001b[0m                 \u001b[1;32mbreak\u001b[0m\u001b[1;33m\u001b[0m\u001b[0m\n",
        "\u001b[1;32m/home/aaron/anaconda/lib/python2.7/httplib.pyc\u001b[0m in \u001b[0;36m_read_status\u001b[1;34m(self)\u001b[0m\n\u001b[0;32m    363\u001b[0m     \u001b[1;32mdef\u001b[0m \u001b[0m_read_status\u001b[0m\u001b[1;33m(\u001b[0m\u001b[0mself\u001b[0m\u001b[1;33m)\u001b[0m\u001b[1;33m:\u001b[0m\u001b[1;33m\u001b[0m\u001b[0m\n\u001b[0;32m    364\u001b[0m         \u001b[1;31m# Initialize with Simple-Response defaults\u001b[0m\u001b[1;33m\u001b[0m\u001b[1;33m\u001b[0m\u001b[0m\n\u001b[1;32m--> 365\u001b[1;33m         \u001b[0mline\u001b[0m \u001b[1;33m=\u001b[0m \u001b[0mself\u001b[0m\u001b[1;33m.\u001b[0m\u001b[0mfp\u001b[0m\u001b[1;33m.\u001b[0m\u001b[0mreadline\u001b[0m\u001b[1;33m(\u001b[0m\u001b[0m_MAXLINE\u001b[0m \u001b[1;33m+\u001b[0m \u001b[1;36m1\u001b[0m\u001b[1;33m)\u001b[0m\u001b[1;33m\u001b[0m\u001b[0m\n\u001b[0m\u001b[0;32m    366\u001b[0m         \u001b[1;32mif\u001b[0m \u001b[0mlen\u001b[0m\u001b[1;33m(\u001b[0m\u001b[0mline\u001b[0m\u001b[1;33m)\u001b[0m \u001b[1;33m>\u001b[0m \u001b[0m_MAXLINE\u001b[0m\u001b[1;33m:\u001b[0m\u001b[1;33m\u001b[0m\u001b[0m\n\u001b[0;32m    367\u001b[0m             \u001b[1;32mraise\u001b[0m \u001b[0mLineTooLong\u001b[0m\u001b[1;33m(\u001b[0m\u001b[1;34m\"header line\"\u001b[0m\u001b[1;33m)\u001b[0m\u001b[1;33m\u001b[0m\u001b[0m\n",
        "\u001b[1;32m/home/aaron/anaconda/lib/python2.7/socket.pyc\u001b[0m in \u001b[0;36mreadline\u001b[1;34m(self, size)\u001b[0m\n\u001b[0;32m    474\u001b[0m             \u001b[1;32mwhile\u001b[0m \u001b[0mTrue\u001b[0m\u001b[1;33m:\u001b[0m\u001b[1;33m\u001b[0m\u001b[0m\n\u001b[0;32m    475\u001b[0m                 \u001b[1;32mtry\u001b[0m\u001b[1;33m:\u001b[0m\u001b[1;33m\u001b[0m\u001b[0m\n\u001b[1;32m--> 476\u001b[1;33m                     \u001b[0mdata\u001b[0m \u001b[1;33m=\u001b[0m \u001b[0mself\u001b[0m\u001b[1;33m.\u001b[0m\u001b[0m_sock\u001b[0m\u001b[1;33m.\u001b[0m\u001b[0mrecv\u001b[0m\u001b[1;33m(\u001b[0m\u001b[0mself\u001b[0m\u001b[1;33m.\u001b[0m\u001b[0m_rbufsize\u001b[0m\u001b[1;33m)\u001b[0m\u001b[1;33m\u001b[0m\u001b[0m\n\u001b[0m\u001b[0;32m    477\u001b[0m                 \u001b[1;32mexcept\u001b[0m \u001b[0merror\u001b[0m\u001b[1;33m,\u001b[0m \u001b[0me\u001b[0m\u001b[1;33m:\u001b[0m\u001b[1;33m\u001b[0m\u001b[0m\n\u001b[0;32m    478\u001b[0m                     \u001b[1;32mif\u001b[0m \u001b[0me\u001b[0m\u001b[1;33m.\u001b[0m\u001b[0margs\u001b[0m\u001b[1;33m[\u001b[0m\u001b[1;36m0\u001b[0m\u001b[1;33m]\u001b[0m \u001b[1;33m==\u001b[0m \u001b[0mEINTR\u001b[0m\u001b[1;33m:\u001b[0m\u001b[1;33m\u001b[0m\u001b[0m\n",
        "\u001b[1;31mKeyboardInterrupt\u001b[0m: "
       ]
      },
      {
       "output_type": "stream",
       "stream": "stdout",
       "text": [
        "0\n"
       ]
      }
     ],
     "prompt_number": 13
    },
    {
     "cell_type": "code",
     "collapsed": false,
     "input": [
      "print all_projects.iloc[0,:]"
     ],
     "language": "python",
     "metadata": {},
     "outputs": [
      {
       "output_type": "stream",
       "stream": "stdout",
       "text": [
        "Unnamed: 0                                                           0\n",
        "Unnamed: 0.1                                                         0\n",
        "backers_count                                                        0\n",
        "blurb                hip-hopumentary- a scored documentary tracing ...\n",
        "category                                                   Documentary\n",
        "country                                                             US\n",
        "creator_id                                                   961594991\n",
        "creator_name                                              Tre Matthews\n",
        "creator_slug                                             tremoneybaggs\n",
        "creator_url           http://www.kickstarter.com/profile/tremoneybaggs\n",
        "currency                                                           USD\n",
        "deadline                                           2014-01-09 19:29:02\n",
        "goal                                                              4500\n",
        "last_state_change                                  2013-11-20 19:29:02\n",
        "launched_at                                        2013-11-20 19:29:02\n",
        "location_id                                                    2449323\n",
        "location_name                                              Memphis, TN\n",
        "pledged                                                              0\n",
        "project_id                                                   512147210\n",
        "project_name         DropDownFilms Digital distribution for \"Pimpin...\n",
        "project_slug         dropdownfilms-digital-distribution-for-pimpin-...\n",
        "project_url          http://www.kickstarter.com/projects/tremoneyba...\n",
        "state                                                             live\n",
        "Name: 0, dtype: object\n"
       ]
      }
     ],
     "prompt_number": 14
    },
    {
     "cell_type": "code",
     "collapsed": false,
     "input": [
      "all_projects['creator_name']"
     ],
     "language": "python",
     "metadata": {},
     "outputs": [
      {
       "metadata": {},
       "output_type": "pyout",
       "prompt_number": 15,
       "text": [
        "0               Tre Matthews\n",
        "1                 Tara Dafoe\n",
        "2               Chris Crosby\n",
        "3               Gabe Wallace\n",
        "4               Justin Young\n",
        "5                Shana Lloyd\n",
        "6                    Ien Chi\n",
        "7       Jessica Marie Curtis\n",
        "8             Red Montgomery\n",
        "9                  Tim Craig\n",
        "10        Community Food Lab\n",
        "11     Fire in the Hole, LLC\n",
        "12                  Zark LLC\n",
        "13    C Enterprise (UK) Ltd.\n",
        "14             Serena Winter\n",
        "...\n",
        "120084          Earl Scioneaux\n",
        "120085    Accidental Nostalgia\n",
        "120086    Accidental Nostalgia\n",
        "120087             Jared Hoffa\n",
        "120088        Dereck Blackburn\n",
        "120089            Haden & Rose\n",
        "120090                 kmikeym\n",
        "120091             laura kicey\n",
        "120092          Brendan Mackie\n",
        "120093          We Make a Book\n",
        "120094                   Coley\n",
        "120095             Dan Phiffer\n",
        "120096                darkpony\n",
        "120097              videothing\n",
        "120098              Perry Chen\n",
        "Name: creator_name, Length: 120099, dtype: object"
       ]
      }
     ],
     "prompt_number": 15
    },
    {
     "cell_type": "heading",
     "level": 2,
     "metadata": {},
     "source": [
      "Blurb Analysis"
     ]
    },
    {
     "cell_type": "code",
     "collapsed": false,
     "input": [
      "print \"There are\", len(all_projects['blurb']), \"projects in this dataset.\"\n",
      "print \"There are\", all_projects['creator_url'].nunique(), \"creators in this dataset.\"\n",
      "print \"There are\", all_projects['project_id'].nunique(), \"projects in this dataset.\""
     ],
     "language": "python",
     "metadata": {},
     "outputs": [
      {
       "output_type": "stream",
       "stream": "stdout",
       "text": [
        "There are 120099 projects in this dataset.\n",
        "There are "
       ]
      },
      {
       "output_type": "stream",
       "stream": "stdout",
       "text": [
        "103944 creators in this dataset.\n",
        "There are 120099 projects in this dataset.\n"
       ]
      }
     ],
     "prompt_number": 3
    },
    {
     "cell_type": "code",
     "collapsed": false,
     "input": [
      "import matplotlib.pyplot as plt\n",
      "import numpy as np\n",
      "from sklearn.feature_extraction.text import CountVectorizer"
     ],
     "language": "python",
     "metadata": {},
     "outputs": [],
     "prompt_number": 4
    },
    {
     "cell_type": "code",
     "collapsed": false,
     "input": [
      "all_projects['success'] = all_projects.apply(lambda row: int(row['pledged'] - row['goal'] > 0), axis=1)"
     ],
     "language": "python",
     "metadata": {},
     "outputs": [],
     "prompt_number": 5
    },
    {
     "cell_type": "code",
     "collapsed": false,
     "input": [
      "subdf = all_projects[5000:40000]\n",
      "\n",
      "vectorizer = CountVectorizer(min_df=.04)"
     ],
     "language": "python",
     "metadata": {},
     "outputs": [],
     "prompt_number": 6
    },
    {
     "cell_type": "code",
     "collapsed": false,
     "input": [
      "#hint: Consult the scikit-learn documentation to\n",
      "#      learn about what these classes do do\n",
      "from sklearn.cross_validation import train_test_split\n",
      "from sklearn.naive_bayes import MultinomialNB\n",
      "\n",
      "def make_xy(x, y, vectorizer=None):\n",
      "    text = x\n",
      "    \n",
      "    if vectorizer == None:\n",
      "        vectorizer = CountVectorizer(min_df=0)\n",
      "\n",
      "    vectorizer.fit(text)\n",
      "    x = vectorizer.transform(text)\n",
      "    #X = X.toarray()\n",
      "    \n",
      "    return x, y"
     ],
     "language": "python",
     "metadata": {},
     "outputs": [],
     "prompt_number": 23
    },
    {
     "cell_type": "code",
     "collapsed": false,
     "input": [
      "X, Y = make_xy(subdf['blurb'], subdf['success'], vectorizer)"
     ],
     "language": "python",
     "metadata": {},
     "outputs": [],
     "prompt_number": 24
    },
    {
     "cell_type": "code",
     "collapsed": false,
     "input": [
      "import math\n",
      "def ysigma(frac, n):\n",
      "    return math.sqrt(frac*(1.0 - frac)/n)\n",
      "\n",
      "def calibration_plot(clf, X, Y):\n",
      "    nbins = 30\n",
      "    PFresh = [row[1] for row in clf.predict_proba(X)]\n",
      "    \n",
      "    df = pd.DataFrame({\"PFresh\": PFresh, \"fresh\": Y})\n",
      "    df[\"bin\"] = df.apply(lambda x: math.floor(x['PFresh'] * nbins), axis=1)\n",
      "    \n",
      "    bins = df.groupby(\"bin\")\n",
      "    observed_freshness = bins['fresh'].aggregate(np.mean).values\n",
      "    predicted_freshness = bins['PFresh'].aggregate(np.mean).values\n",
      "    bin_size = bins['fresh'].aggregate(len).values\n",
      "    \n",
      "    sigmas = [2*ysigma(observed_freshness[i], bin_size[i]) for i in range(len(bin_size))] # 95% confidence interval\n",
      "    \n",
      "    \"\"\"fig = plt.figure()\n",
      "    ax1 = fig.add_subplot(211)\n",
      "    ax1.errorbar(predicted_freshness, observed_freshness, yerr=np.vstack([sigmas, sigmas]))\n",
      "    ax1.plot([0,1], [0,1], color=\"r\")\n",
      "    \n",
      "    ax2 = fig.add_subplot(212)\n",
      "    ax2.hist(PFresh, color='orange')\n",
      "    plt.show()\"\"\"\n",
      "    \n",
      "    plt.errorbar(predicted_freshness, observed_freshness, yerr=np.vstack([sigmas, sigmas]))\n",
      "    plt.plot([0,1], [0,1], color=\"r\")\n",
      "    plt.show()\n",
      "    \n",
      "    plt.hist(PFresh, color='orange')\n",
      "    plt.show()"
     ],
     "language": "python",
     "metadata": {},
     "outputs": [],
     "prompt_number": 224
    },
    {
     "cell_type": "code",
     "collapsed": false,
     "input": [
      "xtrain, xtest, ytrain, ytest = train_test_split(X, Y)\n",
      "\n",
      "nb_classifier = MultinomialNB()\n",
      "nb_classifier.fit(xtrain, ytrain)\n",
      "nb_classifier.score(xtest, ytest)"
     ],
     "language": "python",
     "metadata": {},
     "outputs": [
      {
       "metadata": {},
       "output_type": "pyout",
       "prompt_number": 225,
       "text": [
        "0.58740243238337264"
       ]
      }
     ],
     "prompt_number": 225
    },
    {
     "cell_type": "code",
     "collapsed": false,
     "input": [
      "calibration_plot(nb_classifier, xtest, ytest)"
     ],
     "language": "python",
     "metadata": {},
     "outputs": [
      {
       "metadata": {},
       "output_type": "display_data",
       "png": "[encoded data removed]",
       "text": [
        "<matplotlib.figure.Figure at 0x14d45c50>"
       ]
      },
      {
       "metadata": {},
       "output_type": "display_data",
       "png": "[encoded data removed]",
       "text": [
        "<matplotlib.figure.Figure at 0x1287f690>"
       ]
      }
     ],
     "prompt_number": 226
    },
    {
     "cell_type": "code",
     "collapsed": false,
     "input": [
      "print \"Score on test data\", nb_classifier.score(xtest,ytest)\n",
      "print \"Score on training data\", nb_classifier.score(xtrain,ytrain)"
     ],
     "language": "python",
     "metadata": {},
     "outputs": [
      {
       "output_type": "stream",
       "stream": "stdout",
       "text": [
        "Score on test data 0.578285714286\n",
        "Score on training data 0.57500952381\n"
       ]
      }
     ],
     "prompt_number": 28
    },
    {
     "cell_type": "code",
     "collapsed": false,
     "input": [
      "import sklearn.cross_validation as cv\n",
      "from sklearn.cross_validation import KFold\n",
      "import random\n",
      "\n",
      "def log_likelihood(clf, x, y):\n",
      "    logPs = clf.predict_log_proba(x)\n",
      "    return sum([logPs[i][1] for i in range(len(y)) if y[i] == 1]) + sum([logPs[i][0] for i in range(len(y)) if y[i] == 0])\n",
      "\n",
      "def test(arg1, arg2):\n",
      "    print arg1\n",
      "    print arg2\n",
      "    return 0\n",
      "\n",
      "def cv_score(clf, x, y, score_func):\n",
      "    result = 0\n",
      "    nfold = 5\n",
      "    # for train, test in KFold(y.size, nfold):\n",
      "    for train, test in KFold(y.size, nfold): # split data into train/test groups, 5 times\n",
      "        clf.fit(x[train], y[train]) # fit\n",
      "        result += score_func(clf, x[test], y[test]) # evaluate score function on held-out data\n",
      "    return result / nfold # average\n",
      "\n",
      "def gen_random(val):\n",
      "    if random.random() < val:\n",
      "        return False\n",
      "    else:\n",
      "        return True\n",
      "    \n",
      "def disjoint_sets(length, proportion=.25):\n",
      "    include = [gen_random(proportion) for i in range(length)]\n",
      "    exclude = [not(i) for i in include]\n",
      "    return include, exclude"
     ],
     "language": "python",
     "metadata": {},
     "outputs": [],
     "prompt_number": 205
    },
    {
     "cell_type": "code",
     "collapsed": false,
     "input": [
      "def prelim_split(df, proportion=.25):\n",
      "    i, e = disjoint_sets(len(subdf), proportion)\n",
      "    train = subdf[i]\n",
      "    test = subdf[e]\n",
      "    \n",
      "    x = subdf['blurb']\n",
      "    y = subdf['success']\n",
      "    \n",
      "    xtrain = train['blurb']\n",
      "    xtest_final = test['blurb']\n",
      "    ytrain = train['success']\n",
      "    ytest_final = test['success']\n",
      "    \n",
      "    return x, y, xtrain, ytrain, xtest_final, ytest_final\n",
      "\n",
      "def search_params(xtrain, ytrain, x, alphas=[1], min_dfs=[.1], scoring = log_likelihood, fit_params = {}):   \n",
      "    #Find the best value for alpha and min_df, and the best classifier\n",
      "    best_alpha = None\n",
      "    best_min_df = None\n",
      "    max_loglike = -np.inf\n",
      "    \n",
      "    for alpha in alphas:\n",
      "        for min_df in min_dfs:         \n",
      "            vectorizer = CountVectorizer(min_df = min_df)\n",
      "            vectorizer.fit(x)\n",
      "            X, Y = make_xy(xtrain, ytrain, vectorizer)\n",
      "            \n",
      "            #your code here\n",
      "            clf = MultinomialNB(alpha = alpha)\n",
      "            score = cv.cross_val_score(clf, X, Y, scoring=log_likelihood, fit_params=fit_params)[2]\n",
      "            \n",
      "            if score > max_loglike:\n",
      "                max_loglike = score\n",
      "                best_alpha = alpha\n",
      "                best_min_df = min_df\n",
      "    \n",
      "    return best_alpha, best_min_df, max_loglike\n",
      "\n",
      "def train_score_display(vectorizer, clf, x, xtrain, ytrain, xtest, ytest, fit_params={}):\n",
      "    vectorizer.fit(x)\n",
      "    xtrain_v = vectorizer.transform(xtrain)\n",
      "    xtest_v = vectorizer.transform(xtest)\n",
      "    \n",
      "    if 'weight' in fit_params:\n",
      "        clf.fit(xtrain_v, ytrain, weight=fit_params['weight'])\n",
      "    else:\n",
      "        clf.fit(xtrain_v, ytrain)\n",
      "    \n",
      "    score = clf.score(xtest_v, ytest)\n",
      "    calibration_plot(clf, xtest_v, ytest)\n",
      "    \n",
      "    return vectorizer, clf\n",
      "    \n",
      "\n",
      "def cv_nbclassifier(df, scoring=log_likelihood, fit_params = {}, proportion=.25):\n",
      "    x, y, xtrain, ytrain, xtest, ytest = prelim_split(df, proportion)\n",
      "    \n",
      "    best_alpha,\n",
      "    best_min_df,\n",
      "    max_loglike = search_params(xtrain, ytrain, x,\n",
      "                                alphas = [300, 325, 350, 375, 362.5],\n",
      "                                min_dfs = [.009, .008, .007, .01, .011, .0115, .0105, .012, .013],\n",
      "                                scoring = scoring,\n",
      "                                fit_params = fit_params)\n",
      "        \n",
      "    vectorizer = CountVectorizer(min_df = best_min_df)\n",
      "    clf = MultinomialNB(alpha = best_alpha)\n",
      "\n",
      "    return train_score_display(vectorizer, clf, x, xtrain, ytrain, xtest, ytest, fit_params=fit_params)\n",
      "    "
     ],
     "language": "python",
     "metadata": {},
     "outputs": [],
     "prompt_number": 239
    },
    {
     "cell_type": "code",
     "collapsed": false,
     "input": [
      "i, e = disjoint_sets(len(subdf))\n",
      "train = subdf[i]\n",
      "test = subdf[e]\n",
      "\n",
      "x = subdf['blurb']\n",
      "y = subdf['success']\n",
      "\n",
      "xtrain = train['blurb']\n",
      "xtest_final = test['blurb']\n",
      "ytrain = train['success']\n",
      "ytest_final = test['success']"
     ],
     "language": "python",
     "metadata": {},
     "outputs": [
      {
       "output_type": "stream",
       "stream": "stdout",
       "text": [
        "\n"
       ]
      }
     ],
     "prompt_number": 84
    },
    {
     "cell_type": "code",
     "collapsed": false,
     "input": [
      "#the grid of parameters to search over\n",
      "alphas = [300, 325, 350, 375, 362.5]\n",
      "min_dfs = [.009, .008, .007, .01, .011, .0115, .0105, .012, .013]\n",
      "\n",
      "#Find the best value for alpha and min_df, and the best classifier\n",
      "best_alpha = None\n",
      "best_min_df = None\n",
      "max_loglike = -np.inf\n",
      "\n",
      "for alpha in alphas:\n",
      "    for min_df in min_dfs:         \n",
      "        vectorizer = CountVectorizer(min_df = min_df)\n",
      "        vectorizer.fit(x)\n",
      "        X, Y = make_xy(xtrain, ytrain, vectorizer)\n",
      "        \n",
      "        #your code here\n",
      "        clf = MultinomialNB(alpha = alpha)\n",
      "        score = cv.cross_val_score(clf, X, Y, scoring=log_likelihood)[2]\n",
      "        \n",
      "        if score > max_loglike:\n",
      "            max_loglike = score\n",
      "            best_alpha = alpha\n",
      "            best_min_df = min_df"
     ],
     "language": "python",
     "metadata": {},
     "outputs": [],
     "prompt_number": 85
    },
    {
     "cell_type": "code",
     "collapsed": false,
     "input": [
      "vectorizer = CountVectorizer(min_df = best_min_df)\n",
      "vectorizer.fit(x)\n",
      "xtest_vector = vectorizer.transform(xtest_final)"
     ],
     "language": "python",
     "metadata": {},
     "outputs": [],
     "prompt_number": 86
    },
    {
     "cell_type": "code",
     "collapsed": false,
     "input": [
      "clf = MultinomialNB(alpha = best_alpha)\n",
      "\n",
      "xtrain_vector = vectorizer.transform(xtrain)\n",
      "clf.fit(xtrain_vector, ytrain)\n",
      "\n",
      "clf.score(xtest_vector, ytest_final)\n",
      "calibration_plot(clf, xtest_vector, ytest_final)"
     ],
     "language": "python",
     "metadata": {},
     "outputs": [
      {
       "metadata": {},
       "output_type": "display_data",
       "png": "[encoded data removed]",
       "text": [
        "<matplotlib.figure.Figure at 0xb344950>"
       ]
      }
     ],
     "prompt_number": 114
    },
    {
     "cell_type": "code",
     "collapsed": false,
     "input": [
      "print best_alpha, best_min_df\n",
      "print max_loglike"
     ],
     "language": "python",
     "metadata": {},
     "outputs": [
      {
       "output_type": "stream",
       "stream": "stdout",
       "text": [
        "300 0.013\n",
        "-5920.29349601\n"
       ]
      }
     ],
     "prompt_number": 40
    },
    {
     "cell_type": "code",
     "collapsed": false,
     "input": [
      "cv_nbclassifier(subdf)"
     ],
     "language": "python",
     "metadata": {},
     "outputs": [
      {
       "metadata": {},
       "output_type": "display_data",
       "png": "[encoded data removed]",
       "text": [
        "<matplotlib.figure.Figure at 0x1b49e750>"
       ]
      },
      {
       "metadata": {},
       "output_type": "display_data",
       "png": "[encoded data removed]",
       "text": [
        "<matplotlib.figure.Figure at 0x1b46fe10>"
       ]
      },
      {
       "metadata": {},
       "output_type": "pyout",
       "prompt_number": 238,
       "text": [
        "(CountVectorizer(analyzer=u'word', binary=False, charset=None,\n",
        "        charset_error=None, decode_error=u'strict',\n",
        "        dtype=<type 'numpy.int64'>, encoding=u'utf-8', input=u'content',\n",
        "        lowercase=True, max_df=1.0, max_features=None, min_df=0.013,\n",
        "        ngram_range=(1, 1), preprocessor=None, stop_words=None,\n",
        "        strip_accents=None, token_pattern=u'(?u)\\\\b\\\\w\\\\w+\\\\b',\n",
        "        tokenizer=None, vocabulary=None),\n",
        " MultinomialNB(alpha=300, class_prior=None, fit_prior=True))"
       ]
      }
     ],
     "prompt_number": 238
    },
    {
     "cell_type": "code",
     "collapsed": false,
     "input": [
      "words = vectorizer.get_feature_names()\n",
      "\n",
      "df = pd.DataFrame({\"word\": words,\n",
      "                   \"PSuccess\": [clf.predict_proba(np.eye(1, len(words), i, dtype=int))[0][1] for i in range(len(words))]})\n",
      "\n",
      "df = df.sort(columns='PSuccess', ascending=False)\n",
      "\n",
      "print \"Best Words\"\n",
      "for i in range(100):\n",
      "    print df.irow(i).values[1], 'has a' , df.irow(i).values[0], \"% chance of being rated fresh\"\n",
      "    \n",
      "df = df.sort(columns='PSuccess')\n",
      "\n",
      "print \"\\nWorst Words\"\n",
      "for i in range(100):\n",
      "   print df.irow(i).values[1], 'has a' , df.irow(i).values[0], \"% chance of being rated fresh\""
     ],
     "language": "python",
     "metadata": {},
     "outputs": [
      {
       "output_type": "stream",
       "stream": "stdout",
       "text": [
        "Best Words\n",
        "record has a 0.573039982384 % chance of being rated fresh\n",
        "album has a 0.569218263926 % chance of being rated fresh\n",
        "songs has a 0.551726156945 % chance of being rated fresh\n",
        "recording has a 0.549073637784 % chance of being rated fresh\n",
        "length has a 0.544252278609 % chance of being rated fresh\n",
        "ep has a 0.537480154947 % chance of being rated fresh\n",
        "help has a 0.532767247488 % chance of being rated fresh\n",
        "release has a 0.52755673738 % chance of being rated fresh\n",
        "studio has a 0.526450388499 % chance of being rated fresh\n",
        "debut has a 0.525559001827 % chance of being rated fresh\n",
        "2013 has a 0.52553352411 % chance of being rated fresh\n",
        "at has a 0.524090227146 % chance of being rated fresh\n",
        "re has a 0.524075165096 % chance of being rated fresh\n",
        "ve has a 0.521467724289 % chance of being rated fresh\n",
        "new has a 0.5214591584 % chance of being rated fresh\n",
        "full has a 0.519582620045 % chance of being rated fresh\n",
        "need has a 0.518217061606 % chance of being rated fresh\n",
        "making has a 0.517679149212 % chance of being rated fresh\n",
        "band has a 0.517255657486 % chance of being rated fresh\n",
        "first has a 0.516278809735 % chance of being rated fresh\n",
        "part has a 0.515117723631 % chance of being rated fresh\n",
        "work has a 0.510999711467 % chance of being rated fresh\n",
        "festival has a 0.510863180929 % chance of being rated fresh\n",
        "tour has a 0.510762898946 % chance of being rated fresh\n",
        "dance has a 0.510137389829 % chance of being rated fresh\n",
        "now has a 0.507812545167 % chance of being rated fresh\n",
        "musical has a 0.506720829207 % chance of being rated fresh\n",
        "we has a 0.502162629104 % chance of being rated fresh\n",
        "production has a 0.501982462002 % chance of being rated fresh\n",
        "featuring has a 0.500982247521 % chance of being rated fresh\n",
        "original has a 0.498796167024 % chance of being rated fresh\n",
        "support has a 0.498612667684 % chance of being rated fresh\n",
        "us has a 0.497670838557 % chance of being rated fresh\n",
        "three has a 0.496436780418 % chance of being rated fresh\n",
        "years has a 0.49638450721 % chance of being rated fresh\n",
        "cd has a 0.495229013359 % chance of being rated fresh\n",
        "short has a 0.494933453458 % chance of being rated fresh\n",
        "two has a 0.49454843483 % chance of being rated fresh\n",
        "community has a 0.491966113007 % chance of being rated fresh\n",
        "fund has a 0.491806694425 % chance of being rated fresh\n",
        "comedy has a 0.491684567931 % chance of being rated fresh\n",
        "comic has a 0.490404157011 % chance of being rated fresh\n",
        "artists has a 0.490365498561 % chance of being rated fresh\n",
        "needs has a 0.48896979726 % chance of being rated fresh\n",
        "rock has a 0.488699897619 % chance of being rated fresh\n",
        "our has a 0.488048768411 % chance of being rated fresh\n",
        "join has a 0.487974689363 % chance of being rated fresh\n",
        "card has a 0.487924788131 % chance of being rated fresh\n",
        "girl has a 0.487872925588 % chance of being rated fresh\n",
        "american has a 0.486967681352 % chance of being rated fresh\n",
        "been has a 0.486897015387 % chance of being rated fresh\n",
        "little has a 0.48550492353 % chance of being rated fresh\n",
        "ready has a 0.484879330766 % chance of being rated fresh\n",
        "come has a 0.484321413938 % chance of being rated fresh\n",
        "song has a 0.483156418387 % chance of being rated fresh\n",
        "get has a 0.482996685869 % chance of being rated fresh\n",
        "best has a 0.482873649582 % chance of being rated fresh\n",
        "city has a 0.482339719924 % chance of being rated fresh\n",
        "share has a 0.481920420698 % chance of being rated fresh\n",
        "together has a 0.481809701195 % chance of being rated fresh\n",
        "so has a 0.481734211712 % chance of being rated fresh\n",
        "collection has a 0.481249462893 % chance of being rated fresh\n",
        "out has a 0.481094810209 % chance of being rated fresh\n",
        "space has a 0.480702610398 % chance of being rated fresh\n",
        "feature has a 0.480117343536 % chance of being rated fresh\n",
        "year has a 0.47971989919 % chance of being rated fresh\n",
        "home has a 0.479570611459 % chance of being rated fresh\n",
        "by has a 0.479038023961 % chance of being rated fresh\n",
        "music has a 0.478356666731 % chance of being rated fresh\n",
        "dark has a 0.478331286404 % chance of being rated fresh\n",
        "play has a 0.478173949667 % chance of being rated fresh\n",
        "inspired has a 0.478010316369 % chance of being rated fresh\n",
        "school has a 0.477640419988 % chance of being rated fresh\n",
        "me has a 0.477390864581 % chance of being rated fresh\n",
        "history has a 0.477077075569 % chance of being rated fresh\n",
        "after has a 0.476949900725 % chance of being rated fresh\n",
        "creating has a 0.475522105751 % chance of being rated fresh\n",
        "art has a 0.47538358288 % chance of being rated fresh\n",
        "bring has a 0.474877352846 % chance of being rated fresh\n",
        "artist has a 0.474844210936 % chance of being rated fresh\n",
        "build has a 0.474557068087 % chance of being rated fresh\n",
        "love has a 0.47399566996 % chance of being rated fresh\n",
        "film has a 0.473628707808 % chance of being rated fresh\n",
        "some has a 0.473438698482 % chance of being rated fresh\n",
        "make has a 0.473432781147 % chance of being rated fresh\n",
        "modern has a 0.473418317175 % chance of being rated fresh\n",
        "let has a 0.473218115012 % chance of being rated fresh\n",
        "small has a 0.471949673489 % chance of being rated fresh\n",
        "other has a 0.471463746517 % chance of being rated fresh\n",
        "her has a 0.470365604098 % chance of being rated fresh\n",
        "old has a 0.470244505718 % chance of being rated fresh\n",
        "do has a 0.470237198275 % chance of being rated fresh\n",
        "their has a 0.470161553577 % chance of being rated fresh\n",
        "stories has a 0.469869539507 % chance of being rated fresh\n",
        "hand has a 0.469805736778 % chance of being rated fresh\n",
        "its has a 0.469687434838 % chance of being rated fresh\n",
        "time has a 0.469493113916 % chance of being rated fresh\n",
        "go has a 0.468993612386 % chance of being rated fresh\n",
        "written has a 0.468741133876 % chance of being rated fresh\n",
        "but has a 0.468580864758 % chance of being rated fresh\n",
        "\n",
        "Worst Words\n",
        "that has a 0.393588428448 % chance of being rated fresh\n",
        "game has a 0.410128025765 % chance of being rated fresh\n",
        "series has a 0.420083028281 % chance of being rated fresh\n",
        "not has a 0.420357820345 % chance of being rated fresh\n",
        "book has a 0.421938226918 % chance of being rated fresh\n",
        "is has a 0.425575105609 % chance of being rated fresh\n",
        "how has a 0.427130409996 % chance of being rated fresh\n",
        "fun has a 0.427219905836 % chance of being rated fresh\n",
        "are has a 0.427293110105 % chance of being rated fresh\n",
        "action has a 0.428055435823 % chance of being rated fresh\n",
        "people has a 0.428878437651 % chance of being rated fresh\n",
        "world has a 0.42937463774 % chance of being rated fresh\n",
        "all has a 0.429396452211 % chance of being rated fresh\n",
        "has has a 0.429548920139 % chance of being rated fresh\n",
        "have has a 0.429899862846 % chance of being rated fresh\n",
        "life has a 0.430477388741 % chance of being rated fresh\n",
        "children has a 0.430601285548 % chance of being rated fresh\n",
        "real has a 0.430853551546 % chance of being rated fresh\n",
        "will has a 0.432006780317 % chance of being rated fresh\n",
        "story has a 0.432388211941 % chance of being rated fresh\n",
        "one has a 0.432663266824 % chance of being rated fresh\n",
        "novel has a 0.432928634563 % chance of being rated fresh\n",
        "want has a 0.433053965023 % chance of being rated fresh\n",
        "to has a 0.433837034704 % chance of being rated fresh\n",
        "like has a 0.434842246589 % chance of being rated fresh\n",
        "no has a 0.435375514814 % chance of being rated fresh\n",
        "or has a 0.436397946816 % chance of being rated fresh\n",
        "this has a 0.437853089832 % chance of being rated fresh\n",
        "what has a 0.437978836574 % chance of being rated fresh\n",
        "and has a 0.438922392782 % chance of being rated fresh\n",
        "the has a 0.439827271478 % chance of being rated fresh\n",
        "with has a 0.440055394163 % chance of being rated fresh\n",
        "while has a 0.440087415476 % chance of being rated fresh\n",
        "on has a 0.440257234721 % chance of being rated fresh\n",
        "based has a 0.440299256209 % chance of being rated fresh\n",
        "they has a 0.440300889376 % chance of being rated fresh\n",
        "would has a 0.440415533445 % chance of being rated fresh\n",
        "through has a 0.440978313648 % chance of being rated fresh\n",
        "create has a 0.441524259352 % chance of being rated fresh\n",
        "kids has a 0.441768894493 % chance of being rated fresh\n",
        "food has a 0.441797723814 % chance of being rated fresh\n",
        "see has a 0.442029323005 % chance of being rated fresh\n",
        "design has a 0.44223851023 % chance of being rated fresh\n",
        "where has a 0.442490193174 % chance of being rated fresh\n",
        "true has a 0.4425947095 % chance of being rated fresh\n",
        "which has a 0.44303428403 % chance of being rated fresh\n",
        "using has a 0.443308282086 % chance of being rated fresh\n",
        "you has a 0.443512047996 % chance of being rated fresh\n",
        "unique has a 0.44380847168 % chance of being rated fresh\n",
        "be has a 0.444321184706 % chance of being rated fresh\n",
        "style has a 0.444798559011 % chance of being rated fresh\n",
        "way has a 0.446103947087 % chance of being rated fresh\n",
        "from has a 0.446355545595 % chance of being rated fresh\n",
        "every has a 0.446861407541 % chance of being rated fresh\n",
        "line has a 0.447270337268 % chance of being rated fresh\n",
        "it has a 0.448482444715 % chance of being rated fresh\n",
        "group has a 0.448492872988 % chance of being rated fresh\n",
        "if has a 0.449272763236 % chance of being rated fresh\n",
        "as has a 0.44980827638 % chance of being rated fresh\n",
        "dream has a 0.450231882228 % chance of being rated fresh\n",
        "designed has a 0.450737533806 % chance of being rated fresh\n",
        "made has a 0.45091708361 % chance of being rated fresh\n",
        "he has a 0.451286081045 % chance of being rated fresh\n",
        "project has a 0.451401178679 % chance of being rated fresh\n",
        "for has a 0.451401178679 % chance of being rated fresh\n",
        "friends has a 0.451771644138 % chance of being rated fresh\n",
        "an has a 0.451899421697 % chance of being rated fresh\n",
        "find has a 0.452204022024 % chance of being rated fresh\n",
        "great has a 0.452386013735 % chance of being rated fresh\n",
        "who has a 0.452442617084 % chance of being rated fresh\n",
        "of has a 0.452481700773 % chance of being rated fresh\n",
        "most has a 0.453112129971 % chance of being rated fresh\n",
        "set has a 0.453201465296 % chance of being rated fresh\n",
        "more has a 0.453450456926 % chance of being rated fresh\n",
        "documentary has a 0.45347832045 % chance of being rated fresh\n",
        "up has a 0.454272084302 % chance of being rated fresh\n",
        "journey has a 0.454746608129 % chance of being rated fresh\n",
        "my has a 0.454789707325 % chance of being rated fresh\n",
        "his has a 0.455067407692 % chance of being rated fresh\n",
        "high has a 0.455384697031 % chance of being rated fresh\n",
        "around has a 0.455700880799 % chance of being rated fresh\n",
        "ever has a 0.456195591782 % chance of being rated fresh\n",
        "them has a 0.456729724336 % chance of being rated fresh\n",
        "she has a 0.456855911412 % chance of being rated fresh\n",
        "adventure has a 0.457231610805 % chance of being rated fresh\n",
        "can has a 0.457294663502 % chance of being rated fresh\n",
        "amazing has a 0.457494691714 % chance of being rated fresh\n",
        "free has a 0.457851433558 % chance of being rated fresh\n",
        "your has a 0.45811725339 % chance of being rated fresh\n",
        "lives has a 0.458458125574 % chance of being rated fresh\n",
        "use has a 0.458605952011 % chance of being rated fresh\n",
        "am has a 0.458932758998 % chance of being rated fresh\n",
        "own has a 0.458937753993 % chance of being rated fresh\n",
        "experience has a 0.459082950172 % chance of being rated fresh\n",
        "young has a 0.459115513909 % chance of being rated fresh\n",
        "man has a 0.459463744513 % chance of being rated fresh\n",
        "about has a 0.459880676405 % chance of being rated fresh\n",
        "local has a 0.460518910043 % chance of being rated fresh\n",
        "just has a 0.460721182526 % chance of being rated fresh\n",
        "between has a 0.460954386599 % chance of being rated fresh\n"
       ]
      }
     ],
     "prompt_number": 33
    },
    {
     "cell_type": "code",
     "collapsed": false,
     "input": [
      "xarray = xtest_vector.toarray()\n",
      "df = pd.DataFrame({\"score\": [log_likelihood(clf, [x], [y]) for x, y in zip(xarray, ytest_final)],\n",
      "                   \"blurb\": xtest_final,\n",
      "                   \"prob\": [clf.predict_proba([x])[0][1] for x, y in zip(xarray, ytest_final)],\n",
      "                   \"success\": ytest_final\n",
      "                   }\n",
      "                  )\n",
      "df = df.sort(columns=\"score\")\n",
      "\n",
      "print \"Worst Predictions\"\n",
      "for i in range(100):\n",
      "    row = df.irow(i)\n",
      "    print row['blurb'], \":\\t\", row['prob'], \"%,\\t\", row['score']"
     ],
     "language": "python",
     "metadata": {},
     "outputs": [
      {
       "output_type": "stream",
       "stream": "stdout",
       "text": [
        "Worst Predictions\n",
        "Blues-Rock band, The Blue News, has been recording their new full-length album at Dark Horse Studios and they need your help to finish! :\t0.933219863974 %,\t-2.70634960754\n",
        "We're an indie-folk trio on our way to record our first album, though we\u2019re a bit short on funds... therefore, we need your support. :\t0.931326410935 %,\t-2.67839059232\n",
        "Your favorite RPG/Nerd/Metal band, Dethlehem, needs your help in completing our third full-length album! We need your gold! :\t0.898339743243 %,\t-2.28611884133\n",
        "After having  success with our first album in April 2013, Vagablondes aim to go to a real recording studio to record our second album, :\t0.895176863986 %,\t-2.25548076797\n",
        "Smith & Weeden have recorded their first full-length record, now they need you're help to release it. :\t0.890195741161 %,\t-2.20905596342\n",
        "Elephabet is a book and stop-action animation that celebrates the alphabet. Wouldn't it be cool to also have it as an e-book or poster? :\t0.112425800587 %,\t-2.18546182527\n",
        "We are a five piece heavy band from Brighton, UK. We are looking to record our debut album. Help us out! :\t0.884674240761 %,\t-2.15999446609\n",
        "HELP SUPPORT the recording of our DEBUT ALBUM! From Rock and Roll Fantasy Camp till now-Help us keep the music alive! :\t0.881118078697 %,\t-2.12962453644\n",
        "We are an American Rock band trying to release our first full length CD. :\t0.867722335591 %,\t-2.02285204745\n",
        "Hey fellow music enthusiasts! We are Legion of Saints and we are creating our first full length studio album. :\t0.867193033974 %,\t-2.0188585883\n",
        "Planning to record an album following-up to my debut EP \"Electro\" at White Rabbit Studio at Campbell, CA :\t0.864758052495 %,\t-2.00068990088\n",
        "I Lead a 18- Piece Big Band that plays all original music. We play music that has a feeling of NOW! Help us record our debut record! :\t0.864373496151 %,\t-1.99785046646\n",
        "We need your help to record and promote our new EP. This Record will be recorded & produced by Grammy nominated producer Steve Wilson. :\t0.86409485692 %,\t-1.99579811395\n",
        "Help us fund our first full-length album! It will be recorded at Levon Helm Studios aka The Barn in Woodstock NY. :\t0.864079778306 %,\t-1.99568717056\n",
        "We are just two young artists trying to make our first album. In order to do this we need some support from our family, friends, fans :\t0.862726390108 %,\t-1.98577919231\n",
        "We gave you a 4 song EP release of \"The Fall of an Empire\", and now we are looking to release a full album and need your support. :\t0.861602346621 %,\t-1.97762419129\n",
        "After 16 years since his first album \"Liberty\", Dean is about to go back into the studio to record and release a brand new album. :\t0.859675470844 %,\t-1.96379747354\n",
        "ON THE VERGE is an original television series dramedy that explores the world of celebrity and the true cost of doing what's right with your life. :\t0.141878327365 %,\t-1.95278543823\n",
        "A compassionate children's story book about divorce reminding children that one thing will always stay the same--they will be loved :\t0.14274681429 %,\t-1.9466827474\n",
        "Help me record Absolute Redemption - a full length Country CD by CP Kelley coming out on Pavement Entertainment distributed by Sony RED :\t0.856481525178 %,\t-1.94129150767\n",
        "Pre-order the debut full-length album \"surroundings\" by Paranoia Dance Party! and help them out on tour this summer. :\t0.855073075087 %,\t-1.93152562972\n",
        "Lazaro, spanish rock band from Rockville, MD needs your support! We need funding to get professional studio time. Help us please! :\t0.854991353948 %,\t-1.93096191039\n",
        "New Double Album  BiiGi B  \"SAKURA\"  over 30 songs written over the last 2 Decades  to we need your help to achieve this finished album :\t0.854489976837 %,\t-1.92751030702\n",
        "The book is the first book of MeimeiStory children book series(age 2-10yrs) that teaches English-speaking Children Mandarin Chinese! :\t0.146226670638 %,\t-1.9225973226\n",
        "Please help me record a full length all original album in Nashville by prepurchasing my CD and or donating to my fundrasing project. :\t0.850531912302 %,\t-1.90067236915\n",
        "Hello Comrades! Thanks for joining us here on our KickStarter page. We need your support to launch our incredible NEW album. Join US! :\t0.849686530467 %,\t-1.89503236859\n",
        "I want to create a small book of images from my travel journals that will have notes on drawing and travel with an occasional haiku. :\t0.153402763533 %,\t-1.874688375\n",
        "We're ready to launch our Debut Album, 'Be Encouraged', and we need YOUR help! Be a part of this exciting journey! :\t0.844975426467 %,\t-1.8641716357\n",
        "TallBoys band are trying to record their first album this coming summer/fall, and we need your help to make it happen! :\t0.843655772046 %,\t-1.85569511323\n",
        "cool dog is a good dog. he is best conveyed in sticker form. people love stickers. he is to be shared with all the people of the world. :\t0.1571607678 %,\t-1.85048599884\n",
        "We are a fairly new band with a new sound and thought provoking lyrics. We need your help to tour and get our message out in Texas. :\t0.841229380888 %,\t-1.84029476547\n",
        "I am working on a series that will share the strength of femininity and will be shown to the public in December for my portfolio class. :\t0.16168525275 %,\t-1.82210371786\n",
        "Help up and coming Instrumental Rock band Velv Adyr release their first Instrumental EP! Hope to get your Support! :\t0.835352441588 %,\t-1.80394809923\n",
        "A video series that takes older cars & makes them more fuel-efficient & fun to drive. Real cars. Real people. Real fun. :\t0.16550146458 %,\t-1.79877523478\n",
        "We are going into the studio to record our first full album.  Our vision includes vinyl and a series of 12x12 art prints. :\t0.834417155143 %,\t-1.79828363625\n",
        "The purpose of this book is to provide information on 5 religions and suggestions for how to talk to children about religion. :\t0.165605978271 %,\t-1.79814393701\n",
        "Bring Children's book(s) to life! \"Clyde\" is hilarious and fun to read &  \"Rusty Bear and Thomas, Too\" has lessons on kindness & more! :\t0.166896585858 %,\t-1.79038090474\n",
        "Peach Twins Is The Fun And Empowering Children\u2019s Book That Builds Vocabulary, Color Recognition And The Love of Learning In Your Child :\t0.169191319509 %,\t-1.77672513626\n",
        "We're looking to record four new songs for you guys, and with college and our daily expenses, we could always use some help! :\t0.829716952569 %,\t-1.7702932416\n",
        "Troof need 35,000 to build a recording studio & release NEW Album. :\t0.829665846197 %,\t-1.76999316061\n",
        "The Ged Brockie Band is a 5 piece group from Scotland. We're looking to record and film a new acoustic album; with your help we can! :\t0.828668129771 %,\t-1.76415284175\n",
        "The Queens have banished you to the Fairytale Games. To survive, you have to be strong of will, intelligent and adapt - are you? :\t0.176962478124 %,\t-1.73181755688\n",
        "A love song for the broken hearted in the form of a 60 page poetry book. Bring it to life and see that you are not alone. :\t0.178225179807 %,\t-1.7247074731\n",
        "The Cloth of Egypt: All About Assiut is an informative book on the history, legend, and use of the unique textile known as assuit :\t0.179958347315 %,\t-1.71502985868\n",
        "Re-release of the debut full length album \"Corporate Dynamite\" on vinyl for the first time! VERY limited one-time pressing! :\t0.819074030453 %,\t-1.70966733941\n",
        "Help us spread our positive messages by supporting us with your donations as we record an album, then tour afterwords to promote it. :\t0.818706160463 %,\t-1.70763614118\n",
        "We are ready to record our second album and need your help ! :\t0.817657820973 %,\t-1.70187025255\n",
        "Ready to record my first full length album using a team of artists, songwriters and producers from Lubbock, Austin and Nashville. :\t0.816545041927 %,\t-1.69578610171\n",
        "We are The Danbees, a rock and roll band from Ithaca, New York. Join us as we set out to live the dream and record one kickass album. :\t0.816176222621 %,\t-1.69377771192\n",
        "I am ready to begin recording my next CD of new original songs!  Everything is ready to go except we need the funds to get started! :\t0.814984092797 %,\t-1.68731347272\n",
        "Inceptum is a Pittsburgh based Alt. Rock band. We are finishing writing our first album and need funding to record :\t0.814015057194 %,\t-1.6820895612\n",
        "\"Hold On\" is a album of songs we love too much to record on our own...  We need to do this right, and to see where our music takes us. :\t0.812561484565 %,\t-1.67430440503\n",
        "Writing a book about Beep Baseball--a modified game for the blind--and traveling to the World Series to produce chapters 1-3. Thanks! :\t0.187604392885 %,\t-1.67341982646\n",
        "RISING EVIL is a tense, atmospheric horror themed action RPG, a mix of action and horror that will have you coming back for more. :\t0.188086340236 %,\t-1.670854165\n",
        "Aesthetic Invention seeks to release a full-length album - ten songs of minimal, playful electronic goodness. :\t0.811373662576 %,\t-1.66798727153\n",
        "TIGER PARTY is making a follow-up album in 2014.  You can pre-order the album here and help be a part of the new record! :\t0.811253241953 %,\t-1.66734906691\n",
        "Pyrovore is hitting the studio to record our first official EP. We have some great new songs and we would love for you to hear them. :\t0.810610172577 %,\t-1.66394780916\n",
        "This summer starts the recording my first full length album.\n",
        "I'm asking for your undying love & support to make this vision a reality! :\t0.80943479244 %,\t-1.65776084608\n",
        "This is a candid and funny look at life with OCD. In it I chronicle life with OCD, my meltdowns and what I learned about life from it. :\t0.191537081397 %,\t-1.65267385257\n",
        "MNID sets their eyes on the studio to record their official debut EP at Dark Horse Studios in Nashville. :\t0.806600827354 %,\t-1.64299897392\n",
        "Bedrooms of the Fallen, a photographic book that will memorialize members of the military that died in Afghanistan and Iraq. :\t0.194650177024 %,\t-1.63655129548\n",
        "For Art Lovers and People Who Keep Time and People with Too Much Time on Your Hands and People Who Wish to Be Free of the Tyranny of Time. :\t0.195006378419 %,\t-1.63472301111\n",
        "A documentary film that explores the culture within a Comic Con, and how this culture is as diverse as the people who attend it. :\t0.195043572049 %,\t-1.63453229897\n",
        " Kickstart our CD!!   We Need your Help to make a Kickass Blues Record!!!  :\t0.803299324482 %,\t-1.62607211934\n",
        "Join forces with a cappella \"man band\", ShadowVox, and help them record an epic debut album! :\t0.803228466155 %,\t-1.62571194992\n",
        "Eat Play Learn, is a kid's activity series that uses healthy food as a learning tool. Each lesson is simple, hands-on, and fun! :\t0.197355035262 %,\t-1.62275096282\n",
        "We have a wonderful opportunity to record our first album this spring. Please help us make this possible! :\t0.801594817715 %,\t-1.61744396408\n",
        "WordSmith is a word building, real-time card game for multiple players of all ages. This game will grow your vocabulary! :\t0.198428146211 %,\t-1.61732822821\n",
        "A comic book series of the life of David - where the scripture is the script. :\t0.198614262302 %,\t-1.61639071574\n",
        "Sweet Math introduces a sweet and exciting educational game for children and adults to improve arithmetic skills and have fun! :\t0.199243244616 %,\t-1.61322886595\n",
        "Roll it! Match it! Score it!\n",
        "It\u2019s fun! It\u2019s easy! It\u2019s fast! It's Roll For It! \n",
        "A dice and card game for the entire family. :\t0.202108914112 %,\t-1.59894854811\n",
        "Help us turn Proxy into a full feature length film! With your help, we can spread the slenderman trend forever! :\t0.797773369172 %,\t-1.59836627569\n",
        "Singer/Songwriter Dani Red is writing a new full length concept album. She needs your help to make it happen! :\t0.79733685831 %,\t-1.59621007881\n",
        "I want to remind people that there is more \u201cthankfulness\u201d in the air than the essential life supporting oxygen. :\t0.203909453815 %,\t-1.59007923752\n",
        "Funemployed! is a party game where players apply to real jobs using unreal qualifications. Do you have what it takes to be Funemployed? :\t0.204378679442 %,\t-1.58778073411\n",
        "We would like to make our very first full length album titled \"Here's to Life\". Songs from Sinatra, Jazz Standards, Latin and Persian. :\t0.794847744454 %,\t-1.58400286554\n",
        "Hill country blues stomp grass rock punk dance disco folk on buckets, cans, and slide guitar. We're making a new album! :\t0.794497833376 %,\t-1.58229870192\n",
        "Katalyka is a strategy game for 1-4 players that focuses on building a successful Stellar culture that spans across the entire Galaxy! :\t0.20662955363 %,\t-1.57682768495\n",
        "The Mojo is an FPGA development board that is designed to be user friendly and a great introduction into digital design for anyone. :\t0.207135400828 %,\t-1.57438258927\n",
        "Produced entirely by student interns at a professional recording studio, Simpler Times is the debut album by Flower Petal. :\t0.792283622881 %,\t-1.57158170133\n",
        "We are heading into the studio in June to record a 7 song EP and are very excited! But we need your help to fund the rest of it! :\t0.792204059376 %,\t-1.57119873552\n",
        "Reunion is the story of that person you carry with you. It's the story of a first love, a time and place and lives not led. :\t0.207938076782 %,\t-1.57051495139\n",
        "Truck Farm Phoenix is one in a fleet of mobile farming exhibits based in every urban area in the country teaching kids how fun food is. :\t0.207973887718 %,\t-1.57034274698\n",
        "We've finished recording, mixing, and mastering the album - Join with us in funding our CD duplication and startup costs! :\t0.789906244703 %,\t-1.5602013941\n",
        "This is a whimsical children\u2019s picture book written in a fun rhyming style.  It\u2019s perfect for young readers, parents and grandparents. :\t0.211147732421 %,\t-1.55519723685\n",
        "I'm recording a new album and need your help! :\t0.788480400781 %,\t-1.55343761709\n",
        "I'm almost done tracking a new full-length CD called \"Phoenix\" - to be released this Fall. I need you to help me get it pressed and out to fans! :\t0.788134475708 %,\t-1.55180352495\n",
        "This book is about Jack, the world's smallest rhinoceros wrangler. Wherever rhinos are on the loose, Jack will be there. :\t0.211929039731 %,\t-1.55150377859\n",
        "Chikken is a dice game with simple rules but deeper strategy that's suitable for the whole family. And it's not actually dangerous. :\t0.213386352211 %,\t-1.54465089618\n",
        "We are making an album called \"The Geminids.\" We want you to be a part of it.  We need help raising the funds to complete the album. :\t0.786248773188 %,\t-1.54294243171\n",
        "The story of April, 17, who has to face her strained relationship with her father on the eve of his children's book award ceremony. :\t0.214002521977 %,\t-1.54176747909\n",
        "Daydream album is a new album we are working on with new style EDM music.Our dream is to make this album official. :\t0.785682466819 %,\t-1.54029656379\n",
        "fields is an Austin-based arts and culture journal that highlights the creative endeavors of the up and coming and the unsung. :\t0.214357107826 %,\t-1.54011192658\n",
        "My book is a hand-written and designed collection of favorite facts/quotes/ideas that have moved me and will certainly move readers. :\t0.214529090646 %,\t-1.53930992908\n",
        "We're bringing a full-length original ballet production to the Jersey Shore. Help bring the art and joy of ballet to this community. :\t0.785091441119 %,\t-1.53754264886\n",
        "\"Padre\" is the true story of life in Cote d'Ivoire as a Peace Corps Volunteer that makes you laugh out loud when you least expect it. :\t0.215174777312 %,\t-1.53630466336\n",
        "\u201cNationless\u201d is the story of the Tibetan community living in Nepal, and the unique struggles that they face. :\t0.215440119525 %,\t-1.53507227568\n",
        "THE HOSPITAL VISIT is a film about LOST LOVE and MENTAL ILLNESS. It is a story that is very personal and meaningful. :\t0.216129543917 %,\t-1.53187731071\n",
        "Having lost all hope in the heroes of his world, fate steps in and gives young Gavin Shaw the power to do the things they have not. :\t0.216746750449 %,\t-1.5290256556\n",
        "The turmoil of being in the middle of an unknown zombie pandemic with your closest friends, and the life-changing events that follow. :\t0.217250491391 %,\t-1.52670425297\n"
       ]
      }
     ],
     "prompt_number": 123
    },
    {
     "cell_type": "code",
     "collapsed": false,
     "input": [
      "import operator\n",
      "\n",
      "def separate_by_field(df, field):\n",
      "    groups = df.groupby(field)\n",
      "    by_field = groups.aggregate({'success': np.mean})\n",
      "    by_field = by_field.sort(columns='success')\n",
      "    \n",
      "    success = by_field.values\n",
      "    field_vals = by_field.index.values\n",
      "    \n",
      "    fig = plt.figure(figsize=(28, 6))\n",
      "    ax = fig.add_subplot(1,1,1)\n",
      "\n",
      "    ax.bar([i for i in range(len(success))], success)\n",
      "    ax.set_xticks([i + .5 for i in range(len(success))])\n",
      "    ax.set_xticklabels(field_vals, rotation='vertical')\n",
      "    plt.show()"
     ],
     "language": "python",
     "metadata": {},
     "outputs": [],
     "prompt_number": 7
    },
    {
     "cell_type": "code",
     "collapsed": false,
     "input": [
      "separate_by_field(subdf, 'category')\n",
      "separate_by_field(subdf, 'currency')\n",
      "separate_by_field(subdf, 'creator_slug')"
     ],
     "language": "python",
     "metadata": {},
     "outputs": [
      {
       "metadata": {},
       "output_type": "display_data",
       "png": "[encoded data removed]",
       "text": [
        "<matplotlib.figure.Figure at 0xb93b490>"
       ]
      },
      {
       "metadata": {},
       "output_type": "display_data",
       "png": "[encoded data removed]",
       "text": [
        "<matplotlib.figure.Figure at 0x6f2d7d0>"
       ]
      },
      {
       "ename": "KeyboardInterrupt",
       "evalue": "",
       "output_type": "pyerr",
       "traceback": [
        "\u001b[1;31m---------------------------------------------------------------------------\u001b[0m\n\u001b[1;31mKeyboardInterrupt\u001b[0m                         Traceback (most recent call last)",
        "\u001b[1;32m<ipython-input-10-6fd8f555adb2>\u001b[0m in \u001b[0;36m<module>\u001b[1;34m()\u001b[0m\n\u001b[0;32m      1\u001b[0m \u001b[0mseparate_by_field\u001b[0m\u001b[1;33m(\u001b[0m\u001b[0msubdf\u001b[0m\u001b[1;33m,\u001b[0m \u001b[1;34m'category'\u001b[0m\u001b[1;33m)\u001b[0m\u001b[1;33m\u001b[0m\u001b[0m\n\u001b[0;32m      2\u001b[0m \u001b[0mseparate_by_field\u001b[0m\u001b[1;33m(\u001b[0m\u001b[0msubdf\u001b[0m\u001b[1;33m,\u001b[0m \u001b[1;34m'currency'\u001b[0m\u001b[1;33m)\u001b[0m\u001b[1;33m\u001b[0m\u001b[0m\n\u001b[1;32m----> 3\u001b[1;33m \u001b[0mseparate_by_field\u001b[0m\u001b[1;33m(\u001b[0m\u001b[0msubdf\u001b[0m\u001b[1;33m,\u001b[0m \u001b[1;34m'creator_slug'\u001b[0m\u001b[1;33m)\u001b[0m\u001b[1;33m\u001b[0m\u001b[0m\n\u001b[0m",
        "\u001b[1;32m<ipython-input-7-411cdc610559>\u001b[0m in \u001b[0;36mseparate_by_field\u001b[1;34m(df, field)\u001b[0m\n\u001b[0;32m     13\u001b[0m \u001b[1;33m\u001b[0m\u001b[0m\n\u001b[0;32m     14\u001b[0m     \u001b[0max\u001b[0m\u001b[1;33m.\u001b[0m\u001b[0mbar\u001b[0m\u001b[1;33m(\u001b[0m\u001b[1;33m[\u001b[0m\u001b[0mi\u001b[0m \u001b[1;32mfor\u001b[0m \u001b[0mi\u001b[0m \u001b[1;32min\u001b[0m \u001b[0mrange\u001b[0m\u001b[1;33m(\u001b[0m\u001b[0mlen\u001b[0m\u001b[1;33m(\u001b[0m\u001b[0msuccess\u001b[0m\u001b[1;33m)\u001b[0m\u001b[1;33m)\u001b[0m\u001b[1;33m]\u001b[0m\u001b[1;33m,\u001b[0m \u001b[0msuccess\u001b[0m\u001b[1;33m)\u001b[0m\u001b[1;33m\u001b[0m\u001b[0m\n\u001b[1;32m---> 15\u001b[1;33m     \u001b[0max\u001b[0m\u001b[1;33m.\u001b[0m\u001b[0mset_xticks\u001b[0m\u001b[1;33m(\u001b[0m\u001b[1;33m[\u001b[0m\u001b[0mi\u001b[0m \u001b[1;33m+\u001b[0m \u001b[1;36m.5\u001b[0m \u001b[1;32mfor\u001b[0m \u001b[0mi\u001b[0m \u001b[1;32min\u001b[0m \u001b[0mrange\u001b[0m\u001b[1;33m(\u001b[0m\u001b[0mlen\u001b[0m\u001b[1;33m(\u001b[0m\u001b[0msuccess\u001b[0m\u001b[1;33m)\u001b[0m\u001b[1;33m)\u001b[0m\u001b[1;33m]\u001b[0m\u001b[1;33m)\u001b[0m\u001b[1;33m\u001b[0m\u001b[0m\n\u001b[0m\u001b[0;32m     16\u001b[0m     \u001b[0max\u001b[0m\u001b[1;33m.\u001b[0m\u001b[0mset_xticklabels\u001b[0m\u001b[1;33m(\u001b[0m\u001b[0mfield_vals\u001b[0m\u001b[1;33m,\u001b[0m \u001b[0mrotation\u001b[0m\u001b[1;33m=\u001b[0m\u001b[1;34m'vertical'\u001b[0m\u001b[1;33m)\u001b[0m\u001b[1;33m\u001b[0m\u001b[0m\n\u001b[0;32m     17\u001b[0m     \u001b[0mplt\u001b[0m\u001b[1;33m.\u001b[0m\u001b[0mshow\u001b[0m\u001b[1;33m(\u001b[0m\u001b[1;33m)\u001b[0m\u001b[1;33m\u001b[0m\u001b[0m\n",
        "\u001b[1;32m/home/aaron/anaconda/lib/python2.7/site-packages/matplotlib/axes.pyc\u001b[0m in \u001b[0;36mset_xticks\u001b[1;34m(self, ticks, minor)\u001b[0m\n\u001b[0;32m   2588\u001b[0m         \u001b[0mACCEPTS\u001b[0m\u001b[1;33m:\u001b[0m \u001b[0msequence\u001b[0m \u001b[0mof\u001b[0m \u001b[0mfloats\u001b[0m\u001b[1;33m\u001b[0m\u001b[0m\n\u001b[0;32m   2589\u001b[0m         \"\"\"\n\u001b[1;32m-> 2590\u001b[1;33m         \u001b[1;32mreturn\u001b[0m \u001b[0mself\u001b[0m\u001b[1;33m.\u001b[0m\u001b[0mxaxis\u001b[0m\u001b[1;33m.\u001b[0m\u001b[0mset_ticks\u001b[0m\u001b[1;33m(\u001b[0m\u001b[0mticks\u001b[0m\u001b[1;33m,\u001b[0m \u001b[0mminor\u001b[0m\u001b[1;33m=\u001b[0m\u001b[0mminor\u001b[0m\u001b[1;33m)\u001b[0m\u001b[1;33m\u001b[0m\u001b[0m\n\u001b[0m\u001b[0;32m   2591\u001b[0m \u001b[1;33m\u001b[0m\u001b[0m\n\u001b[0;32m   2592\u001b[0m     \u001b[1;32mdef\u001b[0m \u001b[0mget_xmajorticklabels\u001b[0m\u001b[1;33m(\u001b[0m\u001b[0mself\u001b[0m\u001b[1;33m)\u001b[0m\u001b[1;33m:\u001b[0m\u001b[1;33m\u001b[0m\u001b[0m\n",
        "\u001b[1;32m/home/aaron/anaconda/lib/python2.7/site-packages/matplotlib/axis.pyc\u001b[0m in \u001b[0;36mset_ticks\u001b[1;34m(self, ticks, minor)\u001b[0m\n\u001b[0;32m   1534\u001b[0m         \u001b[1;32melse\u001b[0m\u001b[1;33m:\u001b[0m\u001b[1;33m\u001b[0m\u001b[0m\n\u001b[0;32m   1535\u001b[0m             \u001b[0mself\u001b[0m\u001b[1;33m.\u001b[0m\u001b[0mset_major_locator\u001b[0m\u001b[1;33m(\u001b[0m\u001b[0mmticker\u001b[0m\u001b[1;33m.\u001b[0m\u001b[0mFixedLocator\u001b[0m\u001b[1;33m(\u001b[0m\u001b[0mticks\u001b[0m\u001b[1;33m)\u001b[0m\u001b[1;33m)\u001b[0m\u001b[1;33m\u001b[0m\u001b[0m\n\u001b[1;32m-> 1536\u001b[1;33m             \u001b[1;32mreturn\u001b[0m \u001b[0mself\u001b[0m\u001b[1;33m.\u001b[0m\u001b[0mget_major_ticks\u001b[0m\u001b[1;33m(\u001b[0m\u001b[0mlen\u001b[0m\u001b[1;33m(\u001b[0m\u001b[0mticks\u001b[0m\u001b[1;33m)\u001b[0m\u001b[1;33m)\u001b[0m\u001b[1;33m\u001b[0m\u001b[0m\n\u001b[0m\u001b[0;32m   1537\u001b[0m \u001b[1;33m\u001b[0m\u001b[0m\n\u001b[0;32m   1538\u001b[0m     \u001b[1;32mdef\u001b[0m \u001b[0m_update_label_position\u001b[0m\u001b[1;33m(\u001b[0m\u001b[0mself\u001b[0m\u001b[1;33m,\u001b[0m \u001b[0mbboxes\u001b[0m\u001b[1;33m,\u001b[0m \u001b[0mbboxes2\u001b[0m\u001b[1;33m)\u001b[0m\u001b[1;33m:\u001b[0m\u001b[1;33m\u001b[0m\u001b[0m\n",
        "\u001b[1;32m/home/aaron/anaconda/lib/python2.7/site-packages/matplotlib/axis.pyc\u001b[0m in \u001b[0;36mget_major_ticks\u001b[1;34m(self, numticks)\u001b[0m\n\u001b[0;32m   1251\u001b[0m                 \u001b[1;32mif\u001b[0m \u001b[0mself\u001b[0m\u001b[1;33m.\u001b[0m\u001b[0m_gridOnMajor\u001b[0m\u001b[1;33m:\u001b[0m\u001b[1;33m\u001b[0m\u001b[0m\n\u001b[0;32m   1252\u001b[0m                     \u001b[0mtick\u001b[0m\u001b[1;33m.\u001b[0m\u001b[0mgridOn\u001b[0m \u001b[1;33m=\u001b[0m \u001b[0mTrue\u001b[0m\u001b[1;33m\u001b[0m\u001b[0m\n\u001b[1;32m-> 1253\u001b[1;33m                 \u001b[0mself\u001b[0m\u001b[1;33m.\u001b[0m\u001b[0m_copy_tick_props\u001b[0m\u001b[1;33m(\u001b[0m\u001b[0mprotoTick\u001b[0m\u001b[1;33m,\u001b[0m \u001b[0mtick\u001b[0m\u001b[1;33m)\u001b[0m\u001b[1;33m\u001b[0m\u001b[0m\n\u001b[0m\u001b[0;32m   1254\u001b[0m \u001b[1;33m\u001b[0m\u001b[0m\n\u001b[0;32m   1255\u001b[0m         \u001b[0mself\u001b[0m\u001b[1;33m.\u001b[0m\u001b[0m_lastNumMajorTicks\u001b[0m \u001b[1;33m=\u001b[0m \u001b[0mnumticks\u001b[0m\u001b[1;33m\u001b[0m\u001b[0m\n",
        "\u001b[1;32m/home/aaron/anaconda/lib/python2.7/site-packages/matplotlib/axis.pyc\u001b[0m in \u001b[0;36m_copy_tick_props\u001b[1;34m(self, src, dest)\u001b[0m\n\u001b[0;32m   1206\u001b[0m         \u001b[0mdest\u001b[0m\u001b[1;33m.\u001b[0m\u001b[0mlabel2\u001b[0m\u001b[1;33m.\u001b[0m\u001b[0mupdate_from\u001b[0m\u001b[1;33m(\u001b[0m\u001b[0msrc\u001b[0m\u001b[1;33m.\u001b[0m\u001b[0mlabel2\u001b[0m\u001b[1;33m)\u001b[0m\u001b[1;33m\u001b[0m\u001b[0m\n\u001b[0;32m   1207\u001b[0m \u001b[1;33m\u001b[0m\u001b[0m\n\u001b[1;32m-> 1208\u001b[1;33m         \u001b[0mdest\u001b[0m\u001b[1;33m.\u001b[0m\u001b[0mtick1line\u001b[0m\u001b[1;33m.\u001b[0m\u001b[0mupdate_from\u001b[0m\u001b[1;33m(\u001b[0m\u001b[0msrc\u001b[0m\u001b[1;33m.\u001b[0m\u001b[0mtick1line\u001b[0m\u001b[1;33m)\u001b[0m\u001b[1;33m\u001b[0m\u001b[0m\n\u001b[0m\u001b[0;32m   1209\u001b[0m         \u001b[0mdest\u001b[0m\u001b[1;33m.\u001b[0m\u001b[0mtick2line\u001b[0m\u001b[1;33m.\u001b[0m\u001b[0mupdate_from\u001b[0m\u001b[1;33m(\u001b[0m\u001b[0msrc\u001b[0m\u001b[1;33m.\u001b[0m\u001b[0mtick2line\u001b[0m\u001b[1;33m)\u001b[0m\u001b[1;33m\u001b[0m\u001b[0m\n\u001b[0;32m   1210\u001b[0m         \u001b[0mdest\u001b[0m\u001b[1;33m.\u001b[0m\u001b[0mgridline\u001b[0m\u001b[1;33m.\u001b[0m\u001b[0mupdate_from\u001b[0m\u001b[1;33m(\u001b[0m\u001b[0msrc\u001b[0m\u001b[1;33m.\u001b[0m\u001b[0mgridline\u001b[0m\u001b[1;33m)\u001b[0m\u001b[1;33m\u001b[0m\u001b[0m\n",
        "\u001b[1;32m/home/aaron/anaconda/lib/python2.7/site-packages/matplotlib/lines.pyc\u001b[0m in \u001b[0;36mupdate_from\u001b[1;34m(self, other)\u001b[0m\n\u001b[0;32m   1012\u001b[0m         \u001b[0mself\u001b[0m\u001b[1;33m.\u001b[0m\u001b[0m_linestyle\u001b[0m \u001b[1;33m=\u001b[0m \u001b[0mother\u001b[0m\u001b[1;33m.\u001b[0m\u001b[0m_linestyle\u001b[0m\u001b[1;33m\u001b[0m\u001b[0m\n\u001b[0;32m   1013\u001b[0m         self._marker = MarkerStyle(other._marker.get_marker(),\n\u001b[1;32m-> 1014\u001b[1;33m                                    other._marker.get_fillstyle())\n\u001b[0m\u001b[0;32m   1015\u001b[0m         \u001b[0mself\u001b[0m\u001b[1;33m.\u001b[0m\u001b[0m_drawstyle\u001b[0m \u001b[1;33m=\u001b[0m \u001b[0mother\u001b[0m\u001b[1;33m.\u001b[0m\u001b[0m_drawstyle\u001b[0m\u001b[1;33m\u001b[0m\u001b[0m\n\u001b[0;32m   1016\u001b[0m \u001b[1;33m\u001b[0m\u001b[0m\n",
        "\u001b[1;32m/home/aaron/anaconda/lib/python2.7/site-packages/matplotlib/markers.pyc\u001b[0m in \u001b[0;36m__init__\u001b[1;34m(self, marker, fillstyle)\u001b[0m\n\u001b[0;32m    160\u001b[0m         \"\"\"\n\u001b[0;32m    161\u001b[0m         \u001b[0mself\u001b[0m\u001b[1;33m.\u001b[0m\u001b[0m_fillstyle\u001b[0m \u001b[1;33m=\u001b[0m \u001b[0mfillstyle\u001b[0m\u001b[1;33m\u001b[0m\u001b[0m\n\u001b[1;32m--> 162\u001b[1;33m         \u001b[0mself\u001b[0m\u001b[1;33m.\u001b[0m\u001b[0mset_marker\u001b[0m\u001b[1;33m(\u001b[0m\u001b[0mmarker\u001b[0m\u001b[1;33m)\u001b[0m\u001b[1;33m\u001b[0m\u001b[0m\n\u001b[0m\u001b[0;32m    163\u001b[0m         \u001b[0mself\u001b[0m\u001b[1;33m.\u001b[0m\u001b[0mset_fillstyle\u001b[0m\u001b[1;33m(\u001b[0m\u001b[0mfillstyle\u001b[0m\u001b[1;33m)\u001b[0m\u001b[1;33m\u001b[0m\u001b[0m\n\u001b[0;32m    164\u001b[0m \u001b[1;33m\u001b[0m\u001b[0m\n",
        "\u001b[1;32m/home/aaron/anaconda/lib/python2.7/site-packages/matplotlib/markers.pyc\u001b[0m in \u001b[0;36mset_marker\u001b[1;34m(self, marker)\u001b[0m\n\u001b[0;32m    217\u001b[0m \u001b[1;33m\u001b[0m\u001b[0m\n\u001b[0;32m    218\u001b[0m     \u001b[1;32mdef\u001b[0m \u001b[0mset_marker\u001b[0m\u001b[1;33m(\u001b[0m\u001b[0mself\u001b[0m\u001b[1;33m,\u001b[0m \u001b[0mmarker\u001b[0m\u001b[1;33m)\u001b[0m\u001b[1;33m:\u001b[0m\u001b[1;33m\u001b[0m\u001b[0m\n\u001b[1;32m--> 219\u001b[1;33m         if (iterable(marker) and len(marker) in (2, 3) and\n\u001b[0m\u001b[0;32m    220\u001b[0m                 marker[1] in (0, 1, 2, 3)):\n\u001b[0;32m    221\u001b[0m             \u001b[0mself\u001b[0m\u001b[1;33m.\u001b[0m\u001b[0m_marker_function\u001b[0m \u001b[1;33m=\u001b[0m \u001b[0mself\u001b[0m\u001b[1;33m.\u001b[0m\u001b[0m_set_tuple_marker\u001b[0m\u001b[1;33m\u001b[0m\u001b[0m\n",
        "\u001b[1;32m/home/aaron/anaconda/lib/python2.7/site-packages/matplotlib/cbook.pyc\u001b[0m in \u001b[0;36miterable\u001b[1;34m(obj)\u001b[0m\n\u001b[0;32m    662\u001b[0m         \u001b[0miter\u001b[0m\u001b[1;33m(\u001b[0m\u001b[0mobj\u001b[0m\u001b[1;33m)\u001b[0m\u001b[1;33m\u001b[0m\u001b[0m\n\u001b[0;32m    663\u001b[0m     \u001b[1;32mexcept\u001b[0m \u001b[0mTypeError\u001b[0m\u001b[1;33m:\u001b[0m\u001b[1;33m\u001b[0m\u001b[0m\n\u001b[1;32m--> 664\u001b[1;33m         \u001b[1;32mreturn\u001b[0m \u001b[0mFalse\u001b[0m\u001b[1;33m\u001b[0m\u001b[0m\n\u001b[0m\u001b[0;32m    665\u001b[0m     \u001b[1;32mreturn\u001b[0m \u001b[0mTrue\u001b[0m\u001b[1;33m\u001b[0m\u001b[0m\n\u001b[0;32m    666\u001b[0m \u001b[1;33m\u001b[0m\u001b[0m\n",
        "\u001b[1;31mKeyboardInterrupt\u001b[0m: "
       ]
      },
      {
       "metadata": {},
       "output_type": "display_data",
       "text": [
        "<matplotlib.figure.Figure at 0xa9f75d0>"
       ]
      }
     ],
     "prompt_number": 10
    },
    {
     "cell_type": "code",
     "collapsed": false,
     "input": [
      "def exclude(df, field, set_avoid):\n",
      "    ans = [1 for i in range(len(df[field].values))]\n",
      "    df = df\n",
      "    for avoid in set_avoid:\n",
      "        df = df[df[field] != avoid]\n",
      "    return df\n",
      "all_music = ['Indie Rock', 'Classical Music', 'Country & Folk', 'Jazz', 'Rock', 'Music', 'Pop', 'Hip-Hop']\n",
      "testdf = exclude(subdf, 'category', all_music)"
     ],
     "language": "python",
     "metadata": {},
     "outputs": [],
     "prompt_number": 260
    },
    {
     "cell_type": "code",
     "collapsed": false,
     "input": [
      "cv_nbclassifier(testdf)"
     ],
     "language": "python",
     "metadata": {},
     "outputs": [
      {
       "metadata": {},
       "output_type": "display_data",
       "png": "[encoded data removed]",
       "text": [
        "<matplotlib.figure.Figure at 0x149743d0>"
       ]
      },
      {
       "metadata": {},
       "output_type": "display_data",
       "png": "[encoded data removed]",
       "text": [
        "<matplotlib.figure.Figure at 0x14d42610>"
       ]
      },
      {
       "metadata": {},
       "output_type": "pyout",
       "prompt_number": 228,
       "text": [
        "(CountVectorizer(analyzer=u'word', binary=False, charset=None,\n",
        "        charset_error=None, decode_error=u'strict',\n",
        "        dtype=<type 'numpy.int64'>, encoding=u'utf-8', input=u'content',\n",
        "        lowercase=True, max_df=1.0, max_features=None, min_df=0.013,\n",
        "        ngram_range=(1, 1), preprocessor=None, stop_words=None,\n",
        "        strip_accents=None, token_pattern=u'(?u)\\\\b\\\\w\\\\w+\\\\b',\n",
        "        tokenizer=None, vocabulary=None),\n",
        " MultinomialNB(alpha=300, class_prior=None, fit_prior=True))"
       ]
      }
     ],
     "prompt_number": 228
    },
    {
     "cell_type": "code",
     "collapsed": false,
     "input": [
      "xarray = xtest_vector.toarray()\n",
      "df = pd.DataFrame({\"score\": [log_likelihood(clf, [x], [y]) for x, y in zip(xarray, ytest_final)],\n",
      "                   \"blurb\": xtest_final,\n",
      "                   \"prob\": [clf.predict_proba([x])[0][1] for x, y in zip(xarray, ytest_final)],\n",
      "                   \"success\": ytest_final\n",
      "                   }\n",
      "                  )\n",
      "df = df.sort(columns=\"score\")\n",
      "\n",
      "print \"Worst Predictions\"\n",
      "for i in range(100):\n",
      "    row = df.irow(i)\n",
      "    print row['blurb'], \":\\t\", row['prob'], \"%,\\t\", row['score']"
     ],
     "language": "python",
     "metadata": {},
     "outputs": [
      {
       "output_type": "stream",
       "stream": "stdout",
       "text": [
        "Worst Predictions\n",
        "Roll it! Match it! Score it!\n",
        "It\u2019s fun! It\u2019s easy! It\u2019s fast! It's Roll For It! \n",
        "A dice and card game for the entire family. :\t0.0850127929413 %,\t-2.46495352863\n",
        "This video may be bigger than you and it may be bigger than me but, it\u2019s not bigger than you and me! Can you dig it? :\t0.159902590262 %,\t-1.83319046001\n",
        "The motion control unit for your iPhone, Android and Camera that is fun, simple-to-use, and fits in your pocket. :\t0.161946073246 %,\t-1.82049188036\n",
        "This is for the 24 sculpts for the Hillbillies, Grays, Blobs and Cephs that we want to launch. Brad Shier and Jay Miller are sculptors. :\t0.16360209989 %,\t-1.81031801938\n",
        "The Hunt is a Monster Hunter inspired handbook that you can slide into your back pocket. It has all the information for all your hunts! :\t0.166798355772 %,\t-1.79096964659\n",
        "Electric bicycles are a great way to get around town and save money on gas. My book shows you how easy it is to build your own eBike. :\t0.168427808519 %,\t-1.78124805709\n",
        "Flatlyn is a flat cable with an anchor that can be closed in a trunk or door. It secures your bike, rack, or any other toy to your car. :\t0.170830828507 %,\t-1.76708151914\n",
        "It's not just a card game, it's a story! A storytelling party game that will test the bounds of your imagination. :\t0.172110826057 %,\t-1.75961667212\n",
        "Volume 2 will be a collections of stories that need to be told. It is about embracing our past and looking to the future. :\t0.174005745295 %,\t-1.74866696138\n",
        "This Is My Brave is a platform for people living with \u202amental illness to speak out in an effort to raise awareness and end the stigma. :\t0.174410279382 %,\t-1.74634482783\n",
        "This is a candid and funny look at life with OCD. In it I chronicle life with OCD, my meltdowns and what I learned about life from it. :\t0.175197042958 %,\t-1.74184397871\n",
        "Layla Angulo's Next CD is in the works!  All of the songs are written, the musicians are ready - now it's time to record it! :\t0.175907471284 %,\t-1.73779715353\n",
        "A mysterious object that appears to defy gravity, this precision gyroscope is beautiful to behold and will amaze you and your friends. :\t0.180548527476 %,\t-1.71175568706\n",
        "A riveting science fiction web-series that will literally blow-your-mind.\n",
        "Warning: It's contents are said to be contagious. :\t0.185066809803 %,\t-1.68703838503\n",
        "The Thinket is an engaging stress-reliever and boredom-eliminator that's really fun to play with, and it's made in the USA! :\t0.185941676178 %,\t-1.68232222338\n",
        "Pens for the enthusiast, be it yourself or someone you know. Custom made to your specifications. You choose the size, wood and style! :\t0.186246905383 %,\t-1.68068203726\n",
        "A children's book that is fun for parents and, best of all, about bacon! Colorful, adorable and sure to give your family the giggles. :\t0.187932281371 %,\t-1.67167358651\n",
        "I am currently a Brooklyn DJ/musician and have been for most of my life. It's taken a while but I have decided to make my own record :\t0.193996787801 %,\t-1.63991367778\n",
        "Teach your kids to defend their faith with this entertaining picture book that shows them their belief in God is reasonable and true. :\t0.194034100765 %,\t-1.63972135822\n",
        "This is a sculpture exhibit I'm working on for my masters degree, although I have hopes it will go farther than that. :\t0.194274619196 %,\t-1.63848255802\n",
        "How much of our past are you willing to change, to save the future? In this tabletop RPG, you will answer this question. :\t0.195261439363 %,\t-1.63341590369\n",
        "This is a podcast covering the history of Iran and the Iranian World from the earliest times to the Fall of the Qajars :\t0.196201216411 %,\t-1.62861453202\n",
        "*** NEW GAME-PLAY VIDEO ADDED! ***\n",
        "The Undead are rising and it is up to you to stop them and save the world! :\t0.19621725096 %,\t-1.62853281034\n",
        "Based on a Bold Faced Lie is my first collection of short stories. It is my goal, my dream, to have it found in a bookstore near you! :\t0.19729368988 %,\t-1.62306184883\n",
        "cool dog is a good dog. he is best conveyed in sticker form. people love stickers. he is to be shared with all the people of the world. :\t0.197906124321 %,\t-1.61996248031\n",
        "My Own Mr. Darcy is a full-length women's fiction novel. It is finished. All that's left is acquiring inventory for a successful launch :\t0.198617874487 %,\t-1.61637252897\n",
        "The Book is not dead, and neither is poetry. But that doesn't mean books grow on trees.\n",
        "I need your help to make it a reality! :\t0.198848117277 %,\t-1.61521397543\n",
        "You know that awesome shirt you love to wear, and that sweet print on your wall you like to show off? Yeah, Zoetrope makes those. :\t0.199639533353 %,\t-1.61124187182\n",
        "Peach Twins Is The Fun And Empowering Children\u2019s Book That Builds Vocabulary, Color Recognition And The Love of Learning In Your Child :\t0.199770436228 %,\t-1.61058639054\n",
        "Come out and celebrate the destruction of the work that vexes you and\n",
        "relish in the victory that it has brought you! :\t0.199818569445 %,\t-1.61034547692\n",
        "Bring Children's book(s) to life! \"Clyde\" is hilarious and fun to read &  \"Rusty Bear and Thomas, Too\" has lessons on kindness & more! :\t0.202450486369 %,\t-1.59725993409\n",
        "This is the second volume of my art book. This book will contain over 70 new images. This will be my first hardback book. :\t0.202478143292 %,\t-1.59712333262\n",
        "Will you be the Princess, the Wizard, the Bat, or the Fool? Play your cards right, crush your friends, and have a great time! :\t0.20337806009 %,\t-1.59268866702\n",
        "The Anastasia Pickering series is meant to be a teaching tool in values and life lessons for children ages 4-9. Book 1 teaches patience :\t0.205088544222 %,\t-1.58431347006\n",
        "PadPivot is ultimate iPad or tablet stand.  It features hands-free positioning on your lap or table and folds to fit in your pocket. :\t0.206341356881 %,\t-1.57822340939\n",
        "A book filled with ways to get people off of their screens and interacting with each other. Life is a Game. Are you playing? :\t0.207494984472 %,\t-1.57264811082\n",
        "Hanging socks out to dry is a drag! With SockLock, you can hang and remove up to a dozen socks in a split second. It's fast and easy. :\t0.207695046584 %,\t-1.57168439728\n",
        "The Cartoon Introduction to Climate Change will be a fun and accessible guide to global warming science and policy. :\t0.207869288134 %,\t-1.57084581925\n",
        "A new clothing line that is dedicated to bringing you quality activewear that is uniquely structured to provide confidence and style. :\t0.209365360415 %,\t-1.56367441727\n",
        "4/3\u03c0 r3 : The volume for a sphere; The equation is simple enough, yet it has a firm grip on many facets of our life. Experience it. :\t0.210948439696 %,\t-1.556141537\n",
        "Our mission is to sail from Sydney, Australia to Berlin, Germany. The goal is to record as many local musicians as possible. :\t0.211495905643 %,\t-1.55354963934\n",
        "An agoraphobic computer game obsessed man is the last to know that the end of the world is actually nigh. :\t0.211669036732 %,\t-1.55273137166\n",
        "Chaos Hour will be a primary source of indie comics, games and movies which will appeal to geeks and gamers all over the world. :\t0.212778938427 %,\t-1.54750149997\n",
        "Chikken is a dice game with simple rules but deeper strategy that's suitable for the whole family. And it's not actually dangerous. :\t0.212848406815 %,\t-1.54717507175\n",
        "The easiest way to mount and move your GoPro from location to location is with the GoClamp. :\t0.212965844251 %,\t-1.54662348176\n",
        "A documentary and compilation album that explores what a YouTube Musician is, is there such a thing and are they the next radio stars? :\t0.214503350762 %,\t-1.53942991947\n",
        "Will the psychiatrist be able to diagnose the quirky problem the patients have, or will he end up just as crazy as them? :\t0.214535005309 %,\t-1.53928235901\n",
        "This is a 14 page graphic comic story I created with my writer, David Paul, that needs to be colored to reach it's full potential. :\t0.215008805233 %,\t-1.53707629712\n",
        "Made molds for Weeping Angel. You'll be able to buy your own costume for a decent price. Id like to share this costume with everyone. :\t0.215521042341 %,\t-1.53469672993\n",
        "Arduino compatible and Open source. This GPS data logger records everywhere it has been.  Learn and have some fun! :\t0.21596514913 %,\t-1.53263823093\n",
        "The Keykeeper is a customizable keychain that will keep your keys organized also can be used to carry mini-tool set,also bottle opener! :\t0.216533719508 %,\t-1.53000899536\n",
        "This special little trailer is all shined up and ready to begin the biggest journey of her life: from California to the South of France :\t0.216801454145 %,\t-1.52877330213\n",
        "It is our duty as deists, ietsers, atheists, agnostics, apostates,to know who we are and examine the shit that doesn't make sense. :\t0.217016066403 %,\t-1.52778388946\n",
        "The Barman is an easy-to-use drink mixing platform that uses Bluetooth 4.0 and your Smartphone to mix up any drink in seconds. :\t0.218078582642 %,\t-1.52289981031\n",
        "FrankenDie is a game of dice rolling, frantic dashing to the graveyard, body part gathering and racing to reanimate your creature. :\t0.218273871641 %,\t-1.52200471274\n",
        "A dictaphone will be sent to and from a crater in Hawaii to capture one minute of the most silent place on this natural earth. :\t0.219209015561 %,\t-1.51772959537\n",
        "Celebrate life every day like it's your birthday! \n",
        "Bold colors and playful styling to add a little birthday magic to your every  day! :\t0.220292111486 %,\t-1.51280083387\n",
        "GREATSCOTT! Tesla's latest experiment has brought the dead to life! The question now is: Do you have the braaaaiinnnss to win? :\t0.221097052756 %,\t-1.50915352112\n",
        "A series of \"How to\" miniature painting DVD's demonstrating a variety of techniques that will take your painting to the next level! :\t0.221738404443 %,\t-1.50625695028\n",
        "Flip-a-Quest is a \"chooseable path\" book/game. Flip a coin to decide your fate, battle minions, and customize your character! :\t0.222060953833 %,\t-1.50480336798\n",
        "A Podcast about everything Sci-Fi & Cosplay.  The things you want to see, the people you want to hear from. Your ideas, your universe. :\t0.223058448408 %,\t-1.50032144138\n",
        "\"It is better to have less thunder in the mouth and more lightning in the hand.\" - Apache proverb :\t0.223067478515 %,\t-1.50028095906\n",
        "This project consists of a set of storage pieces that organize the game components and reduce the setup time needed to start a game. :\t0.224399905964 %,\t-1.49432552439\n",
        "Love Story. Skye is Scottish and Oliver is English, they are both UK Ex Pats in Los Angeles. They are enemies yet the same. :\t0.226123785524 %,\t-1.4866727061\n",
        "'These are the Voyages - TOS, Season 1' is the book Gene Roddenberry and Robert H. Justman wanted you to read. :\t0.226393030288 %,\t-1.48548271808\n",
        "Shadow Song is a novel that I have started writing for National Novel Writing Month. I intend to get it published afterwards. :\t0.226952195912 %,\t-1.48301587437\n",
        "An artistic homage to Andy Warhol\u2019s soup can series with an updated twist. Help these iconic images come to life & have fun doing it! :\t0.227146608561 %,\t-1.48215961728\n",
        "The turmoil of being in the middle of an unknown zombie pandemic with your closest friends, and the life-changing events that follow. :\t0.227344139056 %,\t-1.48129037843\n",
        "Ben is a tennis player. Barnaby is his useless coach. James is their bankrupt business manager. Can they make it to Wimbledon? :\t0.227529448933 %,\t-1.48047560311\n",
        "This is the launch of our Chipotle Mango Truffle. We have produced formed chocolates in the past and have earned a loyal following. :\t0.228233583166 %,\t-1.47738568689\n",
        "This campaign is to raise $20K to fund the first barrels of Bourbon to be produced in Rochester, NY since before Prohibition. :\t0.228306524892 %,\t-1.47706614551\n",
        "With the Road Shower, you can have a hot pressurized shower on your vehicle. The water is solar heated even while driving. :\t0.228797983581 %,\t-1.47491583254\n",
        "This unique river guide is for rafters, canoeists, and kayakers who want to solo the Grand Canyon but don't know where or how to start. :\t0.228885519042 %,\t-1.47453331728\n",
        "Bedrooms of the Fallen, a photographic book that will memorialize members of the military that died in Afghanistan and Iraq. :\t0.229708515377 %,\t-1.47094409824\n",
        "Film my 600 mile run across Wisconsin and Michigan, my 30th and 31st states in my effort to cross all 50 states of the USA on foot. :\t0.229804833041 %,\t-1.47052488228\n",
        "2015 has never felt so 1985.\n",
        "JOHN BANGER is left with a dead wife and a thirst for revenge.\n",
        "\n",
        "*This film will be shot on the BMPCC* :\t0.229941890927 %,\t-1.46992865012\n",
        "The story is told through eyes of a dying woman as she remembers her life and tries to identify the moment that decided her fate. :\t0.230375682569 %,\t-1.46804390014\n",
        "This is a game that is way too scary. It will feature at least one scene where a loud noise happens and, like, totally scares you. :\t0.230416664979 %,\t-1.46786602214\n",
        "Alpha Kids is all about the stories your children will love to read, and will help them to grow into the successful leaders of tomorrow :\t0.230476907716 %,\t-1.46760460501\n",
        "Lets not let a mean ole fire take the Crazy Good out of Morristown. It's our truck. It's your truck. It's the Crazy Good truck! :\t0.230516468281 %,\t-1.46743297319\n",
        "Solindra can control the fifth element, aether, and suddenly she is the most valuable piece on a playing field that is in civil war. :\t0.23079800457 %,\t-1.46621239009\n",
        "Help make Awesome Con DC a reality in 2014. This is going to be the biggest con that the DC area has ever seen. April 19-20, 2014! :\t0.231760539881 %,\t-1.46205059604\n",
        "My project Bloom is a collage of photographed flowers displaying color, shape, and beauty.. My piece will be part of ArtPrize 2011. :\t0.231795547766 %,\t-1.46189955548\n",
        "The mini version of the beloved Pouch for your iPad Mini.  Giving you great protection for your iPad mini and your accessories. :\t0.231863221459 %,\t-1.46160764385\n",
        "The Madison Marathon is the highest road marathon in America.  \r\n",
        "\r\n",
        "Ever run a marathon on top of America?  \r\n",
        "\r\n",
        "This is your chance! :\t0.232345238608 %,\t-1.45953091599\n",
        "This is a project that will utilize centuries old techniques to create handworked rings and pendants of 24K gold and .999 fine silver. :\t0.232419059566 %,\t-1.45921324547\n",
        "Spice up your Stunty team with some custom Dodge Dice.  Rub your smugness in your opponent's face and prove your loyalty to Stunties! :\t0.232806826159 %,\t-1.45754624157\n",
        "Trying to share the tastiness that is vegan baking to the world. :\t0.23355514374 %,\t-1.45433706813\n",
        "My calling in the world is to transform lives. In this case, I seek to effect the lives of others by performing the music I've created. :\t0.233795537819 %,\t-1.45330831559\n",
        "A worthy tribute to a great game, and a trophy to the Biggest Luger.  Sponsor this project and get your Luge Team logo seen! :\t0.233904932582 %,\t-1.45284051719\n",
        "The HexFlex. The multi-tool that keeps up with you on and off the mountain. Where will yours take you? :\t0.234270820768 %,\t-1.45127747913\n",
        "The Hand That Feeds is a literary piece that goes into details many controversial and unbelievable conspiracy theories of the present. :\t0.234667735436 %,\t-1.44958465709\n",
        "The Devil is Due In Dreary is a western thriller comic book that will be published in four issues beginning the fall of 2011. :\t0.235036760151 %,\t-1.4480133509\n",
        "Wisely wield your Pi without wasting watts and without wires. Wear it, wrangle it, whistle while you do it... wirelessly with WiPi. :\t0.235051840558 %,\t-1.44794919105\n",
        "A simple, high-quality, British-made leather bag designed to be as practical and hard-wearing as it is smart and elegant. :\t0.235462469545 %,\t-1.44620374322\n",
        "The \"Too stupid to quit (Fortunately!)\" vinyl project is the obvious next step in what FitM has been up to for the last decade. :\t0.236168801673 %,\t-1.44320846831\n",
        "Anyone pursuing what they love is the Living Proof and with this performance we are the Living Proof that a life in dance is possible! :\t0.236514691354 %,\t-1.44174495309\n",
        "Officer Maggot Dick Cop F. is about to have the best day of his life but we needs $250 in order for it to captured on camera. :\t0.23654639282 %,\t-1.44161092614\n",
        "A  spiritual journey with drums and voices, we connect our hearts to the pulse of life where our music is born. This is our offering. :\t0.237284008719 %,\t-1.43849750627\n",
        "I'm self-publishing my 2nd book in the trilogy so that I have more control and give more back to the reader. - Faster TAT and freebies! :\t0.23746617105 %,\t-1.43773010334\n"
       ]
      }
     ],
     "prompt_number": 183
    },
    {
     "cell_type": "code",
     "collapsed": false,
     "input": [
      "def alt_cost(clf, x, y):\n",
      "    mean = np.mean(y)\n",
      "    predictions = clf.predict_proba(x)\n",
      "    \n",
      "    cost = log_likelihood(clf, x, y)\n",
      "    \n",
      "    return cost + sum([p[1]/mean for p, s in zip(predictions, y) if p[1] < mean]) + sum([p[0]/(1-mean) for p, s in zip(predictions, y) if p[1] > mean]) "
     ],
     "language": "python",
     "metadata": {},
     "outputs": [],
     "prompt_number": 201
    },
    {
     "cell_type": "code",
     "collapsed": false,
     "input": [
      "cv_nbclassifier(subdf, scoring=alt_cost)"
     ],
     "language": "python",
     "metadata": {},
     "outputs": [
      {
       "metadata": {},
       "output_type": "display_data",
       "png": "[encoded data removed]",
       "text": [
        "<matplotlib.figure.Figure at 0x14d54e10>"
       ]
      },
      {
       "metadata": {},
       "output_type": "display_data",
       "png": "[encoded data removed]",
       "text": [
        "<matplotlib.figure.Figure at 0x1006ab90>"
       ]
      },
      {
       "metadata": {},
       "output_type": "pyout",
       "prompt_number": 229,
       "text": [
        "(CountVectorizer(analyzer=u'word', binary=False, charset=None,\n",
        "        charset_error=None, decode_error=u'strict',\n",
        "        dtype=<type 'numpy.int64'>, encoding=u'utf-8', input=u'content',\n",
        "        lowercase=True, max_df=1.0, max_features=None, min_df=0.013,\n",
        "        ngram_range=(1, 1), preprocessor=None, stop_words=None,\n",
        "        strip_accents=None, token_pattern=u'(?u)\\\\b\\\\w\\\\w+\\\\b',\n",
        "        tokenizer=None, vocabulary=None),\n",
        " MultinomialNB(alpha=300, class_prior=None, fit_prior=True))"
       ]
      }
     ],
     "prompt_number": 229
    },
    {
     "cell_type": "code",
     "collapsed": false,
     "input": [
      "def success_ratio(row):\n",
      "    if row['pledged'] > row['goal']:\n",
      "        return 1 + math.log((row['pledged'] + 0.0) / row['goal'])\n",
      "    else:\n",
      "        return 1\n",
      "    \n",
      "subdf['weight'] = all_projects.apply(success_ratio, axis=1)\n",
      "plt.hist(subdf['weight'], range=[0,5])"
     ],
     "language": "python",
     "metadata": {},
     "outputs": [
      {
       "metadata": {},
       "output_type": "pyout",
       "prompt_number": 256,
       "text": [
        "(array([  0.00000000e+00,   0.00000000e+00,   3.18040000e+04,\n",
        "         1.71100000e+03,   6.80000000e+02,   3.69000000e+02,\n",
        "         2.01000000e+02,   1.14000000e+02,   6.50000000e+01,\n",
        "         2.70000000e+01]),\n",
        " array([ 0. ,  0.5,  1. ,  1.5,  2. ,  2.5,  3. ,  3.5,  4. ,  4.5,  5. ]),\n",
        " <a list of 10 Patch objects>)"
       ]
      },
      {
       "metadata": {},
       "output_type": "display_data",
       "png": "[encoded data removed]",
       "text": [
        "<matplotlib.figure.Figure at 0x1307db50>"
       ]
      }
     ],
     "prompt_number": 256
    },
    {
     "cell_type": "code",
     "collapsed": false,
     "input": [
      "i, e = disjoint_sets(len(subdf))\n",
      "train = subdf[i]\n",
      "test = subdf[e]\n",
      "\n",
      "x = subdf['blurb']\n",
      "y = subdf['success']\n",
      "\n",
      "xtrain = train['blurb']\n",
      "xtest_final = test['blurb']\n",
      "ytrain = train['success']\n",
      "ytest_final = test['success']\n",
      "\n",
      "xtrain_weights = train['weight']\n",
      "x_weights = subdf['weight']\n",
      "\n",
      "#the grid of parameters to search over\n",
      "alphas = [0, 10, 20, 30, 40]\n",
      "min_dfs = [.0107, .0108, .0109, .011, .0111, .0112]\n",
      "\n",
      "#Find the best value for alpha and min_df, and the best classifier\n",
      "best_alpha = None\n",
      "best_min_df = None\n",
      "max_loglike = -np.inf\n",
      "\n",
      "for alpha in alphas:\n",
      "    for min_df in min_dfs:         \n",
      "        vectorizer = CountVectorizer(min_df = min_df)\n",
      "        vectorizer.fit(x)\n",
      "        X, Y = make_xy(xtrain, ytrain, vectorizer)\n",
      "        \n",
      "        #your code here\n",
      "        clf = MultinomialNB(alpha = alpha)\n",
      "        score = cv.cross_val_score(clf, X, Y, scoring=log_likelihood, fit_params={'sample_weight': xtrain_weights})[2]\n",
      "        \n",
      "        if score > max_loglike:\n",
      "            max_loglike = score\n",
      "            best_alpha = alpha\n",
      "            best_min_df = min_df\n",
      "\n",
      "print best_alpha\n",
      "print best_min_df\n",
      "\n",
      "vectorizer = CountVectorizer(min_df = best_min_df)\n",
      "vectorizer.fit(x)\n",
      "xtest_vector = vectorizer.transform(xtest_final)\n",
      "\n",
      "clf = MultinomialNB(alpha = best_alpha)\n",
      "\n",
      "xtrain_vector = vectorizer.transform(xtrain)\n",
      "clf.fit(xtrain_vector, ytrain, sample_weight = xtrain_weights)\n",
      "\n",
      "clf.score(xtest_vector, ytest_final)\n",
      "calibration_plot(clf, xtest_vector, ytest_final)"
     ],
     "language": "python",
     "metadata": {},
     "outputs": [
      {
       "output_type": "stream",
       "stream": "stdout",
       "text": [
        "40\n",
        "0.0107\n"
       ]
      },
      {
       "metadata": {},
       "output_type": "display_data",
       "png": "[encoded data removed]",
       "text": [
        "<matplotlib.figure.Figure at 0x13caa050>"
       ]
      },
      {
       "metadata": {},
       "output_type": "display_data",
       "png": "[encoded data removed]",
       "text": [
        "<matplotlib.figure.Figure at 0x1acf6f90>"
       ]
      }
     ],
     "prompt_number": 257
    },
    {
     "cell_type": "code",
     "collapsed": false,
     "input": [
      "i, e = disjoint_sets(len(testdf))\n",
      "train = testdf[i]\n",
      "test = testdf[e]\n",
      "\n",
      "x = testdf['blurb']\n",
      "y = testdf['success']\n",
      "\n",
      "xtrain = train['blurb']\n",
      "xtest_final = test['blurb']\n",
      "ytrain = train['success']\n",
      "ytest_final = test['success']\n",
      "\n",
      "xtrain_weights = train['weight']\n",
      "x_weights = testdf['weight']\n",
      "\n",
      "#the grid of parameters to search over\n",
      "alphas = [0, 10, 20, 30, 40]\n",
      "min_dfs = [.0107, .0108, .0109, .011, .0111, .0112]\n",
      "\n",
      "#Find the best value for alpha and min_df, and the best classifier\n",
      "best_alpha = None\n",
      "best_min_df = None\n",
      "max_loglike = -np.inf\n",
      "\n",
      "for alpha in alphas:\n",
      "    for min_df in min_dfs:         \n",
      "        vectorizer = CountVectorizer(min_df = min_df)\n",
      "        vectorizer.fit(x)\n",
      "        X, Y = make_xy(xtrain, ytrain, vectorizer)\n",
      "        \n",
      "        #your code here\n",
      "        clf = MultinomialNB(alpha = alpha)\n",
      "        score = cv.cross_val_score(clf, X, Y, scoring=log_likelihood, fit_params={'sample_weight': xtrain_weights})[2]\n",
      "        \n",
      "        if score > max_loglike:\n",
      "            max_loglike = score\n",
      "            best_alpha = alpha\n",
      "            best_min_df = min_df\n",
      "\n",
      "print best_alpha\n",
      "print best_min_df\n",
      "\n",
      "vectorizer = CountVectorizer(min_df = best_min_df)\n",
      "vectorizer.fit(x)\n",
      "xtest_vector = vectorizer.transform(xtest_final)\n",
      "\n",
      "clf = MultinomialNB(alpha = best_alpha)\n",
      "\n",
      "xtrain_vector = vectorizer.transform(xtrain)\n",
      "clf.fit(xtrain_vector, ytrain, sample_weight = xtrain_weights)\n",
      "\n",
      "clf.score(xtest_vector, ytest_final)\n",
      "calibration_plot(clf, xtest_vector, ytest_final)"
     ],
     "language": "python",
     "metadata": {},
     "outputs": [
      {
       "output_type": "stream",
       "stream": "stdout",
       "text": [
        "40\n",
        "0.0107\n"
       ]
      },
      {
       "metadata": {},
       "output_type": "display_data",
       "png": "[encoded data removed]",
       "text": [
        "<matplotlib.figure.Figure at 0x1acce290>"
       ]
      },
      {
       "metadata": {},
       "output_type": "display_data",
       "png": "[encoded data removed]",
       "text": [
        "<matplotlib.figure.Figure at 0xa3e8950>"
       ]
      }
     ],
     "prompt_number": 261
    },
    {
     "cell_type": "code",
     "collapsed": false,
     "input": [
      "class Markov:\n",
      "    \n",
      "    def __init__(self, corpus, alpha = 0, min_df = 0):\n",
      "        self.counts = {}\n",
      "        self.probs = {}\n",
      "        self.alpha = alpha\n",
      "        self.min_df = min_df\n",
      "        \n",
      "        for c in corpus:\n",
      "            self.add(c)\n",
      "            \n",
      "        self.make_probs()\n",
      "            \n",
      "    def add(self, text):\n",
      "        words = text.split(\" \")\n",
      "        \n",
      "        for before, after in zip(words, words[1:] + [\"#end#\"]):\n",
      "            if not(before in self.counts):\n",
      "                self.counts[before] = {}\n",
      "                self.counts[before][after] = self.alpha\n",
      "                self.counts[before][\"#total#\"] = self.alpha\n",
      "            elif not(after in self.counts[before]):\n",
      "                self.counts[before][after] = self.alpha\n",
      "                self.counts[before][\"#total#\"] += self.alpha\n",
      "            \n",
      "            self.counts[before][after] += 1\n",
      "            self.counts[before][\"#total#\"] += 1\n",
      "            \n",
      "    def make_probs(self):\n",
      "        self.margin = 0\n",
      "        for before in self.counts.keys():\n",
      "            self.probs[before] = {}\n",
      "            for after in self.counts[before].keys():\n",
      "                self.probs[before][after] = float(self.counts[before][after]) / self.counts[before][\"#total#\"]\n",
      "                self.margin += self.counts[before][\"#total#\"]\n",
      "                \n",
      "    def log_prob(self, text):\n",
      "        words = text.split(\" \")\n",
      "        ans = 0\n",
      "        for before, after in zip(words, words[1:] + [\"#end#\"]):\n",
      "            ans += math.log(self.get_prob(before, after))\n",
      "        return ans\n",
      "    \n",
      "    def prob(self, text):\n",
      "        words = text.split(\" \")\n",
      "        ans = 1.0\n",
      "        for before, after in zip(words, words[1:] + [\"#end#\"]):\n",
      "            ans *= self.get_prob(before, after)\n",
      "        return ans\n",
      "    \n",
      "    def get_prob(self, before, after):\n",
      "        if before not in self.probs:\n",
      "            return float(self.alpha) * self.alpha / ((self.margin + self.alpha)*len(self.counts.keys())*self.alpha)\n",
      "        if after not in self.probs[before]:\n",
      "            return float(self.alpha) / self.counts[before][\"#total#\"]\n",
      "        return self.probs[before][after]\n",
      "    \n",
      "    \n",
      "class MarkovClassifier:\n",
      "    def __init__(self, alpha):\n",
      "        self.alpha = alpha\n",
      "        \n",
      "    def train(self, X, Y):\n",
      "        success = []\n",
      "        failure = []\n",
      "        for x, y in zip(X, Y):\n",
      "            if y == 1:\n",
      "                success.append(x)\n",
      "            else:\n",
      "                failure.append(x)\n",
      "                \n",
      "        self.sm = Markov(success, alpha=self.alpha)\n",
      "        self.fm = Markov(failure, alpha=self.alpha)\n",
      "        \n",
      "    def predict_log_proba(self, text):\n",
      "        return self.sm.log_prob(text) - math.log(self.sm.prob(text) + self.fm.prob(text))\n",
      "    \n",
      "    def prob(self, text):\n",
      "        return self.sm.prob(text) / (self.sm.prob(text) + self.fm.prob(text))\n",
      "    \n",
      "    def predict_proba(self, X):\n",
      "        return [[0, self.prob(x)] for x in X]\n",
      "    "
     ],
     "language": "python",
     "metadata": {},
     "outputs": [],
     "prompt_number": 51
    },
    {
     "cell_type": "code",
     "collapsed": false,
     "input": [
      "i, e = disjoint_sets(len(testdf))\n",
      "train = subdf[i]\n",
      "test = subdf[e]\n",
      "\n",
      "x = subdf['blurb']\n",
      "y = subdf['success']\n",
      "\n",
      "xtrain = train['blurb']\n",
      "xtest_final = test['blurb']\n",
      "ytrain = train['success']\n",
      "ytest_final = test['success']"
     ],
     "language": "python",
     "metadata": {},
     "outputs": []
    },
    {
     "cell_type": "code",
     "collapsed": false,
     "input": [
      "mclf = MarkovClassifier(100)\n",
      "\n",
      "mclf.train(xtrain, ytrain)\n",
      "\n",
      "calibration_plot(mclf, xtest, ytest)"
     ],
     "language": "python",
     "metadata": {},
     "outputs": [
      {
       "metadata": {},
       "output_type": "display_data",
       "png": "[encoded data removed]",
       "text": [
        "<matplotlib.figure.Figure at 0x6723a50>"
       ]
      }
     ],
     "prompt_number": 53
    },
    {
     "cell_type": "code",
     "collapsed": false,
     "input": [
      "print all_projects"
     ],
     "language": "python",
     "metadata": {},
     "outputs": [
      {
       "output_type": "stream",
       "stream": "stdout",
       "text": [
        "<class 'pandas.core.frame.DataFrame'>\n",
        "Int64Index: 120099 entries, 0 to 120098\n",
        "Data columns (total 23 columns):\n",
        "Unnamed: 0           120099  non-null values\n",
        "Unnamed: 0.1         120099  non-null values\n",
        "backers_count        120099  non-null values\n",
        "blurb                120098  non-null values\n",
        "category             120099  non-null values\n",
        "country              120099  non-null values\n",
        "creator_id           120099  non-null values\n",
        "creator_name         120099  non-null values\n",
        "creator_slug         40450  non-null values\n",
        "creator_url          120099  non-null values\n",
        "currency             120099  non-null values\n",
        "deadline             120099  non-null values\n",
        "goal                 120099  non-null values\n",
        "last_state_change    120099  non-null values\n",
        "launched_at          120099  non-null values\n",
        "location_id          118361  non-null values\n",
        "location_name        118361  non-null values\n",
        "pledged              120099  non-null values\n",
        "project_id           120099  non-null values\n",
        "project_name         120098  non-null values\n",
        "project_slug         120099  non-null values\n",
        "project_url          120099  non-null values\n",
        "state                120099  non-null values\n",
        "dtypes: float64(3), int64(5), object(15)\n"
       ]
      },
      {
       "output_type": "stream",
       "stream": "stderr",
       "text": [
        "/home/aaron/anaconda/lib/python2.7/site-packages/pandas/core/config.py:570: DeprecationWarning: height has been deprecated.\n",
        "\n",
        "  warnings.warn(d.msg, DeprecationWarning)\n"
       ]
      }
     ],
     "prompt_number": 184
    },
    {
     "cell_type": "heading",
     "level": 1,
     "metadata": {},
     "source": [
      "Section 2 - Exploratory Analysis\n",
      "\n"
     ]
    },
    {
     "cell_type": "heading",
     "level": 2,
     "metadata": {},
     "source": [
      "2.1 - Effect of project length, and start and end dates\n",
      "\n",
      "\n"
     ]
    },
    {
     "cell_type": "markdown",
     "metadata": {},
     "source": [
      "Came across some suggestive plots here: http://www.kickstarter.com/blog/shortening-the-maximum-project-length"
     ]
    },
    {
     "cell_type": "code",
     "collapsed": false,
     "input": [
      "all_projects = pd.read_csv('all_project_data_time.csv')"
     ],
     "language": "python",
     "metadata": {},
     "outputs": [],
     "prompt_number": 124
    },
    {
     "cell_type": "code",
     "collapsed": false,
     "input": [
      "#function to plot how the projects break down by start or end date:\n",
      "def distr_of_dates(df, time_field):\n",
      "    data = []\n",
      "    for time in df[time_field]:\n",
      "        time = dateutil.parser.parse(time)\n",
      "        data.append( time.year + time.month / 12. + time.day / 365. )\n",
      "    plt.hist(data, bins = 20)\n",
      "    remove_border()\n",
      "    plt.show()\n",
      "    \n",
      "#functions to plot how the projects break down by launch date to deadline:\n",
      "def distr_of_length(df):\n",
      "    data = []\n",
      "    for i, time in enumerate(df['launched_at']):\n",
      "        time_change = dateutil.parser.parse(df['deadline'][i]) - dateutil.parser.parse(time)\n",
      "        data.append( time_change.days )\n",
      "    plt.hist(data, bins = 20)\n",
      "    remove_border()\n",
      "    plt.show()\n",
      "    \n",
      "#function to plot project success by launch date:\n",
      "def success_by_dates(df, time_field):\n",
      "    \n",
      "    day_dict = {}\n",
      "    \n",
      "    for i, time in enumerate(df[time_field]):\n",
      "        \n",
      "        time = dateutil.parser.parse(time)\n",
      "        date = time.year + time.month / 12. + time.day / 365.\n",
      "        if date not in day_dict.keys():\n",
      "            day_dict[date] = {'total': 0., 'successful': 0.}\n",
      "        \n",
      "        if df['state'][i] == 'successful':\n",
      "            day_dict[date]['successful'] += 1.\n",
      "        day_dict[date]['total'] += 1.\n",
      "            \n",
      "    dates = day_dict.keys()\n",
      "    data = [ day_dict[date]['successful'] / ( day_dict[date]['total'] ) for date in dates ]\n",
      "    plt.plot(dates, data, ',')\n",
      "    remove_border()\n",
      "    plt.show()\n",
      "    \n",
      "#functions to plot how the projects break down by launch date to deadline:\n",
      "def success_by_length(df):\n",
      "   \n",
      "    length_dict = {}\n",
      "    \n",
      "    for i, time in enumerate(df['launched_at']):\n",
      "        \n",
      "        time_change = (dateutil.parser.parse(df['deadline'][i]) - dateutil.parser.parse(time)).days\n",
      "        if time_change not in length_dict.keys():\n",
      "            length_dict[time_change] = {'total': 0., 'successful': 0.}\n",
      "        \n",
      "        if df['state'][i] == 'successful':\n",
      "            length_dict[time_change]['successful'] += 1.\n",
      "        length_dict[time_change]['total'] += 1.\n",
      "            \n",
      "    lengths = length_dict.keys()\n",
      "    data = [ length_dict[length]['successful'] / ( length_dict[length]['total'] ) for length in lengths ]\n",
      "    plt.plot(lengths, data, ',')\n",
      "    remove_border()\n",
      "    plt.show()\n",
      "    \n",
      "    "
     ],
     "language": "python",
     "metadata": {},
     "outputs": [],
     "prompt_number": 125
    },
    {
     "cell_type": "code",
     "collapsed": false,
     "input": [
      "print \"Success by Project Launch Date\"\n",
      "success_by_dates(all_projects, 'launched_at')\n",
      "\n",
      "print \"Distribution of Project Launch Dates\"\n",
      "distr_of_dates(all_projects, 'launched_at')\n",
      "\n",
      "print\n",
      "print \"Success by Project Length\"\n",
      "success_by_length(all_projects)\n",
      "\n",
      "print \"Distribution of Project Lengths\"\n",
      "distr_of_length(all_projects)"
     ],
     "language": "python",
     "metadata": {},
     "outputs": [
      {
       "output_type": "stream",
       "stream": "stdout",
       "text": [
        "Success by Project Launch Date\n"
       ]
      },
      {
       "metadata": {},
       "output_type": "display_data",
       "png": "[encoded data removed]",
       "text": [
        "<matplotlib.figure.Figure at 0xa93b5d0>"
       ]
      },
      {
       "output_type": "stream",
       "stream": "stdout",
       "text": [
        "Distribution of Project Launch Dates\n"
       ]
      },
      {
       "metadata": {},
       "output_type": "display_data",
       "png": "[encoded data removed]",
       "text": [
        "<matplotlib.figure.Figure at 0xb7a2790>"
       ]
      },
      {
       "output_type": "stream",
       "stream": "stdout",
       "text": [
        "\n",
        "Success by Project Length\n"
       ]
      },
      {
       "metadata": {},
       "output_type": "display_data",
       "png": "[encoded data removed]",
       "text": [
        "<matplotlib.figure.Figure at 0x747e790>"
       ]
      },
      {
       "output_type": "stream",
       "stream": "stdout",
       "text": [
        "Distribution of Project Lengths\n"
       ]
      },
      {
       "metadata": {},
       "output_type": "display_data",
       "png": "[encoded data removed]",
       "text": [
        "<matplotlib.figure.Figure at 0x62098d0>"
       ]
      }
     ],
     "prompt_number": 37
    },
    {
     "cell_type": "markdown",
     "metadata": {},
     "source": [
      "Conclusions:\n",
      "\n",
      "(1) Funding likelihood has been close to constant over time, hovering around 45%.\n",
      "\n",
      "(2) Shorter projects have succeeded significantly more than have longer projects. This is something we'll want to build into the model."
     ]
    },
    {
     "cell_type": "heading",
     "level": 2,
     "metadata": {},
     "source": [
      "2.2 - How much does the \"goal\" price matter?"
     ]
    },
    {
     "cell_type": "code",
     "collapsed": false,
     "input": [
      "all_projects = pd.read_csv('all_project_data_time.csv')"
     ],
     "language": "python",
     "metadata": {},
     "outputs": [],
     "prompt_number": 38
    },
    {
     "cell_type": "code",
     "collapsed": false,
     "input": [
      "# function to plot distribution of goals:\n",
      "def distr_of_lengths(df, field):\n",
      "    data = [len(str(text)) for text in df[field]]\n",
      "    \n",
      "    plt.hist(data, bins=20)\n",
      "    plt.title('Distribution of ' + field + ' length')\n",
      "    plt.xlabel('character count')\n",
      "    remove_border()\n",
      "    plt.show()\n",
      "    \n",
      "# function to plot distribution of goals:\n",
      "def distr_of_caps(df, field):\n",
      "    data = [np.mean([x.isupper() for x in str(text)]) for text in df[field]]\n",
      "    \n",
      "    plt.hist(data, bins=20)\n",
      "    plt.title('Distribution of percent capital letters in' + field )\n",
      "    plt.xlabel('percent caps')\n",
      "    plt.semilogy()\n",
      "    remove_border()\n",
      "    plt.show()\n",
      "\n",
      "# function to plot success vs percent caps of a text field\n",
      "def success_by_caps(input_df, field):\n",
      "    \n",
      "    df = input_df[input_df['state'] != 'live'].reset_index()\n",
      "    caps_dict = {}\n",
      "    \n",
      "    for i, text in enumerate(df[field]):\n",
      "        caps = round(np.mean([x.isupper() for x in str(text)]),2)\n",
      "        \n",
      "        if caps not in caps_dict.keys():\n",
      "            caps_dict[caps] = {'successful': 0., 'total': 0.}\n",
      "                                 \n",
      "        if df['state'][i] == 'successful':\n",
      "            caps_dict[caps]['successful'] += 1.\n",
      "        caps_dict[caps]['total'] += 1.\n",
      "        \n",
      "    options = caps_dict.keys()\n",
      "    data = [caps_dict[caps]['successful'] / caps_dict[caps]['total'] for caps in options]\n",
      "                \n",
      "    plt.plot(options, data, 'ro')\n",
      "    plt.xlabel('fraction capitalized in' + field)\n",
      "    plt.ylabel('fraction successful')\n",
      "    plt.title('Success by fraction capitalized in ' + field)\n",
      "    remove_border()\n",
      "    plt.show()\n",
      "    \n",
      "    \n",
      "# function to plot success vs length of a field\n",
      "def success_by_length(input_df, field):\n",
      "    \n",
      "    df = input_df[input_df['state'] != 'live'].reset_index()\n",
      "    length_dict = {}\n",
      "    \n",
      "    for i, text in enumerate(df[field]):\n",
      "        length = len(str(text))\n",
      "        length = length - ( length % 5 )\n",
      "        \n",
      "        if length not in length_dict.keys():\n",
      "            length_dict[length] = {'successful': 0., 'total': 0.}\n",
      "                                 \n",
      "        if df['state'][i] == 'successful':\n",
      "            length_dict[length]['successful'] += 1.\n",
      "        length_dict[length]['total'] += 1.\n",
      "        \n",
      "    lengths = length_dict.keys()\n",
      "    data = [length_dict[length]['successful'] / length_dict[length]['total'] for length in lengths]\n",
      "                \n",
      "    plt.plot(lengths, data, 'ro')\n",
      "    plt.xlabel('length of ' + field)\n",
      "    plt.ylabel('fraction successful')\n",
      "    plt.title('Sucess by length of ' + field)\n",
      "    remove_border()\n",
      "    plt.show()"
     ],
     "language": "python",
     "metadata": {},
     "outputs": [],
     "prompt_number": 2
    },
    {
     "cell_type": "code",
     "collapsed": false,
     "input": [
      "success_by_caps(all_projects, 'project_name')\n",
      "distr_of_caps(all_projects, 'project_name')"
     ],
     "language": "python",
     "metadata": {},
     "outputs": [
      {
       "metadata": {},
       "output_type": "display_data",
       "png": "[encoded data removed]",
       "text": [
        "<matplotlib.figure.Figure at 0xb7b15d0>"
       ]
      },
      {
       "metadata": {},
       "output_type": "display_data",
       "png": "[encoded data removed]",
       "text": [
        "<matplotlib.figure.Figure at 0x15b07210>"
       ]
      }
     ],
     "prompt_number": 40
    },
    {
     "cell_type": "markdown",
     "metadata": {},
     "source": [
      "This is probably not worth pursuing, since most of the names fall in almost the exact same region in terms of percent caps, so whatever effect we would find would only apply to a very few projects."
     ]
    },
    {
     "cell_type": "code",
     "collapsed": false,
     "input": [
      "success_by_length(all_projects, 'project_name')\n",
      "distr_of_lengths(all_projects, 'project_name')\n",
      "\n",
      "success_by_length(all_projects, 'blurb')\n",
      "distr_of_lengths(all_projects, 'blurb')"
     ],
     "language": "python",
     "metadata": {},
     "outputs": [
      {
       "metadata": {},
       "output_type": "display_data",
       "png": "[encoded data removed]",
       "text": [
        "<matplotlib.figure.Figure at 0x753bdd0>"
       ]
      },
      {
       "metadata": {},
       "output_type": "display_data",
       "png": "[encoded data removed]",
       "text": [
        "<matplotlib.figure.Figure at 0x15b23850>"
       ]
      },
      {
       "metadata": {},
       "output_type": "display_data",
       "png": "[encoded data removed]",
       "text": [
        "<matplotlib.figure.Figure at 0x15afe510>"
       ]
      },
      {
       "metadata": {},
       "output_type": "display_data",
       "png": "[encoded data removed]",
       "text": [
        "<matplotlib.figure.Figure at 0x15b0add0>"
       ]
      }
     ],
     "prompt_number": 41
    },
    {
     "cell_type": "markdown",
     "metadata": {},
     "source": [
      "Of course, we can ignore the mess that happens at the really big lengths, since there are very few data points for these.\n",
      "\n",
      "We see a weak but present trend with project name length. Probably worth looking into.\n",
      "\n",
      "There might be a significant trend in the blurb lengths. It looks like there is some sort of parabolic shape for blurb lenths < 150 chars. However there aren't very many projects under ~75 words, so we probably won't be able to use the whole curve we seem to be seeing. Still it looks like we might be able to deduce a significant effect of having a ~100 word blurb over a ~150 word blurb."
     ]
    },
    {
     "cell_type": "code",
     "collapsed": false,
     "input": [],
     "language": "python",
     "metadata": {},
     "outputs": []
    }
   ],
   "metadata": {}
  }
 ]
}