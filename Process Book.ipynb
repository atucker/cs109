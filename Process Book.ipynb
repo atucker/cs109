{
 "metadata": {
  "name": ""
 },
 "nbformat": 3,
 "nbformat_minor": 0,
 "worksheets": [
  {
   "cells": [
    {
     "cell_type": "code",
     "collapsed": false,
     "input": [
      "a = \"asdlkfjalskjfdalksjfd\"\n",
      "print a[2:]"
     ],
     "language": "python",
     "metadata": {},
     "outputs": [
      {
       "output_type": "stream",
       "stream": "stdout",
       "text": [
        "dlkfjalskjfdalksjfd\n"
       ]
      }
     ],
     "prompt_number": 9
    },
    {
     "cell_type": "code",
     "collapsed": false,
     "input": [
      "import requests\n",
      "import re\n",
      "import time\n",
      "\n",
      "def cat_string(categories):\n",
      "    s = \"\"\n",
      "    for c in categories:\n",
      "        s += \"&Categories=\" + str(c)\n",
      "    return s\n",
      "\n",
      "def make_url(year, month, day, categories):\n",
      "    year = str(year)\n",
      "    month = str(month)\n",
      "    day = str(day)\n",
      "    \n",
      "    return \"http://www.kickspy.com/projects/find?Keywords=&Settings.ExpandStatus=true&AnyStatus=true&Settings.ExpandCategories=true\" + cat_string(categories) + \"&Settings.ExpandDates=trueStartedAfter=\" + year + \"%2F\" + month + \"%2F\" + day + \"&StartedBefore=\" + year + \"%2F\" + month + \"%2F\" + day + \"&SortBy=0\"\n",
      "\n",
      "def get_titles(year, month, day):\n",
      "    #url = \"http://www.kickspy.com/projects/find?Keywords=&Settings.ExpandStatus=true&AnyStatus=true&AllCategories=true&Settings.ExpandDates=true&StartedAfter=\" + year + \"%2F\" + month + \"%2F\" + day + \"&StartedBefore=\" + year + \"%2F\" + month + \"%2F\" + day + \"&SortBy=0\"\n",
      "    \n",
      "    titles = set()\n",
      "    \n",
      "    text = requests.get(make_url(year, month, day, [j + 1 for j in range(13)])).text[60928:]\n",
      "    for line in text.split('\\n'):\n",
      "        if \"<h3>\" in line:\n",
      "            l = re.findall(r'\">(.*)<\\/a><\\/h3>', text)\n",
      "            titles.update([unicodedata.normalize('NFKD', j.strip()).encode('ascii','ignore') for j in l])\n",
      "        \n",
      "    text = requests.get(make_url(year, month, day, [j + 14 for j in range(17)])).text[60928:]\n",
      "    for line in text.split('\\n'):\n",
      "        if \"<h3>\" in line:\n",
      "            l = re.findall(r'\">(.*)<\\/a><\\/h3>', text)\n",
      "            titles.update([unicodedata.normalize('NFKD', j.strip()).encode('ascii','ignore') for j in l])\n",
      "\n",
      "    text = requests.get(make_url(year, month, day, [j + 31 for j in range(20)])).text[60928:]\n",
      "    for line in text.split('\\n'):\n",
      "        if \"<h3>\" in line:\n",
      "            l = re.findall(r'\">(.*)<\\/a><\\/h3>', text)\n",
      "            titles.update([unicodedata.normalize('NFKD', j.strip()).encode('ascii','ignore') for j in l])\n",
      "    \n",
      "    time.sleep(2)\n",
      "        \n",
      "    return titles\n",
      "\n",
      "def all_titles():\n",
      "    years = [2009]\n",
      "    months = [1 + i for i in range(12)]\n",
      "    \n",
      "    all_titles = []\n",
      "    \n",
      "    for y in years:\n",
      "        for m in months:\n",
      "            print m\n",
      "            days = []\n",
      "            if m in [1, 3, 5, 7, 8, 10, 12]:\n",
      "                days = [1 + i for i in range(31)]\n",
      "            elif m in [4,6,9,11]:\n",
      "                days = [1 + i for i in range(30)]\n",
      "            else:\n",
      "                days = [1+i for i in range(28)]\n",
      "            for d in days:\n",
      "                all_titles.extend(get_titles(y, m, d))\n",
      "    \n",
      "    return all_titles"
     ],
     "language": "python",
     "metadata": {},
     "outputs": [],
     "prompt_number": 75
    },
    {
     "cell_type": "code",
     "collapsed": false,
     "input": [
      "titles_2009 = all_titles()"
     ],
     "language": "python",
     "metadata": {},
     "outputs": [
      {
       "output_type": "stream",
       "stream": "stdout",
       "text": [
        "1\n",
        "2"
       ]
      },
      {
       "output_type": "stream",
       "stream": "stdout",
       "text": [
        "\n",
        "3"
       ]
      },
      {
       "output_type": "stream",
       "stream": "stdout",
       "text": [
        "\n",
        "4"
       ]
      },
      {
       "output_type": "stream",
       "stream": "stdout",
       "text": [
        "\n",
        "5"
       ]
      },
      {
       "output_type": "stream",
       "stream": "stdout",
       "text": [
        "\n",
        "6"
       ]
      },
      {
       "output_type": "stream",
       "stream": "stdout",
       "text": [
        "\n",
        "7"
       ]
      },
      {
       "output_type": "stream",
       "stream": "stdout",
       "text": [
        "\n",
        "8"
       ]
      },
      {
       "output_type": "stream",
       "stream": "stdout",
       "text": [
        "\n",
        "9"
       ]
      },
      {
       "output_type": "stream",
       "stream": "stdout",
       "text": [
        "\n",
        "10"
       ]
      },
      {
       "output_type": "stream",
       "stream": "stdout",
       "text": [
        "\n",
        "11"
       ]
      },
      {
       "output_type": "stream",
       "stream": "stdout",
       "text": [
        "\n",
        "12"
       ]
      },
      {
       "output_type": "stream",
       "stream": "stdout",
       "text": [
        "\n"
       ]
      }
     ],
     "prompt_number": 76
    },
    {
     "cell_type": "code",
     "collapsed": false,
     "input": [
      "len(titles_2009)"
     ],
     "language": "python",
     "metadata": {},
     "outputs": [
      {
       "metadata": {},
       "output_type": "pyout",
       "prompt_number": 78,
       "text": [
        "67224"
       ]
      }
     ],
     "prompt_number": 78
    },
    {
     "cell_type": "code",
     "collapsed": false,
     "input": [
      "import unicodedata\n",
      "\n",
      "f = open(\"2009_titles\", \"w\")\n",
      "for t in titles_2009:\n",
      "    f.write(unicodedata.normalize('NFKD', t).encode('ascii','ignore'))\n",
      "    f.write(\"\\n\")\n",
      "f.close()"
     ],
     "language": "python",
     "metadata": {},
     "outputs": [],
     "prompt_number": 38
    },
    {
     "cell_type": "code",
     "collapsed": false,
     "input": [
      "test2 = set(get_titles(2013,11,12))\n",
      "len(test2)"
     ],
     "language": "python",
     "metadata": {},
     "outputs": [
      {
       "metadata": {},
       "output_type": "pyout",
       "prompt_number": 81,
       "text": [
        "368"
       ]
      }
     ],
     "prompt_number": 81
    },
    {
     "cell_type": "code",
     "collapsed": false,
     "input": [
      "test = list(test)\n",
      "test = set(test)\n",
      "len(test)"
     ],
     "language": "python",
     "metadata": {},
     "outputs": [
      {
       "metadata": {},
       "output_type": "pyout",
       "prompt_number": 43,
       "text": [
        "368"
       ]
      }
     ],
     "prompt_number": 43
    },
    {
     "cell_type": "code",
     "collapsed": false,
     "input": [
      "url = \"http://www.kickspy.com/projects/find?Keywords=&Settings.ExpandStatus=true&AnyStatus=true&AllCategories=true&Settings.ExpandDates=true&StartedAfter=2013%2F11%2F12&StartedBefore=2013%2F11%2F12&SortBy=0\"\n",
      "text = requests.get(url).text[60928:]\n",
      "titles = set()\n",
      "for line in text.split('\\n'):\n",
      "    if \"<h3>\" in line:\n",
      "        l = re.findall(r'\">(.*)<\\/a><\\/h3>', text)\n",
      "        titles.update([\" \".join(j.strip().split()) for j in l])\n",
      "len(titles)"
     ],
     "language": "python",
     "metadata": {},
     "outputs": [
      {
       "metadata": {},
       "output_type": "pyout",
       "prompt_number": 74,
       "text": [
        "127"
       ]
      }
     ],
     "prompt_number": 74
    },
    {
     "cell_type": "code",
     "collapsed": false,
     "input": [],
     "language": "python",
     "metadata": {},
     "outputs": []
    }
   ],
   "metadata": {}
  }
 ]
}