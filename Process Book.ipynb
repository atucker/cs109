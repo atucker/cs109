{
 "metadata": {
  "name": ""
 },
 "nbformat": 3,
 "nbformat_minor": 0,
 "worksheets": [
  {
   "cells": [
    {
     "cell_type": "code",
     "collapsed": false,
     "input": [
      "import requests\n",
      "import json\n",
      "import re\n",
      "import time\n",
      "import unicodedata\n",
      "import pandas as pd\n",
      "import HTMLParser\n",
      "import urllib\n",
      "\n",
      "\n",
      "html_parser = HTMLParser.HTMLParser()"
     ],
     "language": "python",
     "metadata": {},
     "outputs": [],
     "prompt_number": 1
    },
    {
     "cell_type": "code",
     "collapsed": false,
     "input": [
      "def cat_string(categories):\n",
      "    s = \"\"\n",
      "    for c in categories:\n",
      "        s += \"&Categories=\" + str(c)\n",
      "    return s\n",
      "\n",
      "def make_url(year, month, day, categories):\n",
      "    year = str(year)\n",
      "    month = str(month)\n",
      "    day = str(day)\n",
      "    \n",
      "    return \"http://www.kickspy.com/projects/find?Keywords=&Settings.ExpandStatus=true&AnyStatus=true&Settings.ExpandCategories=true\" + cat_string(categories) + \"&Settings.ExpandDates=true&StartedAfter=\" + year + \"%2F\" + month + \"%2F\" + day + \"&StartedBefore=\" + year + \"%2F\" + month + \"%2F\" + day + \"&SortBy=0\"\n",
      "\n",
      "def get_titles(year, month, day):\n",
      "    #url = \"http://www.kickspy.com/projects/find?Keywords=&Settings.ExpandStatus=true&AnyStatus=true&AllCategories=true&Settings.ExpandDates=true&StartedAfter=\" + year + \"%2F\" + month + \"%2F\" + day + \"&StartedBefore=\" + year + \"%2F\" + month + \"%2F\" + day + \"&SortBy=0\"\n",
      "    \n",
      "    titles = set()\n",
      "    \n",
      "    text = requests.get(make_url(year, month, day, [j for j in range(14)])).text[60928:]\n",
      "    for line in text.split('\\n'):\n",
      "        if \"<h3>\" in line:\n",
      "            l = re.findall(r'\">(.*)<\\/a><\\/h3>', text)\n",
      "            titles.update([unicodedata.normalize('NFKD', j.strip()).encode('ascii','ignore') for j in l])\n",
      "        \n",
      "    text = requests.get(make_url(year, month, day, [j + 14 for j in range(17)])).text[60928:]\n",
      "    for line in text.split('\\n'):\n",
      "        if \"<h3>\" in line:\n",
      "            l = re.findall(r'\">(.*)<\\/a><\\/h3>', text)\n",
      "            titles.update([unicodedata.normalize('NFKD', j.strip()).encode('ascii','ignore') for j in l])\n",
      "\n",
      "    text = requests.get(make_url(year, month, day, [j + 31 for j in range(31)])).text[60928:]\n",
      "    for line in text.split('\\n'):\n",
      "        if \"<h3>\" in line:\n",
      "            l = re.findall(r'\">(.*)<\\/a><\\/h3>', text)\n",
      "            titles.update([unicodedata.normalize('NFKD', j.strip()).encode('ascii','ignore') for j in l])\n",
      "            \n",
      "    time.sleep(2)\n",
      "        \n",
      "    return titles\n",
      "\n",
      "def all_titles():\n",
      "    years = [2009, 2010, 2011, 2012, 2013]\n",
      "    months = [i + 1 for i in range(12)]\n",
      "    \n",
      "    all_titles = []\n",
      "    \n",
      "    for y in years:\n",
      "        for m in months:\n",
      "            print m\n",
      "            days = []\n",
      "            if m in [1, 3, 5, 7, 8, 10, 12]:\n",
      "                days = [1 + i for i in range(31)]\n",
      "            elif m in [4,6,9,11]:\n",
      "                days = [1 + i for i in range(30)]\n",
      "            else:\n",
      "                days = [1+i for i in range(28)]\n",
      "            for d in days:\n",
      "                all_titles.extend(get_titles(y, m, d))\n",
      "    \n",
      "    return all_titles"
     ],
     "language": "python",
     "metadata": {},
     "outputs": [],
     "prompt_number": 2
    },
    {
     "cell_type": "code",
     "collapsed": false,
     "input": [
      "#titles_all = all_titles()\n",
      "#titles_all.reverse()\n",
      "#print titles_all[0:100]"
     ],
     "language": "python",
     "metadata": {},
     "outputs": [
      {
       "ename": "KeyboardInterrupt",
       "evalue": "",
       "output_type": "pyerr",
       "traceback": [
        "\u001b[0;31m---------------------------------------------------------------------------\u001b[0m\n\u001b[0;31mKeyboardInterrupt\u001b[0m                         Traceback (most recent call last)",
        "\u001b[0;32m<ipython-input-20-3530c9b0c553>\u001b[0m in \u001b[0;36m<module>\u001b[0;34m()\u001b[0m\n\u001b[0;32m----> 1\u001b[0;31m \u001b[0mtitles_all\u001b[0m \u001b[0;34m=\u001b[0m \u001b[0mall_titles\u001b[0m\u001b[0;34m(\u001b[0m\u001b[0;34m)\u001b[0m\u001b[0;34m\u001b[0m\u001b[0m\n\u001b[0m",
        "\u001b[0;32m<ipython-input-19-e457483d708d>\u001b[0m in \u001b[0;36mall_titles\u001b[0;34m()\u001b[0m\n\u001b[1;32m     56\u001b[0m                 \u001b[0mdays\u001b[0m \u001b[0;34m=\u001b[0m \u001b[0;34m[\u001b[0m\u001b[0;36m1\u001b[0m\u001b[0;34m+\u001b[0m\u001b[0mi\u001b[0m \u001b[0;32mfor\u001b[0m \u001b[0mi\u001b[0m \u001b[0;32min\u001b[0m \u001b[0mrange\u001b[0m\u001b[0;34m(\u001b[0m\u001b[0;36m28\u001b[0m\u001b[0;34m)\u001b[0m\u001b[0;34m]\u001b[0m\u001b[0;34m\u001b[0m\u001b[0m\n\u001b[1;32m     57\u001b[0m             \u001b[0;32mfor\u001b[0m \u001b[0md\u001b[0m \u001b[0;32min\u001b[0m \u001b[0mdays\u001b[0m\u001b[0;34m:\u001b[0m\u001b[0;34m\u001b[0m\u001b[0m\n\u001b[0;32m---> 58\u001b[0;31m                 \u001b[0mall_titles\u001b[0m\u001b[0;34m.\u001b[0m\u001b[0mextend\u001b[0m\u001b[0;34m(\u001b[0m\u001b[0mget_titles\u001b[0m\u001b[0;34m(\u001b[0m\u001b[0my\u001b[0m\u001b[0;34m,\u001b[0m \u001b[0mm\u001b[0m\u001b[0;34m,\u001b[0m \u001b[0md\u001b[0m\u001b[0;34m)\u001b[0m\u001b[0;34m)\u001b[0m\u001b[0;34m\u001b[0m\u001b[0m\n\u001b[0m\u001b[1;32m     59\u001b[0m \u001b[0;34m\u001b[0m\u001b[0m\n\u001b[1;32m     60\u001b[0m     \u001b[0;32mreturn\u001b[0m \u001b[0mall_titles\u001b[0m\u001b[0;34m\u001b[0m\u001b[0m\n",
        "\u001b[0;32m<ipython-input-19-e457483d708d>\u001b[0m in \u001b[0;36mget_titles\u001b[0;34m(year, month, day)\u001b[0m\n\u001b[1;32m     35\u001b[0m             \u001b[0mtitles\u001b[0m\u001b[0;34m.\u001b[0m\u001b[0mupdate\u001b[0m\u001b[0;34m(\u001b[0m\u001b[0;34m[\u001b[0m\u001b[0municodedata\u001b[0m\u001b[0;34m.\u001b[0m\u001b[0mnormalize\u001b[0m\u001b[0;34m(\u001b[0m\u001b[0;34m'NFKD'\u001b[0m\u001b[0;34m,\u001b[0m \u001b[0mj\u001b[0m\u001b[0;34m.\u001b[0m\u001b[0mstrip\u001b[0m\u001b[0;34m(\u001b[0m\u001b[0;34m)\u001b[0m\u001b[0;34m)\u001b[0m\u001b[0;34m.\u001b[0m\u001b[0mencode\u001b[0m\u001b[0;34m(\u001b[0m\u001b[0;34m'ascii'\u001b[0m\u001b[0;34m,\u001b[0m\u001b[0;34m'ignore'\u001b[0m\u001b[0;34m)\u001b[0m \u001b[0;32mfor\u001b[0m \u001b[0mj\u001b[0m \u001b[0;32min\u001b[0m \u001b[0ml\u001b[0m\u001b[0;34m]\u001b[0m\u001b[0;34m)\u001b[0m\u001b[0;34m\u001b[0m\u001b[0m\n\u001b[1;32m     36\u001b[0m \u001b[0;34m\u001b[0m\u001b[0m\n\u001b[0;32m---> 37\u001b[0;31m     \u001b[0mtime\u001b[0m\u001b[0;34m.\u001b[0m\u001b[0msleep\u001b[0m\u001b[0;34m(\u001b[0m\u001b[0;36m2\u001b[0m\u001b[0;34m)\u001b[0m\u001b[0;34m\u001b[0m\u001b[0m\n\u001b[0m\u001b[1;32m     38\u001b[0m \u001b[0;34m\u001b[0m\u001b[0m\n\u001b[1;32m     39\u001b[0m     \u001b[0;32mreturn\u001b[0m \u001b[0mtitles\u001b[0m\u001b[0;34m\u001b[0m\u001b[0m\n",
        "\u001b[0;31mKeyboardInterrupt\u001b[0m: "
       ]
      },
      {
       "output_type": "stream",
       "stream": "stdout",
       "text": [
        "1\n"
       ]
      }
     ],
     "prompt_number": 20
    },
    {
     "cell_type": "code",
     "collapsed": false,
     "input": [
      "f = open(\"titles_all\", \"w\")\n",
      "for t in titles_all:\n",
      "    f.write(t)\n",
      "    f.write(\"\\n\")\n",
      "f.close()"
     ],
     "language": "python",
     "metadata": {},
     "outputs": [
      {
       "ename": "NameError",
       "evalue": "name 'titles_all' is not defined",
       "output_type": "pyerr",
       "traceback": [
        "\u001b[1;31m---------------------------------------------------------------------------\u001b[0m\n\u001b[1;31mNameError\u001b[0m                                 Traceback (most recent call last)",
        "\u001b[1;32m<ipython-input-8-de21555fc13c>\u001b[0m in \u001b[0;36m<module>\u001b[1;34m()\u001b[0m\n\u001b[0;32m      1\u001b[0m \u001b[0mf\u001b[0m \u001b[1;33m=\u001b[0m \u001b[0mopen\u001b[0m\u001b[1;33m(\u001b[0m\u001b[1;34m\"titles_all\"\u001b[0m\u001b[1;33m,\u001b[0m \u001b[1;34m\"w\"\u001b[0m\u001b[1;33m)\u001b[0m\u001b[1;33m\u001b[0m\u001b[0m\n\u001b[1;32m----> 2\u001b[1;33m \u001b[1;32mfor\u001b[0m \u001b[0mt\u001b[0m \u001b[1;32min\u001b[0m \u001b[0mtitles_all\u001b[0m\u001b[1;33m:\u001b[0m\u001b[1;33m\u001b[0m\u001b[0m\n\u001b[0m\u001b[0;32m      3\u001b[0m     \u001b[0mf\u001b[0m\u001b[1;33m.\u001b[0m\u001b[0mwrite\u001b[0m\u001b[1;33m(\u001b[0m\u001b[0mt\u001b[0m\u001b[1;33m)\u001b[0m\u001b[1;33m\u001b[0m\u001b[0m\n\u001b[0;32m      4\u001b[0m     \u001b[0mf\u001b[0m\u001b[1;33m.\u001b[0m\u001b[0mwrite\u001b[0m\u001b[1;33m(\u001b[0m\u001b[1;34m\"\\n\"\u001b[0m\u001b[1;33m)\u001b[0m\u001b[1;33m\u001b[0m\u001b[0m\n\u001b[0;32m      5\u001b[0m \u001b[0mf\u001b[0m\u001b[1;33m.\u001b[0m\u001b[0mclose\u001b[0m\u001b[1;33m(\u001b[0m\u001b[1;33m)\u001b[0m\u001b[1;33m\u001b[0m\u001b[0m\n",
        "\u001b[1;31mNameError\u001b[0m: name 'titles_all' is not defined"
       ]
      }
     ],
     "prompt_number": 8
    },
    {
     "cell_type": "code",
     "collapsed": false,
     "input": [
      "test_2009v1 = all_titles()\n",
      "len(test_2009v1)"
     ],
     "language": "python",
     "metadata": {},
     "outputs": [
      {
       "output_type": "stream",
       "stream": "stdout",
       "text": [
        "10\n"
       ]
      },
      {
       "metadata": {},
       "output_type": "pyout",
       "prompt_number": 42,
       "text": [
        "195"
       ]
      }
     ],
     "prompt_number": 42
    },
    {
     "cell_type": "code",
     "collapsed": false,
     "input": [
      "test_2009v2 = all_titles()\n",
      "len(test_2009v2)"
     ],
     "language": "python",
     "metadata": {},
     "outputs": [
      {
       "output_type": "stream",
       "stream": "stdout",
       "text": [
        "10\n"
       ]
      },
      {
       "metadata": {},
       "output_type": "pyout",
       "prompt_number": 43,
       "text": [
        "195"
       ]
      }
     ],
     "prompt_number": 43
    },
    {
     "cell_type": "code",
     "collapsed": false,
     "input": [
      "a = get_titles(2013, 11, 12)\n",
      "len(a)"
     ],
     "language": "python",
     "metadata": {},
     "outputs": [
      {
       "metadata": {},
       "output_type": "pyout",
       "prompt_number": 44,
       "text": [
        "260"
       ]
      }
     ],
     "prompt_number": 44
    },
    {
     "cell_type": "code",
     "collapsed": false,
     "input": [
      "year = 2013\n",
      "month = 11\n",
      "day = 12\n",
      "print make_url(year, month, day, [j + 1 for j in range(13)])\n",
      "print make_url(year, month, day, [j + 14 for j in range(17)])\n",
      "print make_url(year, month, day, [j + 31 for j in range(20)])"
     ],
     "language": "python",
     "metadata": {},
     "outputs": [
      {
       "output_type": "stream",
       "stream": "stdout",
       "text": [
        "http://www.kickspy.com/projects/find?Keywords=&Settings.ExpandStatus=true&AnyStatus=true&Settings.ExpandCategories=true&Categories=1&Categories=2&Categories=3&Categories=4&Categories=5&Categories=6&Categories=7&Categories=8&Categories=9&Categories=10&Categories=11&Categories=12&Categories=13&Settings.ExpandDates=trueStartedAfter=2013%2F11%2F12&StartedBefore=2013%2F11%2F12&SortBy=0\n",
        "http://www.kickspy.com/projects/find?Keywords=&Settings.ExpandStatus=true&AnyStatus=true&Settings.ExpandCategories=true&Categories=14&Categories=15&Categories=16&Categories=17&Categories=18&Categories=19&Categories=20&Categories=21&Categories=22&Categories=23&Categories=24&Categories=25&Categories=26&Categories=27&Categories=28&Categories=29&Categories=30&Settings.ExpandDates=trueStartedAfter=2013%2F11%2F12&StartedBefore=2013%2F11%2F12&SortBy=0\n",
        "http://www.kickspy.com/projects/find?Keywords=&Settings.ExpandStatus=true&AnyStatus=true&Settings.ExpandCategories=true&Categories=31&Categories=32&Categories=33&Categories=34&Categories=35&Categories=36&Categories=37&Categories=38&Categories=39&Categories=40&Categories=41&Categories=42&Categories=43&Categories=44&Categories=45&Categories=46&Categories=47&Categories=48&Categories=49&Categories=50&Settings.ExpandDates=trueStartedAfter=2013%2F11%2F12&StartedBefore=2013%2F11%2F12&SortBy=0\n"
       ]
      }
     ],
     "prompt_number": 13
    },
    {
     "cell_type": "code",
     "collapsed": false,
     "input": [
      "# open the text file list of kickstarter titles, convert formatting\n",
      "f = open(\"titles_all.txt\", \"r\")\n",
      "all_titles = f.read().split(\"\\n\")\n",
      "\n",
      "print len(all_titles)"
     ],
     "language": "python",
     "metadata": {},
     "outputs": [
      {
       "output_type": "stream",
       "stream": "stdout",
       "text": [
        "121279\n"
       ]
      }
     ],
     "prompt_number": 11
    },
    {
     "cell_type": "code",
     "collapsed": false,
     "input": [
      "#convert titles to normal text format\n",
      "for i, title in enumerate(all_titles):\n",
      "    all_titles[i] = unicode(html_parser.unescape(title))"
     ],
     "language": "python",
     "metadata": {},
     "outputs": [],
     "prompt_number": 12
    },
    {
     "cell_type": "code",
     "collapsed": false,
     "input": [
      "def dict_iterator(my_dict):\n",
      "    for key, value in my_dict.iteritems():\n",
      "        if type(value)==list:\n",
      "            for item in value:\n",
      "                new_dict = dict_iterator(item)\n",
      "                my_dict[key] = new_dict\n",
      "        if type(value)==dict:\n",
      "            new_dict = dict_iterator(value)\n",
      "            my_dict[key] = new_dict\n",
      "        if type(value)==unicode:\n",
      "            if 'saal_tucker_sturm_zimble' in value:\n",
      "                value = value.replace('saal_tucker_sturm_zimble','\"')\n",
      "                my_dict[key] = value\n",
      "    return my_dict\n",
      "\n",
      "def tm_remover(title):\n",
      "    words = []\n",
      "    for word in title.split(' '):\n",
      "        if 'TM' not in word:\n",
      "            words.append(word)\n",
      "    return \" \".join(words)\n",
      "            \n",
      "def alt_project_fetch(title):\n",
      "    url_ending = ''\n",
      "    url = 'http://www.kickspy.com/projects/find?Keywords='+title+'&Settings.ExpandStatus=true&AnyStatus=true&AllCategories=true&SortBy=0'\n",
      "    text = requests.get(url).text\n",
      "    for line in text.split('\\n'):\n",
      "        if \"0 results found\" in line:\n",
      "            if \"TM\" in title:\n",
      "                return alt_project_fetch(tm_remover(title))\n",
      "            else:\n",
      "                return None\n",
      "        elif \"<h3>\" in line:\n",
      "            url_ending = line.split('href=\"',1)[1]\n",
      "            url_ending = url_ending.split('\">',1)[0]\n",
      "    url_2 = \"http://www.kickstarter.com/\" + url_ending\n",
      "    text_2 = requests.get(url_2).text\n",
      "    for line in text_2.split('\\n'):\n",
      "        if 'window.current_project' in line:\n",
      "            data = unicode(html_parser.unescape(line))\n",
      "            data = data.split('window.current_project = \"',1)[1]\n",
      "            data = data.split('\";')[0]\n",
      "            data = str(data)\n",
      "            data = data.replace('\\\\\"','\\\\saal_tucker_sturm_zimble')\n",
      "            data = data.replace('\\\\','')\n",
      "            data = json.loads(data)\n",
      "            data = dict_iterator(data)\n",
      "            return data\n"
     ],
     "language": "python",
     "metadata": {},
     "outputs": [],
     "prompt_number": 13
    },
    {
     "cell_type": "code",
     "collapsed": false,
     "input": [
      "# function to get info (from kickstarter) about all the projects associated to titles in a list of titles\n",
      "def get_projects(titles):\n",
      "    \n",
      "    base_url = \"http://www.kickstarter.com/projects/search.json\"\n",
      "    fields = ['creator_id', 'creator_name', 'creator_slug',\n",
      "              'project_id', 'project_name', 'project_slug', 'blurb', 'category',\n",
      "              'currency', 'goal', 'pledged', 'backers_count',\n",
      "              'launched_at', 'deadline', 'last_state_change', 'state',\n",
      "              'location_id', 'location_name', 'country',\n",
      "              'project_url', 'creator_url']\n",
      "    projects = dict((field, []) for field in fields)\n",
      "    \n",
      "    for i, title in enumerate(titles):\n",
      "        if i%100 == 0:\n",
      "            print i\n",
      "        data = requests.get(base_url, params = {'search': '', 'term': title}).json()['projects']\n",
      "\n",
      "        if len(data) == 0:\n",
      "            data = alt_project_fetch(title)\n",
      "            if data == None:\n",
      "                print i, title\n",
      "                continue\n",
      "            data = [data]\n",
      "            \n",
      "            \n",
      "        for project in data:\n",
      "            if project['id'] not in projects['project_id']:\n",
      "                \n",
      "                \n",
      "                try:\n",
      "                    projects['creator_id'].append( project['creator']['id'] )\n",
      "                except KeyError:\n",
      "                    projects['creator_id'].append( '' )\n",
      "                    \n",
      "                try:\n",
      "                    projects['creator_name'].append( project['creator']['name'].encode('utf-8') )\n",
      "                except KeyError:\n",
      "                    projects['creator_name'].append( '' )\n",
      "                    \n",
      "                try:\n",
      "                    projects['creator_slug'].append( project['creator']['slug'].encode('utf-8') )\n",
      "                except KeyError:\n",
      "                    projects['creator_slug'].append( '' )\n",
      "                \n",
      "                try:\n",
      "                    projects['project_id'].append( project['id'] )\n",
      "                except KeyError:\n",
      "                    projects['project_id'].append( '' )\n",
      "                    \n",
      "                try:\n",
      "                    projects['project_name'].append( project['name'].encode('utf-8') )\n",
      "                except KeyError:\n",
      "                    projects['project_name'].append( '' )\n",
      "                    \n",
      "                try:\n",
      "                    projects['project_slug'].append( project['slug'].encode('utf-8') )\n",
      "                except KeyError:\n",
      "                    projects['project_slug'].append( '' )\n",
      "                    \n",
      "                try:\n",
      "                    projects['blurb'].append( project['blurb'].encode('utf-8') )\n",
      "                except KeyError:\n",
      "                    projects['blurb'].append( '' )\n",
      "                    \n",
      "                try:\n",
      "                    projects['category'].append( project['category']['name'].encode('utf-8') )\n",
      "                except KeyError:\n",
      "                    projects['category'].append( '' )\n",
      "                    \n",
      "                try:\n",
      "                    projects['currency'].append( project['currency'].encode('utf-8') )\n",
      "                except KeyError:\n",
      "                    projects['currency'].append( '' )\n",
      "                \n",
      "                try:\n",
      "                    projects['goal'].append( project['goal'] )\n",
      "                except KeyError:\n",
      "                    projects['goal'].append( '' )\n",
      "                    \n",
      "                try:\n",
      "                    projects['pledged'].append( project['pledged'] )\n",
      "                except KeyError:\n",
      "                    projects['pledged'].append( '' )\n",
      "                \n",
      "                try:\n",
      "                    projects['backers_count'].append( project['backers_count'] )\n",
      "                except KeyError:\n",
      "                    projects['backers_count'].append( '' )\n",
      "                    \n",
      "                try:\n",
      "                    projects['launched_at'].append( project['launched_at'] )\n",
      "                except KeyError:\n",
      "                    projects['launched_at'].append( '' )\n",
      "                    \n",
      "                try:\n",
      "                    projects['deadline'].append( project['deadline'] )\n",
      "                except KeyError:\n",
      "                    projects['deadline'].append( '' )\n",
      "                    \n",
      "                try:\n",
      "                    projects['last_state_change'].append( project['state_changed_at'] )\n",
      "                except KeyError:\n",
      "                    projects['last_state_change'].append( '' )\n",
      "                    \n",
      "                try:\n",
      "                    projects['state'].append( project['state'].encode('utf-8') )\n",
      "                except KeyError:\n",
      "                    projects['state'].append( '' )\n",
      "                    \n",
      "                try:\n",
      "                    projects['location_id'].append( project['location']['id'] )\n",
      "                except KeyError:\n",
      "                    projects['location_id'].append( '' )\n",
      "                    \n",
      "                try:\n",
      "                    projects['location_name'].append( project['location']['name'].encode('utf-8') )\n",
      "                except KeyError:\n",
      "                    projects['location_name'].append( '' )\n",
      "                    \n",
      "                try:\n",
      "                    projects['country'].append( project['country'].encode('utf-8') )\n",
      "                except KeyError:\n",
      "                    projects['country'].append( '' )\n",
      "                \n",
      "                try:\n",
      "                    projects['project_url'].append( project['urls']['web']['project'].encode('utf-8') )\n",
      "                except KeyError:\n",
      "                    projects['project_url'].append( '' )\n",
      "                \n",
      "                try:\n",
      "                    projects['creator_url'].append( project['creator']['urls']['web']['user'].encode('utf-8') )\n",
      "                except KeyError:\n",
      "                    projects['creator_url'].append( '' )\n",
      "            \n",
      "    return pd.DataFrame(projects)"
     ],
     "language": "python",
     "metadata": {},
     "outputs": [],
     "prompt_number": 14
    },
    {
     "cell_type": "code",
     "collapsed": false,
     "input": [
      "# get info about all the projects, save it to a csv\n",
      "all_projects = get_projects(all_titles)\n",
      "all_projects.to_csv('all_projects_4.csv')"
     ],
     "language": "python",
     "metadata": {},
     "outputs": [
      {
       "output_type": "stream",
       "stream": "stdout",
       "text": [
        "0\n",
        "25"
       ]
      },
      {
       "ename": "KeyboardInterrupt",
       "evalue": "",
       "output_type": "pyerr",
       "traceback": [
        "\u001b[1;31m---------------------------------------------------------------------------\u001b[0m\n\u001b[1;31mKeyboardInterrupt\u001b[0m                         Traceback (most recent call last)",
        "\u001b[1;32m<ipython-input-15-f3919e58240d>\u001b[0m in \u001b[0;36m<module>\u001b[1;34m()\u001b[0m\n\u001b[0;32m      1\u001b[0m \u001b[1;31m# get info about all the projects, save it to a csv\u001b[0m\u001b[1;33m\u001b[0m\u001b[1;33m\u001b[0m\u001b[0m\n\u001b[1;32m----> 2\u001b[1;33m \u001b[0mall_projects\u001b[0m \u001b[1;33m=\u001b[0m \u001b[0mget_projects\u001b[0m\u001b[1;33m(\u001b[0m\u001b[0mall_titles\u001b[0m\u001b[1;33m)\u001b[0m\u001b[1;33m\u001b[0m\u001b[0m\n\u001b[0m\u001b[0;32m      3\u001b[0m \u001b[0mall_projects\u001b[0m\u001b[1;33m.\u001b[0m\u001b[0mto_csv\u001b[0m\u001b[1;33m(\u001b[0m\u001b[1;34m'all_projects_4.csv'\u001b[0m\u001b[1;33m)\u001b[0m\u001b[1;33m\u001b[0m\u001b[0m\n",
        "\u001b[1;32m<ipython-input-14-4a931ad44ed5>\u001b[0m in \u001b[0;36mget_projects\u001b[1;34m(titles)\u001b[0m\n\u001b[0;32m     17\u001b[0m \u001b[1;33m\u001b[0m\u001b[0m\n\u001b[0;32m     18\u001b[0m         \u001b[1;32mif\u001b[0m \u001b[0mlen\u001b[0m\u001b[1;33m(\u001b[0m\u001b[0mdata\u001b[0m\u001b[1;33m)\u001b[0m \u001b[1;33m==\u001b[0m \u001b[1;36m0\u001b[0m\u001b[1;33m:\u001b[0m\u001b[1;33m\u001b[0m\u001b[0m\n\u001b[1;32m---> 19\u001b[1;33m             \u001b[0mdata\u001b[0m \u001b[1;33m=\u001b[0m \u001b[0malt_project_fetch\u001b[0m\u001b[1;33m(\u001b[0m\u001b[0mtitle\u001b[0m\u001b[1;33m)\u001b[0m\u001b[1;33m\u001b[0m\u001b[0m\n\u001b[0m\u001b[0;32m     20\u001b[0m             \u001b[1;32mif\u001b[0m \u001b[0mdata\u001b[0m \u001b[1;33m==\u001b[0m \u001b[0mNone\u001b[0m\u001b[1;33m:\u001b[0m\u001b[1;33m\u001b[0m\u001b[0m\n\u001b[0;32m     21\u001b[0m                 \u001b[1;32mprint\u001b[0m \u001b[0mi\u001b[0m\u001b[1;33m,\u001b[0m \u001b[0mtitle\u001b[0m\u001b[1;33m\u001b[0m\u001b[0m\n",
        "\u001b[1;32m<ipython-input-13-72c5e843215d>\u001b[0m in \u001b[0;36malt_project_fetch\u001b[1;34m(title)\u001b[0m\n\u001b[0;32m     35\u001b[0m             \u001b[0murl_ending\u001b[0m \u001b[1;33m=\u001b[0m \u001b[0murl_ending\u001b[0m\u001b[1;33m.\u001b[0m\u001b[0msplit\u001b[0m\u001b[1;33m(\u001b[0m\u001b[1;34m'\">'\u001b[0m\u001b[1;33m,\u001b[0m\u001b[1;36m1\u001b[0m\u001b[1;33m)\u001b[0m\u001b[1;33m[\u001b[0m\u001b[1;36m0\u001b[0m\u001b[1;33m]\u001b[0m\u001b[1;33m\u001b[0m\u001b[0m\n\u001b[0;32m     36\u001b[0m     \u001b[0murl_2\u001b[0m \u001b[1;33m=\u001b[0m \u001b[1;34m\"http://www.kickstarter.com/\"\u001b[0m \u001b[1;33m+\u001b[0m \u001b[0murl_ending\u001b[0m\u001b[1;33m\u001b[0m\u001b[0m\n\u001b[1;32m---> 37\u001b[1;33m     \u001b[0mtext_2\u001b[0m \u001b[1;33m=\u001b[0m \u001b[0mrequests\u001b[0m\u001b[1;33m.\u001b[0m\u001b[0mget\u001b[0m\u001b[1;33m(\u001b[0m\u001b[0murl_2\u001b[0m\u001b[1;33m)\u001b[0m\u001b[1;33m.\u001b[0m\u001b[0mtext\u001b[0m\u001b[1;33m\u001b[0m\u001b[0m\n\u001b[0m\u001b[0;32m     38\u001b[0m     \u001b[1;32mfor\u001b[0m \u001b[0mline\u001b[0m \u001b[1;32min\u001b[0m \u001b[0mtext_2\u001b[0m\u001b[1;33m.\u001b[0m\u001b[0msplit\u001b[0m\u001b[1;33m(\u001b[0m\u001b[1;34m'\\n'\u001b[0m\u001b[1;33m)\u001b[0m\u001b[1;33m:\u001b[0m\u001b[1;33m\u001b[0m\u001b[0m\n\u001b[0;32m     39\u001b[0m         \u001b[1;32mif\u001b[0m \u001b[1;34m'window.current_project'\u001b[0m \u001b[1;32min\u001b[0m \u001b[0mline\u001b[0m\u001b[1;33m:\u001b[0m\u001b[1;33m\u001b[0m\u001b[0m\n",
        "\u001b[1;32m/home/aaron/anaconda/lib/python2.7/site-packages/requests/api.pyc\u001b[0m in \u001b[0;36mget\u001b[1;34m(url, **kwargs)\u001b[0m\n\u001b[0;32m     53\u001b[0m \u001b[1;33m\u001b[0m\u001b[0m\n\u001b[0;32m     54\u001b[0m     \u001b[0mkwargs\u001b[0m\u001b[1;33m.\u001b[0m\u001b[0msetdefault\u001b[0m\u001b[1;33m(\u001b[0m\u001b[1;34m'allow_redirects'\u001b[0m\u001b[1;33m,\u001b[0m \u001b[0mTrue\u001b[0m\u001b[1;33m)\u001b[0m\u001b[1;33m\u001b[0m\u001b[0m\n\u001b[1;32m---> 55\u001b[1;33m     \u001b[1;32mreturn\u001b[0m \u001b[0mrequest\u001b[0m\u001b[1;33m(\u001b[0m\u001b[1;34m'get'\u001b[0m\u001b[1;33m,\u001b[0m \u001b[0murl\u001b[0m\u001b[1;33m,\u001b[0m \u001b[1;33m**\u001b[0m\u001b[0mkwargs\u001b[0m\u001b[1;33m)\u001b[0m\u001b[1;33m\u001b[0m\u001b[0m\n\u001b[0m\u001b[0;32m     56\u001b[0m \u001b[1;33m\u001b[0m\u001b[0m\n\u001b[0;32m     57\u001b[0m \u001b[1;33m\u001b[0m\u001b[0m\n",
        "\u001b[1;32m/home/aaron/anaconda/lib/python2.7/site-packages/requests/api.pyc\u001b[0m in \u001b[0;36mrequest\u001b[1;34m(method, url, **kwargs)\u001b[0m\n\u001b[0;32m     42\u001b[0m \u001b[1;33m\u001b[0m\u001b[0m\n\u001b[0;32m     43\u001b[0m     \u001b[0msession\u001b[0m \u001b[1;33m=\u001b[0m \u001b[0msessions\u001b[0m\u001b[1;33m.\u001b[0m\u001b[0mSession\u001b[0m\u001b[1;33m(\u001b[0m\u001b[1;33m)\u001b[0m\u001b[1;33m\u001b[0m\u001b[0m\n\u001b[1;32m---> 44\u001b[1;33m     \u001b[1;32mreturn\u001b[0m \u001b[0msession\u001b[0m\u001b[1;33m.\u001b[0m\u001b[0mrequest\u001b[0m\u001b[1;33m(\u001b[0m\u001b[0mmethod\u001b[0m\u001b[1;33m=\u001b[0m\u001b[0mmethod\u001b[0m\u001b[1;33m,\u001b[0m \u001b[0murl\u001b[0m\u001b[1;33m=\u001b[0m\u001b[0murl\u001b[0m\u001b[1;33m,\u001b[0m \u001b[1;33m**\u001b[0m\u001b[0mkwargs\u001b[0m\u001b[1;33m)\u001b[0m\u001b[1;33m\u001b[0m\u001b[0m\n\u001b[0m\u001b[0;32m     45\u001b[0m \u001b[1;33m\u001b[0m\u001b[0m\n\u001b[0;32m     46\u001b[0m \u001b[1;33m\u001b[0m\u001b[0m\n",
        "\u001b[1;32m/home/aaron/anaconda/lib/python2.7/site-packages/requests/sessions.pyc\u001b[0m in \u001b[0;36mrequest\u001b[1;34m(self, method, url, params, data, headers, cookies, files, auth, timeout, allow_redirects, proxies, hooks, stream, verify, cert)\u001b[0m\n\u001b[0;32m    333\u001b[0m             \u001b[1;34m'allow_redirects'\u001b[0m\u001b[1;33m:\u001b[0m \u001b[0mallow_redirects\u001b[0m\u001b[1;33m,\u001b[0m\u001b[1;33m\u001b[0m\u001b[0m\n\u001b[0;32m    334\u001b[0m         }\n\u001b[1;32m--> 335\u001b[1;33m         \u001b[0mresp\u001b[0m \u001b[1;33m=\u001b[0m \u001b[0mself\u001b[0m\u001b[1;33m.\u001b[0m\u001b[0msend\u001b[0m\u001b[1;33m(\u001b[0m\u001b[0mprep\u001b[0m\u001b[1;33m,\u001b[0m \u001b[1;33m**\u001b[0m\u001b[0msend_kwargs\u001b[0m\u001b[1;33m)\u001b[0m\u001b[1;33m\u001b[0m\u001b[0m\n\u001b[0m\u001b[0;32m    336\u001b[0m \u001b[1;33m\u001b[0m\u001b[0m\n\u001b[0;32m    337\u001b[0m         \u001b[1;32mreturn\u001b[0m \u001b[0mresp\u001b[0m\u001b[1;33m\u001b[0m\u001b[0m\n",
        "\u001b[1;32m/home/aaron/anaconda/lib/python2.7/site-packages/requests/sessions.pyc\u001b[0m in \u001b[0;36msend\u001b[1;34m(self, request, **kwargs)\u001b[0m\n\u001b[0;32m    436\u001b[0m         \u001b[0mstart\u001b[0m \u001b[1;33m=\u001b[0m \u001b[0mdatetime\u001b[0m\u001b[1;33m.\u001b[0m\u001b[0mutcnow\u001b[0m\u001b[1;33m(\u001b[0m\u001b[1;33m)\u001b[0m\u001b[1;33m\u001b[0m\u001b[0m\n\u001b[0;32m    437\u001b[0m         \u001b[1;31m# Send the request\u001b[0m\u001b[1;33m\u001b[0m\u001b[1;33m\u001b[0m\u001b[0m\n\u001b[1;32m--> 438\u001b[1;33m         \u001b[0mr\u001b[0m \u001b[1;33m=\u001b[0m \u001b[0madapter\u001b[0m\u001b[1;33m.\u001b[0m\u001b[0msend\u001b[0m\u001b[1;33m(\u001b[0m\u001b[0mrequest\u001b[0m\u001b[1;33m,\u001b[0m \u001b[1;33m**\u001b[0m\u001b[0mkwargs\u001b[0m\u001b[1;33m)\u001b[0m\u001b[1;33m\u001b[0m\u001b[0m\n\u001b[0m\u001b[0;32m    439\u001b[0m         \u001b[1;31m# Total elapsed time of the request (approximately)\u001b[0m\u001b[1;33m\u001b[0m\u001b[1;33m\u001b[0m\u001b[0m\n\u001b[0;32m    440\u001b[0m         \u001b[0mr\u001b[0m\u001b[1;33m.\u001b[0m\u001b[0melapsed\u001b[0m \u001b[1;33m=\u001b[0m \u001b[0mdatetime\u001b[0m\u001b[1;33m.\u001b[0m\u001b[0mutcnow\u001b[0m\u001b[1;33m(\u001b[0m\u001b[1;33m)\u001b[0m \u001b[1;33m-\u001b[0m \u001b[0mstart\u001b[0m\u001b[1;33m\u001b[0m\u001b[0m\n",
        "\u001b[1;32m/home/aaron/anaconda/lib/python2.7/site-packages/requests/adapters.pyc\u001b[0m in \u001b[0;36msend\u001b[1;34m(self, request, stream, timeout, verify, cert, proxies)\u001b[0m\n\u001b[0;32m    290\u001b[0m                     \u001b[0mdecode_content\u001b[0m\u001b[1;33m=\u001b[0m\u001b[0mFalse\u001b[0m\u001b[1;33m,\u001b[0m\u001b[1;33m\u001b[0m\u001b[0m\n\u001b[0;32m    291\u001b[0m                     \u001b[0mretries\u001b[0m\u001b[1;33m=\u001b[0m\u001b[0mself\u001b[0m\u001b[1;33m.\u001b[0m\u001b[0mmax_retries\u001b[0m\u001b[1;33m,\u001b[0m\u001b[1;33m\u001b[0m\u001b[0m\n\u001b[1;32m--> 292\u001b[1;33m                     \u001b[0mtimeout\u001b[0m\u001b[1;33m=\u001b[0m\u001b[0mtimeout\u001b[0m\u001b[1;33m\u001b[0m\u001b[0m\n\u001b[0m\u001b[0;32m    293\u001b[0m                 )\n\u001b[0;32m    294\u001b[0m \u001b[1;33m\u001b[0m\u001b[0m\n",
        "\u001b[1;32m/home/aaron/anaconda/lib/python2.7/site-packages/requests/packages/urllib3/connectionpool.pyc\u001b[0m in \u001b[0;36murlopen\u001b[1;34m(self, method, url, body, headers, retries, redirect, assert_same_host, timeout, pool_timeout, release_conn, **response_kw)\u001b[0m\n\u001b[0;32m    426\u001b[0m             httplib_response = self._make_request(conn, method, url,\n\u001b[0;32m    427\u001b[0m                                                   \u001b[0mtimeout\u001b[0m\u001b[1;33m=\u001b[0m\u001b[0mtimeout\u001b[0m\u001b[1;33m,\u001b[0m\u001b[1;33m\u001b[0m\u001b[0m\n\u001b[1;32m--> 428\u001b[1;33m                                                   body=body, headers=headers)\n\u001b[0m\u001b[0;32m    429\u001b[0m \u001b[1;33m\u001b[0m\u001b[0m\n\u001b[0;32m    430\u001b[0m             \u001b[1;31m# If we're going to release the connection in ``finally:``, then\u001b[0m\u001b[1;33m\u001b[0m\u001b[1;33m\u001b[0m\u001b[0m\n",
        "\u001b[1;32m/home/aaron/anaconda/lib/python2.7/site-packages/requests/packages/urllib3/connectionpool.pyc\u001b[0m in \u001b[0;36m_make_request\u001b[1;34m(self, conn, method, url, timeout, **httplib_request_kw)\u001b[0m\n\u001b[0;32m    286\u001b[0m \u001b[1;33m\u001b[0m\u001b[0m\n\u001b[0;32m    287\u001b[0m         \u001b[1;32mtry\u001b[0m\u001b[1;33m:\u001b[0m \u001b[1;31m# Python 2.7+, use buffering of HTTP responses\u001b[0m\u001b[1;33m\u001b[0m\u001b[0m\n\u001b[1;32m--> 288\u001b[1;33m             \u001b[0mhttplib_response\u001b[0m \u001b[1;33m=\u001b[0m \u001b[0mconn\u001b[0m\u001b[1;33m.\u001b[0m\u001b[0mgetresponse\u001b[0m\u001b[1;33m(\u001b[0m\u001b[0mbuffering\u001b[0m\u001b[1;33m=\u001b[0m\u001b[0mTrue\u001b[0m\u001b[1;33m)\u001b[0m\u001b[1;33m\u001b[0m\u001b[0m\n\u001b[0m\u001b[0;32m    289\u001b[0m         \u001b[1;32mexcept\u001b[0m \u001b[0mTypeError\u001b[0m\u001b[1;33m:\u001b[0m \u001b[1;31m# Python 2.6 and older\u001b[0m\u001b[1;33m\u001b[0m\u001b[0m\n\u001b[0;32m    290\u001b[0m             \u001b[0mhttplib_response\u001b[0m \u001b[1;33m=\u001b[0m \u001b[0mconn\u001b[0m\u001b[1;33m.\u001b[0m\u001b[0mgetresponse\u001b[0m\u001b[1;33m(\u001b[0m\u001b[1;33m)\u001b[0m\u001b[1;33m\u001b[0m\u001b[0m\n",
        "\u001b[1;32m/home/aaron/anaconda/lib/python2.7/httplib.pyc\u001b[0m in \u001b[0;36mgetresponse\u001b[1;34m(self, buffering)\u001b[0m\n\u001b[0;32m   1043\u001b[0m         \u001b[0mresponse\u001b[0m \u001b[1;33m=\u001b[0m \u001b[0mself\u001b[0m\u001b[1;33m.\u001b[0m\u001b[0mresponse_class\u001b[0m\u001b[1;33m(\u001b[0m\u001b[1;33m*\u001b[0m\u001b[0margs\u001b[0m\u001b[1;33m,\u001b[0m \u001b[1;33m**\u001b[0m\u001b[0mkwds\u001b[0m\u001b[1;33m)\u001b[0m\u001b[1;33m\u001b[0m\u001b[0m\n\u001b[0;32m   1044\u001b[0m \u001b[1;33m\u001b[0m\u001b[0m\n\u001b[1;32m-> 1045\u001b[1;33m         \u001b[0mresponse\u001b[0m\u001b[1;33m.\u001b[0m\u001b[0mbegin\u001b[0m\u001b[1;33m(\u001b[0m\u001b[1;33m)\u001b[0m\u001b[1;33m\u001b[0m\u001b[0m\n\u001b[0m\u001b[0;32m   1046\u001b[0m         \u001b[1;32massert\u001b[0m \u001b[0mresponse\u001b[0m\u001b[1;33m.\u001b[0m\u001b[0mwill_close\u001b[0m \u001b[1;33m!=\u001b[0m \u001b[0m_UNKNOWN\u001b[0m\u001b[1;33m\u001b[0m\u001b[0m\n\u001b[0;32m   1047\u001b[0m         \u001b[0mself\u001b[0m\u001b[1;33m.\u001b[0m\u001b[0m__state\u001b[0m \u001b[1;33m=\u001b[0m \u001b[0m_CS_IDLE\u001b[0m\u001b[1;33m\u001b[0m\u001b[0m\n",
        "\u001b[1;32m/home/aaron/anaconda/lib/python2.7/httplib.pyc\u001b[0m in \u001b[0;36mbegin\u001b[1;34m(self)\u001b[0m\n\u001b[0;32m    407\u001b[0m         \u001b[1;31m# read until we get a non-100 response\u001b[0m\u001b[1;33m\u001b[0m\u001b[1;33m\u001b[0m\u001b[0m\n\u001b[0;32m    408\u001b[0m         \u001b[1;32mwhile\u001b[0m \u001b[0mTrue\u001b[0m\u001b[1;33m:\u001b[0m\u001b[1;33m\u001b[0m\u001b[0m\n\u001b[1;32m--> 409\u001b[1;33m             \u001b[0mversion\u001b[0m\u001b[1;33m,\u001b[0m \u001b[0mstatus\u001b[0m\u001b[1;33m,\u001b[0m \u001b[0mreason\u001b[0m \u001b[1;33m=\u001b[0m \u001b[0mself\u001b[0m\u001b[1;33m.\u001b[0m\u001b[0m_read_status\u001b[0m\u001b[1;33m(\u001b[0m\u001b[1;33m)\u001b[0m\u001b[1;33m\u001b[0m\u001b[0m\n\u001b[0m\u001b[0;32m    410\u001b[0m             \u001b[1;32mif\u001b[0m \u001b[0mstatus\u001b[0m \u001b[1;33m!=\u001b[0m \u001b[0mCONTINUE\u001b[0m\u001b[1;33m:\u001b[0m\u001b[1;33m\u001b[0m\u001b[0m\n\u001b[0;32m    411\u001b[0m                 \u001b[1;32mbreak\u001b[0m\u001b[1;33m\u001b[0m\u001b[0m\n",
        "\u001b[1;32m/home/aaron/anaconda/lib/python2.7/httplib.pyc\u001b[0m in \u001b[0;36m_read_status\u001b[1;34m(self)\u001b[0m\n\u001b[0;32m    363\u001b[0m     \u001b[1;32mdef\u001b[0m \u001b[0m_read_status\u001b[0m\u001b[1;33m(\u001b[0m\u001b[0mself\u001b[0m\u001b[1;33m)\u001b[0m\u001b[1;33m:\u001b[0m\u001b[1;33m\u001b[0m\u001b[0m\n\u001b[0;32m    364\u001b[0m         \u001b[1;31m# Initialize with Simple-Response defaults\u001b[0m\u001b[1;33m\u001b[0m\u001b[1;33m\u001b[0m\u001b[0m\n\u001b[1;32m--> 365\u001b[1;33m         \u001b[0mline\u001b[0m \u001b[1;33m=\u001b[0m \u001b[0mself\u001b[0m\u001b[1;33m.\u001b[0m\u001b[0mfp\u001b[0m\u001b[1;33m.\u001b[0m\u001b[0mreadline\u001b[0m\u001b[1;33m(\u001b[0m\u001b[0m_MAXLINE\u001b[0m \u001b[1;33m+\u001b[0m \u001b[1;36m1\u001b[0m\u001b[1;33m)\u001b[0m\u001b[1;33m\u001b[0m\u001b[0m\n\u001b[0m\u001b[0;32m    366\u001b[0m         \u001b[1;32mif\u001b[0m \u001b[0mlen\u001b[0m\u001b[1;33m(\u001b[0m\u001b[0mline\u001b[0m\u001b[1;33m)\u001b[0m \u001b[1;33m>\u001b[0m \u001b[0m_MAXLINE\u001b[0m\u001b[1;33m:\u001b[0m\u001b[1;33m\u001b[0m\u001b[0m\n\u001b[0;32m    367\u001b[0m             \u001b[1;32mraise\u001b[0m \u001b[0mLineTooLong\u001b[0m\u001b[1;33m(\u001b[0m\u001b[1;34m\"header line\"\u001b[0m\u001b[1;33m)\u001b[0m\u001b[1;33m\u001b[0m\u001b[0m\n",
        "\u001b[1;32m/home/aaron/anaconda/lib/python2.7/socket.pyc\u001b[0m in \u001b[0;36mreadline\u001b[1;34m(self, size)\u001b[0m\n\u001b[0;32m    474\u001b[0m             \u001b[1;32mwhile\u001b[0m \u001b[0mTrue\u001b[0m\u001b[1;33m:\u001b[0m\u001b[1;33m\u001b[0m\u001b[0m\n\u001b[0;32m    475\u001b[0m                 \u001b[1;32mtry\u001b[0m\u001b[1;33m:\u001b[0m\u001b[1;33m\u001b[0m\u001b[0m\n\u001b[1;32m--> 476\u001b[1;33m                     \u001b[0mdata\u001b[0m \u001b[1;33m=\u001b[0m \u001b[0mself\u001b[0m\u001b[1;33m.\u001b[0m\u001b[0m_sock\u001b[0m\u001b[1;33m.\u001b[0m\u001b[0mrecv\u001b[0m\u001b[1;33m(\u001b[0m\u001b[0mself\u001b[0m\u001b[1;33m.\u001b[0m\u001b[0m_rbufsize\u001b[0m\u001b[1;33m)\u001b[0m\u001b[1;33m\u001b[0m\u001b[0m\n\u001b[0m\u001b[0;32m    477\u001b[0m                 \u001b[1;32mexcept\u001b[0m \u001b[0merror\u001b[0m\u001b[1;33m,\u001b[0m \u001b[0me\u001b[0m\u001b[1;33m:\u001b[0m\u001b[1;33m\u001b[0m\u001b[0m\n\u001b[0;32m    478\u001b[0m                     \u001b[1;32mif\u001b[0m \u001b[0me\u001b[0m\u001b[1;33m.\u001b[0m\u001b[0margs\u001b[0m\u001b[1;33m[\u001b[0m\u001b[1;36m0\u001b[0m\u001b[1;33m]\u001b[0m \u001b[1;33m==\u001b[0m \u001b[0mEINTR\u001b[0m\u001b[1;33m:\u001b[0m\u001b[1;33m\u001b[0m\u001b[0m\n",
        "\u001b[1;31mKeyboardInterrupt\u001b[0m: "
       ]
      },
      {
       "output_type": "stream",
       "stream": "stdout",
       "text": [
        " RomCom : A Twisted Funny Internet Series on Love and Sex\n"
       ]
      }
     ],
     "prompt_number": 15
    },
    {
     "cell_type": "code",
     "collapsed": false,
     "input": [
      "#trying out different things to get urls in the right form, it's not working\n",
      "base_url = \"http://www.kickstarter.com/projects/search.json?search=&term=\"\n",
      "#print requests.get(base_url, params = {'search': '','term': urllib.pathname2url('A Metroid Inspired EP')}).json()\n",
      "for p in requests.get(base_url + urllib.pathname2url('romcom a twisted')).json()[u'projects']:\n",
      "    print p"
     ],
     "language": "python",
     "metadata": {},
     "outputs": [],
     "prompt_number": 39
    },
    {
     "cell_type": "code",
     "collapsed": false,
     "input": [
      "print all_projects.iloc[1,:]"
     ],
     "language": "python",
     "metadata": {},
     "outputs": [
      {
       "output_type": "stream",
       "stream": "stdout",
       "text": [
        "Unnamed: 0                                                           1\n",
        "backers_count                                                       20\n",
        "blurb                Love is not a straight line. Coming out is sti...\n",
        "category                                                    Short Film\n",
        "country                                                             CA\n",
        "creator_id                                                   423829739\n",
        "creator_name                                                Tara Dafoe\n",
        "creator_slug                                                       NaN\n",
        "creator_url               http://www.kickstarter.com/profile/423829739\n",
        "currency                                                           CAD\n",
        "deadline                                                    1386815553\n",
        "goal                                                              3000\n",
        "last_state_change                                           1385001153\n",
        "launched_at                                                 1385001153\n",
        "location_id                                                       9807\n",
        "location_name                                        Vancouver, Canada\n",
        "pledged                                                           1740\n",
        "project_id                                                  1199163893\n",
        "project_name                                             Straight Life\n",
        "project_slug                                             straight-life\n",
        "project_url          http://www.kickstarter.com/projects/423829739/...\n",
        "state                                                             live\n",
        "Name: 1, dtype: object\n"
       ]
      }
     ],
     "prompt_number": 79
    },
    {
     "cell_type": "code",
     "collapsed": false,
     "input": [
      "all_projects=pd.read_csv('all_projects.csv')"
     ],
     "language": "python",
     "metadata": {},
     "outputs": [],
     "prompt_number": 2
    },
    {
     "cell_type": "code",
     "collapsed": false,
     "input": [
      "print all_projects.iloc[101084,:]['creator_name']"
     ],
     "language": "python",
     "metadata": {},
     "outputs": [
      {
       "output_type": "stream",
       "stream": "stdout",
       "text": [
        "pesi\n"
       ]
      }
     ],
     "prompt_number": 3
    },
    {
     "cell_type": "code",
     "collapsed": false,
     "input": [
      "def get_user_data(projects):\n",
      "    for i in range(1,len(projects)):\n",
      "        row = next(projects.iterrows())[i]\n",
      "        print row"
     ],
     "language": "python",
     "metadata": {},
     "outputs": [],
     "prompt_number": 4
    },
    {
     "cell_type": "code",
     "collapsed": false,
     "input": [
      "get_user_data(all_projects[:10])"
     ],
     "language": "python",
     "metadata": {},
     "outputs": [
      {
       "ename": "IndexError",
       "evalue": "tuple index out of range",
       "output_type": "pyerr",
       "traceback": [
        "\u001b[1;31m---------------------------------------------------------------------------\u001b[0m\n\u001b[1;31mIndexError\u001b[0m                                Traceback (most recent call last)",
        "\u001b[1;32m<ipython-input-5-31739635c7e2>\u001b[0m in \u001b[0;36m<module>\u001b[1;34m()\u001b[0m\n\u001b[1;32m----> 1\u001b[1;33m \u001b[0mget_user_data\u001b[0m\u001b[1;33m(\u001b[0m\u001b[0mall_projects\u001b[0m\u001b[1;33m[\u001b[0m\u001b[1;33m:\u001b[0m\u001b[1;36m10\u001b[0m\u001b[1;33m]\u001b[0m\u001b[1;33m)\u001b[0m\u001b[1;33m\u001b[0m\u001b[0m\n\u001b[0m",
        "\u001b[1;32m<ipython-input-4-f9cc36ebbd67>\u001b[0m in \u001b[0;36mget_user_data\u001b[1;34m(projects)\u001b[0m\n\u001b[0;32m      1\u001b[0m \u001b[1;32mdef\u001b[0m \u001b[0mget_user_data\u001b[0m\u001b[1;33m(\u001b[0m\u001b[0mprojects\u001b[0m\u001b[1;33m)\u001b[0m\u001b[1;33m:\u001b[0m\u001b[1;33m\u001b[0m\u001b[0m\n\u001b[0;32m      2\u001b[0m     \u001b[1;32mfor\u001b[0m \u001b[0mi\u001b[0m \u001b[1;32min\u001b[0m \u001b[0mrange\u001b[0m\u001b[1;33m(\u001b[0m\u001b[1;36m1\u001b[0m\u001b[1;33m,\u001b[0m\u001b[0mlen\u001b[0m\u001b[1;33m(\u001b[0m\u001b[0mprojects\u001b[0m\u001b[1;33m)\u001b[0m\u001b[1;33m)\u001b[0m\u001b[1;33m:\u001b[0m\u001b[1;33m\u001b[0m\u001b[0m\n\u001b[1;32m----> 3\u001b[1;33m         \u001b[0mrow\u001b[0m \u001b[1;33m=\u001b[0m \u001b[0mnext\u001b[0m\u001b[1;33m(\u001b[0m\u001b[0mprojects\u001b[0m\u001b[1;33m.\u001b[0m\u001b[0miterrows\u001b[0m\u001b[1;33m(\u001b[0m\u001b[1;33m)\u001b[0m\u001b[1;33m)\u001b[0m\u001b[1;33m[\u001b[0m\u001b[0mi\u001b[0m\u001b[1;33m]\u001b[0m\u001b[1;33m\u001b[0m\u001b[0m\n\u001b[0m\u001b[0;32m      4\u001b[0m         \u001b[1;32mprint\u001b[0m \u001b[0mrow\u001b[0m\u001b[1;33m\u001b[0m\u001b[0m\n",
        "\u001b[1;31mIndexError\u001b[0m: tuple index out of range"
       ]
      },
      {
       "output_type": "stream",
       "stream": "stdout",
       "text": [
        "Unnamed: 0                                                           0\n",
        "backers_count                                                        0\n",
        "blurb                hip-hopumentary- a scored documentary tracing ...\n",
        "category                                                   Documentary\n",
        "country                                                             US\n",
        "creator_id                                                   961594991\n",
        "creator_name                                              Tre Matthews\n",
        "creator_slug                                             tremoneybaggs\n",
        "creator_url           http://www.kickstarter.com/profile/tremoneybaggs\n",
        "currency                                                           USD\n",
        "deadline                                                    1389313742\n",
        "goal                                                              4500\n",
        "last_state_change                                           1384993742\n",
        "launched_at                                                 1384993742\n",
        "location_id                                                    2449323\n",
        "location_name                                              Memphis, TN\n",
        "pledged                                                              0\n",
        "project_id                                                   512147210\n",
        "project_name         DropDownFilms Digital distribution for \"Pimpin...\n",
        "project_slug         dropdownfilms-digital-distribution-for-pimpin-...\n",
        "project_url          http://www.kickstarter.com/projects/tremoneyba...\n",
        "state                                                             live\n",
        "Name: 0, dtype: object\n"
       ]
      }
     ],
     "prompt_number": 5
    },
    {
     "cell_type": "code",
     "collapsed": false,
     "input": [
      "all_projects['creator_name']"
     ],
     "language": "python",
     "metadata": {},
     "outputs": []
    },
    {
     "cell_type": "code",
     "collapsed": false,
     "input": [
      "print \"There are\", len(all_projects['blurb']), \"projects in this dataset.\"\n",
      "print \"There are\", all_projects['creator_url'].nunique(), \"creators in this dataset.\"\n",
      "print \"There are\", all_projects['project_id'].nunique(), \"projects in this dataset.\""
     ],
     "language": "python",
     "metadata": {},
     "outputs": [
      {
       "output_type": "stream",
       "stream": "stdout",
       "text": [
        "There are 101804 projects in this dataset.\n",
        "There are "
       ]
      },
      {
       "output_type": "stream",
       "stream": "stdout",
       "text": [
        "90173 creators in this dataset.\n",
        "There are 101804 projects in this dataset.\n"
       ]
      }
     ],
     "prompt_number": 6
    },
    {
     "cell_type": "code",
     "collapsed": false,
     "input": [
      "import matplotlib.pyplot as plt\n",
      "import numpy as np\n",
      "from sklearn.feature_extraction.text import CountVectorizer"
     ],
     "language": "python",
     "metadata": {},
     "outputs": [],
     "prompt_number": 7
    },
    {
     "cell_type": "code",
     "collapsed": false,
     "input": [
      "all_projects['success'] = all_projects.apply(lambda row: int(row['pledged'] - row['goal'] > 0), axis=1)"
     ],
     "language": "python",
     "metadata": {},
     "outputs": [],
     "prompt_number": 8
    },
    {
     "cell_type": "code",
     "collapsed": false,
     "input": [
      "subdf = all_projects[5000:40000]\n",
      "\n",
      "vectorizer = CountVectorizer(min_df=.04)"
     ],
     "language": "python",
     "metadata": {},
     "outputs": [],
     "prompt_number": 9
    },
    {
     "cell_type": "code",
     "collapsed": false,
     "input": [
      "#hint: Consult the scikit-learn documentation to\n",
      "#      learn about what these classes do do\n",
      "from sklearn.cross_validation import train_test_split\n",
      "from sklearn.naive_bayes import MultinomialNB\n",
      "\n",
      "def make_xy(x, y, vectorizer=None):\n",
      "    text = x\n",
      "    \n",
      "    if vectorizer == None:\n",
      "        vectorizer = CountVectorizer(min_df=0)\n",
      "\n",
      "    vectorizer.fit(text)\n",
      "    x = vectorizer.transform(text)\n",
      "    #X = X.toarray()\n",
      "    \n",
      "    return x, y"
     ],
     "language": "python",
     "metadata": {},
     "outputs": [],
     "prompt_number": 10
    },
    {
     "cell_type": "code",
     "collapsed": false,
     "input": [
      "X, Y = make_xy(subdf['blurb'], subdf['success'], vectorizer)"
     ],
     "language": "python",
     "metadata": {},
     "outputs": [],
     "prompt_number": 11
    },
    {
     "cell_type": "code",
     "collapsed": false,
     "input": [
      "import math\n",
      "def ysigma(frac, n):\n",
      "    return math.sqrt(frac*(1.0 - frac)/n)\n",
      "\n",
      "def calibration_plot(clf, X, Y):\n",
      "    nbins = 20\n",
      "    PFresh = [row[1] for row in clf.predict_proba(X)]\n",
      "    \n",
      "    df = pd.DataFrame({\"PFresh\": PFresh, \"fresh\": Y})\n",
      "    df[\"bin\"] = df.apply(lambda x: math.floor(x['PFresh'] * nbins), axis=1)\n",
      "    \n",
      "    bins = df.groupby(\"bin\")\n",
      "    observed_freshness = bins['fresh'].aggregate(np.mean).values\n",
      "    predicted_freshness = bins['PFresh'].aggregate(np.mean).values\n",
      "    bin_size = bins['fresh'].aggregate(len).values\n",
      "    \n",
      "    sigmas = [2*ysigma(observed_freshness[i], bin_size[i]) for i in range(len(bin_size))] # 95% confidence interval\n",
      "    \n",
      "    fig = plt.figure()\n",
      "    ax1 = fig.add_subplot(211)\n",
      "    ax1.errorbar(predicted_freshness, observed_freshness, yerr=np.vstack([sigmas, sigmas]))\n",
      "    ax1.plot([0,1], [0,1], color=\"r\")\n",
      "    \n",
      "    ax2 = fig.add_subplot(212)\n",
      "    ax2.hist(PFresh, color='orange')\n",
      "    plt.show()"
     ],
     "language": "python",
     "metadata": {},
     "outputs": [],
     "prompt_number": 12
    },
    {
     "cell_type": "code",
     "collapsed": false,
     "input": [
      "xtrain, xtest, ytrain, ytest = train_test_split(X, Y)\n",
      "\n",
      "nb_classifier = MultinomialNB()\n",
      "nb_classifier.fit(xtrain, ytrain)\n",
      "nb_classifier.score(xtest, ytest)"
     ],
     "language": "python",
     "metadata": {},
     "outputs": [
      {
       "metadata": {},
       "output_type": "pyout",
       "prompt_number": 13,
       "text": [
        "0.55668571428571434"
       ]
      }
     ],
     "prompt_number": 13
    },
    {
     "cell_type": "code",
     "collapsed": false,
     "input": [
      "calibration_plot(nb_classifier, xtest, ytest)"
     ],
     "language": "python",
     "metadata": {},
     "outputs": [],
     "prompt_number": 14
    },
    {
     "cell_type": "code",
     "collapsed": false,
     "input": [
      "print \"Score on test data\", nb_classifier.score(xtest,ytest)\n",
      "print \"Score on training data\", nb_classifier.score(xtrain,ytrain)"
     ],
     "language": "python",
     "metadata": {},
     "outputs": [
      {
       "output_type": "stream",
       "stream": "stdout",
       "text": [
        "Score on test data 0.556685714286\n",
        "Score on training data 0.556228571429\n"
       ]
      }
     ],
     "prompt_number": 15
    },
    {
     "cell_type": "code",
     "collapsed": false,
     "input": [
      "import sklearn.cross_validation as cv\n",
      "from sklearn.cross_validation import KFold\n",
      "import random\n",
      "\n",
      "def log_likelihood(clf, x, y):\n",
      "    logPs = clf.predict_log_proba(x)\n",
      "    return sum([logPs[i][1] for i in range(len(y)) if y[i] == 1]) + sum([logPs[i][0] for i in range(len(y)) if y[i] == 0])\n",
      "\n",
      "def test(arg1, arg2):\n",
      "    print arg1\n",
      "    print arg2\n",
      "    return 0\n",
      "\n",
      "def cv_score(clf, x, y, score_func):\n",
      "    result = 0\n",
      "    nfold = 5\n",
      "    # for train, test in KFold(y.size, nfold):\n",
      "    for train, test in KFold(y.size, nfold): # split data into train/test groups, 5 times\n",
      "        clf.fit(x[train], y[train]) # fit\n",
      "        result += score_func(clf, x[test], y[test]) # evaluate score function on held-out data\n",
      "    return result / nfold # average\n",
      "\n",
      "def gen_random(val):\n",
      "    if random.random() < val:\n",
      "        return False\n",
      "    else:\n",
      "        return True\n",
      "    \n",
      "def disjoint_sets(length):\n",
      "    include = [gen_random(.25) for i in range(length)]\n",
      "    exclude = [not(i) for i in include]\n",
      "    return include, exclude"
     ],
     "language": "python",
     "metadata": {},
     "outputs": [],
     "prompt_number": 16
    },
    {
     "cell_type": "code",
     "collapsed": false,
     "input": [
      "xtrain, xtest, ytrain, ytest = train_test_split(X, Y)"
     ],
     "language": "python",
     "metadata": {},
     "outputs": [],
     "prompt_number": 17
    },
    {
     "cell_type": "code",
     "collapsed": false,
     "input": [
      "i, e = disjoint_sets(len(subdf))\n",
      "train = subdf[i]\n",
      "test = subdf[e]\n",
      "\n",
      "xtrain = train['blurb']\n",
      "xtest = test['blurb']\n",
      "ytrain = train['success']\n",
      "ytest = test['success']"
     ],
     "language": "python",
     "metadata": {},
     "outputs": [],
     "prompt_number": 18
    },
    {
     "cell_type": "code",
     "collapsed": false,
     "input": [
      "#the grid of parameters to search over\n",
      "alphas = [300, 325, 350, 375, 362.5]\n",
      "min_dfs = [.009, .008, .007, .01, .011, .0115, .0105, .012, .013]\n",
      "\n",
      "#Find the best value for alpha and min_df, and the best classifier\n",
      "best_alpha = None\n",
      "best_min_df = None\n",
      "max_loglike = -np.inf\n",
      "\n",
      "for alpha in alphas:\n",
      "    for min_df in min_dfs:         \n",
      "        vectorizer = CountVectorizer(min_df = min_df)       \n",
      "        X, Y = make_xy(xtrain, ytrain, vectorizer)\n",
      "        \n",
      "        #your code here\n",
      "        clf = MultinomialNB(alpha = alpha)\n",
      "        score = cv.cross_val_score(clf, X, Y, scoring=log_likelihood)[2]\n",
      "        \n",
      "        if score > max_loglike:\n",
      "            max_loglike = score\n",
      "            best_alpha = alpha\n",
      "            best_min_df = min_df"
     ],
     "language": "python",
     "metadata": {},
     "outputs": [],
     "prompt_number": 19
    },
    {
     "cell_type": "code",
     "collapsed": false,
     "input": [
      "vectorizer = CountVectorizer(min_df = best_min_df)       \n",
      "clf = MultinomialNB(alpha = best_alpha)\n",
      "\n",
      "X, Y = make_xy(xtrain, ytrain, vectorizer)\n",
      "xtrain, xtest, ytrain, ytest = train_test_split(X, Y)\n",
      "\n",
      "clf.fit(xtrain, ytrain)\n",
      "clf.score(xtest, ytest)\n",
      "\n",
      "calibration_plot(clf, xtest, ytest)"
     ],
     "language": "python",
     "metadata": {},
     "outputs": [],
     "prompt_number": 20
    },
    {
     "cell_type": "code",
     "collapsed": false,
     "input": [
      "print best_alpha, best_min_df\n",
      "print max_loglike"
     ],
     "language": "python",
     "metadata": {},
     "outputs": [
      {
       "output_type": "stream",
       "stream": "stdout",
       "text": [
        "300 0.0105\n",
        "-5909.20498345\n"
       ]
      }
     ],
     "prompt_number": 21
    },
    {
     "cell_type": "code",
     "collapsed": false,
     "input": [
      "words = vectorizer.get_feature_names()\n",
      "\n",
      "df = pd.DataFrame({\"word\": words,\n",
      "                   \"PSuccess\": [clf.predict_proba(np.eye(1, len(words), i, dtype=int))[0][1] for i in range(len(words))]})\n",
      "\n",
      "df = df.sort(columns='PSuccess', ascending=False)\n",
      "\n",
      "print \"Best Words\"\n",
      "for i in range(100):\n",
      "    print df.irow(i).values[1], 'has a' , df.irow(i).values[0], \"% chance of being rated fresh\"\n",
      "    \n",
      "df = df.sort(columns='PSuccess')\n",
      "\n",
      "hprint \"\\nWorst Words\"\n",
      "for i in range(100):\n",
      "   print df.irow(i).values[1], 'has a' , df.irow(i).values[0], \"% chance of being rated fresh\""
     ],
     "language": "python",
     "metadata": {},
     "outputs": [
      {
       "output_type": "stream",
       "stream": "stdout",
       "text": [
        "Best Words\n",
        "album has a 0.641397694894 % chance of being rated fresh\n",
        "record has a 0.629990558788 % chance of being rated fresh\n",
        "help has a 0.616396573222 % chance of being rated fresh\n",
        "songs has a 0.608902800701 % chance of being rated fresh\n",
        "new has a 0.598673301321 % chance of being rated fresh\n",
        "recording has a 0.595222843336 % chance of being rated fresh\n",
        "length has a 0.588089727144 % chance of being rated fresh\n",
        "full has a 0.587575726814 % chance of being rated fresh\n",
        "we has a 0.58386194431 % chance of being rated fresh\n",
        "debut has a 0.582470632187 % chance of being rated fresh\n",
        "our has a 0.580275648242 % chance of being rated fresh\n",
        "need has a 0.580130010363 % chance of being rated fresh\n",
        "ep has a 0.578374718319 % chance of being rated fresh\n",
        "re has a 0.577693489745 % chance of being rated fresh\n",
        "first has a 0.577458239796 % chance of being rated fresh\n",
        "at has a 0.57742287307 % chance of being rated fresh\n",
        "us has a 0.575640118766 % chance of being rated fresh\n",
        "by has a 0.573411378447 % chance of being rated fresh\n",
        "film has a 0.572707996664 % chance of being rated fresh\n",
        "festival has a 0.572261869165 % chance of being rated fresh\n",
        "band has a 0.571256868477 % chance of being rated fresh\n",
        "release has a 0.570920652888 % chance of being rated fresh\n",
        "studio has a 0.570777660589 % chance of being rated fresh\n",
        "original has a 0.568059348499 % chance of being rated fresh\n",
        "cd has a 0.566607508144 % chance of being rated fresh\n",
        "2013 has a 0.566517417621 % chance of being rated fresh\n",
        "making has a 0.561388449375 % chance of being rated fresh\n",
        "short has a 0.560839544502 % chance of being rated fresh\n",
        "ve has a 0.560763758914 % chance of being rated fresh\n",
        "part has a 0.559877593291 % chance of being rated fresh\n",
        "fund has a 0.556882005276 % chance of being rated fresh\n",
        "out has a 0.556473696656 % chance of being rated fresh\n",
        "support has a 0.553177318772 % chance of being rated fresh\n",
        "tour has a 0.552534569771 % chance of being rated fresh\n",
        "art has a 0.552416773051 % chance of being rated fresh\n",
        "musical has a 0.552285212601 % chance of being rated fresh\n",
        "live has a 0.549666505345 % chance of being rated fresh\n",
        "dance has a 0.547850035952 % chance of being rated fresh\n",
        "rock has a 0.547024646061 % chance of being rated fresh\n",
        "now has a 0.54665556015 % chance of being rated fresh\n",
        "get has a 0.546129745166 % chance of being rated fresh\n",
        "needs has a 0.544850721615 % chance of being rated fresh\n",
        "love has a 0.544550183603 % chance of being rated fresh\n",
        "comedy has a 0.544210559636 % chance of being rated fresh\n",
        "your has a 0.543058950373 % chance of being rated fresh\n",
        "her has a 0.542998519124 % chance of being rated fresh\n",
        "music has a 0.542534879951 % chance of being rated fresh\n",
        "make has a 0.54252399552 % chance of being rated fresh\n",
        "but has a 0.541184897989 % chance of being rated fresh\n",
        "work has a 0.541003454636 % chance of being rated fresh\n",
        "their has a 0.540677386844 % chance of being rated fresh\n",
        "artists has a 0.539796744492 % chance of being rated fresh\n",
        "his has a 0.539506015657 % chance of being rated fresh\n",
        "of has a 0.538013319611 % chance of being rated fresh\n",
        "about has a 0.537897301694 % chance of being rated fresh\n",
        "year has a 0.537892245727 % chance of being rated fresh\n",
        "song has a 0.537839157959 % chance of being rated fresh\n",
        "bring has a 0.537359374624 % chance of being rated fresh\n",
        "do has a 0.53726667916 % chance of being rated fresh\n",
        "three has a 0.536550987278 % chance of being rated fresh\n",
        "in has a 0.536409978387 % chance of being rated fresh\n",
        "production has a 0.536372719697 % chance of being rated fresh\n",
        "featuring has a 0.535687988554 % chance of being rated fresh\n",
        "my has a 0.534260300568 % chance of being rated fresh\n",
        "with has a 0.532825532378 % chance of being rated fresh\n",
        "city has a 0.532692085083 % chance of being rated fresh\n",
        "so has a 0.532461390752 % chance of being rated fresh\n",
        "dark has a 0.532428996342 % chance of being rated fresh\n",
        "its has a 0.532280869765 % chance of being rated fresh\n",
        "next has a 0.531895566102 % chance of being rated fresh\n",
        "artist has a 0.531542698772 % chance of being rated fresh\n",
        "modern has a 0.531257295837 % chance of being rated fresh\n",
        "money has a 0.531245519734 % chance of being rated fresh\n",
        "me has a 0.531238760402 % chance of being rated fresh\n",
        "years has a 0.531046305801 % chance of being rated fresh\n",
        "comic has a 0.531035671524 % chance of being rated fresh\n",
        "from has a 0.530543327038 % chance of being rated fresh\n",
        "and has a 0.530485654039 % chance of being rated fresh\n",
        "it has a 0.530408594579 % chance of being rated fresh\n",
        "video has a 0.530358499681 % chance of being rated fresh\n",
        "join has a 0.529625634099 % chance of being rated fresh\n",
        "been has a 0.528917958523 % chance of being rated fresh\n",
        "let has a 0.528372238366 % chance of being rated fresh\n",
        "two has a 0.528359600241 % chance of being rated fresh\n",
        "for has a 0.527622728661 % chance of being rated fresh\n",
        "ready has a 0.527396673685 % chance of being rated fresh\n",
        "you has a 0.527165395709 % chance of being rated fresh\n",
        "project has a 0.526837528879 % chance of being rated fresh\n",
        "inspired has a 0.525840370202 % chance of being rated fresh\n",
        "creating has a 0.525766080684 % chance of being rated fresh\n",
        "girl has a 0.525648059628 % chance of being rated fresh\n",
        "some has a 0.524844566789 % chance of being rated fresh\n",
        "community has a 0.524725985133 % chance of being rated fresh\n",
        "between has a 0.524688570153 % chance of being rated fresh\n",
        "collection has a 0.523824202623 % chance of being rated fresh\n",
        "set has a 0.523808188191 % chance of being rated fresh\n",
        "come has a 0.523808188191 % chance of being rated fresh\n",
        "the has a 0.523627914901 % chance of being rated fresh\n",
        "together has a 0.523388603397 % chance of being rated fresh\n",
        "space has a 0.52305682958 % chance of being rated fresh\n",
        "\n",
        "Worst Words\n",
        "fun has a 0.468908903044 % chance of being rated fresh\n",
        "have has a 0.471892849719 % chance of being rated fresh\n",
        "line has a 0.473666904089 % chance of being rated fresh\n",
        "no has a 0.475752268688 % chance of being rated fresh\n",
        "would has a 0.475833050552 % chance of being rated fresh\n",
        "game has a 0.476327033874 % chance of being rated fresh\n",
        "not has a 0.477704276582 % chance of being rated fresh\n",
        "how has a 0.479789448398 % chance of being rated fresh\n",
        "looking has a 0.479896590275 % chance of being rated fresh\n",
        "action has a 0.482847127408 % chance of being rated fresh\n",
        "style has a 0.48361440884 % chance of being rated fresh\n",
        "people has a 0.483994036716 % chance of being rated fresh\n",
        "unique has a 0.484174001904 % chance of being rated fresh\n",
        "what has a 0.484290094679 % chance of being rated fresh\n",
        "life has a 0.484682829658 % chance of being rated fresh\n",
        "novel has a 0.485129471033 % chance of being rated fresh\n",
        "that has a 0.485324496761 % chance of being rated fresh\n",
        "most has a 0.486352427646 % chance of being rated fresh\n",
        "while has a 0.486716168366 % chance of being rated fresh\n",
        "series has a 0.487438481402 % chance of being rated fresh\n",
        "find has a 0.488321001174 % chance of being rated fresh\n",
        "like has a 0.489470069794 % chance of being rated fresh\n",
        "which has a 0.490366045355 % chance of being rated fresh\n",
        "using has a 0.491064955494 % chance of being rated fresh\n",
        "true has a 0.4914208591 % chance of being rated fresh\n",
        "all has a 0.492218386871 % chance of being rated fresh\n",
        "real has a 0.492907177244 % chance of being rated fresh\n",
        "children has a 0.493088934641 % chance of being rated fresh\n",
        "he has a 0.49311105256 % chance of being rated fresh\n",
        "design has a 0.493561181501 % chance of being rated fresh\n",
        "they has a 0.494393061422 % chance of being rated fresh\n",
        "or has a 0.49579583872 % chance of being rated fresh\n",
        "as has a 0.495828709524 % chance of being rated fresh\n",
        "journey has a 0.49618669705 % chance of being rated fresh\n",
        "way has a 0.496292825627 % chance of being rated fresh\n",
        "free has a 0.496462174313 % chance of being rated fresh\n",
        "will has a 0.497117649407 % chance of being rated fresh\n",
        "where has a 0.497583657171 % chance of being rated fresh\n",
        "create has a 0.497923534751 % chance of being rated fresh\n",
        "just has a 0.49973998245 % chance of being rated fresh\n",
        "small has a 0.499867184375 % chance of being rated fresh\n",
        "world has a 0.500133078981 % chance of being rated fresh\n",
        "lives has a 0.501120317953 % chance of being rated fresh\n",
        "am has a 0.501406215488 % chance of being rated fresh\n",
        "kids has a 0.502575851993 % chance of being rated fresh\n",
        "if has a 0.503713641918 % chance of being rated fresh\n",
        "old has a 0.503830397212 % chance of being rated fresh\n",
        "based has a 0.504595033065 % chance of being rated fresh\n",
        "there has a 0.504914143475 % chance of being rated fresh\n",
        "family has a 0.50502584124 % chance of being rated fresh\n",
        "other has a 0.505060199644 % chance of being rated fresh\n",
        "only has a 0.505256935543 % chance of being rated fresh\n",
        "story has a 0.505619284197 % chance of being rated fresh\n",
        "great has a 0.505811806681 % chance of being rated fresh\n",
        "is has a 0.506126698837 % chance of being rated fresh\n",
        "around has a 0.50615013727 % chance of being rated fresh\n",
        "book has a 0.507035985094 % chance of being rated fresh\n",
        "one has a 0.507209600294 % chance of being rated fresh\n",
        "food has a 0.507357043614 % chance of being rated fresh\n",
        "into has a 0.507734245351 % chance of being rated fresh\n",
        "history has a 0.507892929248 % chance of being rated fresh\n",
        "beautiful"
       ]
      },
      {
       "output_type": "stream",
       "stream": "stdout",
       "text": [
        " has a 0.507933380138 % chance of being rated fresh\n",
        "designed has a 0.508535877365 % chance of being rated fresh\n",
        "take has a 0.508589473628 % chance of being rated fresh\n",
        "young has a 0.508633990865 % chance of being rated fresh\n",
        "local has a 0.509115071328 % chance of being rated fresh\n",
        "day has a 0.509115071328 % chance of being rated fresh\n",
        "made has a 0.509577444502 % chance of being rated fresh\n",
        "through has a 0.509909696677 % chance of being rated fresh\n",
        "fantasy has a 0.510868762068 % chance of being rated fresh\n",
        "hand has a 0.51210776159 % chance of being rated fresh\n",
        "stories has a 0.512162499839 % chance of being rated fresh\n",
        "documentary has a 0.51269123331 % chance of being rated fresh\n",
        "want has a 0.51269123331 % chance of being rated fresh\n",
        "experience has a 0.512763008032 % chance of being rated fresh\n",
        "after has a 0.512809226979 % chance of being rated fresh\n",
        "adventure has a 0.512913499227 % chance of being rated fresh\n",
        "man has a 0.513127422949 % chance of being rated fresh\n",
        "has has a 0.513401140756 % chance of being rated fresh\n",
        "back has a 0.514009197 % chance of being rated fresh\n",
        "own has a 0.514431421467 % chance of being rated fresh\n",
        "dream has a 0.514488575319 % chance of being rated fresh\n",
        "when has a 0.514595702535 % chance of being rated fresh\n",
        "over has a 0.51517566317 % chance of being rated fresh\n",
        "home has a 0.515883158656 % chance of being rated fresh\n",
        "an has a 0.516657099524 % chance of being rated fresh\n",
        "feature has a 0.517008108043 % chance of being rated fresh\n",
        "best has a 0.517114345656 % chance of being rated fresh\n",
        "them has a 0.517374298833 % chance of being rated fresh\n",
        "go has a 0.517680974299 % chance of being rated fresh\n",
        "friends has a 0.518869743816 % chance of being rated fresh\n",
        "up has a 0.51979438131 % chance of being rated fresh\n",
        "on has a 0.519993366876 % chance of being rated fresh\n",
        "share has a 0.520029425081 % chance of being rated fresh\n",
        "who has a 0.520174638553 % chance of being rated fresh\n",
        "little has a 0.520322817173 % chance of being rated fresh\n",
        "more has a 0.52061085079 % chance of being rated fresh\n",
        "ever has a 0.520843240923 % chance of being rated fresh\n",
        "this has a 0.520885731443 % chance of being rated fresh\n",
        "be has a 0.521254299096 % chance of being rated fresh\n"
       ]
      },
      {
       "ename": "SyntaxError",
       "evalue": "invalid syntax (<ipython-input-23-37397462d30a>, line 14)",
       "output_type": "pyerr",
       "traceback": [
        "\u001b[1;36m  File \u001b[1;32m\"<ipython-input-23-37397462d30a>\"\u001b[1;36m, line \u001b[1;32m14\u001b[0m\n\u001b[1;33m    hprint \"\\nWorst Words\"\u001b[0m\n\u001b[1;37m                         ^\u001b[0m\n\u001b[1;31mSyntaxError\u001b[0m\u001b[1;31m:\u001b[0m invalid syntax\n"
       ]
      }
     ],
     "prompt_number": 23
    },
    {
     "cell_type": "code",
     "collapsed": false,
     "input": [
      "class Markov:\n",
      "    \n",
      "    def __init__(self, corpus, alpha = 0, min_df = 0):\n",
      "        self.counts = {}\n",
      "        self.probs = {}\n",
      "        self.alpha = alpha\n",
      "        self.min_df = min_df\n",
      "        \n",
      "        for c in corpus:\n",
      "            self.add(c)\n",
      "            \n",
      "        self.make_probs()\n",
      "            \n",
      "    def add(self, text):\n",
      "        words = text.split(\" \")\n",
      "        \n",
      "        for before, after in zip(words, words[1:] + [\"#end#\"]):\n",
      "            if not(before in self.counts):\n",
      "                self.counts[before] = {}\n",
      "                self.counts[before][after] = self.alpha\n",
      "                self.counts[before][\"#total#\"] = self.alpha\n",
      "            elif not(after in self.counts[before]):\n",
      "                self.counts[before][after] = self.alpha\n",
      "                self.counts[before][\"#total#\"] += self.alpha\n",
      "            \n",
      "            self.counts[before][after] += 1\n",
      "            self.counts[before][\"#total#\"] += 1\n",
      "            \n",
      "    def make_probs(self):\n",
      "        self.margin = 0\n",
      "        for before in self.counts.keys():\n",
      "            self.probs[before] = {}\n",
      "            for after in self.counts[before].keys():\n",
      "                self.probs[before][after] = float(self.counts[before][after]) / self.counts[before][\"#total#\"]\n",
      "                self.margin += self.counts[before][\"#total#\"]\n",
      "    \n",
      "    def prob(self, text):\n",
      "        words = text.split(\" \")\n",
      "        ans = 1.0\n",
      "        for before, after in zip(words, words[1:] + [\"#end#\"]):\n",
      "            ans *= self.get_prob(before, after)\n",
      "            \n",
      "        return ans\n",
      "    \n",
      "    def get_prob(self, before, after):\n",
      "        if before not in self.probs:\n",
      "            return float(self.alpha) * self.alpha / ((self.margin + self.alpha)*len(self.counts.keys())*self.alpha)\n",
      "        if after not in self.probs[before]:\n",
      "            return float(self.alpha) / self.counts[before][\"#total#\"]\n",
      "        return self.probs[before][after]\n",
      "    \n",
      "    \n",
      "class MarkovClassifier:\n",
      "    def __init__(self, alpha):\n",
      "        self.alpha = alpha\n",
      "        \n",
      "    def train(self, X, Y):\n",
      "        success = []\n",
      "        failure = []\n",
      "        for x, y in zip(X, Y):\n",
      "            if y == 1:\n",
      "                success.append(x)\n",
      "            else:\n",
      "                failure.append(x)\n",
      "                \n",
      "        self.sm = Markov(success, alpha=self.alpha)\n",
      "        self.fm = Markov(failure, alpha=self.alpha)\n",
      "        \n",
      "    def predict_log_proba(self, text):\n",
      "        return math.log(self.sm.prob(text)) - math.log(self.sm.prob(text) + self.fm.prob(text))\n",
      "    \n",
      "    def prob(self, text):\n",
      "        return self.sm.prob(text) / (self.sm.prob(text) + self.fm.prob(text))\n",
      "    \n",
      "    def predict_proba(self, X):\n",
      "        return [[0, self.prob(x)] for x in X]\n",
      "    "
     ],
     "language": "python",
     "metadata": {},
     "outputs": [],
     "prompt_number": 33
    },
    {
     "cell_type": "code",
     "collapsed": false,
     "input": [
      "i, e = disjoint_sets(len(subdf))\n",
      "train = subdf[i]\n",
      "test = subdf[e]\n",
      "\n",
      "xtrain = train['blurb'].values\n",
      "xtest = test['blurb'].values\n",
      "ytrain = train['success'].values\n",
      "ytest = test['success'].values\n",
      "\n",
      "clf = MarkovClassifier(alpha = 1)\n",
      "clf.train(xtrain, ytrain)\n",
      "\n",
      "calibration_plot(clf, xtest, ytest)"
     ],
     "language": "python",
     "metadata": {},
     "outputs": [],
     "prompt_number": 19
    },
    {
     "cell_type": "code",
     "collapsed": false,
     "input": [],
     "language": "python",
     "metadata": {},
     "outputs": []
    }
   ],
   "metadata": {}
  }
 ]
}