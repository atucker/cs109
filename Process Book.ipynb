{
 "metadata": {
  "name": ""
 },
 "nbformat": 3,
 "nbformat_minor": 0,
 "worksheets": [
  {
   "cells": [
    {
     "cell_type": "code",
     "collapsed": false,
     "input": [
      "import requests\n",
      "import json\n",
      "import re\n",
      "import time\n",
      "import unicodedata\n",
      "import pandas as pd\n",
      "import HTMLParser\n",
      "import urllib\n",
      "import ast\n",
      "import BeautifulSoup"
     ],
     "language": "python",
     "metadata": {},
     "outputs": [],
     "prompt_number": 23
    },
    {
     "cell_type": "code",
     "collapsed": false,
     "input": [
      "a = \"asdlkfjalskjfdalksjfd\"\n",
      "print a[2:]"
     ],
     "language": "python",
     "metadata": {},
     "outputs": [
      {
       "output_type": "stream",
       "stream": "stdout",
       "text": [
        "dlkfjalskjfdalksjfd\n"
       ]
      }
     ],
     "prompt_number": 16
    },
    {
     "cell_type": "code",
     "collapsed": false,
     "input": [
      "def cat_string(categories):\n",
      "    s = \"\"\n",
      "    for c in categories:\n",
      "        s += \"&Categories=\" + str(c)\n",
      "    return s\n",
      "\n",
      "def make_url(year, month, day, categories):\n",
      "    year = str(year)\n",
      "    month = str(month)\n",
      "    day = str(day)\n",
      "    \n",
      "    return \"http://www.kickspy.com/projects/find?Keywords=&Settings.ExpandStatus=true&AnyStatus=true&Settings.ExpandCategories=true\" + cat_string(categories) + \"&Settings.ExpandDates=true&StartedAfter=\" + year + \"%2F\" + month + \"%2F\" + day + \"&StartedBefore=\" + year + \"%2F\" + month + \"%2F\" + day + \"&SortBy=0\"\n",
      "\n",
      "def get_titles(year, month, day):\n",
      "    #url = \"http://www.kickspy.com/projects/find?Keywords=&Settings.ExpandStatus=true&AnyStatus=true&AllCategories=true&Settings.ExpandDates=true&StartedAfter=\" + year + \"%2F\" + month + \"%2F\" + day + \"&StartedBefore=\" + year + \"%2F\" + month + \"%2F\" + day + \"&SortBy=0\"\n",
      "    \n",
      "    titles = set()\n",
      "    \n",
      "    text = requests.get(make_url(year, month, day, [j for j in range(14)])).text[60928:]\n",
      "    for line in text.split('\\n'):\n",
      "        if \"<h3>\" in line:\n",
      "            l = re.findall(r'\">(.*)<\\/a><\\/h3>', text)\n",
      "            titles.update([unicodedata.normalize('NFKD', j.strip()).encode('ascii','ignore') for j in l])\n",
      "        \n",
      "    text = requests.get(make_url(year, month, day, [j + 14 for j in range(17)])).text[60928:]\n",
      "    for line in text.split('\\n'):\n",
      "        if \"<h3>\" in line:\n",
      "            l = re.findall(r'\">(.*)<\\/a><\\/h3>', text)\n",
      "            titles.update([unicodedata.normalize('NFKD', j.strip()).encode('ascii','ignore') for j in l])\n",
      "\n",
      "    text = requests.get(make_url(year, month, day, [j + 31 for j in range(31)])).text[60928:]\n",
      "    for line in text.split('\\n'):\n",
      "        if \"<h3>\" in line:\n",
      "            l = re.findall(r'\">(.*)<\\/a><\\/h3>', text)\n",
      "            titles.update([unicodedata.normalize('NFKD', j.strip()).encode('ascii','ignore') for j in l])\n",
      "            \n",
      "    time.sleep(2)\n",
      "        \n",
      "    return titles\n",
      "\n",
      "def all_titles():\n",
      "    years = [2009, 2010, 2011, 2012, 2013]\n",
      "    months = [i + 1 for i in range(12)]\n",
      "    \n",
      "    all_titles = []\n",
      "    \n",
      "    for y in years:\n",
      "        for m in months:\n",
      "            print m\n",
      "            days = []\n",
      "            if m in [1, 3, 5, 7, 8, 10, 12]:\n",
      "                days = [1 + i for i in range(31)]\n",
      "            elif m in [4,6,9,11]:\n",
      "                days = [1 + i for i in range(30)]\n",
      "            else:\n",
      "                days = [1+i for i in range(28)]\n",
      "            for d in days:\n",
      "                all_titles.extend(get_titles(y, m, d))\n",
      "    \n",
      "    return all_titles"
     ],
     "language": "python",
     "metadata": {},
     "outputs": [],
     "prompt_number": 19
    },
    {
     "cell_type": "code",
     "collapsed": false,
     "input": [
      "titles_2009 = all_titles()"
     ],
     "language": "python",
     "metadata": {},
     "outputs": [
      {
       "ename": "KeyboardInterrupt",
       "evalue": "",
       "output_type": "pyerr",
       "traceback": [
        "\u001b[0;31m---------------------------------------------------------------------------\u001b[0m\n\u001b[0;31mKeyboardInterrupt\u001b[0m                         Traceback (most recent call last)",
        "\u001b[0;32m<ipython-input-18-5d02dcdf301b>\u001b[0m in \u001b[0;36m<module>\u001b[0;34m()\u001b[0m\n\u001b[0;32m----> 1\u001b[0;31m \u001b[0mtitles_2009\u001b[0m \u001b[0;34m=\u001b[0m \u001b[0mall_titles\u001b[0m\u001b[0;34m(\u001b[0m\u001b[0;34m)\u001b[0m\u001b[0;34m\u001b[0m\u001b[0m\n\u001b[0m",
        "\u001b[0;32m<ipython-input-17-e457483d708d>\u001b[0m in \u001b[0;36mall_titles\u001b[0;34m()\u001b[0m\n\u001b[1;32m     56\u001b[0m                 \u001b[0mdays\u001b[0m \u001b[0;34m=\u001b[0m \u001b[0;34m[\u001b[0m\u001b[0;36m1\u001b[0m\u001b[0;34m+\u001b[0m\u001b[0mi\u001b[0m \u001b[0;32mfor\u001b[0m \u001b[0mi\u001b[0m \u001b[0;32min\u001b[0m \u001b[0mrange\u001b[0m\u001b[0;34m(\u001b[0m\u001b[0;36m28\u001b[0m\u001b[0;34m)\u001b[0m\u001b[0;34m]\u001b[0m\u001b[0;34m\u001b[0m\u001b[0m\n\u001b[1;32m     57\u001b[0m             \u001b[0;32mfor\u001b[0m \u001b[0md\u001b[0m \u001b[0;32min\u001b[0m \u001b[0mdays\u001b[0m\u001b[0;34m:\u001b[0m\u001b[0;34m\u001b[0m\u001b[0m\n\u001b[0;32m---> 58\u001b[0;31m                 \u001b[0mall_titles\u001b[0m\u001b[0;34m.\u001b[0m\u001b[0mextend\u001b[0m\u001b[0;34m(\u001b[0m\u001b[0mget_titles\u001b[0m\u001b[0;34m(\u001b[0m\u001b[0my\u001b[0m\u001b[0;34m,\u001b[0m \u001b[0mm\u001b[0m\u001b[0;34m,\u001b[0m \u001b[0md\u001b[0m\u001b[0;34m)\u001b[0m\u001b[0;34m)\u001b[0m\u001b[0;34m\u001b[0m\u001b[0m\n\u001b[0m\u001b[1;32m     59\u001b[0m \u001b[0;34m\u001b[0m\u001b[0m\n\u001b[1;32m     60\u001b[0m     \u001b[0;32mreturn\u001b[0m \u001b[0mall_titles\u001b[0m\u001b[0;34m\u001b[0m\u001b[0m\n",
        "\u001b[0;32m<ipython-input-17-e457483d708d>\u001b[0m in \u001b[0;36mget_titles\u001b[0;34m(year, month, day)\u001b[0m\n\u001b[1;32m     35\u001b[0m             \u001b[0mtitles\u001b[0m\u001b[0;34m.\u001b[0m\u001b[0mupdate\u001b[0m\u001b[0;34m(\u001b[0m\u001b[0;34m[\u001b[0m\u001b[0municodedata\u001b[0m\u001b[0;34m.\u001b[0m\u001b[0mnormalize\u001b[0m\u001b[0;34m(\u001b[0m\u001b[0;34m'NFKD'\u001b[0m\u001b[0;34m,\u001b[0m \u001b[0mj\u001b[0m\u001b[0;34m.\u001b[0m\u001b[0mstrip\u001b[0m\u001b[0;34m(\u001b[0m\u001b[0;34m)\u001b[0m\u001b[0;34m)\u001b[0m\u001b[0;34m.\u001b[0m\u001b[0mencode\u001b[0m\u001b[0;34m(\u001b[0m\u001b[0;34m'ascii'\u001b[0m\u001b[0;34m,\u001b[0m\u001b[0;34m'ignore'\u001b[0m\u001b[0;34m)\u001b[0m \u001b[0;32mfor\u001b[0m \u001b[0mj\u001b[0m \u001b[0;32min\u001b[0m \u001b[0ml\u001b[0m\u001b[0;34m]\u001b[0m\u001b[0;34m)\u001b[0m\u001b[0;34m\u001b[0m\u001b[0m\n\u001b[1;32m     36\u001b[0m \u001b[0;34m\u001b[0m\u001b[0m\n\u001b[0;32m---> 37\u001b[0;31m     \u001b[0mtime\u001b[0m\u001b[0;34m.\u001b[0m\u001b[0msleep\u001b[0m\u001b[0;34m(\u001b[0m\u001b[0;36m2\u001b[0m\u001b[0;34m)\u001b[0m\u001b[0;34m\u001b[0m\u001b[0m\n\u001b[0m\u001b[1;32m     38\u001b[0m \u001b[0;34m\u001b[0m\u001b[0m\n\u001b[1;32m     39\u001b[0m     \u001b[0;32mreturn\u001b[0m \u001b[0mtitles\u001b[0m\u001b[0;34m\u001b[0m\u001b[0m\n",
        "\u001b[0;31mKeyboardInterrupt\u001b[0m: "
       ]
      },
      {
       "output_type": "stream",
       "stream": "stdout",
       "text": [
        "1\n"
       ]
      }
     ],
     "prompt_number": 18
    },
    {
     "cell_type": "code",
     "collapsed": false,
     "input": [
      "len(titles_2009)"
     ],
     "language": "python",
     "metadata": {},
     "outputs": [
      {
       "metadata": {},
       "output_type": "pyout",
       "prompt_number": 47,
       "text": [
        "1367"
       ]
      }
     ],
     "prompt_number": 47
    },
    {
     "cell_type": "code",
     "collapsed": false,
     "input": [
      "titles_all = all_titles()"
     ],
     "language": "python",
     "metadata": {},
     "outputs": [
      {
       "ename": "KeyboardInterrupt",
       "evalue": "",
       "output_type": "pyerr",
       "traceback": [
        "\u001b[0;31m---------------------------------------------------------------------------\u001b[0m\n\u001b[0;31mKeyboardInterrupt\u001b[0m                         Traceback (most recent call last)",
        "\u001b[0;32m<ipython-input-20-3530c9b0c553>\u001b[0m in \u001b[0;36m<module>\u001b[0;34m()\u001b[0m\n\u001b[0;32m----> 1\u001b[0;31m \u001b[0mtitles_all\u001b[0m \u001b[0;34m=\u001b[0m \u001b[0mall_titles\u001b[0m\u001b[0;34m(\u001b[0m\u001b[0;34m)\u001b[0m\u001b[0;34m\u001b[0m\u001b[0m\n\u001b[0m",
        "\u001b[0;32m<ipython-input-19-e457483d708d>\u001b[0m in \u001b[0;36mall_titles\u001b[0;34m()\u001b[0m\n\u001b[1;32m     56\u001b[0m                 \u001b[0mdays\u001b[0m \u001b[0;34m=\u001b[0m \u001b[0;34m[\u001b[0m\u001b[0;36m1\u001b[0m\u001b[0;34m+\u001b[0m\u001b[0mi\u001b[0m \u001b[0;32mfor\u001b[0m \u001b[0mi\u001b[0m \u001b[0;32min\u001b[0m \u001b[0mrange\u001b[0m\u001b[0;34m(\u001b[0m\u001b[0;36m28\u001b[0m\u001b[0;34m)\u001b[0m\u001b[0;34m]\u001b[0m\u001b[0;34m\u001b[0m\u001b[0m\n\u001b[1;32m     57\u001b[0m             \u001b[0;32mfor\u001b[0m \u001b[0md\u001b[0m \u001b[0;32min\u001b[0m \u001b[0mdays\u001b[0m\u001b[0;34m:\u001b[0m\u001b[0;34m\u001b[0m\u001b[0m\n\u001b[0;32m---> 58\u001b[0;31m                 \u001b[0mall_titles\u001b[0m\u001b[0;34m.\u001b[0m\u001b[0mextend\u001b[0m\u001b[0;34m(\u001b[0m\u001b[0mget_titles\u001b[0m\u001b[0;34m(\u001b[0m\u001b[0my\u001b[0m\u001b[0;34m,\u001b[0m \u001b[0mm\u001b[0m\u001b[0;34m,\u001b[0m \u001b[0md\u001b[0m\u001b[0;34m)\u001b[0m\u001b[0;34m)\u001b[0m\u001b[0;34m\u001b[0m\u001b[0m\n\u001b[0m\u001b[1;32m     59\u001b[0m \u001b[0;34m\u001b[0m\u001b[0m\n\u001b[1;32m     60\u001b[0m     \u001b[0;32mreturn\u001b[0m \u001b[0mall_titles\u001b[0m\u001b[0;34m\u001b[0m\u001b[0m\n",
        "\u001b[0;32m<ipython-input-19-e457483d708d>\u001b[0m in \u001b[0;36mget_titles\u001b[0;34m(year, month, day)\u001b[0m\n\u001b[1;32m     35\u001b[0m             \u001b[0mtitles\u001b[0m\u001b[0;34m.\u001b[0m\u001b[0mupdate\u001b[0m\u001b[0;34m(\u001b[0m\u001b[0;34m[\u001b[0m\u001b[0municodedata\u001b[0m\u001b[0;34m.\u001b[0m\u001b[0mnormalize\u001b[0m\u001b[0;34m(\u001b[0m\u001b[0;34m'NFKD'\u001b[0m\u001b[0;34m,\u001b[0m \u001b[0mj\u001b[0m\u001b[0;34m.\u001b[0m\u001b[0mstrip\u001b[0m\u001b[0;34m(\u001b[0m\u001b[0;34m)\u001b[0m\u001b[0;34m)\u001b[0m\u001b[0;34m.\u001b[0m\u001b[0mencode\u001b[0m\u001b[0;34m(\u001b[0m\u001b[0;34m'ascii'\u001b[0m\u001b[0;34m,\u001b[0m\u001b[0;34m'ignore'\u001b[0m\u001b[0;34m)\u001b[0m \u001b[0;32mfor\u001b[0m \u001b[0mj\u001b[0m \u001b[0;32min\u001b[0m \u001b[0ml\u001b[0m\u001b[0;34m]\u001b[0m\u001b[0;34m)\u001b[0m\u001b[0;34m\u001b[0m\u001b[0m\n\u001b[1;32m     36\u001b[0m \u001b[0;34m\u001b[0m\u001b[0m\n\u001b[0;32m---> 37\u001b[0;31m     \u001b[0mtime\u001b[0m\u001b[0;34m.\u001b[0m\u001b[0msleep\u001b[0m\u001b[0;34m(\u001b[0m\u001b[0;36m2\u001b[0m\u001b[0;34m)\u001b[0m\u001b[0;34m\u001b[0m\u001b[0m\n\u001b[0m\u001b[1;32m     38\u001b[0m \u001b[0;34m\u001b[0m\u001b[0m\n\u001b[1;32m     39\u001b[0m     \u001b[0;32mreturn\u001b[0m \u001b[0mtitles\u001b[0m\u001b[0;34m\u001b[0m\u001b[0m\n",
        "\u001b[0;31mKeyboardInterrupt\u001b[0m: "
       ]
      },
      {
       "output_type": "stream",
       "stream": "stdout",
       "text": [
        "1\n"
       ]
      }
     ],
     "prompt_number": 20
    },
    {
     "cell_type": "code",
     "collapsed": false,
     "input": [
      "titles_all.reverse()"
     ],
     "language": "python",
     "metadata": {},
     "outputs": [],
     "prompt_number": 58
    },
    {
     "cell_type": "code",
     "collapsed": false,
     "input": [
      "print titles_all[0:100]"
     ],
     "language": "python",
     "metadata": {},
     "outputs": [
      {
       "output_type": "stream",
       "stream": "stdout",
       "text": [
        "['DropDownFilms Digital distribution for &quot;Pimpin Aint Dead&quot;', 'Straight Life', 'OPEN FOOD: Making local food open + accessible', 'Fire in the Hole Hotsauce wants to take over your kitchen!', 'Luck O&#39; The Dice', 'Robox&#174; : Desktop 3D Printer and Micro-Manufacturing Platform', 'Scion FRS Twill Carbon Fiber Full Body Kit', '&quot;The Sound of Colors&quot; series of paintings.', 'Designated Driver The Game - Adult Drinking Game', 'movie the rise, fall and recreation of detroit', 'Sweet Summer', 'Art Prints Of The Apocalypse', 'Forever Young fund', 'Bringing Kitchen Essentials BBQ sauce to the World!', 'Get B.U.L.K. to Seattle!', 'Rebel SoulJahz&#39;s &quot;SoulJahz for Life&quot; LP', 'MICHIGAN - HIGH CALIBER SCIENCE FICTION', 'The Conversation', 'THE OTHER BLUE 2!! - Original Comic by Justin Gloyd', '&#39;The Dog Hunters&#39; by David Bell. Illustrated Edition.', 'Beer Breecher : A Timeless Design', 'Dream Mythology - A Line of Jewelry And Totems', 'The Christmas Department', 'The Divisi Project- Female A Cappella&#39;s Next Best Album!', 'Pc tablet/e-Reader In-bed use made Affordable, Easy and Fun.', 'RomCom : A Twisted Funny Internet Series on Love and Sex', 'Zero Street', 'Dance &amp; Sing - The Remnant&#39;s EP', '&quot;The Dooples&quot;... A Musical Adventure in LEARNING', 'Our Drive for Mastery', 'Fireball Newsweekly Crosswords 2014', 'the bantership - collected poems', 'Hand Painted Pendants', 'Matters of the Heart, Mind, Body &amp; Soul', 'The Photographs of C.L. Sharp-1930-1960', 'Body Paint Book titled COVERED, A Body of Work by Jen Seidel', 'Little Emily', 'Sleepwalkers - Feature Film', 'Kick start my Sugar Fueled Heart', 'Feministing Times Ten', 'DNG&#39;s Journey to release a successful single &quot;GOING&quot;', 'Vision of the Ages / A Musical Retelling of Favorite Hymns', 'Breakball', '&#39;It&#39;s a Wonderful Life&#39; in the Attic', 'Toronto Mayor - Rock and a Hard Place', 'AuxiliA 6 Song Album', 'Demo-Shield for Arduino, chipKIT, CHIPINO', 'Brett Hendrix Band&#39;s Debut Album', 'Custom nail wraps and false nails', 'CAMPFIRE VAUDEVILLE :: The Live Experience', 'Dani Rae is making her first EP!', 'Impatient Girl Music Video', 'The Reckoners a novel based on fact, fiction, and folklore.', 'Shirts for the East Idaho Aquarium', 'Wyoming Sky', 'A Book of Picture Quotes- For the Love of Quotes', '&quot;Prime PvP&quot; Minecraft Faction Sever for players by player&#39;s', 'Help Me Publish My 1st Book of Poetry!', 'Homeless Vets: In Their Own Words', 'Piano Teacher: Learn from home', 'Gamer&#39;s WORLD Movie', 'Let&#39;s Bring Carter&#39;s Chocolates &amp; Ice Cream to Tacoma!', 'Desk Planner Pads to plan your week in style', 'AN[OTHER M]: A Metroid Inspired EP', 'Maple Syrup Moonshine', 'The Year 2321: a feature film', 'The Xochipilli Collection', 'The Knuckler: A Multi-Tool to Roll with the Punches', 'Help Fund the &quot;You Can Run&quot; Music Video', '29 Alexander', 'FLEA MARKET RXTM // THE ROAD TO NEW YORK 2014', 'Whistle To Call Your Dog, Not Me', 'TiNKiDO - Educational video games', '&quot;Delaware St. John: Asylum of The Lost&quot; Adventure Game', '30 YEARS OF GARBAGE: The Garbage Pail Kids Story', 'Multi-Story Short Film', 'MIC&amp;KIC SPRING I SUMMER 14 COLLECTION', '&quot;Northern Nights&quot; a unique Northern Canadian perspective', 'Deep Web: The Untold Story of BitCoin and The Silk Road', 'Trumpet &amp; Organ CD project, Kenneth Piatt &amp; Robert Sullivan', 'Salted Roots Food Truck/Catering: Fun with Food, on Wheels!', 'ASTROBASE COMMAND', 'In Depth with Graham Bensinger', 'Scan and preserve Charles Anderson&#39;s Rainbow Slides Mural', 'ChargeDrive: The Charger Cable, Flash Drive, &amp; Tripod Mount!', 'Drawing of Disney World&#39;s Wilderness Lodge', 'The PNW Sticker Project', 'A Different Kind of Zombie! A Novel for Young Adults', 'Exit Seventy: Bringing art back to the t-shirt', 'Sneak Mouse (an iOS game)', 'EZDOCK1        The best universal dock for Smartphones -etc.', 'HELLBLINKI - New Album &quot;MULTITUDES&quot;', 'Pop Group Frixion&#39;s American Promo Tour!', 'Help Made in March Tour and record an EP!!', 'ECO~FRIG', 'Holiday BrewNuts, BrewGlaze, and Craft Beer Marshmallows!', 'Companion Bike Seats - Now Your Bike Seats Two!', 'Sha-Zam! Creating a hilarious book of comic strips', 'Lil Dicky&#39;s Kickstarter - Album, Videos, Touring', 'The Professor: Tai Chi&#39;s Journey West']\n"
       ]
      }
     ],
     "prompt_number": 59
    },
    {
     "cell_type": "code",
     "collapsed": false,
     "input": [
      "f = open(\"titles_all\", \"w\")\n",
      "for t in titles_all:\n",
      "    f.write(t)\n",
      "    f.write(\"\\n\")\n",
      "f.close()"
     ],
     "language": "python",
     "metadata": {},
     "outputs": [
      {
       "ename": "NameError",
       "evalue": "name 'titles_all' is not defined",
       "output_type": "pyerr",
       "traceback": [
        "\u001b[0;31m---------------------------------------------------------------------------\u001b[0m\n\u001b[0;31mNameError\u001b[0m                                 Traceback (most recent call last)",
        "\u001b[0;32m<ipython-input-3-de21555fc13c>\u001b[0m in \u001b[0;36m<module>\u001b[0;34m()\u001b[0m\n\u001b[1;32m      1\u001b[0m \u001b[0mf\u001b[0m \u001b[0;34m=\u001b[0m \u001b[0mopen\u001b[0m\u001b[0;34m(\u001b[0m\u001b[0;34m\"titles_all\"\u001b[0m\u001b[0;34m,\u001b[0m \u001b[0;34m\"w\"\u001b[0m\u001b[0;34m)\u001b[0m\u001b[0;34m\u001b[0m\u001b[0m\n\u001b[0;32m----> 2\u001b[0;31m \u001b[0;32mfor\u001b[0m \u001b[0mt\u001b[0m \u001b[0;32min\u001b[0m \u001b[0mtitles_all\u001b[0m\u001b[0;34m:\u001b[0m\u001b[0;34m\u001b[0m\u001b[0m\n\u001b[0m\u001b[1;32m      3\u001b[0m     \u001b[0mf\u001b[0m\u001b[0;34m.\u001b[0m\u001b[0mwrite\u001b[0m\u001b[0;34m(\u001b[0m\u001b[0mt\u001b[0m\u001b[0;34m)\u001b[0m\u001b[0;34m\u001b[0m\u001b[0m\n\u001b[1;32m      4\u001b[0m     \u001b[0mf\u001b[0m\u001b[0;34m.\u001b[0m\u001b[0mwrite\u001b[0m\u001b[0;34m(\u001b[0m\u001b[0;34m\"\\n\"\u001b[0m\u001b[0;34m)\u001b[0m\u001b[0;34m\u001b[0m\u001b[0m\n\u001b[1;32m      5\u001b[0m \u001b[0mf\u001b[0m\u001b[0;34m.\u001b[0m\u001b[0mclose\u001b[0m\u001b[0;34m(\u001b[0m\u001b[0;34m)\u001b[0m\u001b[0;34m\u001b[0m\u001b[0m\n",
        "\u001b[0;31mNameError\u001b[0m: name 'titles_all' is not defined"
       ]
      }
     ],
     "prompt_number": 3
    },
    {
     "cell_type": "code",
     "collapsed": false,
     "input": [
      "test_2009v1 = all_titles()\n",
      "len(test_2009v1)"
     ],
     "language": "python",
     "metadata": {},
     "outputs": [
      {
       "output_type": "stream",
       "stream": "stdout",
       "text": [
        "10\n"
       ]
      },
      {
       "metadata": {},
       "output_type": "pyout",
       "prompt_number": 42,
       "text": [
        "195"
       ]
      }
     ],
     "prompt_number": 42
    },
    {
     "cell_type": "code",
     "collapsed": false,
     "input": [
      "test_2009v2 = all_titles()\n",
      "len(test_2009v2)"
     ],
     "language": "python",
     "metadata": {},
     "outputs": [
      {
       "output_type": "stream",
       "stream": "stdout",
       "text": [
        "10\n"
       ]
      },
      {
       "metadata": {},
       "output_type": "pyout",
       "prompt_number": 43,
       "text": [
        "195"
       ]
      }
     ],
     "prompt_number": 43
    },
    {
     "cell_type": "code",
     "collapsed": false,
     "input": [
      "a = get_titles(2013, 11, 12)\n",
      "len(a)"
     ],
     "language": "python",
     "metadata": {},
     "outputs": [
      {
       "metadata": {},
       "output_type": "pyout",
       "prompt_number": 44,
       "text": [
        "260"
       ]
      }
     ],
     "prompt_number": 44
    },
    {
     "cell_type": "code",
     "collapsed": false,
     "input": [
      "year = 2013\n",
      "month = 11\n",
      "day = 12\n",
      "print make_url(year, month, day, [j + 1 for j in range(13)])\n",
      "print make_url(year, month, day, [j + 14 for j in range(17)])\n",
      "print make_url(year, month, day, [j + 31 for j in range(20)])"
     ],
     "language": "python",
     "metadata": {},
     "outputs": [
      {
       "output_type": "stream",
       "stream": "stdout",
       "text": [
        "http://www.kickspy.com/projects/find?Keywords=&Settings.ExpandStatus=true&AnyStatus=true&Settings.ExpandCategories=true&Categories=1&Categories=2&Categories=3&Categories=4&Categories=5&Categories=6&Categories=7&Categories=8&Categories=9&Categories=10&Categories=11&Categories=12&Categories=13&Settings.ExpandDates=trueStartedAfter=2013%2F11%2F12&StartedBefore=2013%2F11%2F12&SortBy=0\n",
        "http://www.kickspy.com/projects/find?Keywords=&Settings.ExpandStatus=true&AnyStatus=true&Settings.ExpandCategories=true&Categories=14&Categories=15&Categories=16&Categories=17&Categories=18&Categories=19&Categories=20&Categories=21&Categories=22&Categories=23&Categories=24&Categories=25&Categories=26&Categories=27&Categories=28&Categories=29&Categories=30&Settings.ExpandDates=trueStartedAfter=2013%2F11%2F12&StartedBefore=2013%2F11%2F12&SortBy=0\n",
        "http://www.kickspy.com/projects/find?Keywords=&Settings.ExpandStatus=true&AnyStatus=true&Settings.ExpandCategories=true&Categories=31&Categories=32&Categories=33&Categories=34&Categories=35&Categories=36&Categories=37&Categories=38&Categories=39&Categories=40&Categories=41&Categories=42&Categories=43&Categories=44&Categories=45&Categories=46&Categories=47&Categories=48&Categories=49&Categories=50&Settings.ExpandDates=trueStartedAfter=2013%2F11%2F12&StartedBefore=2013%2F11%2F12&SortBy=0\n"
       ]
      }
     ],
     "prompt_number": 13
    },
    {
     "cell_type": "code",
     "collapsed": false,
     "input": [
      "# open the text file list of kickstarter titles, convert formatting\n",
      "f = open(\"titles_all.txt\", \"r\")\n",
      "all_titles = f.read().split(\"\\n\")\n",
      "\n",
      "print len(all_titles)"
     ],
     "language": "python",
     "metadata": {},
     "outputs": [
      {
       "output_type": "stream",
       "stream": "stdout",
       "text": [
        "121279\n"
       ]
      }
     ],
     "prompt_number": 7
    },
    {
     "cell_type": "code",
     "collapsed": false,
     "input": [
      "def dict_iterator(my_dict):\n",
      "    for key, value in my_dict.iteritems():\n",
      "        if type(value)==dict:\n",
      "            print \"recursed\"\n",
      "            new_dict = dict_iterator(value)\n",
      "            my_dict[key] = new_dict\n",
      "        if type(value)==unicode:\n",
      "            if 'saal_tucker_sturm_zimble' in value:\n",
      "                value = value.replace('saal_tucker_sturm_zimble','\"')\n",
      "                my_dict[key] = value\n",
      "    return my_dict\n",
      "\n",
      "                \n",
      "def title_returns_null(error_titles):\n",
      "    for title in error_titles:\n",
      "        url_ending = ''\n",
      "        url = 'http://www.kickspy.com/projects/find?Keywords='+title+'&Settings.ExpandStatus=true&AnyStatus=true&AllCategories=true&SortBy=0'\n",
      "        text = requests.get(url).text[60928:]\n",
      "        for line in text.split('\\n'):\n",
      "            if \"<h3>\" in line:\n",
      "                url_ending = line.split('href=\"',1)[1]\n",
      "                url_ending = url_ending.split('\">',1)[0]\n",
      "        url_2 = \"http://www.kickstarter.com/\" + url_ending\n",
      "        text_2 = requests.get(url_2).text\n",
      "        for line in text_2.split('\\n'):\n",
      "            if 'window.current_project' in line:\n",
      "                data = unicode(html_parser.unescape(line))\n",
      "                data = data.split('window.current_project = \"',1)[1]\n",
      "                data = data.split('\";')[0]\n",
      "                data = str(data)\n",
      "                data = data.replace('\\\\\"','\\\\saal_tucker_sturm_zimble')\n",
      "                data = data.replace('\\\\','')\n",
      "                data = json.loads(data)\n",
      "                data = dict_iterator(data)\n",
      "                print data\n",
      "        print url_2"
     ],
     "language": "python",
     "metadata": {},
     "outputs": [],
     "prompt_number": 122
    },
    {
     "cell_type": "code",
     "collapsed": false,
     "input": [
      "title_returns_null([\"DNG's Journey to release a successful single \\\"GOING\\\"\"])"
     ],
     "language": "python",
     "metadata": {},
     "outputs": [
      {
       "output_type": "stream",
       "stream": "stdout",
       "text": [
        "recursed\n",
        "recursed\n",
        "recursed\n",
        "recursed\n",
        "recursed\n",
        "recursed\n",
        "recursed\n",
        "recursed\n",
        "recursed\n",
        "recursed\n",
        "recursed\n",
        "recursed\n",
        "recursed\n",
        "recursed\n",
        "recursed\n",
        "{u'disable_communication': False, u'creator': {u'urls': {u'web': {u'user': u'http://www.kickstarter.com/profile/1123165793'}, u'api': {u'user': u'https://api.kickstarter.com/v1/users/1123165793?signature=1385530440.b483fbb7e663df06ec86145ebf8b94fb0e6bdd6d'}}, u'id': 1123165793, u'avatar': {u'small': u'https://s3.amazonaws.com/ksr/avatars/8765779/DNG_photo_shoot_.small.jpg?1384789906', u'medium': u'https://s3.amazonaws.com/ksr/avatars/8765779/DNG_photo_shoot_.medium.jpg?1384789906', u'thumb': u'https://s3.amazonaws.com/ksr/avatars/8765779/DNG_photo_shoot_.thumb.jpg?1384789906'}, u'name': u'Daniel Guaragna (DNG)'}, u'photo': {u'small': u'https://s3.amazonaws.com/ksr/projects/764819/photo-small.jpg?1384785989', u'ed': u'https://s3.amazonaws.com/ksr/projects/764819/photo-ed.jpg?1384785989', u'little': u'https://s3.amazonaws.com/ksr/projects/764819/photo-little.jpg?1384785989', u'full': u'https://s3.amazonaws.com/ksr/projects/764819/photo-full.jpg?1384785989', u'med': u'https://s3.amazonaws.com/ksr/projects/764819/photo-med.jpg?1384785989'}, u'updated_at': 1385431077, u'currency': u'CAD', u'deadline': 1388619660, u'currency_trailing_code': True, u'id': 1821248805, u'state_changed_at': 1385431077, u'category': {u'position': 3, u'id': 38, u'parent_id': 14, u'name': u'Electronic Music'}, u'goal': 1500.0, u'pledged': 21.0, u'state': u'canceled', u'updates_count': 0, u'location': {u'urls': {u'web': {u'discover': u'http://www.kickstarter.com/discover/places/toronto-on-ca'}, u'api': {u'nearby_projects': u'https://api.kickstarter.com/v1/projects/near?location_id=4118&signature=1385506206.bd9b10f68b36eff1ec8544a3b7eb6039ef0c0163', u'projects': u'https://api.kickstarter.com/v1/locations/4118/projects?signature=1385506206.edebe5f481eb4807b03dd6039b9a4cf46329f2b1'}}, u'id': 4118, u'short_name': u'Toronto, Canada', u'name': u'Toronto, Canada'}, u'launched_at': 1384981745, u'blurb': u'Hey there backers, Im currently finishing up my latest EDM single and i need your help to get things \"GOING\"', u'rewards': [{u'minimum': 1, u'id': 0, u'reward': u'No Reward'}, {u'project_id': 1821248805, u'shipping_applicable': False, u'updated_at': 1384815627, u'remaining': 25, u'minimum': 1.0, u'limit': 25, u'backers_count': 0, u'estimated_delivery_on': 1388534400, u'reward': u\"- A digital personal thank-you letter from artist himselfrn- Receive a thank-you shout-out in DNG's Limitless Podcast Radio Show Episode 22-25 rn- Thankyou Shout-out on DNG Official Twitter an FB fan page\", u'id': 2162622}, {u'project_id': 1821248805, u'shipping_applicable': False, u'updated_at': 1385004729, u'remaining': 13, u'minimum': 10.0, u'limit': 15, u'backers_count': 2, u'estimated_delivery_on': 1388534400, u'reward': u\"Receive a free 320 kps download to saal_tucker_sturm_zimbleGOINGsaal_tucker_sturm_zimble rn- A digital personal thank-you letter from artist himselfrn- Receive a thank-you shout-out in DNG's Limitless Podcast Radio Show Ep. 25rn- Thankyou Shout-out on DNG Official Twitter an FB fan page\", u'id': 2162623}, {u'project_id': 1821248805, u'shipping_applicable': False, u'updated_at': 1384815627, u'remaining': 10, u'minimum': 25.0, u'limit': 10, u'backers_count': 0, u'estimated_delivery_on': 1388534400, u'reward': u\"- Receive DNG apparel T-shirt Or Wristbandsrn- CD copy of saal_tucker_sturm_zimbleGoingsaal_tucker_sturm_zimblern- A personal letter thank-you letter from artist himselfrn- Receive a thank-you shout-out in DNG's Limitless Podcast Radio Show Ep. 25rn- Thankyou Shout-out on DNG Official Twitter an FB fan page\", u'id': 2162624}], u'backers_count': 3, u'slug': u'dngs-journey-to-release-a-successful-single-going', u'name': u'DNG\\'s Journey to release a successful single \"GOING\"', u'canceled_at': 1385431077, u'country': u'CA', u'created_at': 1384785933, u'comments_count': 0, u'urls': {u'web': {u'project': u'http://www.kickstarter.com/projects/1123165793/dngs-journey-to-release-a-successful-single-going', u'project_short': u'http://kck.st/I5kz9Y', u'updates': u'http://www.kickstarter.com/projects/1123165793/dngs-journey-to-release-a-successful-single-going/posts'}, u'api': {u'project': u'https://api.kickstarter.com/v1/projects/1821248805?signature=1385530440.be3489b4fc59ee17f0f3b46633a7b7286b598565', u'updates': u'https://api.kickstarter.com/v1/projects/1821248805/updates?signature=1385530440.0210ae0c7ebca50122f8796c1903016a670cf787', u'comments': u'https://api.kickstarter.com/v1/projects/1821248805/comments?signature=1385530440.84f7bf5b91e5f52f930eda71af1c1c7d05ae77f7'}}, u'currency_symbol': u'$', u'video': {u'status': u'successful', u'frame': u'https://d2pq0u4uni88oo.cloudfront.net/projects/764819/video-315979-h264_base.jpg?2013', u'webm': u'https://d2pq0u4uni88oo.cloudfront.net/projects/764819/video-315979-webm.webm?2013', u'high': u'https://d2pq0u4uni88oo.cloudfront.net/projects/764819/video-315979-h264_high.mp4?2013', u'width': 640, u'base': u'https://d2pq0u4uni88oo.cloudfront.net/projects/764819/video-315979-h264_base.mp4?2013', u'height': 360, u'id': 315979}}\n",
        "http://www.kickstarter.com//projects/1123165793/dngs-journey-to-release-a-successful-single-going\n"
       ]
      }
     ],
     "prompt_number": 123
    },
    {
     "cell_type": "code",
     "collapsed": false,
     "input": [
      "#convert titles to normal text format\n",
      "html_parser = HTMLParser.HTMLParser()\n",
      "for i, title in enumerate(all_titles[:1000]):\n",
      "    all_titles[i] = unicode(html_parser.unescape(title))"
     ],
     "language": "python",
     "metadata": {},
     "outputs": [],
     "prompt_number": 10
    },
    {
     "cell_type": "code",
     "collapsed": false,
     "input": [
      "# function to get info (from kickstarter) about all the projects associated to titles in a list of titles\n",
      "def get_projects(titles):\n",
      "    \n",
      "    base_url = \"http://www.kickstarter.com/projects/search.json?search=&term=\"\n",
      "    fields = ['creator_id', 'creator_name', 'creator_slug',\n",
      "              'project_id', 'project_name', 'project_slug', 'blurb', 'category',\n",
      "              'currency', 'goal', 'pledged', 'backers_count',\n",
      "              'launched_at', 'deadline', 'last_state_change', 'state',\n",
      "              'location_id', 'location_name', 'country',\n",
      "              'project_url', 'creator_url']\n",
      "    projects = dict((field, []) for field in fields)\n",
      "    error_count = 0\n",
      "    \n",
      "    for i, title in enumerate(titles):\n",
      "        if i%100 == 0:\n",
      "            print i\n",
      "        try:\n",
      "            data = requests.get(base_url\n",
      "                                + title).json()\n",
      "        except:\n",
      "            error_count += 1\n",
      "            print i, title\n",
      "            continue\n",
      "            \n",
      "        if 'projects' in data.keys():\n",
      "            data = data['projects']\n",
      "            if len(data) == 0:\n",
      "                error_count += 1\n",
      "                print i, title\n",
      "        else:\n",
      "            error_count += 1\n",
      "            print i, title\n",
      "            continue\n",
      "            \n",
      "        for project in data:\n",
      "            if project['id'] not in projects['project_id']:\n",
      "                \n",
      "                try:\n",
      "                    projects['creator_id'].append( project['creator']['id'] )\n",
      "                except KeyError:\n",
      "                    projects['creator_id'].append( '' )\n",
      "                    \n",
      "                try:\n",
      "                    projects['creator_name'].append( project['creator']['name'].encode('utf-8') )\n",
      "                except KeyError:\n",
      "                    projects['creator_name'].append( '' )\n",
      "                    \n",
      "                try:\n",
      "                    projects['creator_slug'].append( project['creator']['slug'].encode('utf-8') )\n",
      "                except KeyError:\n",
      "                    projects['creator_slug'].append( '' )\n",
      "                \n",
      "                try:\n",
      "                    projects['project_id'].append( project['id'] )\n",
      "                except KeyError:\n",
      "                    projects['project_id'].append( '' )\n",
      "                    \n",
      "                try:\n",
      "                    projects['project_name'].append( project['name'].encode('utf-8') )\n",
      "                except KeyError:\n",
      "                    projects['project_name'].append( '' )\n",
      "                    \n",
      "                try:\n",
      "                    projects['project_slug'].append( project['slug'].encode('utf-8') )\n",
      "                except KeyError:\n",
      "                    projects['project_slug'].append( '' )\n",
      "                    \n",
      "                try:\n",
      "                    projects['blurb'].append( project['blurb'].encode('utf-8') )\n",
      "                except KeyError:\n",
      "                    projects['blurb'].append( '' )\n",
      "                    \n",
      "                try:\n",
      "                    projects['category'].append( project['category']['name'].encode('utf-8') )\n",
      "                except KeyError:\n",
      "                    projects['category'].append( '' )\n",
      "                    \n",
      "                try:\n",
      "                    projects['currency'].append( project['currency'].encode('utf-8') )\n",
      "                except KeyError:\n",
      "                    projects['currency'].append( '' )\n",
      "                \n",
      "                try:\n",
      "                    projects['goal'].append( project['goal'] )\n",
      "                except KeyError:\n",
      "                    projects['goal'].append( '' )\n",
      "                    \n",
      "                try:\n",
      "                    projects['pledged'].append( project['pledged'] )\n",
      "                except KeyError:\n",
      "                    projects['pledged'].append( '' )\n",
      "                \n",
      "                try:\n",
      "                    projects['backers_count'].append( project['backers_count'] )\n",
      "                except KeyError:\n",
      "                    projects['backers_count'].append( '' )\n",
      "                    \n",
      "                try:\n",
      "                    projects['launched_at'].append( project['launched_at'] )\n",
      "                except KeyError:\n",
      "                    projects['launched_at'].append( '' )\n",
      "                    \n",
      "                try:\n",
      "                    projects['deadline'].append( project['deadline'] )\n",
      "                except KeyError:\n",
      "                    projects['deadline'].append( '' )\n",
      "                    \n",
      "                try:\n",
      "                    projects['last_state_change'].append( project['state_changed_at'] )\n",
      "                except KeyError:\n",
      "                    projects['last_state_change'].append( '' )\n",
      "                    \n",
      "                try:\n",
      "                    projects['state'].append( project['state'].encode('utf-8') )\n",
      "                except KeyError:\n",
      "                    projects['state'].append( '' )\n",
      "                    \n",
      "                try:\n",
      "                    projects['location_id'].append( project['location']['id'] )\n",
      "                except KeyError:\n",
      "                    projects['location_id'].append( '' )\n",
      "                    \n",
      "                try:\n",
      "                    projects['location_name'].append( project['location']['name'].encode('utf-8') )\n",
      "                except KeyError:\n",
      "                    projects['location_name'].append( '' )\n",
      "                    \n",
      "                try:\n",
      "                    projects['country'].append( project['country'].encode('utf-8') )\n",
      "                except KeyError:\n",
      "                    projects['country'].append( '' )\n",
      "                \n",
      "                try:\n",
      "                    projects['project_url'].append( project['urls']['web']['project'].encode('utf-8') )\n",
      "                except KeyError:\n",
      "                    projects['project_url'].append( '' )\n",
      "                \n",
      "                try:\n",
      "                    projects['creator_url'].append( project['creator']['urls']['web']['user'].encode('utf-8') )\n",
      "                except KeyError:\n",
      "                    projects['creator_url'].append( '' )\n",
      "            \n",
      "    return error_count, pd.DataFrame(projects)"
     ],
     "language": "python",
     "metadata": {},
     "outputs": [],
     "prompt_number": 12
    },
    {
     "cell_type": "code",
     "collapsed": false,
     "input": [
      "# get info about all the projects, save it to a csv\n",
      "project_collection_error_count, all_projects = get_projects(all_titles[:100])\n",
      "#all_projects.to_csv('all_projects.csv')"
     ],
     "language": "python",
     "metadata": {},
     "outputs": [
      {
       "output_type": "stream",
       "stream": "stdout",
       "text": [
        "0\n",
        "25"
       ]
      },
      {
       "output_type": "stream",
       "stream": "stdout",
       "text": [
        " RomCom : A Twisted Funny Internet Series on Love and Sex\n",
        "40"
       ]
      },
      {
       "output_type": "stream",
       "stream": "stdout",
       "text": [
        " DNG's Journey to release a successful single \"GOING\"\n",
        "63"
       ]
      },
      {
       "output_type": "stream",
       "stream": "stdout",
       "text": [
        " AN[OTHER M]: A Metroid Inspired EP\n",
        "70"
       ]
      },
      {
       "output_type": "stream",
       "stream": "stdout",
       "text": [
        " FLEA MARKET RXTM // THE ROAD TO NEW YORK 2014\n",
        "80"
       ]
      },
      {
       "output_type": "stream",
       "stream": "stdout",
       "text": [
        " Salted Roots Food Truck/Catering: Fun with Food, on Wheels!\n",
        "83"
       ]
      },
      {
       "output_type": "stream",
       "stream": "stdout",
       "text": [
        " Scan and preserve Charles Anderson's Rainbow Slides Mural\n",
        "90"
       ]
      },
      {
       "output_type": "stream",
       "stream": "stdout",
       "text": [
        " EZDOCK1        The best universal dock for Smartphones -etc.\n",
        "94"
       ]
      },
      {
       "output_type": "stream",
       "stream": "stdout",
       "text": [
        " ECO~FRIG\n"
       ]
      }
     ],
     "prompt_number": 13
    },
    {
     "cell_type": "code",
     "collapsed": false,
     "input": [
      "#trying out different things to get urls in the right form, it's not working\n",
      "base_url = \"http://www.kickstarter.com/projects/search.json?search=&term=\"\n",
      "#print requests.get(base_url, params = {'search': '','term': urllib.pathname2url('A Metroid Inspired EP')}).json()\n",
      "print requests.get(base_url + urllib.pathname2url('AN[OTHER M]: A Metroid Inspired EP')).json()"
     ],
     "language": "python",
     "metadata": {},
     "outputs": [
      {
       "output_type": "stream",
       "stream": "stdout",
       "text": [
        "{u'header': u'Projects matching \"AN[OTHER M]: A Metroid Inspired EP\"', u'categories': [], u'projects': [], u'locations': []}\n"
       ]
      }
     ],
     "prompt_number": 37
    },
    {
     "cell_type": "code",
     "collapsed": false,
     "input": [
      "print all_projects.iloc[101084,:]"
     ],
     "language": "python",
     "metadata": {},
     "outputs": [
      {
       "output_type": "stream",
       "stream": "stdout",
       "text": [
        "backers_count                                                      349\n",
        "blurb                you give me words, i give you art. repeat 1024...\n",
        "category                                                           Art\n",
        "country                                                             US\n",
        "creator_id                                                  2063082197\n",
        "creator_name                                                      pesi\n",
        "creator_slug                                                      pesi\n",
        "creator_url                    http://www.kickstarter.com/profile/pesi\n",
        "currency                                                           USD\n",
        "deadline                                                    1271600640\n",
        "goal                                                             10240\n",
        "last_state_change                                           1271601012\n",
        "launched_at                                                 1265577284\n",
        "location_id                                                    2412843\n",
        "location_name                                         Grand Rapids, MI\n",
        "pledged                                                       11330.39\n",
        "project_id                                                   365948877\n",
        "project_name                                   1024 bits of you and me\n",
        "project_slug                                   1024-bits-of-you-and-me\n",
        "project_url          http://www.kickstarter.com/projects/pesi/1024-...\n",
        "state                                                       successful\n",
        "Name: 101084, dtype: object\n"
       ]
      }
     ],
     "prompt_number": 10
    },
    {
     "cell_type": "code",
     "collapsed": false,
     "input": [
      "all_projects=pd.read_csv('all_projects.csv')"
     ],
     "language": "python",
     "metadata": {},
     "outputs": [],
     "prompt_number": 2
    },
    {
     "cell_type": "code",
     "collapsed": false,
     "input": [
      "print all_projects.iloc[101084,:]['creator_name']"
     ],
     "language": "python",
     "metadata": {},
     "outputs": [
      {
       "output_type": "stream",
       "stream": "stdout",
       "text": [
        "pesi\n"
       ]
      }
     ],
     "prompt_number": 5
    },
    {
     "cell_type": "code",
     "collapsed": false,
     "input": [
      "def get_user_data(projects):\n",
      "    for i in range(1,len(projects)):\n",
      "        row = next(projects.iterrows())[i]\n",
      "        print row"
     ],
     "language": "python",
     "metadata": {},
     "outputs": [],
     "prompt_number": 32
    },
    {
     "cell_type": "code",
     "collapsed": false,
     "input": [
      "get_user_data(all_projects[:10])"
     ],
     "language": "python",
     "metadata": {},
     "outputs": [
      {
       "ename": "IndexError",
       "evalue": "tuple index out of range",
       "output_type": "pyerr",
       "traceback": [
        "\u001b[0;31m---------------------------------------------------------------------------\u001b[0m\n\u001b[0;31mIndexError\u001b[0m                                Traceback (most recent call last)",
        "\u001b[0;32m<ipython-input-33-31739635c7e2>\u001b[0m in \u001b[0;36m<module>\u001b[0;34m()\u001b[0m\n\u001b[0;32m----> 1\u001b[0;31m \u001b[0mget_user_data\u001b[0m\u001b[0;34m(\u001b[0m\u001b[0mall_projects\u001b[0m\u001b[0;34m[\u001b[0m\u001b[0;34m:\u001b[0m\u001b[0;36m10\u001b[0m\u001b[0;34m]\u001b[0m\u001b[0;34m)\u001b[0m\u001b[0;34m\u001b[0m\u001b[0m\n\u001b[0m",
        "\u001b[0;32m<ipython-input-32-d9411fdb56d5>\u001b[0m in \u001b[0;36mget_user_data\u001b[0;34m(projects)\u001b[0m\n\u001b[1;32m      1\u001b[0m \u001b[0;32mdef\u001b[0m \u001b[0mget_user_data\u001b[0m\u001b[0;34m(\u001b[0m\u001b[0mprojects\u001b[0m\u001b[0;34m)\u001b[0m\u001b[0;34m:\u001b[0m\u001b[0;34m\u001b[0m\u001b[0m\n\u001b[1;32m      2\u001b[0m     \u001b[0;32mfor\u001b[0m \u001b[0mi\u001b[0m \u001b[0;32min\u001b[0m \u001b[0mrange\u001b[0m\u001b[0;34m(\u001b[0m\u001b[0;36m1\u001b[0m\u001b[0;34m,\u001b[0m\u001b[0mlen\u001b[0m\u001b[0;34m(\u001b[0m\u001b[0mprojects\u001b[0m\u001b[0;34m)\u001b[0m\u001b[0;34m+\u001b[0m\u001b[0;36m1\u001b[0m\u001b[0;34m)\u001b[0m\u001b[0;34m:\u001b[0m\u001b[0;34m\u001b[0m\u001b[0m\n\u001b[0;32m----> 3\u001b[0;31m         \u001b[0mrow\u001b[0m \u001b[0;34m=\u001b[0m \u001b[0mnext\u001b[0m\u001b[0;34m(\u001b[0m\u001b[0mprojects\u001b[0m\u001b[0;34m.\u001b[0m\u001b[0miterrows\u001b[0m\u001b[0;34m(\u001b[0m\u001b[0;34m)\u001b[0m\u001b[0;34m)\u001b[0m\u001b[0;34m[\u001b[0m\u001b[0mi\u001b[0m\u001b[0;34m]\u001b[0m\u001b[0;34m\u001b[0m\u001b[0m\n\u001b[0m\u001b[1;32m      4\u001b[0m         \u001b[0;32mprint\u001b[0m \u001b[0mrow\u001b[0m\u001b[0;34m\u001b[0m\u001b[0m\n",
        "\u001b[0;31mIndexError\u001b[0m: tuple index out of range"
       ]
      },
      {
       "output_type": "stream",
       "stream": "stdout",
       "text": [
        "Unnamed: 0                                                           0\n",
        "backers_count                                                        0\n",
        "blurb                hip-hopumentary- a scored documentary tracing ...\n",
        "category                                                   Documentary\n",
        "country                                                             US\n",
        "creator_id                                                   961594991\n",
        "creator_name                                              Tre Matthews\n",
        "creator_slug                                             tremoneybaggs\n",
        "creator_url           http://www.kickstarter.com/profile/tremoneybaggs\n",
        "currency                                                           USD\n",
        "deadline                                                    1389313742\n",
        "goal                                                              4500\n",
        "last_state_change                                           1384993742\n",
        "launched_at                                                 1384993742\n",
        "location_id                                                    2449323\n",
        "location_name                                              Memphis, TN\n",
        "pledged                                                              0\n",
        "project_id                                                   512147210\n",
        "project_name         DropDownFilms Digital distribution for \"Pimpin...\n",
        "project_slug         dropdownfilms-digital-distribution-for-pimpin-...\n",
        "project_url          http://www.kickstarter.com/projects/tremoneyba...\n",
        "state                                                             live\n",
        "Name: 0, dtype: object\n"
       ]
      }
     ],
     "prompt_number": 33
    },
    {
     "cell_type": "code",
     "collapsed": false,
     "input": [],
     "language": "python",
     "metadata": {},
     "outputs": []
    }
   ],
   "metadata": {}
  }
 ]
}