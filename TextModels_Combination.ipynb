{
 "metadata": {
  "name": ""
 },
 "nbformat": 3,
 "nbformat_minor": 0,
 "worksheets": [
  {
   "cells": [
    {
     "cell_type": "code",
     "collapsed": false,
     "input": [
      "import pandas            as pd\n",
      "import numpy             as np\n",
      "import matplotlib.pyplot as plt\n",
      "\n",
      "%matplotlib inline"
     ],
     "language": "python",
     "metadata": {},
     "outputs": [],
     "prompt_number": 55
    },
    {
     "cell_type": "code",
     "collapsed": false,
     "input": [
      "all_projects = pd.read_csv('all_project_data_time.csv')\n",
      "print \"There are\", len(all_projects['blurb']), \"projects in this dataset.\"\n",
      "print \"There are\", all_projects['creator_url'].nunique(), \"creators in this dataset.\"\n",
      "print \"There are\", all_projects['project_id'].nunique(), \"projects in this dataset.\""
     ],
     "language": "python",
     "metadata": {},
     "outputs": [
      {
       "output_type": "stream",
       "stream": "stdout",
       "text": [
        "There are 120099 projects in this dataset.\n",
        "There are "
       ]
      },
      {
       "output_type": "stream",
       "stream": "stdout",
       "text": [
        "103944 creators in this dataset.\n",
        "There are "
       ]
      },
      {
       "output_type": "stream",
       "stream": "stdout",
       "text": [
        "120099 projects in this dataset.\n"
       ]
      }
     ],
     "prompt_number": 56
    },
    {
     "cell_type": "code",
     "collapsed": false,
     "input": [
      "def make_text(row, columns):\n",
      "    text = str(row['blurb'])\n",
      "    for c in columns:\n",
      "        ctext = c\n",
      "        if c == 'category':\n",
      "            ctext = \"x\".join(row[c].split(\" \"))\n",
      "        text += \" \" + \" \".join([ctext + \"X\" + word for word in row[c].split(\" \")])\n",
      "    return text\n",
      "\n",
      "def multiply_by_cat(row, b):\n",
      "    cat = \"l\".join(row['category'].split(\" \"))\n",
      "    return \" \".join([cat + \"X\" + word for word in row[b].split(\" \")])\n",
      "\n",
      "def exclude(df, field, set_avoid):\n",
      "    ans = [1 for i in range(len(df[field].values))]\n",
      "    df = df\n",
      "    for avoid in set_avoid:\n",
      "        df = df[df[field] != avoid]\n",
      "    return df"
     ],
     "language": "python",
     "metadata": {},
     "outputs": [],
     "prompt_number": 57
    },
    {
     "cell_type": "code",
     "collapsed": false,
     "input": [
      "subdf = all_projects[5000:40000]"
     ],
     "language": "python",
     "metadata": {},
     "outputs": [],
     "prompt_number": 58
    },
    {
     "cell_type": "code",
     "collapsed": false,
     "input": [
      "subdf['cat_title'] = subdf.apply(lambda row: multiply_by_cat(row, 'project_name'), axis=1)\n",
      "\n",
      "subdf['success'] = subdf.apply(lambda row: int(row['pledged'] - row['goal'] > 0), axis=1)\n",
      "subdf['text']    = subdf.apply(lambda row: make_text(row, ['project_name', 'category', 'currency']), axis=1)\n",
      "subdf['textalt'] = subdf.apply(lambda row: make_text(row, ['cat_title', 'category', 'currency']), axis=1)"
     ],
     "language": "python",
     "metadata": {},
     "outputs": [],
     "prompt_number": 60
    },
    {
     "cell_type": "code",
     "collapsed": false,
     "input": [
      "def separate_by_field(df, field):\n",
      "    groups = df.groupby(field)\n",
      "    \n",
      "    by_success    = groups.aggregate({'success': np.mean})\n",
      "    by_success    = by_success.sort(columns='success')\n",
      "    success       = by_success.values\n",
      "    success_index = by_success.index.values\n",
      "    \n",
      "    by_size       = groups.aggregate({'success': len})\n",
      "    by_size       = by_size.ix[by_success.index]\n",
      "    size          = by_size.values\n",
      "    size_index    = by_size.index.values\n",
      "    \n",
      "    by_pledge     = groups.aggregate({'pledged': sum})\n",
      "    by_pledge     = by_pledge.ix[by_success.index]\n",
      "    pledge          = by_pledge.values\n",
      "    pledge_index    = by_pledge.index.values\n",
      "    \n",
      "    fig = plt.figure(figsize=(28, 6))\n",
      "    ax  = fig.add_subplot(1,1,1)\n",
      "    \n",
      "    ax.bar(            [i      for i in range(len(success))], success, color='c')\n",
      "    ax.set_xticks(     [i + .5 for i in range(len(success))])\n",
      "    ax.set_xticklabels(success_index, rotation='vertical')\n",
      "    \n",
      "    plt.show()\n",
      "\n",
      "    fig = plt.figure(figsize=(28, 6))\n",
      "    ax = fig.add_subplot(1,1,1)\n",
      "    \n",
      "    ax.bar(       [i      for i in range(len(size))], size, color='orange')\n",
      "    ax.set_xticks([i + .5 for i in range(len(size))])\n",
      "    ax.set_xticklabels(size_index, rotation='vertical')\n",
      "    \n",
      "    plt.show()\n",
      "    \n",
      "    fig = plt.figure(figsize=(28, 6))\n",
      "    ax = fig.add_subplot(1,1,1)\n",
      "    \n",
      "    ax.bar(       [i      for i in range(len(by_pledge))], pledge, color='g')\n",
      "    ax.set_xticks([i + .5 for i in range(len(by_pledge))])\n",
      "    ax.set_xticklabels(pledge_index, rotation='vertical')\n",
      "    \n",
      "    plt.show()"
     ],
     "language": "python",
     "metadata": {},
     "outputs": [],
     "prompt_number": 25
    },
    {
     "cell_type": "code",
     "collapsed": false,
     "input": [
      "separate_by_field(all_projects, 'category')\n",
      "separate_by_field(all_projects, 'currency')"
     ],
     "language": "python",
     "metadata": {},
     "outputs": [
      {
       "metadata": {},
       "output_type": "display_data",
       "png": "[encoded data removed]",
       "text": [
        "<matplotlib.figure.Figure at 0xb4a1690>"
       ]
      },
      {
       "metadata": {},
       "output_type": "display_data",
       "png": "[encoded data removed]",
       "text": [
        "<matplotlib.figure.Figure at 0x6cdd110>"
       ]
      },
      {
       "metadata": {},
       "output_type": "display_data",
       "png": "[encoded data removed]",
       "text": [
        "<matplotlib.figure.Figure at 0x7028e10>"
       ]
      },
      {
       "metadata": {},
       "output_type": "display_data",
       "png": "[encoded data removed]",
       "text": [
        "<matplotlib.figure.Figure at 0x6d80ed0>"
       ]
      },
      {
       "metadata": {},
       "output_type": "display_data",
       "png": "[encoded data removed]",
       "text": [
        "<matplotlib.figure.Figure at 0x6cf1350>"
       ]
      },
      {
       "metadata": {},
       "output_type": "display_data",
       "png": "[encoded data removed]",
       "text": [
        "<matplotlib.figure.Figure at 0xb9f7750>"
       ]
      }
     ],
     "prompt_number": 26
    },
    {
     "cell_type": "code",
     "collapsed": false,
     "input": [
      "import math\n",
      "import random\n",
      "\n",
      "# Defining Cost Functions\n",
      "def log_likelihood(clf, x, y):\n",
      "    logPs = clf.predict_log_proba(x)\n",
      "    return sum([logPs[i][1] for i in range(len(y)) if y[i] == 1]) + sum([logPs[i][0] for i in range(len(y)) if y[i] == 0])\n",
      "\n",
      "# Utilities for splitting up the dataframes into test and train sets\n",
      "def gen_random(val):\n",
      "    if random.random() < val:\n",
      "        return False\n",
      "    else:\n",
      "        return True\n",
      "    \n",
      "def disjoint_sets(length, proportion=.25):\n",
      "    include = [gen_random(proportion) for i in range(length)]\n",
      "    exclude = [not(i) for i in include]\n",
      "    return include, exclude\n",
      "\n",
      "def prelim_split(df, field, proportion=.25):\n",
      "    y='success'\n",
      "    i, e = disjoint_sets(len(df), proportion)\n",
      "    train = df[i]\n",
      "    test = df[e]\n",
      "    \n",
      "    x = df[field]\n",
      "    y = df['success']\n",
      "    \n",
      "    xtrain = train[field]\n",
      "    xtest_final = test[field]\n",
      "    ytrain = train['success']\n",
      "    ytest_final = test['success']\n",
      "    \n",
      "    return x, y, xtrain, ytrain, xtest_final, ytest_final, i, e\n",
      "\n",
      "def make_xy(x, y, vectorizer=None):\n",
      "    text = x\n",
      "    \n",
      "    if vectorizer == None:\n",
      "        vectorizer = CountVectorizer(min_df=0)\n",
      "\n",
      "    vectorizer.fit(text)\n",
      "    x = vectorizer.transform(text)\n",
      "    #X = X.toarray()\n",
      "    \n",
      "    return x, y\n",
      "\n",
      "# Utilities for plotting the predictions/calibration of a model\n",
      "def ysigma(frac, n):\n",
      "    return math.sqrt(frac*(1.0 - frac)/n)\n",
      "\n",
      "def calibration_plot(clf, X, Y):\n",
      "    nbins = 30\n",
      "    proba = [row[1] for row in clf.predict_proba(X)]\n",
      "    \n",
      "    df        = pd.DataFrame({\"proba\": proba, \"label\": Y})\n",
      "    df[\"bin\"] = df.apply(lambda x: math.floor(x['proba'] * nbins), axis=1)\n",
      "    \n",
      "    bins      = df.groupby(\"bin\")\n",
      "    observed  = bins['label'].aggregate(np.mean).values\n",
      "    predicted = bins['proba'].aggregate(np.mean).values\n",
      "    bin_size  = bins['label'].aggregate(len).values\n",
      "    \n",
      "    sigmas    = [2*ysigma(observed[i], bin_size[i]) for i in range(len(bin_size))] # 95% confidence interval\n",
      "    \n",
      "    plt.errorbar(predicted, observed, yerr=np.vstack([sigmas, sigmas]))\n",
      "    plt.plot([0,1], [0,1], color=\"r\")\n",
      "    plt.show()\n",
      "    \n",
      "    plt.hist(proba, color='orange')\n",
      "    plt.show()\n",
      "\n",
      "def train_score_display(vectorizer, clf, x, xtrain, ytrain, xtest, ytest, fit_params={}):\n",
      "    vectorizer.fit(x)\n",
      "    xtrain_v = vectorizer.transform(xtrain)\n",
      "    xtest_v = vectorizer.transform(xtest)\n",
      "    \n",
      "    if 'weight' in fit_params:\n",
      "        clf.fit(xtrain_v, ytrain, weight=fit_params['weight'])\n",
      "    else:\n",
      "        clf.fit(xtrain_v, ytrain)\n",
      "    \n",
      "    score = clf.score(xtest_v, ytest)\n",
      "    calibration_plot(clf, xtest_v, ytest)\n",
      "    \n",
      "    return vectorizer, clf\n",
      "\n",
      "def fit_nb(params, x, xtrain, ytrain):\n",
      "    \n",
      "    vec = CountVectorizer(min_df = params['min_df'])\n",
      "    clf = MultinomialNB(alpha = params['alpha'])\n",
      "    \n",
      "    vec.fit(x)\n",
      "    xtrain_v = vec.transform(xtrain)\n",
      "    xtest_v = vec.transform(xtest)\n",
      "    \n",
      "    clf.fit(xtrain_v, ytrain)\n",
      "    return {'vec': vec, 'clf': clf}\n",
      "\n",
      "def score_nb(model_dict, xtest, ytest):\n",
      "    return model_dict['clf'].score(model_dict['vec'].transform(xtest), ytest)"
     ],
     "language": "python",
     "metadata": {},
     "outputs": [],
     "prompt_number": 88
    },
    {
     "cell_type": "code",
     "collapsed": false,
     "input": [
      "# This is the code for the random exploration of the parameter space\n",
      "\n",
      "def mult_dict(d, s):\n",
      "    ans = {}\n",
      "    for key in d.keys():\n",
      "        ans[key] = d[key] * s\n",
      "    return ans\n",
      "\n",
      "def test_precision(params, sigmas, precision):\n",
      "    for key in params.keys():\n",
      "        target = params[key] * precision / 2.0\n",
      "        if sigmas[key] * 2 > target:\n",
      "            return False\n",
      "    return True\n",
      "        \n",
      "def random_move(params, sigmas):\n",
      "    ans = {}\n",
      "    for key in params.keys():\n",
      "        if random.random() < .5:\n",
      "            ans[key] = -1\n",
      "            while ans[key] <= 0:\n",
      "                ans[key] = params[key] + random.gauss(0, sigmas[key])\n",
      "        else:\n",
      "            ans[key] = params[key]\n",
      "            \n",
      "    if params == ans:\n",
      "        return random_move(params, sigmas)\n",
      "    return ans\n",
      "\n",
      "def random_optimization(model, params, sigmas, xtrain, ytrain, precision = .1):\n",
      "    best_params = params\n",
      "    i = 0\n",
      "    \n",
      "    while not test_precision(best_params, sigmas, precision):\n",
      "        best_score  = model(best_params, xtrain, ytrain)\n",
      "        new_params = random_move(best_params, sigmas)\n",
      "        new_score  = model(new_params, xtrain, ytrain)\n",
      "        \n",
      "        if new_score > best_score:\n",
      "            best_params = new_params\n",
      "        else:\n",
      "            sigmas = mult_dict(sigmas, .9)\n",
      "        \n",
      "        i += 1\n",
      "        if i % 10 == 1:\n",
      "            print i, best_params, best_score, sigmas\n",
      "            \n",
      "    return best_params, best_score\n",
      "\n",
      "def randopt_frac(lin, params, sigmas, xtrain, ytrain, precision = .1):\n",
      "    best_params = params\n",
      "    i = 0\n",
      "    \n",
      "    while not test_precision(best_params, sigmas, precision):\n",
      "        best_score  = model(best_params, xtrain, ytrain)\n",
      "        new_params = random_move(best_params, sigmas)\n",
      "        new_score  = model(new_params, xtrain, ytrain)\n",
      "        \n",
      "        if new_score > best_score:\n",
      "            best_params = new_params\n",
      "        else:\n",
      "            sigmas = mult_dict(sigmas, .9)\n",
      "        \n",
      "        i += 1\n",
      "        if i % 10 == 1:\n",
      "            print i, best_params, best_score, sigmas\n",
      "            \n",
      "    return best_params, best_score"
     ],
     "language": "python",
     "metadata": {},
     "outputs": [],
     "prompt_number": 28
    },
    {
     "cell_type": "code",
     "collapsed": false,
     "input": [
      "# This section defines our different models\n",
      "import random\n",
      "\n",
      "from   sklearn.feature_extraction.text import CountVectorizer\n",
      "from   sklearn.cross_validation        import train_test_split\n",
      "from   sklearn.naive_bayes             import MultinomialNB\n",
      "\n",
      "import sklearn.linear_model            as     sklm\n",
      "import sklearn.tree                    as     sktr\n",
      "import sklearn.cross_validation        as     cv\n",
      "\n",
      "def nb_classifier(params, xtrain, ytrain):\n",
      "    vectorizer = CountVectorizer(min_df = params['min_df'])\n",
      "    vectorizer.fit(xtrain)\n",
      "    X, Y = make_xy(xtrain, ytrain, vectorizer)\n",
      "    clf = MultinomialNB(alpha = params['alpha'])\n",
      "    return np.mean(cv.cross_val_score(clf, X, Y, scoring=log_likelihood))\n",
      "\n",
      "def log_classifier(params, xtrain, ytrain):\n",
      "    vectorizer = CountVectorizer(min_df = params['min_df'])\n",
      "    vectorizer.fit(xtrain)\n",
      "    X, Y = make_xy(xtrain, ytrain, vectorizer)\n",
      "    clf = sklm.LogisticRegression(C=params['C'])\n",
      "    return np.mean(cv.cross_val_score(clf, X, Y, scoring=log_likelihood))\n",
      "\n",
      "def dt_classifier(params, xtrain, ytrain):\n",
      "    vectorizer = CountVectorizer(min_df = params['min_df'])\n",
      "    vectorizer.fit(xtrain)\n",
      "    X, Y = make_xy(xtrain, ytrain, vectorizer)\n",
      "    clf =  sktr.DecisionTreeClassifier()\n",
      "    return np.mean(cv.cross_val_score(clf, X.toarray(), Y, scoring=tree_cost))\n",
      "\n",
      "# TODO:\n",
      "# Add random forest\n",
      "# Lookup if we can take a model trained on a subset of the data, and elegantly combine it to be as if we used weights"
     ],
     "language": "python",
     "metadata": {},
     "outputs": [],
     "prompt_number": 29
    },
    {
     "cell_type": "code",
     "collapsed": false,
     "input": [
      "x, y, xtrain, ytrain, xtest, ytest = prelim_split(subdf, 'blurb')"
     ],
     "language": "python",
     "metadata": {},
     "outputs": [],
     "prompt_number": 30
    },
    {
     "cell_type": "code",
     "collapsed": false,
     "input": [
      "best_params, score = random_optimization(nb_classifier, {'alpha': 300, 'min_df': .05}, {'alpha': 150, 'min_df': .02}, xtrain, ytrain)"
     ],
     "language": "python",
     "metadata": {},
     "outputs": [
      {
       "ename": "KeyboardInterrupt",
       "evalue": "",
       "output_type": "pyerr",
       "traceback": [
        "\u001b[1;31m---------------------------------------------------------------------------\u001b[0m\n\u001b[1;31mKeyboardInterrupt\u001b[0m                         Traceback (most recent call last)",
        "\u001b[1;32m<ipython-input-31-580c8598d595>\u001b[0m in \u001b[0;36m<module>\u001b[1;34m()\u001b[0m\n\u001b[1;32m----> 1\u001b[1;33m \u001b[0mbest_params\u001b[0m\u001b[1;33m,\u001b[0m \u001b[0mscore\u001b[0m \u001b[1;33m=\u001b[0m \u001b[0mrandom_optimization\u001b[0m\u001b[1;33m(\u001b[0m\u001b[0mnb_classifier\u001b[0m\u001b[1;33m,\u001b[0m \u001b[1;33m{\u001b[0m\u001b[1;34m'alpha'\u001b[0m\u001b[1;33m:\u001b[0m \u001b[1;36m300\u001b[0m\u001b[1;33m,\u001b[0m \u001b[1;34m'min_df'\u001b[0m\u001b[1;33m:\u001b[0m \u001b[1;36m.05\u001b[0m\u001b[1;33m}\u001b[0m\u001b[1;33m,\u001b[0m \u001b[1;33m{\u001b[0m\u001b[1;34m'alpha'\u001b[0m\u001b[1;33m:\u001b[0m \u001b[1;36m150\u001b[0m\u001b[1;33m,\u001b[0m \u001b[1;34m'min_df'\u001b[0m\u001b[1;33m:\u001b[0m \u001b[1;36m.02\u001b[0m\u001b[1;33m}\u001b[0m\u001b[1;33m,\u001b[0m \u001b[0mxtrain\u001b[0m\u001b[1;33m,\u001b[0m \u001b[0mytrain\u001b[0m\u001b[1;33m)\u001b[0m\u001b[1;33m\u001b[0m\u001b[0m\n\u001b[0m",
        "\u001b[1;32m<ipython-input-28-08370ded98c8>\u001b[0m in \u001b[0;36mrandom_optimization\u001b[1;34m(model, params, sigmas, xtrain, ytrain, precision)\u001b[0m\n\u001b[0;32m     35\u001b[0m         \u001b[0mbest_score\u001b[0m  \u001b[1;33m=\u001b[0m \u001b[0mmodel\u001b[0m\u001b[1;33m(\u001b[0m\u001b[0mbest_params\u001b[0m\u001b[1;33m,\u001b[0m \u001b[0mxtrain\u001b[0m\u001b[1;33m,\u001b[0m \u001b[0mytrain\u001b[0m\u001b[1;33m)\u001b[0m\u001b[1;33m\u001b[0m\u001b[0m\n\u001b[0;32m     36\u001b[0m         \u001b[0mnew_params\u001b[0m \u001b[1;33m=\u001b[0m \u001b[0mrandom_move\u001b[0m\u001b[1;33m(\u001b[0m\u001b[0mbest_params\u001b[0m\u001b[1;33m,\u001b[0m \u001b[0msigmas\u001b[0m\u001b[1;33m)\u001b[0m\u001b[1;33m\u001b[0m\u001b[0m\n\u001b[1;32m---> 37\u001b[1;33m         \u001b[0mnew_score\u001b[0m  \u001b[1;33m=\u001b[0m \u001b[0mmodel\u001b[0m\u001b[1;33m(\u001b[0m\u001b[0mnew_params\u001b[0m\u001b[1;33m,\u001b[0m \u001b[0mxtrain\u001b[0m\u001b[1;33m,\u001b[0m \u001b[0mytrain\u001b[0m\u001b[1;33m)\u001b[0m\u001b[1;33m\u001b[0m\u001b[0m\n\u001b[0m\u001b[0;32m     38\u001b[0m \u001b[1;33m\u001b[0m\u001b[0m\n\u001b[0;32m     39\u001b[0m         \u001b[1;32mif\u001b[0m \u001b[0mnew_score\u001b[0m \u001b[1;33m>\u001b[0m \u001b[0mbest_score\u001b[0m\u001b[1;33m:\u001b[0m\u001b[1;33m\u001b[0m\u001b[0m\n",
        "\u001b[1;32m<ipython-input-29-531277289f97>\u001b[0m in \u001b[0;36mnb_classifier\u001b[1;34m(params, xtrain, ytrain)\u001b[0m\n\u001b[0;32m     15\u001b[0m     \u001b[0mX\u001b[0m\u001b[1;33m,\u001b[0m \u001b[0mY\u001b[0m \u001b[1;33m=\u001b[0m \u001b[0mmake_xy\u001b[0m\u001b[1;33m(\u001b[0m\u001b[0mxtrain\u001b[0m\u001b[1;33m,\u001b[0m \u001b[0mytrain\u001b[0m\u001b[1;33m,\u001b[0m \u001b[0mvectorizer\u001b[0m\u001b[1;33m)\u001b[0m\u001b[1;33m\u001b[0m\u001b[0m\n\u001b[0;32m     16\u001b[0m     \u001b[0mclf\u001b[0m \u001b[1;33m=\u001b[0m \u001b[0mMultinomialNB\u001b[0m\u001b[1;33m(\u001b[0m\u001b[0malpha\u001b[0m \u001b[1;33m=\u001b[0m \u001b[0mparams\u001b[0m\u001b[1;33m[\u001b[0m\u001b[1;34m'alpha'\u001b[0m\u001b[1;33m]\u001b[0m\u001b[1;33m)\u001b[0m\u001b[1;33m\u001b[0m\u001b[0m\n\u001b[1;32m---> 17\u001b[1;33m     \u001b[1;32mreturn\u001b[0m \u001b[0mnp\u001b[0m\u001b[1;33m.\u001b[0m\u001b[0mmean\u001b[0m\u001b[1;33m(\u001b[0m\u001b[0mcv\u001b[0m\u001b[1;33m.\u001b[0m\u001b[0mcross_val_score\u001b[0m\u001b[1;33m(\u001b[0m\u001b[0mclf\u001b[0m\u001b[1;33m,\u001b[0m \u001b[0mX\u001b[0m\u001b[1;33m,\u001b[0m \u001b[0mY\u001b[0m\u001b[1;33m,\u001b[0m \u001b[0mscoring\u001b[0m\u001b[1;33m=\u001b[0m\u001b[0mlog_likelihood\u001b[0m\u001b[1;33m)\u001b[0m\u001b[1;33m)\u001b[0m\u001b[1;33m\u001b[0m\u001b[0m\n\u001b[0m\u001b[0;32m     18\u001b[0m \u001b[1;33m\u001b[0m\u001b[0m\n\u001b[0;32m     19\u001b[0m \u001b[1;32mdef\u001b[0m \u001b[0mlog_classifier\u001b[0m\u001b[1;33m(\u001b[0m\u001b[0mparams\u001b[0m\u001b[1;33m,\u001b[0m \u001b[0mxtrain\u001b[0m\u001b[1;33m,\u001b[0m \u001b[0mytrain\u001b[0m\u001b[1;33m)\u001b[0m\u001b[1;33m:\u001b[0m\u001b[1;33m\u001b[0m\u001b[0m\n",
        "\u001b[1;32m/home/aaron/anaconda/lib/python2.7/site-packages/sklearn/cross_validation.pyc\u001b[0m in \u001b[0;36mcross_val_score\u001b[1;34m(estimator, X, y, scoring, cv, n_jobs, verbose, fit_params, score_func, pre_dispatch)\u001b[0m\n\u001b[0;32m   1150\u001b[0m         delayed(_cross_val_score)(clone(estimator), X, y, scorer, train, test,\n\u001b[0;32m   1151\u001b[0m                                   verbose, fit_params)\n\u001b[1;32m-> 1152\u001b[1;33m         for train, test in cv)\n\u001b[0m\u001b[0;32m   1153\u001b[0m     \u001b[1;32mreturn\u001b[0m \u001b[0mnp\u001b[0m\u001b[1;33m.\u001b[0m\u001b[0marray\u001b[0m\u001b[1;33m(\u001b[0m\u001b[0mscores\u001b[0m\u001b[1;33m)\u001b[0m\u001b[1;33m\u001b[0m\u001b[0m\n\u001b[0;32m   1154\u001b[0m \u001b[1;33m\u001b[0m\u001b[0m\n",
        "\u001b[1;32m/home/aaron/anaconda/lib/python2.7/site-packages/sklearn/externals/joblib/parallel.pyc\u001b[0m in \u001b[0;36m__call__\u001b[1;34m(self, iterable)\u001b[0m\n\u001b[0;32m    515\u001b[0m         \u001b[1;32mtry\u001b[0m\u001b[1;33m:\u001b[0m\u001b[1;33m\u001b[0m\u001b[0m\n\u001b[0;32m    516\u001b[0m             \u001b[1;32mfor\u001b[0m \u001b[0mfunction\u001b[0m\u001b[1;33m,\u001b[0m \u001b[0margs\u001b[0m\u001b[1;33m,\u001b[0m \u001b[0mkwargs\u001b[0m \u001b[1;32min\u001b[0m \u001b[0miterable\u001b[0m\u001b[1;33m:\u001b[0m\u001b[1;33m\u001b[0m\u001b[0m\n\u001b[1;32m--> 517\u001b[1;33m                 \u001b[0mself\u001b[0m\u001b[1;33m.\u001b[0m\u001b[0mdispatch\u001b[0m\u001b[1;33m(\u001b[0m\u001b[0mfunction\u001b[0m\u001b[1;33m,\u001b[0m \u001b[0margs\u001b[0m\u001b[1;33m,\u001b[0m \u001b[0mkwargs\u001b[0m\u001b[1;33m)\u001b[0m\u001b[1;33m\u001b[0m\u001b[0m\n\u001b[0m\u001b[0;32m    518\u001b[0m \u001b[1;33m\u001b[0m\u001b[0m\n\u001b[0;32m    519\u001b[0m             \u001b[0mself\u001b[0m\u001b[1;33m.\u001b[0m\u001b[0mretrieve\u001b[0m\u001b[1;33m(\u001b[0m\u001b[1;33m)\u001b[0m\u001b[1;33m\u001b[0m\u001b[0m\n",
        "\u001b[1;32m/home/aaron/anaconda/lib/python2.7/site-packages/sklearn/externals/joblib/parallel.pyc\u001b[0m in \u001b[0;36mdispatch\u001b[1;34m(self, func, args, kwargs)\u001b[0m\n\u001b[0;32m    310\u001b[0m         \"\"\"\n\u001b[0;32m    311\u001b[0m         \u001b[1;32mif\u001b[0m \u001b[0mself\u001b[0m\u001b[1;33m.\u001b[0m\u001b[0m_pool\u001b[0m \u001b[1;32mis\u001b[0m \u001b[0mNone\u001b[0m\u001b[1;33m:\u001b[0m\u001b[1;33m\u001b[0m\u001b[0m\n\u001b[1;32m--> 312\u001b[1;33m             \u001b[0mjob\u001b[0m \u001b[1;33m=\u001b[0m \u001b[0mImmediateApply\u001b[0m\u001b[1;33m(\u001b[0m\u001b[0mfunc\u001b[0m\u001b[1;33m,\u001b[0m \u001b[0margs\u001b[0m\u001b[1;33m,\u001b[0m \u001b[0mkwargs\u001b[0m\u001b[1;33m)\u001b[0m\u001b[1;33m\u001b[0m\u001b[0m\n\u001b[0m\u001b[0;32m    313\u001b[0m             \u001b[0mindex\u001b[0m \u001b[1;33m=\u001b[0m \u001b[0mlen\u001b[0m\u001b[1;33m(\u001b[0m\u001b[0mself\u001b[0m\u001b[1;33m.\u001b[0m\u001b[0m_jobs\u001b[0m\u001b[1;33m)\u001b[0m\u001b[1;33m\u001b[0m\u001b[0m\n\u001b[0;32m    314\u001b[0m             \u001b[1;32mif\u001b[0m \u001b[1;32mnot\u001b[0m \u001b[0m_verbosity_filter\u001b[0m\u001b[1;33m(\u001b[0m\u001b[0mindex\u001b[0m\u001b[1;33m,\u001b[0m \u001b[0mself\u001b[0m\u001b[1;33m.\u001b[0m\u001b[0mverbose\u001b[0m\u001b[1;33m)\u001b[0m\u001b[1;33m:\u001b[0m\u001b[1;33m\u001b[0m\u001b[0m\n",
        "\u001b[1;32m/home/aaron/anaconda/lib/python2.7/site-packages/sklearn/externals/joblib/parallel.pyc\u001b[0m in \u001b[0;36m__init__\u001b[1;34m(self, func, args, kwargs)\u001b[0m\n\u001b[0;32m    134\u001b[0m         \u001b[1;31m# Don't delay the application, to avoid keeping the input\u001b[0m\u001b[1;33m\u001b[0m\u001b[1;33m\u001b[0m\u001b[0m\n\u001b[0;32m    135\u001b[0m         \u001b[1;31m# arguments in memory\u001b[0m\u001b[1;33m\u001b[0m\u001b[1;33m\u001b[0m\u001b[0m\n\u001b[1;32m--> 136\u001b[1;33m         \u001b[0mself\u001b[0m\u001b[1;33m.\u001b[0m\u001b[0mresults\u001b[0m \u001b[1;33m=\u001b[0m \u001b[0mfunc\u001b[0m\u001b[1;33m(\u001b[0m\u001b[1;33m*\u001b[0m\u001b[0margs\u001b[0m\u001b[1;33m,\u001b[0m \u001b[1;33m**\u001b[0m\u001b[0mkwargs\u001b[0m\u001b[1;33m)\u001b[0m\u001b[1;33m\u001b[0m\u001b[0m\n\u001b[0m\u001b[0;32m    137\u001b[0m \u001b[1;33m\u001b[0m\u001b[0m\n\u001b[0;32m    138\u001b[0m     \u001b[1;32mdef\u001b[0m \u001b[0mget\u001b[0m\u001b[1;33m(\u001b[0m\u001b[0mself\u001b[0m\u001b[1;33m)\u001b[0m\u001b[1;33m:\u001b[0m\u001b[1;33m\u001b[0m\u001b[0m\n",
        "\u001b[1;32m/home/aaron/anaconda/lib/python2.7/site-packages/sklearn/cross_validation.pyc\u001b[0m in \u001b[0;36m_cross_val_score\u001b[1;34m(estimator, X, y, scorer, train, test, verbose, fit_params)\u001b[0m\n\u001b[0;32m   1049\u001b[0m             \u001b[0mX_test\u001b[0m \u001b[1;33m=\u001b[0m \u001b[0mX\u001b[0m\u001b[1;33m[\u001b[0m\u001b[0mnp\u001b[0m\u001b[1;33m.\u001b[0m\u001b[0mix_\u001b[0m\u001b[1;33m(\u001b[0m\u001b[0mtest\u001b[0m\u001b[1;33m,\u001b[0m \u001b[0mtrain\u001b[0m\u001b[1;33m)\u001b[0m\u001b[1;33m]\u001b[0m\u001b[1;33m\u001b[0m\u001b[0m\n\u001b[0;32m   1050\u001b[0m         \u001b[1;32melse\u001b[0m\u001b[1;33m:\u001b[0m\u001b[1;33m\u001b[0m\u001b[0m\n\u001b[1;32m-> 1051\u001b[1;33m             \u001b[0mX_train\u001b[0m \u001b[1;33m=\u001b[0m \u001b[0mX\u001b[0m\u001b[1;33m[\u001b[0m\u001b[0msafe_mask\u001b[0m\u001b[1;33m(\u001b[0m\u001b[0mX\u001b[0m\u001b[1;33m,\u001b[0m \u001b[0mtrain\u001b[0m\u001b[1;33m)\u001b[0m\u001b[1;33m]\u001b[0m\u001b[1;33m\u001b[0m\u001b[0m\n\u001b[0m\u001b[0;32m   1052\u001b[0m             \u001b[0mX_test\u001b[0m \u001b[1;33m=\u001b[0m \u001b[0mX\u001b[0m\u001b[1;33m[\u001b[0m\u001b[0msafe_mask\u001b[0m\u001b[1;33m(\u001b[0m\u001b[0mX\u001b[0m\u001b[1;33m,\u001b[0m \u001b[0mtest\u001b[0m\u001b[1;33m)\u001b[0m\u001b[1;33m]\u001b[0m\u001b[1;33m\u001b[0m\u001b[0m\n\u001b[0;32m   1053\u001b[0m \u001b[1;33m\u001b[0m\u001b[0m\n",
        "\u001b[1;32m/home/aaron/anaconda/lib/python2.7/site-packages/scipy/sparse/csr.pyc\u001b[0m in \u001b[0;36m__getitem__\u001b[1;34m(self, key)\u001b[0m\n\u001b[0;32m    284\u001b[0m             \u001b[1;32mreturn\u001b[0m \u001b[0mself\u001b[0m\u001b[1;33m[\u001b[0m\u001b[0mkey\u001b[0m\u001b[1;33m,\u001b[0m\u001b[1;33m:\u001b[0m\u001b[1;33m]\u001b[0m                                \u001b[1;31m#[i] or [1:2]\u001b[0m\u001b[1;33m\u001b[0m\u001b[0m\n\u001b[0;32m    285\u001b[0m         \u001b[1;32melse\u001b[0m\u001b[1;33m:\u001b[0m\u001b[1;33m\u001b[0m\u001b[0m\n\u001b[1;32m--> 286\u001b[1;33m             \u001b[1;32mreturn\u001b[0m \u001b[0mself\u001b[0m\u001b[1;33m[\u001b[0m\u001b[0masindices\u001b[0m\u001b[1;33m(\u001b[0m\u001b[0mkey\u001b[0m\u001b[1;33m)\u001b[0m\u001b[1;33m,\u001b[0m\u001b[1;33m:\u001b[0m\u001b[1;33m]\u001b[0m                     \u001b[1;31m#[[1,2]]\u001b[0m\u001b[1;33m\u001b[0m\u001b[0m\n\u001b[0m\u001b[0;32m    287\u001b[0m \u001b[1;33m\u001b[0m\u001b[0m\n\u001b[0;32m    288\u001b[0m \u001b[1;33m\u001b[0m\u001b[0m\n",
        "\u001b[1;32m/home/aaron/anaconda/lib/python2.7/site-packages/scipy/sparse/csr.pyc\u001b[0m in \u001b[0;36m__getitem__\u001b[1;34m(self, key)\u001b[0m\n\u001b[0;32m    250\u001b[0m                 \u001b[1;31m#[[1,2],??] or [[[1],[2]],??]\u001b[0m\u001b[1;33m\u001b[0m\u001b[1;33m\u001b[0m\u001b[0m\n\u001b[0;32m    251\u001b[0m                 \u001b[1;32mif\u001b[0m \u001b[0misintlike\u001b[0m\u001b[1;33m(\u001b[0m\u001b[0mcol\u001b[0m\u001b[1;33m)\u001b[0m \u001b[1;32mor\u001b[0m \u001b[0misinstance\u001b[0m\u001b[1;33m(\u001b[0m\u001b[0mcol\u001b[0m\u001b[1;33m,\u001b[0m\u001b[0mslice\u001b[0m\u001b[1;33m)\u001b[0m\u001b[1;33m:\u001b[0m\u001b[1;33m\u001b[0m\u001b[0m\n\u001b[1;32m--> 252\u001b[1;33m                     \u001b[0mP\u001b[0m \u001b[1;33m=\u001b[0m \u001b[0mextractor\u001b[0m\u001b[1;33m(\u001b[0m\u001b[0mrow\u001b[0m\u001b[1;33m,\u001b[0m \u001b[0mself\u001b[0m\u001b[1;33m.\u001b[0m\u001b[0mshape\u001b[0m\u001b[1;33m[\u001b[0m\u001b[1;36m0\u001b[0m\u001b[1;33m]\u001b[0m\u001b[1;33m)\u001b[0m        \u001b[1;31m#[[1,2],j] or [[1,2],1:2]\u001b[0m\u001b[1;33m\u001b[0m\u001b[0m\n\u001b[0m\u001b[0;32m    253\u001b[0m                     \u001b[1;32mreturn\u001b[0m \u001b[1;33m(\u001b[0m\u001b[0mP\u001b[0m\u001b[1;33m*\u001b[0m\u001b[0mself\u001b[0m\u001b[1;33m)\u001b[0m\u001b[1;33m[\u001b[0m\u001b[1;33m:\u001b[0m\u001b[1;33m,\u001b[0m\u001b[0mcol\u001b[0m\u001b[1;33m]\u001b[0m\u001b[1;33m\u001b[0m\u001b[0m\n\u001b[0;32m    254\u001b[0m \u001b[1;33m\u001b[0m\u001b[0m\n",
        "\u001b[1;32m/home/aaron/anaconda/lib/python2.7/site-packages/scipy/sparse/csr.pyc\u001b[0m in \u001b[0;36mextractor\u001b[1;34m(indices, N)\u001b[0m\n\u001b[0;32m    222\u001b[0m             \u001b[0mshape\u001b[0m   \u001b[1;33m=\u001b[0m \u001b[1;33m(\u001b[0m\u001b[0mlen\u001b[0m\u001b[1;33m(\u001b[0m\u001b[0mindices\u001b[0m\u001b[1;33m)\u001b[0m\u001b[1;33m,\u001b[0m\u001b[0mN\u001b[0m\u001b[1;33m)\u001b[0m\u001b[1;33m\u001b[0m\u001b[0m\n\u001b[0;32m    223\u001b[0m \u001b[1;33m\u001b[0m\u001b[0m\n\u001b[1;32m--> 224\u001b[1;33m             \u001b[1;32mreturn\u001b[0m \u001b[0mcsr_matrix\u001b[0m\u001b[1;33m(\u001b[0m\u001b[1;33m(\u001b[0m\u001b[0mdata\u001b[0m\u001b[1;33m,\u001b[0m\u001b[0mindices\u001b[0m\u001b[1;33m,\u001b[0m\u001b[0mindptr\u001b[0m\u001b[1;33m)\u001b[0m\u001b[1;33m,\u001b[0m \u001b[0mshape\u001b[0m\u001b[1;33m=\u001b[0m\u001b[0mshape\u001b[0m\u001b[1;33m)\u001b[0m\u001b[1;33m\u001b[0m\u001b[0m\n\u001b[0m\u001b[0;32m    225\u001b[0m \u001b[1;33m\u001b[0m\u001b[0m\n\u001b[0;32m    226\u001b[0m \u001b[1;33m\u001b[0m\u001b[0m\n",
        "\u001b[1;32m/home/aaron/anaconda/lib/python2.7/site-packages/scipy/sparse/compressed.pyc\u001b[0m in \u001b[0;36m__init__\u001b[1;34m(self, arg1, shape, dtype, copy)\u001b[0m\n\u001b[0;32m     83\u001b[0m             \u001b[0mself\u001b[0m\u001b[1;33m.\u001b[0m\u001b[0mdata\u001b[0m \u001b[1;33m=\u001b[0m \u001b[0mself\u001b[0m\u001b[1;33m.\u001b[0m\u001b[0mdata\u001b[0m\u001b[1;33m.\u001b[0m\u001b[0mastype\u001b[0m\u001b[1;33m(\u001b[0m\u001b[0mdtype\u001b[0m\u001b[1;33m)\u001b[0m\u001b[1;33m\u001b[0m\u001b[0m\n\u001b[0;32m     84\u001b[0m \u001b[1;33m\u001b[0m\u001b[0m\n\u001b[1;32m---> 85\u001b[1;33m         \u001b[0mself\u001b[0m\u001b[1;33m.\u001b[0m\u001b[0mcheck_format\u001b[0m\u001b[1;33m(\u001b[0m\u001b[0mfull_check\u001b[0m\u001b[1;33m=\u001b[0m\u001b[0mFalse\u001b[0m\u001b[1;33m)\u001b[0m\u001b[1;33m\u001b[0m\u001b[0m\n\u001b[0m\u001b[0;32m     86\u001b[0m \u001b[1;33m\u001b[0m\u001b[0m\n\u001b[0;32m     87\u001b[0m     \u001b[1;32mdef\u001b[0m \u001b[0mgetnnz\u001b[0m\u001b[1;33m(\u001b[0m\u001b[0mself\u001b[0m\u001b[1;33m)\u001b[0m\u001b[1;33m:\u001b[0m\u001b[1;33m\u001b[0m\u001b[0m\n",
        "\u001b[1;32m/home/aaron/anaconda/lib/python2.7/site-packages/scipy/sparse/compressed.pyc\u001b[0m in \u001b[0;36mcheck_format\u001b[1;34m(self, full_check)\u001b[0m\n\u001b[0;32m    147\u001b[0m                                 \"the size of index and data arrays\")\n\u001b[0;32m    148\u001b[0m \u001b[1;33m\u001b[0m\u001b[0m\n\u001b[1;32m--> 149\u001b[1;33m         \u001b[0mself\u001b[0m\u001b[1;33m.\u001b[0m\u001b[0mprune\u001b[0m\u001b[1;33m(\u001b[0m\u001b[1;33m)\u001b[0m\u001b[1;33m\u001b[0m\u001b[0m\n\u001b[0m\u001b[0;32m    150\u001b[0m \u001b[1;33m\u001b[0m\u001b[0m\n\u001b[0;32m    151\u001b[0m         \u001b[1;32mif\u001b[0m \u001b[0mfull_check\u001b[0m\u001b[1;33m:\u001b[0m\u001b[1;33m\u001b[0m\u001b[0m\n",
        "\u001b[1;32m/home/aaron/anaconda/lib/python2.7/site-packages/scipy/sparse/compressed.pyc\u001b[0m in \u001b[0;36mprune\u001b[1;34m(self)\u001b[0m\n\u001b[0;32m    638\u001b[0m         \u001b[1;32mif\u001b[0m \u001b[0mlen\u001b[0m\u001b[1;33m(\u001b[0m\u001b[0mself\u001b[0m\u001b[1;33m.\u001b[0m\u001b[0mindptr\u001b[0m\u001b[1;33m)\u001b[0m \u001b[1;33m!=\u001b[0m \u001b[0mmajor_dim\u001b[0m \u001b[1;33m+\u001b[0m \u001b[1;36m1\u001b[0m\u001b[1;33m:\u001b[0m\u001b[1;33m\u001b[0m\u001b[0m\n\u001b[0;32m    639\u001b[0m             \u001b[1;32mraise\u001b[0m \u001b[0mValueError\u001b[0m\u001b[1;33m(\u001b[0m\u001b[1;34m'index pointer has invalid length'\u001b[0m\u001b[1;33m)\u001b[0m\u001b[1;33m\u001b[0m\u001b[0m\n\u001b[1;32m--> 640\u001b[1;33m         \u001b[1;32mif\u001b[0m \u001b[0mlen\u001b[0m\u001b[1;33m(\u001b[0m\u001b[0mself\u001b[0m\u001b[1;33m.\u001b[0m\u001b[0mindices\u001b[0m\u001b[1;33m)\u001b[0m \u001b[1;33m<\u001b[0m \u001b[0mself\u001b[0m\u001b[1;33m.\u001b[0m\u001b[0mnnz\u001b[0m\u001b[1;33m:\u001b[0m\u001b[1;33m\u001b[0m\u001b[0m\n\u001b[0m\u001b[0;32m    641\u001b[0m             \u001b[1;32mraise\u001b[0m \u001b[0mValueError\u001b[0m\u001b[1;33m(\u001b[0m\u001b[1;34m'indices array has fewer than nnz elements'\u001b[0m\u001b[1;33m)\u001b[0m\u001b[1;33m\u001b[0m\u001b[0m\n\u001b[0;32m    642\u001b[0m         \u001b[1;32mif\u001b[0m \u001b[0mlen\u001b[0m\u001b[1;33m(\u001b[0m\u001b[0mself\u001b[0m\u001b[1;33m.\u001b[0m\u001b[0mdata\u001b[0m\u001b[1;33m)\u001b[0m \u001b[1;33m<\u001b[0m \u001b[0mself\u001b[0m\u001b[1;33m.\u001b[0m\u001b[0mnnz\u001b[0m\u001b[1;33m:\u001b[0m\u001b[1;33m\u001b[0m\u001b[0m\n",
        "\u001b[1;32m/home/aaron/anaconda/lib/python2.7/site-packages/scipy/sparse/compressed.pyc\u001b[0m in \u001b[0;36mgetnnz\u001b[1;34m(self)\u001b[0m\n\u001b[0;32m     85\u001b[0m         \u001b[0mself\u001b[0m\u001b[1;33m.\u001b[0m\u001b[0mcheck_format\u001b[0m\u001b[1;33m(\u001b[0m\u001b[0mfull_check\u001b[0m\u001b[1;33m=\u001b[0m\u001b[0mFalse\u001b[0m\u001b[1;33m)\u001b[0m\u001b[1;33m\u001b[0m\u001b[0m\n\u001b[0;32m     86\u001b[0m \u001b[1;33m\u001b[0m\u001b[0m\n\u001b[1;32m---> 87\u001b[1;33m     \u001b[1;32mdef\u001b[0m \u001b[0mgetnnz\u001b[0m\u001b[1;33m(\u001b[0m\u001b[0mself\u001b[0m\u001b[1;33m)\u001b[0m\u001b[1;33m:\u001b[0m\u001b[1;33m\u001b[0m\u001b[0m\n\u001b[0m\u001b[0;32m     88\u001b[0m         \u001b[1;32mreturn\u001b[0m \u001b[0mself\u001b[0m\u001b[1;33m.\u001b[0m\u001b[0mindptr\u001b[0m\u001b[1;33m[\u001b[0m\u001b[1;33m-\u001b[0m\u001b[1;36m1\u001b[0m\u001b[1;33m]\u001b[0m\u001b[1;33m\u001b[0m\u001b[0m\n\u001b[0;32m     89\u001b[0m     \u001b[0mnnz\u001b[0m \u001b[1;33m=\u001b[0m \u001b[0mproperty\u001b[0m\u001b[1;33m(\u001b[0m\u001b[0mfget\u001b[0m\u001b[1;33m=\u001b[0m\u001b[0mgetnnz\u001b[0m\u001b[1;33m)\u001b[0m\u001b[1;33m\u001b[0m\u001b[0m\n",
        "\u001b[1;31mKeyboardInterrupt\u001b[0m: "
       ]
      },
      {
       "output_type": "stream",
       "stream": "stdout",
       "text": [
        "1 {'alpha': 218.39055085072184, 'min_df': 0.019601423164403303} -5984.27067526 {'alpha': 150, 'min_df': 0.02}\n"
       ]
      }
     ],
     "prompt_number": 31
    },
    {
     "cell_type": "code",
     "collapsed": false,
     "input": [
      "vectorizer = CountVectorizer(min_df = best_params['min_df'])\n",
      "clf        = MultinomialNB(  alpha  = best_params['alpha'])\n",
      "\n",
      "train_score_display(vectorizer, clf, x, xtrain, ytrain, xtest, ytest)"
     ],
     "language": "python",
     "metadata": {},
     "outputs": []
    },
    {
     "cell_type": "code",
     "collapsed": false,
     "input": [
      "import sklearn.svm as sksvm\n",
      "vectorizer = CountVectorizer(min_df = best_params['min_df'])\n",
      "clf = sksvm.SVC(probability=True)\n",
      "\n",
      "vectorizer.fit(x)\n",
      "xtrain_v = vectorizer.transform(xtrain)\n",
      "xtest_v = vectorizer.transform(xtest)\n",
      "    \n",
      "clf.fit(xtrain_v, ytrain)\n",
      "    \n",
      "score = clf.score(xtest_v, ytest)\n",
      "calibration_plot(clf, xtest_v, ytest)"
     ],
     "language": "python",
     "metadata": {},
     "outputs": []
    },
    {
     "cell_type": "code",
     "collapsed": false,
     "input": [
      "def best_worst_words(clf, vec):\n",
      "    words = vec.get_feature_names()\n",
      "\n",
      "    df = pd.DataFrame({\"word\": words, \"PSuccess\": [clf.predict_proba(np.eye(1, len(words), i, dtype=int))[0][1] for i in range(len(words))]})\n",
      "    df = df.sort(columns='PSuccess', ascending=False)\n",
      "    \n",
      "    print \"Best Words\"\n",
      "    for i in range(20):\n",
      "        print df.irow(i).values[1], 'has a predicted' , df.irow(i).values[0], \"% chance of success\"\n",
      "        \n",
      "    df = df.sort(columns='PSuccess')  \n",
      "    print \"\\nWorst Words\"\n",
      "    for i in range(20):\n",
      "       print df.irow(i).values[1], 'has a predicted' , df.irow(i).values[0], \"% chance of success\"\n",
      "        \n",
      "def worst_predictions(clf, vec, xdata, ydata):\n",
      "    X, Y = make_xy(xdata, ydata, vectorizer=vec)\n",
      "    \n",
      "    df = pd.DataFrame({\"score\": [log_likelihood(clf, [x], [y]) for x, y in zip(X, Y)],\n",
      "                       \"blurb\": xdata,\n",
      "                       \"prob\": [x[1] for x in clf.predict_proba(X)],\n",
      "                       \"success\": ydata\n",
      "                       }\n",
      "                      )\n",
      "    df = df.sort(columns=\"score\")\n",
      "    \n",
      "    print \"Worst Predictions\"\n",
      "    for i in range(20):\n",
      "        row = df.irow(i)\n",
      "        print row['blurb'], \":\\t\", row['prob'], \"%,\\t\", row['score']"
     ],
     "language": "python",
     "metadata": {},
     "outputs": [],
     "prompt_number": 105
    },
    {
     "cell_type": "code",
     "collapsed": false,
     "input": [
      "x, y, xtrain, ytrain, xtest, ytest = prelim_split(subdf, 'text')"
     ],
     "language": "python",
     "metadata": {},
     "outputs": []
    },
    {
     "cell_type": "code",
     "collapsed": false,
     "input": [
      "best_params, score = random_optimization(log_classifier, {'min_df': .05, 'C':1}, {'min_df': .02, 'C':.5}, xtrain, ytrain)"
     ],
     "language": "python",
     "metadata": {},
     "outputs": []
    },
    {
     "cell_type": "code",
     "collapsed": false,
     "input": [
      "all_data_vectorizer = CountVectorizer(min_df = best_params['min_df'])\n",
      "all_data_clf = sklm.LogisticRegression(C = best_params['C'])\n",
      "\n",
      "all_vec, all_clf = train_score_display(all_data_vectorizer, all_data_clf, x, xtrain, ytrain, xtest, ytest)"
     ],
     "language": "python",
     "metadata": {},
     "outputs": []
    },
    {
     "cell_type": "code",
     "collapsed": false,
     "input": [
      "x, y, xtrain, ytrain, xtest, ytest, train_index, test_index = prelim_split(subdf, 'blurb')\n",
      "best_params = {}\n",
      "score = {}\n",
      "test_data = {}"
     ],
     "language": "python",
     "metadata": {},
     "outputs": [],
     "prompt_number": 76
    },
    {
     "cell_type": "code",
     "collapsed": false,
     "input": [
      "best_params['all'], score['all'] = random_optimization(nb_classifier, {'min_df': .05, 'alpha':300}, {'min_df': .02, 'alpha':150}, xtrain, ytrain)"
     ],
     "language": "python",
     "metadata": {},
     "outputs": [
      {
       "output_type": "stream",
       "stream": "stdout",
       "text": [
        "1 {'alpha': 300, 'min_df': 0.05} -5935.59157846 {'alpha': 135.0, 'min_df': 0.018000000000000002}\n",
        "11"
       ]
      },
      {
       "output_type": "stream",
       "stream": "stdout",
       "text": [
        " {'alpha': 203.76925772243607, 'min_df': 0.018614720451788032} -5920.22214375 {'alpha': 52.30176601500001, 'min_df': 0.006973568802000004}\n",
        "21"
       ]
      },
      {
       "output_type": "stream",
       "stream": "stdout",
       "text": [
        " {'alpha': 203.76925772243607, 'min_df': 0.018614720451788032} -5920.22214375 {'alpha': 18.236498188585404, 'min_df': 0.002431533091811388}\n",
        "31"
       ]
      },
      {
       "output_type": "stream",
       "stream": "stdout",
       "text": [
        " {'alpha': 205.3641607001535, 'min_df': 0.01915443206883621} -5919.53127207 {'alpha': 7.850214495410415, 'min_df': 0.0010466952660547221}\n",
        "41"
       ]
      },
      {
       "output_type": "stream",
       "stream": "stdout",
       "text": [
        " {'alpha': 211.7415576674815, 'min_df': 0.01915443206883621} -5919.52411605 {'alpha': 3.3792599317408802, 'min_df': 0.0004505679908987841}\n"
       ]
      }
     ],
     "prompt_number": 77
    },
    {
     "cell_type": "code",
     "collapsed": false,
     "input": [
      "categories = subdf.groupby('category').indices.keys()\n",
      "for c in categories:\n",
      "    ntrain = subdf[train_index][subdf['category'] == c]\n",
      "    ntest = subdf[test_index][subdf['category'] == c]\n",
      "    nxtrain = ntrain['blurb']\n",
      "    nytrain = ntrain['success']\n",
      "    nxtest = ntest['blurb']\n",
      "    nytest = ntest['success']\n",
      "    \n",
      "    test_data[c] = [nxtest, nytest]\n",
      "    best_params[c], score[c] = random_optimization(nb_classifier, {'min_df': .05, 'alpha':300}, {'min_df': .02, 'alpha':150}, nxtrain, nytrain)"
     ],
     "language": "python",
     "metadata": {},
     "outputs": [
      {
       "output_type": "stream",
       "stream": "stdout",
       "text": [
        "1 {'alpha': 300, 'min_df': 0.059830010448085905} -40.0865577442 {'alpha': 150, 'min_df': 0.02}\n",
        "11"
       ]
      },
      {
       "output_type": "stream",
       "stream": "stdout",
       "text": [
        " {'alpha': 29.97507287899427, 'min_df': 0.07884496029281199} -39.776046883 {'alpha': 71.74453500000001, 'min_df': 0.009565938000000005}\n",
        "21"
       ]
      },
      {
       "output_type": "stream",
       "stream": "stdout",
       "text": [
        " {'alpha': 29.97507287899427, 'min_df': 0.07884496029281199} -39.776046883 {'alpha': 25.015772549499868, 'min_df': 0.0033354363399333165}\n",
        "31"
       ]
      },
      {
       "output_type": "stream",
       "stream": "stdout",
       "text": [
        " {'alpha': 29.97507287899427, 'min_df': 0.0745350570902496} -39.7283545124 {'alpha': 9.691622833840018, 'min_df': 0.0012922163778453359}\n",
        "41"
       ]
      },
      {
       "output_type": "stream",
       "stream": "stdout",
       "text": [
        " {'alpha': 24.522543668056105, 'min_df': 0.0745350570902496} -39.6764009715 {'alpha': 3.7547332574898666, 'min_df': 0.000500631100998649}\n",
        "51"
       ]
      },
      {
       "output_type": "stream",
       "stream": "stdout",
       "text": [
        " {'alpha': 18.06496936780586, 'min_df': 0.07323328432694416} -39.6203235173 {'alpha': 1.7958772773843055, 'min_df': 0.00023945030365124078}\n",
        "61"
       ]
      },
      {
       "output_type": "stream",
       "stream": "stdout",
       "text": [
        " {'alpha': 16.23814322404735, 'min_df': 0.07324243340213207} -39.6126686252 {'alpha': 0.9544028161703928, 'min_df': 0.0001272537088227191}\n",
        "71"
       ]
      },
      {
       "output_type": "stream",
       "stream": "stdout",
       "text": [
        " {'alpha': 15.676410793616702, 'min_df': 0.07324243340213207} -39.6119441335 {'alpha': 0.3697552057437108, 'min_df': 4.9300694099161447e-05}\n",
        "1"
       ]
      },
      {
       "output_type": "stream",
       "stream": "stdout",
       "text": [
        " {'alpha': 296.7329322774999, 'min_df': 0.0749612574756712} -9.25310795415 {'alpha': 150, 'min_df': 0.02}\n",
        "11"
       ]
      },
      {
       "output_type": "stream",
       "stream": "stdout",
       "text": [
        " {'alpha': 404.0222113589695, 'min_df': 0.06349491463686507} -9.24247874846 {'alpha': 64.57008150000001, 'min_df': 0.008609344200000004}\n",
        "21"
       ]
      },
      {
       "output_type": "stream",
       "stream": "stdout",
       "text": [
        " {'alpha': 581.7894553396663, 'min_df': 0.07425645048766415} -9.24066354384 {'alpha': 34.315188682441516, 'min_df': 0.004575358490992203}\n",
        "31"
       ]
      },
      {
       "output_type": "stream",
       "stream": "stdout",
       "text": [
        " {'alpha': 610.095533644582, 'min_df': 0.07604832117644712} -9.24048010427 {'alpha': 14.771563532754177, 'min_df': 0.0019695418043672243}\n",
        "1"
       ]
      },
      {
       "output_type": "stream",
       "stream": "stdout",
       "text": [
        " {'alpha': 300, 'min_df': 0.05} -79.7505176502 {'alpha': 135.0, 'min_df': 0.018000000000000002}\n",
        "11"
       ]
      },
      {
       "output_type": "stream",
       "stream": "stdout",
       "text": [
        " {'alpha': 300, 'min_df': 0.06098301896028549} -79.3614829136 {'alpha': 52.30176601500001, 'min_df': 0.006973568802000004}\n",
        "21"
       ]
      },
      {
       "output_type": "stream",
       "stream": "stdout",
       "text": [
        " {'alpha': 354.46308781416354, 'min_df': 0.0787856048772094} -78.966658565 {'alpha': 25.015772549499868, 'min_df': 0.0033354363399333165}\n",
        "31"
       ]
      },
      {
       "output_type": "stream",
       "stream": "stdout",
       "text": [
        " {'alpha': 401.95006430464326, 'min_df': 0.08320563037268561} -78.6746103249 {'alpha': 11.964966461530885, 'min_df': 0.0015953288615374516}\n",
        "1"
       ]
      },
      {
       "output_type": "stream",
       "stream": "stdout",
       "text": [
        " {'alpha': 300, 'min_df': 0.05} -49.9262505832 {'alpha': 135.0, 'min_df': 0.018000000000000002}\n",
        "11"
       ]
      },
      {
       "output_type": "stream",
       "stream": "stdout",
       "text": [
        " {'alpha': 193.41083252596889, 'min_df': 0.010337362566997957} -49.8138460085 {'alpha': 58.113073350000015, 'min_df': 0.007748409780000004}\n",
        "21"
       ]
      },
      {
       "output_type": "stream",
       "stream": "stdout",
       "text": [
        " {'alpha': 53.30422255899263, 'min_df': 0.00756208849014764} -49.7505674938 {'alpha': 27.79530283277763, 'min_df': 0.003706040377703685}\n",
        "31"
       ]
      },
      {
       "output_type": "stream",
       "stream": "stdout",
       "text": [
        " {'alpha': 75.56346379136451, 'min_df': 0.00756208849014764} -49.7148803905 {'alpha': 10.768469815377797, 'min_df': 0.0014357959753837064}\n",
        "41"
       ]
      },
      {
       "output_type": "stream",
       "stream": "stdout",
       "text": [
        " {'alpha': 79.67626533960672, 'min_df': 0.0073382376271586445} -49.7145105539 {'alpha': 4.635473157394897, 'min_df': 0.000618063087652653}\n",
        "51"
       ]
      },
      {
       "output_type": "stream",
       "stream": "stdout",
       "text": [
        " {'alpha': 78.9176962083881, 'min_df': 0.00754447969672733} -49.7144962391 {'alpha': 1.9954191970936728, 'min_df': 0.0002660558929458231}\n",
        "1"
       ]
      },
      {
       "output_type": "stream",
       "stream": "stdout",
       "text": [
        " {'alpha': 245.97394347738754, 'min_df': 0.05840944348459363} -55.1404812181 {'alpha': 150, 'min_df': 0.02}\n",
        "11"
       ]
      },
      {
       "output_type": "stream",
       "stream": "stdout",
       "text": [
        " {'alpha': 94.41448845799576, 'min_df': 0.06124697615040839} -54.8987132157 {'alpha': 79.71615000000001, 'min_df': 0.010628820000000004}\n",
        "21"
       ]
      },
      {
       "output_type": "stream",
       "stream": "stdout",
       "text": [
        " {'alpha': 36.478451175434856, 'min_df': 0.07864867476211727} -54.8068807042 {'alpha': 38.127987424935014, 'min_df': 0.005083731656658003}\n",
        "31"
       ]
      },
      {
       "output_type": "stream",
       "stream": "stdout",
       "text": [
        " {'alpha': 36.478451175434856, 'min_df': 0.07864867476211727} -54.8047378976 {'alpha': 13.29440717947876, 'min_df': 0.0017725876239305018}\n",
        "41"
       ]
      },
      {
       "output_type": "stream",
       "stream": "stdout",
       "text": [
        " {'alpha': 36.478451175434856, 'min_df': 0.07864867476211727} -54.8047378976 {'alpha': 4.635473157394897, 'min_df': 0.000618063087652653}\n",
        "51"
       ]
      },
      {
       "output_type": "stream",
       "stream": "stdout",
       "text": [
        " {'alpha': 34.04195375319728, 'min_df': 0.07847126302399023} -54.8016029336 {'alpha': 1.9954191970936728, 'min_df': 0.0002660558929458231}\n",
        "61"
       ]
      },
      {
       "output_type": "stream",
       "stream": "stdout",
       "text": [
        " {'alpha': 31.999373539832252, 'min_df': 0.0784990555326898} -54.7999743092 {'alpha': 1.0604475735226586, 'min_df': 0.0001413930098030212}\n",
        "1"
       ]
      },
      {
       "output_type": "stream",
       "stream": "stdout",
       "text": [
        " {'alpha': 300, 'min_df': 0.05} -24.0077868068 {'alpha': 135.0, 'min_df': 0.018000000000000002}\n",
        "11"
       ]
      },
      {
       "output_type": "stream",
       "stream": "stdout",
       "text": [
        " {'alpha': 115.90939392705403, 'min_df': 0.06010703168758793} -23.9827635182 {'alpha': 58.113073350000015, 'min_df': 0.007748409780000004}\n",
        "21"
       ]
      },
      {
       "output_type": "stream",
       "stream": "stdout",
       "text": [
        " {'alpha': 115.90939392705403, 'min_df': 0.06010703168758793} -23.9827635182 {'alpha': 20.262775765094894, 'min_df': 0.0027017034353459864}\n",
        "31"
       ]
      },
      {
       "output_type": "stream",
       "stream": "stdout",
       "text": [
        " {'alpha': 115.90939392705403, 'min_df': 0.06010703168758793} -23.9827635182 {'alpha': 7.065193045869374, 'min_df': 0.00094202573944925}\n",
        "41"
       ]
      },
      {
       "output_type": "stream",
       "stream": "stdout",
       "text": [
        " {'alpha': 116.0560546989218, 'min_df': 0.06062309212750105} -23.9827623833 {'alpha': 2.737200544710113, 'min_df': 0.00036496007262801515}\n",
        "1"
       ]
      },
      {
       "output_type": "stream",
       "stream": "stdout",
       "text": [
        " {'alpha': 300, 'min_df': 0.05} -204.224080768 {'alpha': 135.0, 'min_df': 0.018000000000000002}\n",
        "11"
       ]
      },
      {
       "output_type": "stream",
       "stream": "stdout",
       "text": [
        " {'alpha': 374.46427270719215, 'min_df': 0.0536059903155737} -201.623394953 {'alpha': 79.71615000000001, 'min_df': 0.010628820000000004}\n",
        "21"
       ]
      },
      {
       "output_type": "stream",
       "stream": "stdout",
       "text": [
        " {'alpha': 399.835941540051, 'min_df': 0.06396962874560225} -199.819137431 {'alpha': 38.127987424935014, 'min_df': 0.005083731656658003}\n",
        "31"
       ]
      },
      {
       "output_type": "stream",
       "stream": "stdout",
       "text": [
        " {'alpha': 406.4485448156098, 'min_df': 0.06724372216517265} -199.367228923 {'alpha': 18.236498188585404, 'min_df': 0.002431533091811388}\n",
        "1"
       ]
      },
      {
       "output_type": "stream",
       "stream": "stdout",
       "text": [
        " {'alpha': 300, 'min_df': 0.05} -52.1541899426 {'alpha': 135.0, 'min_df': 0.018000000000000002}\n",
        "11"
       ]
      },
      {
       "output_type": "stream",
       "stream": "stdout",
       "text": [
        " {'alpha': 504.69170902908974, 'min_df': 0.06228050167865621} -51.7398690608 {'alpha': 71.74453500000001, 'min_df': 0.009565938000000005}\n",
        "21"
       ]
      },
      {
       "output_type": "stream",
       "stream": "stdout",
       "text": [
        " {'alpha': 682.9285727263846, 'min_df': 0.11113155239251021} -51.504862255 {'alpha': 47.071589413500014, 'min_df': 0.006276211921800004}\n",
        "31"
       ]
      },
      {
       "output_type": "stream",
       "stream": "stdout",
       "text": [
        " {'alpha': 747.6794295563395, 'min_df': 0.11113155239251021} -51.4832243548 {'alpha': 20.262775765094894, 'min_df': 0.0027017034353459864}\n",
        "1"
       ]
      },
      {
       "output_type": "stream",
       "stream": "stdout",
       "text": [
        " {'alpha': 300, 'min_df': 0.05} -48.9009022795 {'alpha': 135.0, 'min_df': 0.018000000000000002}\n",
        "11"
       ]
      },
      {
       "output_type": "stream",
       "stream": "stdout",
       "text": [
        " {'alpha': 482.2217394372267, 'min_df': 0.05953278041816127} -48.5647059263 {'alpha': 71.74453500000001, 'min_df': 0.009565938000000005}\n",
        "21"
       ]
      },
      {
       "output_type": "stream",
       "stream": "stdout",
       "text": [
        " {'alpha': 800.9675780708973, 'min_df': 0.06929273057419139} -48.3708903566 {'alpha': 38.127987424935014, 'min_df': 0.005083731656658003}\n",
        "31"
       ]
      },
      {
       "output_type": "stream",
       "stream": "stdout",
       "text": [
        " {'alpha': 923.6502718662382, 'min_df': 0.07349300894880192} -48.3542633646 {'alpha': 25.015772549499868, 'min_df': 0.0033354363399333165}\n",
        "1"
       ]
      },
      {
       "output_type": "stream",
       "stream": "stdout",
       "text": [
        " {'alpha': 300, 'min_df': 0.05} -341.601737615 {'alpha': 135.0, 'min_df': 0.018000000000000002}\n",
        "11"
       ]
      },
      {
       "output_type": "stream",
       "stream": "stdout",
       "text": [
        " {'alpha': 311.7443790773217, 'min_df': 0.06860244081299344} -341.118881571 {'alpha': 64.57008150000001, 'min_df': 0.008609344200000004}\n",
        "21"
       ]
      },
      {
       "output_type": "stream",
       "stream": "stdout",
       "text": [
        " {'alpha': 390.790697656403, 'min_df': 0.0703748147439217} -340.504608346 {'alpha': 34.315188682441516, 'min_df': 0.004575358490992203}\n",
        "31"
       ]
      },
      {
       "output_type": "stream",
       "stream": "stdout",
       "text": [
        " {'alpha': 426.5426243641812, 'min_df': 0.0703748147439217} -340.460800439 {'alpha': 14.771563532754177, 'min_df': 0.0019695418043672243}\n",
        "1"
       ]
      },
      {
       "output_type": "stream",
       "stream": "stdout",
       "text": [
        " {'alpha': 312.2199675541375, 'min_df': 0.05} -55.4312182105 {'alpha': 150, 'min_df': 0.02}\n",
        "11"
       ]
      },
      {
       "output_type": "stream",
       "stream": "stdout",
       "text": [
        " {'alpha': 527.7382946151566, 'min_df': 0.05} -55.4062300755 {'alpha': 64.57008150000001, 'min_df': 0.008609344200000004}\n",
        "21"
       ]
      },
      {
       "output_type": "stream",
       "stream": "stdout",
       "text": [
        " {'alpha': 619.6795313801737, 'min_df': 0.07064730147816095} -55.3780655887 {'alpha': 34.315188682441516, 'min_df': 0.004575358490992203}\n",
        "31"
       ]
      },
      {
       "output_type": "stream",
       "stream": "stdout",
       "text": [
        " {'alpha': 564.8842843951678, 'min_df': 0.07064730147816095} -55.3676400208 {'alpha': 16.412848369726863, 'min_df': 0.002188379782630249}\n",
        "1"
       ]
      },
      {
       "output_type": "stream",
       "stream": "stdout",
       "text": [
        " {'alpha': 375.036587618088, 'min_df': 0.05} -17.9470993596 {'alpha': 150, 'min_df': 0.02}\n",
        "11"
       ]
      },
      {
       "output_type": "stream",
       "stream": "stdout",
       "text": [
        " {'alpha': 222.09326810969165, 'min_df': 0.055107300979118125} -17.9228966476 {'alpha': 88.57350000000001, 'min_df': 0.011809800000000004}\n",
        "21"
       ]
      },
      {
       "output_type": "stream",
       "stream": "stdout",
       "text": [
        " {'alpha': 222.09326810969165, 'min_df': 0.055107300979118125} -17.9228966476 {'alpha': 30.883669814197365, 'min_df': 0.004117822641892983}\n",
        "31"
       ]
      },
      {
       "output_type": "stream",
       "stream": "stdout",
       "text": [
        " {'alpha': 222.09326810969165, 'min_df': 0.055107300979118125} -17.9228966476 {'alpha': 10.768469815377797, 'min_df': 0.0014357959753837064}\n",
        "1"
       ]
      },
      {
       "output_type": "stream",
       "stream": "stdout",
       "text": [
        " {'alpha': 300, 'min_df': 0.05} -135.34739199 {'alpha': 135.0, 'min_df': 0.018000000000000002}\n",
        "11"
       ]
      },
      {
       "output_type": "stream",
       "stream": "stdout",
       "text": [
        " {'alpha': 1180.5616416151165, 'min_df': 0.10143126812637089} -129.375196108 {'alpha': 98.415, 'min_df': 0.013122000000000003}\n",
        "21"
       ]
      },
      {
       "output_type": "stream",
       "stream": "stdout",
       "text": [
        " {'alpha': 1667.1648598442991, 'min_df': 0.1567486769112535} -129.166604642 {'alpha': 88.57350000000001, 'min_df': 0.011809800000000004}\n",
        "31"
       ]
      },
      {
       "output_type": "stream",
       "stream": "stdout",
       "text": [
        " {'alpha': 1667.1648598442991, 'min_df': 0.1567486769112535} -129.115655239 {'alpha': 30.883669814197365, 'min_df': 0.004117822641892983}\n",
        "1"
       ]
      },
      {
       "output_type": "stream",
       "stream": "stdout",
       "text": [
        " {'alpha': 300, 'min_df': 0.05} -257.744307353 {'alpha': 135.0, 'min_df': 0.018000000000000002}\n",
        "11"
       ]
      },
      {
       "output_type": "stream",
       "stream": "stdout",
       "text": [
        " {'alpha': 569.0062035690438, 'min_df': 0.10102685323559782} -254.861898076 {'alpha': 88.57350000000001, 'min_df': 0.011809800000000004}\n",
        "21"
       ]
      },
      {
       "output_type": "stream",
       "stream": "stdout",
       "text": [
        " {'alpha': 684.9735863837371, 'min_df': 0.13835159026889754} -254.592685109 {'alpha': 52.30176601500001, 'min_df': 0.006973568802000004}\n",
        "31"
       ]
      },
      {
       "output_type": "stream",
       "stream": "stdout",
       "text": [
        " {'alpha': 874.1134061805491, 'min_df': 0.1364085188600186} -254.481766527 {'alpha': 38.127987424935014, 'min_df': 0.005083731656658003}\n",
        "41"
       ]
      },
      {
       "output_type": "stream",
       "stream": "stdout",
       "text": [
        " {'alpha': 1042.9333073437763, 'min_df': 0.14288035718975858} -254.416068336 {'alpha': 27.79530283277763, 'min_df': 0.003706040377703685}\n",
        "1"
       ]
      },
      {
       "output_type": "stream",
       "stream": "stdout",
       "text": [
        " {'alpha': 300, 'min_df': 0.051822505865570245} -57.1444306716 {'alpha': 150, 'min_df': 0.02}\n",
        "11"
       ]
      },
      {
       "output_type": "stream",
       "stream": "stdout",
       "text": [
        " {'alpha': 120.73581971247302, 'min_df': 0.033846920839774204} -56.9550491737 {'alpha': 79.71615000000001, 'min_df': 0.010628820000000004}\n",
        "21"
       ]
      },
      {
       "output_type": "stream",
       "stream": "stdout",
       "text": [
        " {'alpha': 98.18516561412407, 'min_df': 0.033909581372300095} -56.8447866164 {'alpha': 34.315188682441516, 'min_df': 0.004575358490992203}\n",
        "31"
       ]
      },
      {
       "output_type": "stream",
       "stream": "stdout",
       "text": [
        " {'alpha': 33.703489293268504, 'min_df': 0.03374251114481154} -56.5089540645 {'alpha': 18.236498188585404, 'min_df': 0.002431533091811388}\n",
        "41"
       ]
      },
      {
       "output_type": "stream",
       "stream": "stdout",
       "text": [
        " {'alpha': 22.85060427600525, 'min_df': 0.03200322229264194} -56.3482021111 {'alpha': 8.722460550456017, 'min_df': 0.0011629947400608022}\n",
        "51"
       ]
      },
      {
       "output_type": "stream",
       "stream": "stdout",
       "text": [
        " {'alpha': 22.85060427600525, 'min_df': 0.03200322229264194} -56.3482021111 {'alpha': 3.041333938566792, 'min_df': 0.00040551119180890573}\n",
        "61"
       ]
      },
      {
       "output_type": "stream",
       "stream": "stdout",
       "text": [
        " {'alpha': 23.740146977213183, 'min_df': 0.03183789124300327} -56.3476456992 {'alpha': 1.1782750816918428, 'min_df': 0.0001571033442255791}\n",
        "1"
       ]
      },
      {
       "output_type": "stream",
       "stream": "stdout",
       "text": [
        " {'alpha': 405.03656781585096, 'min_df': 0.05} -171.6797194 {'alpha': 150, 'min_df': 0.02}\n",
        "11"
       ]
      },
      {
       "output_type": "stream",
       "stream": "stdout",
       "text": [
        " {'alpha': 580.2642262302492, 'min_df': 0.08793254943589035} -166.040959598 {'alpha': 79.71615000000001, 'min_df': 0.010628820000000004}\n",
        "21"
       ]
      },
      {
       "output_type": "stream",
       "stream": "stdout",
       "text": [
        " {'alpha': 842.9466667249108, 'min_df': 0.08729322782573642} -165.272488957 {'alpha': 42.36443047215001, 'min_df': 0.0056485907296200035}\n",
        "31"
       ]
      },
      {
       "output_type": "stream",
       "stream": "stdout",
       "text": [
        " {'alpha': 872.1754320436316, 'min_df': 0.08848691072097607} -165.217673545 {'alpha': 16.412848369726863, 'min_df': 0.002188379782630249}\n",
        "1"
       ]
      },
      {
       "output_type": "stream",
       "stream": "stdout",
       "text": [
        " {'alpha': 512.5231138555855, 'min_df': 0.05} -200.212056182 {'alpha': 150, 'min_df': 0.02}\n",
        "11"
       ]
      },
      {
       "output_type": "stream",
       "stream": "stdout",
       "text": [
        " {'alpha': 561.2438148637941, 'min_df': 0.0822583101088408} -191.465568128 {'alpha': 79.71615000000001, 'min_df': 0.010628820000000004}\n",
        "21"
       ]
      },
      {
       "output_type": "stream",
       "stream": "stdout",
       "text": [
        " {'alpha': 561.2438148637941, 'min_df': 0.0822583101088408} -191.465568128 {'alpha': 27.79530283277763, 'min_df': 0.003706040377703685}\n",
        "1"
       ]
      },
      {
       "output_type": "stream",
       "stream": "stdout",
       "text": [
        " {'alpha': 300, 'min_df': 0.05} -30.8839423716 {'alpha': 135.0, 'min_df': 0.018000000000000002}\n",
        "11"
       ]
      },
      {
       "output_type": "stream",
       "stream": "stdout",
       "text": [
        " {'alpha': 72.93188248940268, 'min_df': 0.04676269729926254} -30.6477237962 {'alpha': 58.113073350000015, 'min_df': 0.007748409780000004}\n",
        "21"
       ]
      },
      {
       "output_type": "stream",
       "stream": "stdout",
       "text": [
        " {'alpha': 9.038099882802051, 'min_df': 0.037078731901587385} -29.6952872561 {'alpha': 30.883669814197365, 'min_df': 0.004117822641892983}\n",
        "31"
       ]
      },
      {
       "output_type": "stream",
       "stream": "stdout",
       "text": [
        " {'alpha': 6.920175637792779, 'min_df': 0.04055838199706352} -29.5778981342 {'alpha': 11.964966461530885, 'min_df': 0.0015953288615374516}\n",
        "41"
       ]
      },
      {
       "output_type": "stream",
       "stream": "stdout",
       "text": [
        " {'alpha': 4.407727057421486, 'min_df': 0.04055838199706352} -29.5123620793 {'alpha': 4.635473157394897, 'min_df': 0.000618063087652653}\n",
        "51"
       ]
      },
      {
       "output_type": "stream",
       "stream": "stdout",
       "text": [
        " {'alpha': 4.409331020013437, 'min_df': 0.04055838199706352} -29.5123221843 {'alpha': 1.7958772773843055, 'min_df': 0.00023945030365124078}\n",
        "61"
       ]
      },
      {
       "output_type": "stream",
       "stream": "stdout",
       "text": [
        " {'alpha': 4.409331020013437, 'min_df': 0.04055838199706352} -29.5123221843 {'alpha': 0.6261836876893948, 'min_df': 8.3491158358586e-05}\n",
        "71"
       ]
      },
      {
       "output_type": "stream",
       "stream": "stdout",
       "text": [
        " {'alpha': 4.565881622003352, 'min_df': 0.04049858459004262} -29.5092913112 {'alpha': 0.2995017166524057, 'min_df': 3.9933562220320774e-05}\n",
        "81"
       ]
      },
      {
       "output_type": "stream",
       "stream": "stdout",
       "text": [
        " {'alpha': 4.899525447671218, 'min_df': 0.040413645242268835} -29.5078290474 {'alpha': 0.15916749179947118, 'min_df': 2.1222332239929495e-05}\n",
        "1"
       ]
      },
      {
       "output_type": "stream",
       "stream": "stdout",
       "text": [
        " {'alpha': 300, 'min_df': 0.05} -73.2641840217 {'alpha': 135.0, 'min_df': 0.018000000000000002}\n",
        "11"
       ]
      },
      {
       "output_type": "stream",
       "stream": "stdout",
       "text": [
        " {'alpha': 511.7821671076711, 'min_df': 0.08577629159946148} -72.9480878609 {'alpha': 88.57350000000001, 'min_df': 0.011809800000000004}\n",
        "21"
       ]
      },
      {
       "output_type": "stream",
       "stream": "stdout",
       "text": [
        " {'alpha': 655.8263507808547, 'min_df': 0.07413691322316364} -72.9042642484 {'alpha': 52.30176601500001, 'min_df': 0.006973568802000004}\n",
        "31"
       ]
      },
      {
       "output_type": "stream",
       "stream": "stdout",
       "text": [
        " {'alpha': 684.376167023591, 'min_df': 0.07413691322316364} -72.8996148498 {'alpha': 20.262775765094894, 'min_df': 0.0027017034353459864}\n",
        "1"
       ]
      },
      {
       "output_type": "stream",
       "stream": "stdout",
       "text": [
        " {'alpha': 300, 'min_df': 0.05862919027188188} -88.0105260993 {'alpha': 150, 'min_df': 0.02}\n",
        "11"
       ]
      },
      {
       "output_type": "stream",
       "stream": "stdout",
       "text": [
        " {'alpha': 635.9532714212907, 'min_df': 0.07319783811999542} -86.9175292661 {'alpha': 71.74453500000001, 'min_df': 0.009565938000000005}\n",
        "21"
       ]
      },
      {
       "output_type": "stream",
       "stream": "stdout",
       "text": [
        " {'alpha': 691.7407935325426, 'min_df': 0.08481276984684774} -86.8794181891 {'alpha': 42.36443047215001, 'min_df': 0.0056485907296200035}\n",
        "31"
       ]
      },
      {
       "output_type": "stream",
       "stream": "stdout",
       "text": [
        " {'alpha': 787.3806955884588, 'min_df': 0.08481276984684774} -86.8560124612 {'alpha': 18.236498188585404, 'min_df': 0.002431533091811388}\n",
        "1"
       ]
      },
      {
       "output_type": "stream",
       "stream": "stdout",
       "text": [
        " {'alpha': 349.1262497602793, 'min_df': 0.05} -169.748784029 {'alpha': 150, 'min_df': 0.02}\n",
        "11"
       ]
      },
      {
       "output_type": "stream",
       "stream": "stdout",
       "text": [
        " {'alpha': 671.3375038473777, 'min_df': 0.035292085078884906} -167.524013582 {'alpha': 71.74453500000001, 'min_df': 0.009565938000000005}\n",
        "21"
       ]
      },
      {
       "output_type": "stream",
       "stream": "stdout",
       "text": [
        " {'alpha': 755.8284548091002, 'min_df': 0.07998174257399046} -166.361738491 {'alpha': 47.071589413500014, 'min_df': 0.006276211921800004}\n",
        "31"
       ]
      },
      {
       "output_type": "stream",
       "stream": "stdout",
       "text": [
        " {'alpha': 890.5238942004729, 'min_df': 0.08704518406837453} -166.119361979 {'alpha': 27.79530283277763, 'min_df': 0.003706040377703685}\n",
        "1"
       ]
      },
      {
       "output_type": "stream",
       "stream": "stdout",
       "text": [
        " {'alpha': 241.69439887867247, 'min_df': 0.06898378969542368} -36.3936542822 {'alpha': 150, 'min_df': 0.02}\n",
        "11"
       ]
      },
      {
       "output_type": "stream",
       "stream": "stdout",
       "text": [
        " {'alpha': 89.56414935054627, 'min_df': 0.06898378969542368} -36.298624454 {'alpha': 58.113073350000015, 'min_df': 0.007748409780000004}\n",
        "21"
       ]
      },
      {
       "output_type": "stream",
       "stream": "stdout",
       "text": [
        " {'alpha': 89.56414935054627, 'min_df': 0.06898378969542368} -36.298624454 {'alpha': 20.262775765094894, 'min_df': 0.0027017034353459864}\n",
        "31"
       ]
      },
      {
       "output_type": "stream",
       "stream": "stdout",
       "text": [
        " {'alpha': 89.56414935054627, 'min_df': 0.06898378969542368} -36.298624454 {'alpha': 7.065193045869374, 'min_df': 0.00094202573944925}\n",
        "41"
       ]
      },
      {
       "output_type": "stream",
       "stream": "stdout",
       "text": [
        " {'alpha': 91.78050004978054, 'min_df': 0.06900587848436578} -36.2985377524 {'alpha': 3.3792599317408802, 'min_df': 0.0004505679908987841}\n",
        "1"
       ]
      },
      {
       "output_type": "stream",
       "stream": "stdout",
       "text": [
        " {'alpha': 300, 'min_df': 0.05} -22.1142067108 {'alpha': 135.0, 'min_df': 0.018000000000000002}\n",
        "11"
       ]
      },
      {
       "output_type": "stream",
       "stream": "stdout",
       "text": [
        " {'alpha': 73.83250780282177, 'min_df': 0.07874059033649668} -22.039838919 {'alpha': 71.74453500000001, 'min_df': 0.009565938000000005}\n",
        "21"
       ]
      },
      {
       "output_type": "stream",
       "stream": "stdout",
       "text": [
        " {'alpha': 24.062012710009974, 'min_df': 0.07647102783635419} -21.9425834891 {'alpha': 30.883669814197365, 'min_df': 0.004117822641892983}\n",
        "31"
       ]
      },
      {
       "output_type": "stream",
       "stream": "stdout",
       "text": [
        " {'alpha': 27.31083499406324, 'min_df': 0.07763117017160961} -21.9425834891 {'alpha': 11.964966461530885, 'min_df': 0.0015953288615374516}\n",
        "41"
       ]
      },
      {
       "output_type": "stream",
       "stream": "stdout",
       "text": [
        " {'alpha': 28.27847126386128, 'min_df': 0.07763117017160961} -21.940206955 {'alpha': 4.635473157394897, 'min_df': 0.000618063087652653}\n",
        "51"
       ]
      },
      {
       "output_type": "stream",
       "stream": "stdout",
       "text": [
        " {'alpha': 28.27847126386128, 'min_df': 0.07763117017160961} -21.940206955 {'alpha': 1.616289549645875, 'min_df': 0.0002155052732861167}\n",
        "1"
       ]
      },
      {
       "output_type": "stream",
       "stream": "stdout",
       "text": [
        " {'alpha': 300, 'min_df': 0.05} -222.834565345 {'alpha': 135.0, 'min_df': 0.018000000000000002}\n",
        "11"
       ]
      },
      {
       "output_type": "stream",
       "stream": "stdout",
       "text": [
        " {'alpha': 277.6552215666161, 'min_df': 0.10259662835087499} -218.254237264 {'alpha': 71.74453500000001, 'min_df': 0.009565938000000005}\n",
        "21"
       ]
      },
      {
       "output_type": "stream",
       "stream": "stdout",
       "text": [
        " {'alpha': 323.226123443739, 'min_df': 0.09954314353146684} -217.99922591 {'alpha': 27.79530283277763, 'min_df': 0.003706040377703685}\n",
        "31"
       ]
      },
      {
       "output_type": "stream",
       "stream": "stdout",
       "text": [
        " {'alpha': 330.4245002148587, 'min_df': 0.09872576874726759} -217.997690115 {'alpha': 11.964966461530885, 'min_df': 0.0015953288615374516}\n",
        "1"
       ]
      },
      {
       "output_type": "stream",
       "stream": "stdout",
       "text": [
        " {'alpha': 300, 'min_df': 0.05} -192.168810892 {'alpha': 135.0, 'min_df': 0.018000000000000002}\n",
        "11"
       ]
      },
      {
       "output_type": "stream",
       "stream": "stdout",
       "text": [
        " {'alpha': 129.10988113714194, 'min_df': 0.03098989243050763} -191.481625225 {'alpha': 71.74453500000001, 'min_df': 0.009565938000000005}\n",
        "21"
       ]
      },
      {
       "output_type": "stream",
       "stream": "stdout",
       "text": [
        " {'alpha': 91.50301145997886, 'min_df': 0.029166556251732128} -190.290943977 {'alpha': 30.883669814197365, 'min_df': 0.004117822641892983}\n",
        "31"
       ]
      },
      {
       "output_type": "stream",
       "stream": "stdout",
       "text": [
        " {'alpha': 41.20646084046764, 'min_df': 0.02485064177045063} -189.603809547 {'alpha': 18.236498188585404, 'min_df': 0.002431533091811388}\n",
        "41"
       ]
      },
      {
       "output_type": "stream",
       "stream": "stdout",
       "text": [
        " {'alpha': 26.526214255222477, 'min_df': 0.027195372405373654} -189.250616632 {'alpha': 7.850214495410415, 'min_df': 0.0010466952660547221}\n",
        "51"
       ]
      },
      {
       "output_type": "stream",
       "stream": "stdout",
       "text": [
        " {'alpha': 29.952545407552044, 'min_df': 0.027195372405373654} -189.210604789 {'alpha': 3.041333938566792, 'min_df': 0.00040551119180890573}\n",
        "61"
       ]
      },
      {
       "output_type": "stream",
       "stream": "stdout",
       "text": [
        " {'alpha': 32.22235888529932, 'min_df': 0.026851228674158303} -189.208397106 {'alpha': 1.4546605946812874, 'min_df': 0.00019395474595750503}\n",
        "1"
       ]
      },
      {
       "output_type": "stream",
       "stream": "stdout",
       "text": [
        " {'alpha': 227.61497541890787, 'min_df': 0.035351085058473626} -28.1015755415 {'alpha': 150, 'min_df': 0.02}\n",
        "11"
       ]
      },
      {
       "output_type": "stream",
       "stream": "stdout",
       "text": [
        " {'alpha': 112.64865008497766, 'min_df': 0.0659632772979743} -28.0879979264 {'alpha': 58.113073350000015, 'min_df': 0.007748409780000004}\n",
        "21"
       ]
      },
      {
       "output_type": "stream",
       "stream": "stdout",
       "text": [
        " {'alpha': 112.64865008497766, 'min_df': 0.07047360416799264} -28.081375929 {'alpha': 22.514195294549882, 'min_df': 0.0030018927059399848}\n",
        "31"
       ]
      },
      {
       "output_type": "stream",
       "stream": "stdout",
       "text": [
        " {'alpha': 112.64865008497766, 'min_df': 0.07047360416799264} -28.081375929 {'alpha': 7.850214495410415, 'min_df': 0.0010466952660547221}\n",
        "41"
       ]
      },
      {
       "output_type": "stream",
       "stream": "stdout",
       "text": [
        " {'alpha': 115.11649015988615, 'min_df': 0.07101936751226434} -28.0813562932 {'alpha': 3.3792599317408802, 'min_df': 0.0004505679908987841}\n",
        "1"
       ]
      },
      {
       "output_type": "stream",
       "stream": "stdout",
       "text": [
        " {'alpha': 301.43930440001714, 'min_df': 0.05} -143.429813556 {'alpha': 150, 'min_df': 0.02}\n",
        "11"
       ]
      },
      {
       "output_type": "stream",
       "stream": "stdout",
       "text": [
        " {'alpha': 707.7300573936117, 'min_df': 0.1189580252973958} -141.08491465 {'alpha': 79.71615000000001, 'min_df': 0.010628820000000004}\n",
        "21"
       ]
      },
      {
       "output_type": "stream",
       "stream": "stdout",
       "text": [
        " {'alpha': 634.4392326812452, 'min_df': 0.1141527272070143} -141.081826165 {'alpha': 38.127987424935014, 'min_df': 0.005083731656658003}\n",
        "31"
       ]
      },
      {
       "output_type": "stream",
       "stream": "stdout",
       "text": [
        " {'alpha': 640.6939940712623, 'min_df': 0.11033997748425102} -141.081794322 {'alpha': 14.771563532754177, 'min_df': 0.0019695418043672243}\n",
        "1"
       ]
      },
      {
       "output_type": "stream",
       "stream": "stdout",
       "text": [
        " {'alpha': 300, 'min_df': 0.05} -39.0086094414 {'alpha': 135.0, 'min_df': 0.018000000000000002}\n",
        "11"
       ]
      },
      {
       "output_type": "stream",
       "stream": "stdout",
       "text": [
        " {'alpha': 381.43752695362434, 'min_df': 0.08342225772110273} -38.9712202821 {'alpha': 71.74453500000001, 'min_df': 0.009565938000000005}\n",
        "21"
       ]
      },
      {
       "output_type": "stream",
       "stream": "stdout",
       "text": [
        " {'alpha': 420.5889524228381, 'min_df': 0.0956390169929651} -38.946071053 {'alpha': 38.127987424935014, 'min_df': 0.005083731656658003}\n",
        "31"
       ]
      },
      {
       "output_type": "stream",
       "stream": "stdout",
       "text": [
        " {'alpha': 470.3602149118837, 'min_df': 0.1121890769901192} -38.9259401617 {'alpha': 20.262775765094894, 'min_df': 0.0027017034353459864}\n",
        "1"
       ]
      },
      {
       "output_type": "stream",
       "stream": "stdout",
       "text": [
        " {'alpha': 300, 'min_df': 0.05} -361.477960752 {'alpha': 135.0, 'min_df': 0.018000000000000002}\n",
        "11"
       ]
      },
      {
       "output_type": "stream",
       "stream": "stdout",
       "text": [
        " {'alpha': 485.6345349523002, 'min_df': 0.11404983316340671} -359.295500774 {'alpha': 71.74453500000001, 'min_df': 0.009565938000000005}\n",
        "21"
       ]
      },
      {
       "output_type": "stream",
       "stream": "stdout",
       "text": [
        " {'alpha': 661.6919907249577, 'min_df': 0.1168114056775389} -359.148868033 {'alpha': 42.36443047215001, 'min_df': 0.0056485907296200035}\n",
        "31"
       ]
      },
      {
       "output_type": "stream",
       "stream": "stdout",
       "text": [
        " {'alpha': 758.4071879655097, 'min_df': 0.1330318908436582} -358.922886383 {'alpha': 30.883669814197365, 'min_df': 0.004117822641892983}\n",
        "41"
       ]
      },
      {
       "output_type": "stream",
       "stream": "stdout",
       "text": [
        " {'alpha': 826.1100648691294, 'min_df': 0.14184530670433096} -358.850212772 {'alpha': 22.514195294549882, 'min_df': 0.0030018927059399848}\n",
        "1"
       ]
      },
      {
       "output_type": "stream",
       "stream": "stdout",
       "text": [
        " {'alpha': 300, 'min_df': 0.05} -272.168796639 {'alpha': 135.0, 'min_df': 0.018000000000000002}\n",
        "11"
       ]
      },
      {
       "output_type": "stream",
       "stream": "stdout",
       "text": [
        " {'alpha': 299.99384146763754, 'min_df': 0.07790966286286094} -270.452744463 {'alpha': 71.74453500000001, 'min_df': 0.009565938000000005}\n",
        "21"
       ]
      },
      {
       "output_type": "stream",
       "stream": "stdout",
       "text": [
        " {'alpha': 403.9418957965805, 'min_df': 0.09255077172163992} -269.964755424 {'alpha': 42.36443047215001, 'min_df': 0.0056485907296200035}\n",
        "31"
       ]
      },
      {
       "output_type": "stream",
       "stream": "stdout",
       "text": [
        " {'alpha': 536.2499111209976, 'min_df': 0.08939250028379804} -269.760689934 {'alpha': 25.015772549499868, 'min_df': 0.0033354363399333165}\n",
        "1"
       ]
      },
      {
       "output_type": "stream",
       "stream": "stdout",
       "text": [
        " {'alpha': 330.727412007035, 'min_df': 0.05} -46.1415663079 {'alpha': 150, 'min_df': 0.02}\n",
        "11"
       ]
      },
      {
       "output_type": "stream",
       "stream": "stdout",
       "text": [
        " {'alpha': 550.9186819688243, 'min_df': 0.0634086303528458} -45.9645367426 {'alpha': 98.415, 'min_df': 0.013122000000000003}\n",
        "21"
       ]
      },
      {
       "output_type": "stream",
       "stream": "stdout",
       "text": [
        " {'alpha': 497.8317644026907, 'min_df': 0.06648978864126799} -45.9622700894 {'alpha': 47.071589413500014, 'min_df': 0.006276211921800004}\n",
        "31"
       ]
      },
      {
       "output_type": "stream",
       "stream": "stdout",
       "text": [
        " {'alpha': 493.99568984516196, 'min_df': 0.06516754097196234} -45.9620938688 {'alpha': 20.262775765094894, 'min_df': 0.0027017034353459864}\n",
        "1"
       ]
      },
      {
       "output_type": "stream",
       "stream": "stdout",
       "text": [
        " {'alpha': 313.6593136069032, 'min_df': 0.05} -113.356621523 {'alpha': 150, 'min_df': 0.02}\n",
        "11"
       ]
      },
      {
       "output_type": "stream",
       "stream": "stdout",
       "text": [
        " {'alpha': 699.7404758946135, 'min_df': 0.07199949439151372} -110.907806096 {'alpha': 88.57350000000001, 'min_df': 0.011809800000000004}\n",
        "21"
       ]
      },
      {
       "output_type": "stream",
       "stream": "stdout",
       "text": [
        " {'alpha': 956.8531079247515, 'min_df': 0.08116379527779212} -110.654253478 {'alpha': 52.30176601500001, 'min_df': 0.006973568802000004}\n",
        "31"
       ]
      },
      {
       "output_type": "stream",
       "stream": "stdout",
       "text": [
        " {'alpha': 984.946115044788, 'min_df': 0.09521872443950694} -110.562422547 {'alpha': 27.79530283277763, 'min_df': 0.003706040377703685}\n",
        "1"
       ]
      },
      {
       "output_type": "stream",
       "stream": "stdout",
       "text": [
        " {'alpha': 460.9653084819508, 'min_df': 0.05} -38.9171566122 {'alpha': 150, 'min_df': 0.02}\n",
        "11"
       ]
      },
      {
       "output_type": "stream",
       "stream": "stdout",
       "text": [
        " {'alpha': 563.1519328355726, 'min_df': 0.08707886370838225} -38.8397897527 {'alpha': 71.74453500000001, 'min_df': 0.009565938000000005}\n",
        "21"
       ]
      },
      {
       "output_type": "stream",
       "stream": "stdout",
       "text": [
        " {'alpha': 639.4066189553365, 'min_df': 0.08707886370838225} -38.8340990225 {'alpha': 27.79530283277763, 'min_df': 0.003706040377703685}\n",
        "1"
       ]
      },
      {
       "output_type": "stream",
       "stream": "stdout",
       "text": [
        " {'alpha': 437.8227845155387, 'min_df': 0.05} -161.946507493 {'alpha': 150, 'min_df': 0.02}\n",
        "11"
       ]
      },
      {
       "output_type": "stream",
       "stream": "stdout",
       "text": [
        " {'alpha': 581.5386648397935, 'min_df': 0.06877785615149556} -160.145553291 {'alpha': 71.74453500000001, 'min_df': 0.009565938000000005}\n",
        "21"
       ]
      },
      {
       "output_type": "stream",
       "stream": "stdout",
       "text": [
        " {'alpha': 702.2056530356671, 'min_df': 0.060767099932984354} -159.84723271 {'alpha': 38.127987424935014, 'min_df': 0.005083731656658003}\n",
        "31"
       ]
      },
      {
       "output_type": "stream",
       "stream": "stdout",
       "text": [
        " {'alpha': 741.4389545929696, 'min_df': 0.05719298364441628} -159.785774299 {'alpha': 20.262775765094894, 'min_df': 0.0027017034353459864}\n",
        "41"
       ]
      },
      {
       "output_type": "stream",
       "stream": "stdout",
       "text": [
        " {'alpha': 775.8540813296657, 'min_df': 0.05814752001619297} -159.710232795 {'alpha': 10.768469815377797, 'min_df': 0.0014357959753837064}\n",
        "1"
       ]
      },
      {
       "output_type": "stream",
       "stream": "stdout",
       "text": [
        " {'alpha': 300, 'min_df': 0.05} -366.564933318 {'alpha': 135.0, 'min_df': 0.018000000000000002}\n",
        "11"
       ]
      },
      {
       "output_type": "stream",
       "stream": "stdout",
       "text": [
        " {'alpha': 601.4918380954356, 'min_df': 0.06762151808767927} -364.237687014 {'alpha': 88.57350000000001, 'min_df': 0.011809800000000004}\n",
        "21"
       ]
      },
      {
       "output_type": "stream",
       "stream": "stdout",
       "text": [
        " {'alpha': 633.8595214825764, 'min_df': 0.1004673582210209} -362.807449381 {'alpha': 47.071589413500014, 'min_df': 0.006276211921800004}\n",
        "31"
       ]
      },
      {
       "output_type": "stream",
       "stream": "stdout",
       "text": [
        " {'alpha': 738.1558594558059, 'min_df': 0.0968732865796054} -362.703576279 {'alpha': 27.79530283277763, 'min_df': 0.003706040377703685}\n",
        "1"
       ]
      },
      {
       "output_type": "stream",
       "stream": "stdout",
       "text": [
        " {'alpha': 300, 'min_df': 0.05} -45.3467966297 {'alpha': 135.0, 'min_df': 0.018000000000000002}\n",
        "11"
       ]
      },
      {
       "output_type": "stream",
       "stream": "stdout",
       "text": [
        " {'alpha': 292.65169817563435, 'min_df': 0.041088724763842205} -45.3357112293 {'alpha': 58.113073350000015, 'min_df': 0.007748409780000004}\n",
        "21"
       ]
      },
      {
       "output_type": "stream",
       "stream": "stdout",
       "text": [
        " {'alpha': 308.6333134414587, 'min_df': 0.03418699583599328} -45.3132379431 {'alpha': 27.79530283277763, 'min_df': 0.003706040377703685}\n",
        "31"
       ]
      },
      {
       "output_type": "stream",
       "stream": "stdout",
       "text": [
        " {'alpha': 280.81102093322835, 'min_df': 0.03418699583599328} -45.3128844724 {'alpha': 11.964966461530885, 'min_df': 0.0015953288615374516}\n",
        "1"
       ]
      },
      {
       "output_type": "stream",
       "stream": "stdout",
       "text": [
        " {'alpha': 300, 'min_df': 0.05} -51.1756365613 {'alpha': 135.0, 'min_df': 0.018000000000000002}\n",
        "11"
       ]
      },
      {
       "output_type": "stream",
       "stream": "stdout",
       "text": [
        " {'alpha': 608.6045637318646, 'min_df': 0.11147901923255876} -50.3481135941 {'alpha': 71.74453500000001, 'min_df': 0.009565938000000005}\n",
        "21"
       ]
      },
      {
       "output_type": "stream",
       "stream": "stdout",
       "text": [
        " {'alpha': 754.1145372635324, 'min_df': 0.11266443032496215} -50.3329981693 {'alpha': 30.883669814197365, 'min_df': 0.004117822641892983}\n",
        "1"
       ]
      },
      {
       "output_type": "stream",
       "stream": "stdout",
       "text": [
        " {'alpha': 726.6100124330462, 'min_df': 0.05} -281.129094101 {'alpha': 150, 'min_df': 0.02}\n",
        "11"
       ]
      },
      {
       "output_type": "stream",
       "stream": "stdout",
       "text": [
        " {'alpha': 895.4857528640274, 'min_df': 0.09782022643013233} -269.66637652 {'alpha': 79.71615000000001, 'min_df': 0.010628820000000004}\n",
        "21"
       ]
      },
      {
       "output_type": "stream",
       "stream": "stdout",
       "text": [
        " {'alpha': 967.6285805381367, 'min_df': 0.11899668748116583} -269.115968427 {'alpha': 38.127987424935014, 'min_df': 0.005083731656658003}\n",
        "1"
       ]
      },
      {
       "output_type": "stream",
       "stream": "stdout",
       "text": [
        " {'alpha': 396.61873692331267, 'min_df': 0.05409368827089159} -20.8876363693 {'alpha': 150, 'min_df': 0.02}\n",
        "11"
       ]
      },
      {
       "output_type": "stream",
       "stream": "stdout",
       "text": [
        " {'alpha': 427.5611864530839, 'min_df': 0.07832553765907863} -20.7994377009 {'alpha': 79.71615000000001, 'min_df': 0.010628820000000004}\n",
        "21"
       ]
      },
      {
       "output_type": "stream",
       "stream": "stdout",
       "text": [
        " {'alpha': 468.2293916876019, 'min_df': 0.07832553765907863} -20.7906905648 {'alpha': 30.883669814197365, 'min_df': 0.004117822641892983}\n",
        "31"
       ]
      },
      {
       "output_type": "stream",
       "stream": "stdout",
       "text": [
        " {'alpha': 554.5303053029511, 'min_df': 0.0794960172205503} -20.7823595835 {'alpha': 18.236498188585404, 'min_df': 0.002431533091811388}\n",
        "1"
       ]
      },
      {
       "output_type": "stream",
       "stream": "stdout",
       "text": [
        " {'alpha': 300, 'min_df': 0.05} -245.489763591 {'alpha': 135.0, 'min_df': 0.018000000000000002}\n",
        "11"
       ]
      },
      {
       "output_type": "stream",
       "stream": "stdout",
       "text": [
        " {'alpha': 285.8929783698506, 'min_df': 0.11915676529787528} -239.926819225 {'alpha': 79.71615000000001, 'min_df': 0.010628820000000004}\n",
        "21"
       ]
      },
      {
       "output_type": "stream",
       "stream": "stdout",
       "text": [
        " {'alpha': 308.51386912233204, 'min_df': 0.1172349670673665} -239.37134554 {'alpha': 34.315188682441516, 'min_df': 0.004575358490992203}\n",
        "31"
       ]
      },
      {
       "output_type": "stream",
       "stream": "stdout",
       "text": [
        " {'alpha': 338.5884088605019, 'min_df': 0.1172349670673665} -239.299877809 {'alpha': 16.412848369726863, 'min_df': 0.002188379782630249}\n",
        "1"
       ]
      },
      {
       "output_type": "stream",
       "stream": "stdout",
       "text": [
        " {'alpha': 324.2247051072095, 'min_df': 0.05} -122.039844821 {'alpha': 150, 'min_df': 0.02}\n",
        "11"
       ]
      },
      {
       "output_type": "stream",
       "stream": "stdout",
       "text": [
        " {'alpha': 569.098302265843, 'min_df': 0.07456818702758632} -121.98735998 {'alpha': 79.71615000000001, 'min_df': 0.010628820000000004}\n",
        "21"
       ]
      },
      {
       "output_type": "stream",
       "stream": "stdout",
       "text": [
        " {'alpha': 742.4468989942781, 'min_df': 0.07740368454826213} -121.973834431 {'alpha': 42.36443047215001, 'min_df': 0.0056485907296200035}\n",
        "31"
       ]
      },
      {
       "output_type": "stream",
       "stream": "stdout",
       "text": [
        " {'alpha': 889.6596100113521, 'min_df': 0.07752977066225424} -121.967330191 {'alpha': 22.514195294549882, 'min_df': 0.0030018927059399848}\n",
        "1"
       ]
      },
      {
       "output_type": "stream",
       "stream": "stdout",
       "text": [
        " {'alpha': 234.12522315596863, 'min_df': 0.0817109417511295} -64.4856651548 {'alpha': 150, 'min_df': 0.02}\n",
        "11"
       ]
      },
      {
       "output_type": "stream",
       "stream": "stdout",
       "text": [
        " {'alpha': 404.5873312794242, 'min_df': 0.06979179753759022} -63.5337517264 {'alpha': 71.74453500000001, 'min_df': 0.009565938000000005}\n",
        "21"
       ]
      },
      {
       "output_type": "stream",
       "stream": "stdout",
       "text": [
        " {'alpha': 596.5736351531964, 'min_df': 0.07370211495165026} -63.1504624727 {'alpha': 38.127987424935014, 'min_df': 0.005083731656658003}\n",
        "31"
       ]
      },
      {
       "output_type": "stream",
       "stream": "stdout",
       "text": [
        " {'alpha': 640.8300139616242, 'min_df': 0.062539692877176} -63.0936600541 {'alpha': 20.262775765094894, 'min_df': 0.0027017034353459864}\n",
        "1"
       ]
      },
      {
       "output_type": "stream",
       "stream": "stdout",
       "text": [
        " {'alpha': 469.3987451189972, 'min_df': 0.05882544816460107} -74.3540576399 {'alpha': 150, 'min_df': 0.02}\n",
        "11"
       ]
      },
      {
       "output_type": "stream",
       "stream": "stdout",
       "text": [
        " {'alpha': 1150.6074342509667, 'min_df': 0.05882544816460107} -73.9900950111 {'alpha': 98.415, 'min_df': 0.013122000000000003}\n",
        "21"
       ]
      },
      {
       "output_type": "stream",
       "stream": "stdout",
       "text": [
        " {'alpha': 1174.1357821543552, 'min_df': 0.06173154539199392} -73.9868558778 {'alpha': 42.36443047215001, 'min_df': 0.0056485907296200035}\n",
        "31"
       ]
      },
      {
       "output_type": "stream",
       "stream": "stdout",
       "text": [
        " {'alpha': 1115.1969126676618, 'min_df': 0.08219586844913765} -73.9841081738 {'alpha': 18.236498188585404, 'min_df': 0.002431533091811388}\n",
        "1"
       ]
      },
      {
       "output_type": "stream",
       "stream": "stdout",
       "text": [
        " {'alpha': 322.2663519595304, 'min_df': 0.05} -81.4472760104 {'alpha': 150, 'min_df': 0.02}\n",
        "11"
       ]
      },
      {
       "output_type": "stream",
       "stream": "stdout",
       "text": [
        " {'alpha': 306.70672358574745, 'min_df': 0.004810732054319974} -81.3255606292 {'alpha': 71.74453500000001, 'min_df': 0.009565938000000005}\n",
        "21"
       ]
      },
      {
       "output_type": "stream",
       "stream": "stdout",
       "text": [
        " {'alpha': 282.56869792392337, 'min_df': 0.004810732054319974} -81.3242039599 {'alpha': 27.79530283277763, 'min_df': 0.003706040377703685}\n",
        "31"
       ]
      },
      {
       "output_type": "stream",
       "stream": "stdout",
       "text": [
        " {'alpha': 279.91688784708, 'min_df': 0.004810732054319974} -81.3241734487 {'alpha': 11.964966461530885, 'min_df': 0.0015953288615374516}\n",
        "41"
       ]
      },
      {
       "output_type": "stream",
       "stream": "stdout",
       "text": [
        " {'alpha': 279.91688784708, 'min_df': 0.004810732054319974} -81.3241718569 {'alpha': 4.1719258416554075, 'min_df': 0.0005562567788873877}\n",
        "51"
       ]
      },
      {
       "output_type": "stream",
       "stream": "stdout",
       "text": [
        " {'alpha': 278.8771698621904, 'min_df': 0.004810732054319974} -81.3241666438 {'alpha': 1.7958772773843055, 'min_df': 0.00023945030365124078}\n",
        "1"
       ]
      },
      {
       "output_type": "stream",
       "stream": "stdout",
       "text": [
        " {'alpha': 300, 'min_df': 0.05} -22.6239840999 {'alpha': 135.0, 'min_df': 0.018000000000000002}\n",
        "11"
       ]
      },
      {
       "output_type": "stream",
       "stream": "stdout",
       "text": [
        " {'alpha': 776.1681702266342, 'min_df': 0.039600922714210285} -22.5800594267 {'alpha': 79.71615000000001, 'min_df': 0.010628820000000004}\n",
        "21"
       ]
      },
      {
       "output_type": "stream",
       "stream": "stdout",
       "text": [
        " {'alpha': 806.5430786541084, 'min_df': 0.03361885830616639} -22.5763657406 {'alpha': 34.315188682441516, 'min_df': 0.004575358490992203}\n",
        "31"
       ]
      },
      {
       "output_type": "stream",
       "stream": "stdout",
       "text": [
        " {'alpha': 825.534397044955, 'min_df': 0.03409465098546667} -22.5757503102 {'alpha': 14.771563532754177, 'min_df': 0.0019695418043672243}\n",
        "41"
       ]
      },
      {
       "output_type": "stream",
       "stream": "stdout",
       "text": [
        " {'alpha': 844.0608846591283, 'min_df': 0.03409465098546667} -22.5746347862 {'alpha': 7.065193045869374, 'min_df': 0.00094202573944925}\n",
        "1"
       ]
      },
      {
       "output_type": "stream",
       "stream": "stdout",
       "text": [
        " {'alpha': 300, 'min_df': 0.055892751007219174} -56.7818061093 {'alpha': 150, 'min_df': 0.02}\n",
        "11"
       ]
      },
      {
       "output_type": "stream",
       "stream": "stdout",
       "text": [
        " {'alpha': 736.0697391694821, 'min_df': 0.03306377245827159} -56.7328499171 {'alpha': 88.57350000000001, 'min_df': 0.011809800000000004}\n",
        "21"
       ]
      },
      {
       "output_type": "stream",
       "stream": "stdout",
       "text": [
        " {'alpha': 1032.8659023503917, 'min_df': 0.03787259099800836} -56.7231386176 {'alpha': 47.071589413500014, 'min_df': 0.006276211921800004}\n",
        "31"
       ]
      },
      {
       "output_type": "stream",
       "stream": "stdout",
       "text": [
        " {'alpha': 1074.0761912048763, 'min_df': 0.03787259099800836} -56.722596297 {'alpha': 20.262775765094894, 'min_df': 0.0027017034353459864}\n",
        "41"
       ]
      },
      {
       "output_type": "stream",
       "stream": "stdout",
       "text": [
        " {'alpha': 1132.2707852727078, 'min_df': 0.03591019452286964} -56.7219101883 {'alpha': 10.768469815377797, 'min_df': 0.0014357959753837064}\n",
        "1"
       ]
      },
      {
       "output_type": "stream",
       "stream": "stdout",
       "text": [
        " {'alpha': 300, 'min_df': 0.05} -183.261116266 {'alpha': 135.0, 'min_df': 0.018000000000000002}\n",
        "11"
       ]
      },
      {
       "output_type": "stream",
       "stream": "stdout",
       "text": [
        " {'alpha': 739.8884538571881, 'min_df': 0.03229541921538898} -179.872450215 {'alpha': 71.74453500000001, 'min_df': 0.009565938000000005}\n",
        "21"
       ]
      },
      {
       "output_type": "stream",
       "stream": "stdout",
       "text": [
        " {'alpha': 815.9568526129912, 'min_df': 0.04436976614540921} -178.004653164 {'alpha': 34.315188682441516, 'min_df': 0.004575358490992203}\n",
        "31"
       ]
      },
      {
       "output_type": "stream",
       "stream": "stdout",
       "text": [
        " {'alpha': 894.3412687473117, 'min_df': 0.05128503542890192} -177.51867043 {'alpha': 20.262775765094894, 'min_df': 0.0027017034353459864}\n",
        "1"
       ]
      },
      {
       "output_type": "stream",
       "stream": "stdout",
       "text": [
        " {'alpha': 300, 'min_df': 0.05} -36.8437588695 {'alpha': 135.0, 'min_df': 0.018000000000000002}\n",
        "11"
       ]
      },
      {
       "output_type": "stream",
       "stream": "stdout",
       "text": [
        " {'alpha': 517.4395976382327, 'min_df': 0.057866705291730394} -36.823313961 {'alpha': 79.71615000000001, 'min_df': 0.010628820000000004}\n",
        "21"
       ]
      },
      {
       "output_type": "stream",
       "stream": "stdout",
       "text": [
        " {'alpha': 667.4909604611886, 'min_df': 0.056578196731005725} -36.8152071272 {'alpha': 38.127987424935014, 'min_df': 0.005083731656658003}\n",
        "31"
       ]
      },
      {
       "output_type": "stream",
       "stream": "stdout",
       "text": [
        " {'alpha': 673.6101095974143, 'min_df': 0.055599267803499684} -36.8151460247 {'alpha': 16.412848369726863, 'min_df': 0.002188379782630249}\n",
        "1"
       ]
      },
      {
       "output_type": "stream",
       "stream": "stdout",
       "text": [
        " {'alpha': 300, 'min_df': 0.05} -38.4972471403 {'alpha': 135.0, 'min_df': 0.018000000000000002}\n",
        "11"
       ]
      },
      {
       "output_type": "stream",
       "stream": "stdout",
       "text": [
        " {'alpha': 240.89610156874602, 'min_df': 0.0591301264270581} -38.4484654419 {'alpha': 64.57008150000001, 'min_df': 0.008609344200000004}\n",
        "21"
       ]
      },
      {
       "output_type": "stream",
       "stream": "stdout",
       "text": [
        " {'alpha': 168.112661621797, 'min_df': 0.07367944755157003} -38.3706349004 {'alpha': 30.883669814197365, 'min_df': 0.004117822641892983}\n",
        "31"
       ]
      },
      {
       "output_type": "stream",
       "stream": "stdout",
       "text": [
        " {'alpha': 123.49235922279648, 'min_df': 0.07432051112497287} -38.271234961 {'alpha': 14.771563532754177, 'min_df': 0.0019695418043672243}\n",
        "41"
       ]
      },
      {
       "output_type": "stream",
       "stream": "stdout",
       "text": [
        " {'alpha': 83.37948286970116, 'min_df': 0.07268778661846274} -38.1276411893 {'alpha': 7.850214495410415, 'min_df': 0.0010466952660547221}\n",
        "51"
       ]
      },
      {
       "output_type": "stream",
       "stream": "stdout",
       "text": [
        " {'alpha': 76.73304304839426, 'min_df': 0.07118247598688354} -38.0951299548 {'alpha': 4.1719258416554075, 'min_df': 0.0005562567788873877}\n",
        "1"
       ]
      },
      {
       "output_type": "stream",
       "stream": "stdout",
       "text": [
        " {'alpha': 300, 'min_df': 0.030682149980050005} -227.997089504 {'alpha': 150, 'min_df': 0.02}\n",
        "11"
       ]
      },
      {
       "output_type": "stream",
       "stream": "stdout",
       "text": [
        " {'alpha': 260.2247762676173, 'min_df': 0.030682149980050005} -227.877354027 {'alpha': 58.113073350000015, 'min_df': 0.007748409780000004}\n",
        "21"
       ]
      },
      {
       "output_type": "stream",
       "stream": "stdout",
       "text": [
        " {'alpha': 197.32564931027483, 'min_df': 0.02789466579373348} -227.788039289 {'alpha': 25.015772549499868, 'min_df': 0.0033354363399333165}\n",
        "31"
       ]
      },
      {
       "output_type": "stream",
       "stream": "stdout",
       "text": [
        " {'alpha': 176.4968453579815, 'min_df': 0.02789466579373348} -227.730901467 {'alpha': 10.768469815377797, 'min_df': 0.0014357959753837064}\n",
        "41"
       ]
      },
      {
       "output_type": "stream",
       "stream": "stdout",
       "text": [
        " {'alpha': 167.24944997313528, 'min_df': 0.027736885354294503} -227.698596051 {'alpha': 5.150525730438774, 'min_df': 0.0006867367640585033}\n",
        "1"
       ]
      },
      {
       "output_type": "stream",
       "stream": "stdout",
       "text": [
        " {'alpha': 592.9928150565058, 'min_df': 0.07600624646433356} -77.8071506881 {'alpha': 150, 'min_df': 0.02}\n",
        "11"
       ]
      },
      {
       "output_type": "stream",
       "stream": "stdout",
       "text": [
        " {'alpha': 740.3206999384699, 'min_df': 0.09692813141385079} -77.1404741427 {'alpha': 71.74453500000001, 'min_df': 0.009565938000000005}\n",
        "21"
       ]
      },
      {
       "output_type": "stream",
       "stream": "stdout",
       "text": [
        " {'alpha': 894.0233266952149, 'min_df': 0.09982987644381702} -77.1314524585 {'alpha': 30.883669814197365, 'min_df': 0.004117822641892983}\n"
       ]
      }
     ],
     "prompt_number": 78
    },
    {
     "cell_type": "code",
     "collapsed": false,
     "input": [
      "print best_params"
     ],
     "language": "python",
     "metadata": {},
     "outputs": [
      {
       "output_type": "stream",
       "stream": "stdout",
       "text": [
        "{'all': {'alpha': 211.7415576674815, 'min_df': 0.01915443206883621}, 'Jazz': {'alpha': 15.676410793616702, 'min_df': 0.07324243340213207}, 'Publishing': {'alpha': 435.0995493443329, 'min_df': 0.08269842909802909}, 'Performance Art': {'alpha': 78.9176962083881, 'min_df': 0.00754447969672733}, 'Conceptual Art': {'alpha': 28.27847126386128, 'min_df': 0.07763117017160961}, 'Poetry': {'alpha': 116.0560546989218, 'min_df': 0.06062309212750105}, 'Fiction': {'alpha': 422.1622433221986, 'min_df': 0.07159892847590317}, 'Classical Music': {'alpha': 747.6794295563395, 'min_df': 0.11113155239251021}, 'Animation': {'alpha': 932.9000857119657, 'min_df': 0.07482005929341638}, 'Music': {'alpha': 455.43506905714474, 'min_df': 0.07000815340057821}, 'Art Book': {'alpha': 560.7654781594446, 'min_df': 0.07340455228631385}, 'Digital Art': {'alpha': 222.09326810969165, 'min_df': 0.055107300979118125}, 'Rock': {'alpha': 775.8540813296657, 'min_df': 0.05814752001619297}, 'Indie Rock': {'alpha': 1698.7411954539457, 'min_df': 0.1567486769112535}, 'Food': {'alpha': 1056.1343659377887, 'min_df': 0.14288035718975858}, 'Documentary': {'alpha': 738.1558594558059, 'min_df': 0.0968732865796054}, 'Photography': {'alpha': 872.1754320436316, 'min_df': 0.08848691072097607}, 'Video Games': {'alpha': 561.2438148637941, 'min_df': 0.0822583101088408}, 'Illustration': {'alpha': 4.844562875976636, 'min_df': 0.040413645242268835}, 'Public Art': {'alpha': 684.376167023591, 'min_df': 0.07413691322316364}, 'Country & Folk': {'alpha': 795.3624465224412, 'min_df': 0.08423780254334633}, 'Narrative Film': {'alpha': 892.0142168255103, 'min_df': 0.08704518406837453}, 'Electronic Music': {'alpha': 91.78050004978054, 'min_df': 0.06900587848436578}, 'Theater': {'alpha': 342.51479825596294, 'min_df': 0.09844554531293426}, 'Comics': {'alpha': 31.38436454751863, 'min_df': 0.026851228674158303}, 'Journalism': {'alpha': 115.11649015988615, 'min_df': 0.07101936751226434}, 'Metal': {'alpha': 610.095533644582, 'min_df': 0.07604832117644712}, 'Graphic Design': {'alpha': 483.5986688751275, 'min_df': 0.11232438322407799}, 'Short Film': {'alpha': 835.5127147003601, 'min_df': 0.1441201262910145}, 'Product Design': {'alpha': 592.6349228485681, 'min_df': 0.08608575038658471}, 'Webseries': {'alpha': 640.6939940712623, 'min_df': 0.11033997748425102}, \"Children's Book\": {'alpha': 1086.6941301488068, 'min_df': 0.09314079022447308}, 'World Music': {'alpha': 654.5098234412175, 'min_df': 0.08601701296377195}, 'Crafts': {'alpha': 30.593714067364324, 'min_df': 0.0784990555326898}, 'Painting': {'alpha': 23.740146977213183, 'min_df': 0.03183789124300327}, 'Tabletop Games': {'alpha': 167.24944997313528, 'min_df': 0.027736885354294503}, 'Hip-Hop': {'alpha': 776.2189721486408, 'min_df': 0.11132192252745735}, 'Film & Video': {'alpha': 998.6380845122469, 'min_df': 0.12583532290664234}, 'Open Software': {'alpha': 560.4573092237706, 'min_df': 0.0794960172205503}, 'Fashion': {'alpha': 355.71144791240357, 'min_df': 0.1172349670673665}, 'Art': {'alpha': 889.6596100113521, 'min_df': 0.070888944361116}, 'Dance': {'alpha': 647.624154801573, 'min_df': 0.06435920673488414}, 'Pop': {'alpha': 1115.1969126676618, 'min_df': 0.08219586844913765}, 'Hardware': {'alpha': 277.9513610939549, 'min_df': 0.004882945837160075}, 'Radio & Podcast': {'alpha': 844.0608846591283, 'min_df': 0.03409465098546667}, 'Design': {'alpha': 1132.2707852727078, 'min_df': 0.03591019452286964}, 'Nonfiction': {'alpha': 916.355873382604, 'min_df': 0.05307508304008189}, 'Periodical': {'alpha': 679.1274871350518, 'min_df': 0.055599267803499684}, 'Sculpture': {'alpha': 76.72541430165082, 'min_df': 0.07118247598688354}, 'Games': {'alpha': 492.09850982949075, 'min_df': 0.06521327800228963}, 'Mixed Media': {'alpha': 294.29741846735635, 'min_df': 0.03418699583599328}, 'Technology': {'alpha': 917.0686553917551, 'min_df': 0.10482154290979152}}\n"
       ]
      }
     ],
     "prompt_number": 115
    },
    {
     "cell_type": "code",
     "collapsed": false,
     "input": [
      "models = {}\n",
      "score_diff = {}\n",
      "\n",
      "models['all']= fit_nb(best_params['all'], x, xtrain, ytrain)\n",
      "\n",
      "for c in categories:\n",
      "    ntrain = subdf[train_index][subdf['category'] == c]\n",
      "    ntest = subdf[test_index][subdf['category'] == c]\n",
      "    nxtrain = ntrain['blurb']\n",
      "    nytrain = ntrain['success']\n",
      "    nxtest = ntest['blurb']\n",
      "    nytest = ntest['success']\n",
      "    \n",
      "    vec = CountVectorizer(min_df = best_params['all']['min_df'])\n",
      "    clf = MultinomialNB(alpha = best_params['all']['alpha'])\n",
      "    \n",
      "    models[c] = fit_nb(best_params[c], x, nxtrain, nytrain)\n",
      "    \n",
      "    score_diff[c] = score_nb(models[c], nxtest, nytest)"
     ],
     "language": "python",
     "metadata": {},
     "outputs": [],
     "prompt_number": 91
    },
    {
     "cell_type": "code",
     "collapsed": false,
     "input": [
      "import operator\n",
      "sorted_diff = sorted(score_diff.iteritems(), key=operator.itemgetter(1))\n",
      "print sorted_diff"
     ],
     "language": "python",
     "metadata": {},
     "outputs": [
      {
       "output_type": "stream",
       "stream": "stdout",
       "text": [
        "[('Art Book', 0.45652173913043476), ('Conceptual Art', 0.45945945945945948), ('Crafts', 0.4606741573033708), ('Digital Art', 0.46153846153846156), ('Illustration', 0.47169811320754718), ('Painting', 0.47619047619047616), ('Radio & Podcast', 0.48148148148148145), ('Comics', 0.4924812030075188), ('Sculpture', 0.5), ('Hardware', 0.51639344262295084), ('Art', 0.52542372881355937), ('World Music', 0.52631578947368418), ('Performance Art', 0.54054054054054057), ('Documentary', 0.55731225296442688), ('Short Film', 0.5627306273062731), ('Mixed Media', 0.56923076923076921), ('Food', 0.57283950617283952), ('Photography', 0.57563025210084029), ('Music', 0.58461538461538465), ('Tabletop Games', 0.58550724637681162), ('Graphic Design', 0.58695652173913049), ('Poetry', 0.59090909090909094), ('Public Art', 0.59999999999999998), ('Periodical', 0.59999999999999998), ('Pop', 0.60909090909090913), ('Rock', 0.61467889908256879), ('Product Design', 0.61916461916461918), ('Games', 0.61971830985915488), ('Design', 0.63157894736842102), ('Jazz', 0.63461538461538458), (\"Children's Book\", 0.63636363636363635), ('Theater', 0.64601769911504425), ('Journalism', 0.65454545454545454), ('Narrative Film', 0.657258064516129), ('Metal', 0.66666666666666663), ('Technology', 0.66666666666666663), ('Fashion', 0.6690647482014388), ('Webseries', 0.67692307692307696), ('Film & Video', 0.68329177057356605), ('Electronic Music', 0.68421052631578949), ('Publishing', 0.6901408450704225), ('Country & Folk', 0.70068027210884354), ('Dance', 0.70338983050847459), ('Animation', 0.71590909090909094), ('Classical Music', 0.71844660194174759), ('Hip-Hop', 0.72277227722772275), ('Indie Rock', 0.72477064220183485), ('Nonfiction', 0.72540983606557374), ('Fiction', 0.72611464968152861), ('Video Games', 0.76623376623376627), ('Open Software', 0.85999999999999999)]\n"
       ]
      }
     ],
     "prompt_number": 102
    },
    {
     "cell_type": "code",
     "collapsed": false,
     "input": [
      "for c in ['Metal', 'Fiction', 'Video Games', 'Open Software']:\n",
      "    print c.upper()\n",
      "    vec = models[c]['vec']\n",
      "    clf = models[c]['clf']\n",
      "    best_worst_words(clf, vec)"
     ],
     "language": "python",
     "metadata": {},
     "outputs": [
      {
       "output_type": "stream",
       "stream": "stdout",
       "text": [
        "METAL\n",
        "Best Words\n",
        "new has a predicted 0.478408261801 % chance of success\n",
        "help has a predicted 0.476808012396 % chance of success\n",
        "to has a predicted 0.476377413325 % chance of success\n",
        "on has a predicted 0.476002244879 % chance of success\n",
        "this has a predicted 0.475592438567 % chance of success\n",
        "for has a predicted 0.475592438567 % chance of success\n",
        "with has a predicted 0.475186656727 % chance of success\n",
        "you has a predicted 0.475186656727 % chance of success\n",
        "in has a predicted 0.475184666343 % chance of success\n",
        "and has a predicted 0.475180743307 % chance of success\n",
        "of has a predicted 0.475180743307 % chance of success\n",
        "by has a predicted 0.474778913101 % chance of success\n",
        "your has a predicted 0.474778913101 % chance of success\n",
        "it has a predicted 0.474778913101 % chance of success\n",
        "our has a predicted 0.474778913101 % chance of success\n",
        "an has a predicted 0.474372531969 % chance of success\n",
        "from has a predicted 0.47437186862 % chance of success\n",
        "that has a predicted 0.474370535405 % chance of success\n",
        "about has a predicted 0.474370535405 % chance of success\n",
        "the has a predicted 0.473981134961 % chance of success\n",
        "\n",
        "Worst Words\n",
        "we has a predicted 0.470752679067 % chance of success\n",
        "is has a predicted 0.473969481873 % chance of success\n",
        "the has a predicted 0.473981134961 % chance of success\n",
        "about has a predicted 0.474370535405 % chance of success\n",
        "that has a predicted 0.474370535405 % chance of success\n",
        "from has a predicted 0.47437186862 % chance of success\n",
        "an has a predicted 0.474372531969 % chance of success\n",
        "our has a predicted 0.474778913101 % chance of success\n",
        "it has a predicted 0.474778913101 % chance of success\n",
        "your has a predicted 0.474778913101 % chance of success\n",
        "by has a predicted 0.474778913101 % chance of success\n",
        "of has a predicted 0.475180743307 % chance of success\n",
        "and has a predicted 0.475180743307 % chance of success\n",
        "in has a predicted 0.475184666343 % chance of success\n",
        "you has a predicted 0.475186656727 % chance of success\n",
        "with has a predicted 0.475186656727 % chance of success\n",
        "for has a predicted 0.475592438567 % chance of success\n",
        "this has a predicted 0.475592438567 % chance of success\n",
        "on has a predicted 0.476002244879 % chance of success\n",
        "to has a predicted 0.476377413325 % chance of success\n",
        "FICTION\n",
        "Best Words\n",
        "we has a predicted 0.346507318988 % chance of success\n",
        "our has a predicted 0.34648835975 % chance of success\n",
        "help has a predicted 0.34062281045 % chance of success\n",
        "your has a predicted 0.340468974832 % chance of success\n",
        "from has a predicted 0.338359324255 % chance of success\n",
        "by has a predicted 0.334994111099 % chance of success\n",
        "you has a predicted 0.332323878152 % chance of success\n",
        "new has a predicted 0.33173769185 % chance of success\n",
        "be has a predicted 0.327870728314 % chance of success\n",
        "for has a predicted 0.326297339083 % chance of success\n",
        "about has a predicted 0.323194036954 % chance of success\n",
        "an has a predicted 0.322767219773 % chance of success\n",
        "with has a predicted 0.322122881811 % chance of success\n",
        "that has a predicted 0.321444122693 % chance of success\n",
        "it has a predicted 0.321283872471 % chance of success\n",
        "this has a predicted 0.320417878607 % chance of success\n",
        "on has a predicted 0.313529125231 % chance of success\n",
        "is has a predicted 0.29709756986 % chance of success\n",
        "in has a predicted 0.28733209597 % chance of success\n",
        "to has a predicted 0.282162705015 % chance of success\n",
        "\n",
        "Worst Words\n",
        "the has a predicted 0.252282379135 % chance of success\n",
        "of has a predicted 0.265278501284 % chance of success\n",
        "and has a predicted 0.269070658017 % chance of success\n",
        "to has a predicted 0.282162705015 % chance of success\n",
        "in has a predicted 0.28733209597 % chance of success\n",
        "is has a predicted 0.29709756986 % chance of success\n",
        "on has a predicted 0.313529125231 % chance of success\n",
        "this has a predicted 0.320417878607 % chance of success\n",
        "it has a predicted 0.321283872471 % chance of success\n",
        "that has a predicted 0.321444122693 % chance of success\n",
        "with has a predicted 0.322122881811 % chance of success\n",
        "an has a predicted 0.322767219773 % chance of success\n",
        "about has a predicted 0.323194036954 % chance of success\n",
        "for has a predicted 0.326297339083 % chance of success\n",
        "be has a predicted 0.327870728314 % chance of success\n",
        "new has a predicted 0.33173769185 % chance of success\n",
        "you has a predicted 0.332323878152 % chance of success\n",
        "by has a predicted 0.334994111099 % chance of success\n",
        "from has a predicted 0.338359324255 % chance of success\n",
        "your has a predicted 0.340468974832 % chance of success\n",
        "VIDEO GAMES\n",
        "Best Words\n",
        "about has a predicted 0.302012382374 % chance of success\n",
        "from has a predicted 0.297069107122 % chance of success\n",
        "by has a predicted 0.295505183585 % chance of success\n",
        "help has a predicted 0.29413330749 % chance of success\n",
        "we has a predicted 0.291387041283 % chance of success\n",
        "this has a predicted 0.288001393302 % chance of success\n",
        "it has a predicted 0.287367602262 % chance of success\n",
        "new has a predicted 0.286151056131 % chance of success\n",
        "that has a predicted 0.280972936076 % chance of success\n",
        "on has a predicted 0.277408829978 % chance of success\n",
        "an has a predicted 0.275684445424 % chance of success\n",
        "you has a predicted 0.271472461873 % chance of success\n",
        "for has a predicted 0.268448147738 % chance of success\n",
        "in has a predicted 0.266283041085 % chance of success\n",
        "with has a predicted 0.265029265939 % chance of success\n",
        "your has a predicted 0.260189578767 % chance of success\n",
        "of has a predicted 0.257827356343 % chance of success\n",
        "is has a predicted 0.255383963214 % chance of success\n",
        "to has a predicted 0.242797269041 % chance of success\n",
        "and has a predicted 0.23752332505 % chance of success\n",
        "\n",
        "Worst Words\n",
        "the has a predicted 0.226697976687 % chance of success\n",
        "and has a predicted 0.23752332505 % chance of success\n",
        "to has a predicted 0.242797269041 % chance of success\n",
        "is has a predicted 0.255383963214 % chance of success\n",
        "of has a predicted 0.257827356343 % chance of success\n",
        "your has a predicted 0.260189578767 % chance of success\n",
        "with has a predicted 0.265029265939 % chance of success\n",
        "in has a predicted 0.266283041085 % chance of success\n",
        "for has a predicted 0.268448147738 % chance of success\n",
        "you has a predicted 0.271472461873 % chance of success\n",
        "an has a predicted 0.275684445424 % chance of success\n",
        "on has a predicted 0.277408829978 % chance of success\n",
        "that has a predicted 0.280972936076 % chance of success\n",
        "new has a predicted 0.286151056131 % chance of success\n",
        "it has a predicted 0.287367602262 % chance of success\n",
        "this has a predicted 0.288001393302 % chance of success\n",
        "we has a predicted 0.291387041283 % chance of success\n",
        "help has a predicted 0.29413330749 % chance of success\n",
        "by has a predicted 0.295505183585 % chance of success\n",
        "from has a predicted 0.297069107122 % chance of success\n",
        "OPEN SOFTWARE\n",
        "Best Words"
       ]
      },
      {
       "output_type": "stream",
       "stream": "stdout",
       "text": [
        "\n",
        "about has a predicted 0.225104007674 % chance of success\n",
        "help has a predicted 0.224795408855 % chance of success\n",
        "by has a predicted 0.224490379352 % chance of success\n",
        "with has a predicted 0.224192612628 % chance of success\n",
        "we has a predicted 0.223881155118 % chance of success\n",
        "new has a predicted 0.223875749429 % chance of success\n",
        "this has a predicted 0.223262308268 % chance of success\n",
        "that has a predicted 0.222678928163 % chance of success\n",
        "you has a predicted 0.222062543655 % chance of success\n",
        "it has a predicted 0.222044900771 % chance of success\n",
        "in has a predicted 0.221769105271 % chance of success\n",
        "from has a predicted 0.220836424033 % chance of success\n",
        "your has a predicted 0.220302402487 % chance of success\n",
        "on has a predicted 0.220284732473 % chance of success\n",
        "of has a predicted 0.21913306116 % chance of success\n",
        "for has a predicted 0.218797378327 % chance of success\n",
        "an has a predicted 0.218541289522 % chance of success\n",
        "is has a predicted 0.215916307701 % chance of success\n",
        "and has a predicted 0.213797328648 % chance of success\n",
        "the has a predicted 0.213372786048 % chance of success\n",
        "\n",
        "Worst Words\n",
        "to has a predicted 0.210287364768 % chance of success\n",
        "the has a predicted 0.213372786048 % chance of success\n",
        "and has a predicted 0.213797328648 % chance of success\n",
        "is has a predicted 0.215916307701 % chance of success\n",
        "an has a predicted 0.218541289522 % chance of success\n",
        "for has a predicted 0.218797378327 % chance of success\n",
        "of has a predicted 0.21913306116 % chance of success\n",
        "on has a predicted 0.220284732473 % chance of success\n",
        "your has a predicted 0.220302402487 % chance of success\n",
        "from has a predicted 0.220836424033 % chance of success\n",
        "in has a predicted 0.221769105271 % chance of success\n",
        "it has a predicted 0.222044900771 % chance of success\n",
        "you has a predicted 0.222062543655 % chance of success\n",
        "that has a predicted 0.222678928163 % chance of success\n",
        "this has a predicted 0.223262308268 % chance of success\n",
        "new has a predicted 0.223875749429 % chance of success\n",
        "we has a predicted 0.223881155118 % chance of success\n",
        "with has a predicted 0.224192612628 % chance of success\n",
        "by has a predicted 0.224490379352 % chance of success\n",
        "help has a predicted 0.224795408855 % chance of success\n"
       ]
      }
     ],
     "prompt_number": 106
    },
    {
     "cell_type": "code",
     "collapsed": false,
     "input": [
      "from scipy.stats.stats import pearsonr\n",
      "def pearson_sim(words1, words2):\n",
      "    diff1=words1['p']#-words['cat_avg']\n",
      "    diff2=words1['p']#-words['cat_avg']\n",
      "    rho=pearsonr(diff1, diff2)[0]\n",
      "    return rho"
     ],
     "language": "python",
     "metadata": {},
     "outputs": [],
     "prompt_number": 109
    },
    {
     "cell_type": "code",
     "collapsed": false,
     "input": [
      "word_dfs = {}\n",
      "for c in categories:\n",
      "    words = vec.get_feature_names()\n",
      "    word_dfs[c] = pd.DataFrame({\"word\": words, \"p\": [clf.predict_proba(np.eye(1, len(words), i, dtype=int))[0][1] for i in range(len(words))]})"
     ],
     "language": "python",
     "metadata": {},
     "outputs": [
      {
       "output_type": "stream",
       "stream": "stdout",
       "text": [
        "\n",
        "Caching the list of root modules, please wait!\n",
        "(This will only be done once - type '%rehashx' to reset cache!)\n",
        "\n"
       ]
      }
     ],
     "prompt_number": 111
    },
    {
     "cell_type": "code",
     "collapsed": false,
     "input": [
      "import networkx as nx\n",
      "G = nx.Graph()\n",
      "for c in categories:\n",
      "    if not G.has_node(c):\n",
      "        G.add_node(c)\n",
      "    for d in categories:\n",
      "        if not G.has_node(d):\n",
      "            G.add_node(d)\n",
      "        G.add_edge(c, d, weight=float(pearson_sim(word_dfs[c], word_dfs[d])))"
     ],
     "language": "python",
     "metadata": {},
     "outputs": [],
     "prompt_number": 134
    },
    {
     "cell_type": "code",
     "collapsed": false,
     "input": [
      "nx.write_gexf(G, 'categories.gxf')"
     ],
     "language": "python",
     "metadata": {},
     "outputs": [],
     "prompt_number": 135
    },
    {
     "cell_type": "heading",
     "level": 1,
     "metadata": {},
     "source": [
      "Exploration of Text-based Models"
     ]
    },
    {
     "cell_type": "heading",
     "level": 2,
     "metadata": {},
     "source": [
      "Comparison of models and text used for the prediction"
     ]
    },
    {
     "cell_type": "heading",
     "level": 3,
     "metadata": {},
     "source": [
      "Multinomial Naive Bayes"
     ]
    },
    {
     "cell_type": "markdown",
     "metadata": {},
     "source": [
      "Our first order of business is just to see roughly how well Multinomial Naive Bayes models work, and what data it's best to include."
     ]
    },
    {
     "cell_type": "heading",
     "level": 3,
     "metadata": {},
     "source": [
      "Logistic Classifier"
     ]
    },
    {
     "cell_type": "code",
     "collapsed": false,
     "input": [
      "x, y, xtrain, ytrain, xtest, ytest = prelim_split(subdf, 'text')"
     ],
     "language": "python",
     "metadata": {},
     "outputs": [],
     "prompt_number": 415
    },
    {
     "cell_type": "code",
     "collapsed": false,
     "input": [
      "best_params, score = random_optimization(log_classifier, {'min_df': .05, 'C':1}, {'min_df': .02, 'C':.5}, xtrain, ytrain)"
     ],
     "language": "python",
     "metadata": {},
     "outputs": [
      {
       "output_type": "stream",
       "stream": "stdout",
       "text": [
        "1 {'C': 1.0834714402730452, 'min_df': 0.04159891420048867} -5544.87174788 {'C': 0.5, 'min_df': 0.02}\n",
        "11"
       ]
      },
      {
       "output_type": "stream",
       "stream": "stdout",
       "text": [
        " {'C': 1.8446453315686018, 'min_df': 0.011711879475479546} -5360.69461604 {'C': 0.2952450000000001, 'min_df': 0.011809800000000004}\n",
        "21"
       ]
      },
      {
       "output_type": "stream",
       "stream": "stdout",
       "text": [
        " {'C': 1.8171949473066153, 'min_df': 0.011711879475479546} -5356.20665096 {'C': 0.11438396227480506, 'min_df': 0.004575358490992203}\n",
        "31"
       ]
      },
      {
       "output_type": "stream",
       "stream": "stdout",
       "text": [
        " {'C': 1.689562183122754, 'min_df': 0.01016665874819612} -5347.94607021 {'C': 0.06078832729528468, 'min_df': 0.002431533091811388}\n",
        "41"
       ]
      },
      {
       "output_type": "stream",
       "stream": "stdout",
       "text": [
        " {'C': 1.667687081842134, 'min_df': 0.01016665874819612} -5347.90896268 {'C': 0.023550643486231246, 'min_df': 0.00094202573944925}\n",
        "51"
       ]
      },
      {
       "output_type": "stream",
       "stream": "stdout",
       "text": [
        " {'C': 1.6328166813150853, 'min_df': 0.01016665874819612} -5347.88239611 {'C': 0.010137779795222639, 'min_df': 0.00040551119180890573}\n"
       ]
      }
     ],
     "prompt_number": 416
    },
    {
     "cell_type": "code",
     "collapsed": false,
     "input": [
      "all_data_vectorizer = CountVectorizer(min_df = best_params['min_df'])\n",
      "all_data_clf = sklm.LogisticRegression(C = best_params['C'])\n",
      "\n",
      "all_vec, all_clf = train_score_display(all_data_vectorizer, all_data_clf, x, xtrain, ytrain, xtest, ytest)"
     ],
     "language": "python",
     "metadata": {},
     "outputs": [
      {
       "metadata": {},
       "output_type": "display_data",
       "png": "[encoded data removed]",
       "text": [
        "<matplotlib.figure.Figure at 0x11375c50>"
       ]
      },
      {
       "metadata": {},
       "output_type": "display_data",
       "png": "[encoded data removed]",
       "text": [
        "<matplotlib.figure.Figure at 0x53f4110>"
       ]
      }
     ],
     "prompt_number": 417
    },
    {
     "cell_type": "code",
     "collapsed": false,
     "input": [
      "all_text_x = x\n",
      "all_text_xtrain = xtrain\n",
      "all_test_ytrain = ytrain"
     ],
     "language": "python",
     "metadata": {},
     "outputs": [],
     "prompt_number": 418
    },
    {
     "cell_type": "markdown",
     "metadata": {},
     "source": [
      "We see that our Logistic Classifier is pretty well calibrated up until 80% success. However, since it's given the category data, it seems possible that it might just be implicitly splitting things up by category, taking the success rates of each given category, and then using the success rates of each category to make good predictions. Is the rest of the text data improving the results substantially, or should we just make a simple model splitting things up by category explicitly?\n",
      "\n",
      "We can test this by running a classifier trained only on data from within one category, and seeing if that provides any predictive value, or if it's just noise. If the classifier trained only from one category works well, then we know that logistic regression is able to make predictions for reasons other than guessing the category. We'll use the Documentary category to explore this, since it has a lot of data, and we want to test the effect of different categories, rather than just the effects of having more or less data.\n",
      "\n",
      "Further, we can find out whether the classification within a particular category is improved by using information from other categories by running the same test data in both classifiers."
     ]
    },
    {
     "cell_type": "code",
     "collapsed": false,
     "input": [
      "x, y, xtrain, ytrain, xtest, ytest = prelim_split(subdf[subdf['category'] == 'Documentary'], 'text')"
     ],
     "language": "python",
     "metadata": {},
     "outputs": [],
     "prompt_number": 419
    },
    {
     "cell_type": "code",
     "collapsed": false,
     "input": [
      "best_params, score = random_optimization(log_classifier, {'min_df': .05, 'C':1}, {'min_df': .02, 'C':.5}, xtrain, ytrain)"
     ],
     "language": "python",
     "metadata": {},
     "outputs": [
      {
       "output_type": "stream",
       "stream": "stdout",
       "text": [
        "1 {'C': 0.4378082437345674, 'min_df': 0.06482594475303402} -335.656945486 {'C': 0.5, 'min_df': 0.02}\n",
        "11"
       ]
      },
      {
       "output_type": "stream",
       "stream": "stdout",
       "text": [
        " {'C': 0.6872297968213639, 'min_df': 0.07849046849180559} -331.406951133 {'C': 0.23914845000000007, 'min_df': 0.009565938000000005}\n",
        "21"
       ]
      },
      {
       "output_type": "stream",
       "stream": "stdout",
       "text": [
        " {'C': 0.760389955718586, 'min_df': 0.075988482936005} -331.342140576 {'C': 0.10294556604732455, 'min_df': 0.004117822641892983}\n",
        "31"
       ]
      },
      {
       "output_type": "stream",
       "stream": "stdout",
       "text": [
        " {'C': 1.1150522636592881, 'min_df': 0.07619362881445405} -331.053516271 {'C': 0.06078832729528468, 'min_df': 0.002431533091811388}\n"
       ]
      }
     ],
     "prompt_number": 420
    },
    {
     "cell_type": "code",
     "collapsed": false,
     "input": [
      "one_cat_vectorizer = CountVectorizer(min_df = best_params['min_df'])\n",
      "one_cat_clf = sklm.LogisticRegression(C = best_params['C'])\n",
      "\n",
      "cat_vec, cat_clf = train_score_display(one_cat_vectorizer, one_cat_clf, all_text_x, xtrain, ytrain, xtest, ytest)"
     ],
     "language": "python",
     "metadata": {},
     "outputs": [
      {
       "metadata": {},
       "output_type": "display_data",
       "png": "[encoded data removed]",
       "text": [
        "<matplotlib.figure.Figure at 0x11ca5f50>"
       ]
      },
      {
       "metadata": {},
       "output_type": "display_data",
       "png": "[encoded data removed]",
       "text": [
        "<matplotlib.figure.Figure at 0x113ab290>"
       ]
      }
     ],
     "prompt_number": 421
    },
    {
     "cell_type": "code",
     "collapsed": false,
     "input": [
      "all_vec, all_clf = train_score_display(all_data_vectorizer, all_data_clf, all_text_x, all_text_xtrain, all_test_ytrain, xtest, ytest)"
     ],
     "language": "python",
     "metadata": {},
     "outputs": [
      {
       "metadata": {},
       "output_type": "display_data",
       "png": "[encoded data removed]",
       "text": [
        "<matplotlib.figure.Figure at 0x75316d0>"
       ]
      },
      {
       "metadata": {},
       "output_type": "display_data",
       "png": "[encoded data removed]",
       "text": [
        "<matplotlib.figure.Figure at 0x149ecc50>"
       ]
      }
     ],
     "prompt_number": 422
    },
    {
     "cell_type": "code",
     "collapsed": false,
     "input": [
      "all_X = all_vec.transform(xtest)\n",
      "sub_X = cat_vec.transform(xtest)\n",
      "print log_likelihood(all_clf, all_X, ytest.values), log_likelihood(cat_clf, sub_X, ytest.values)"
     ],
     "language": "python",
     "metadata": {},
     "outputs": [
      {
       "output_type": "stream",
       "stream": "stdout",
       "text": [
        " -348.123331056 -367.379297105\n"
       ]
      }
     ],
     "prompt_number": 425
    },
    {
     "cell_type": "code",
     "collapsed": false,
     "input": [
      "print all_vec\n",
      "print all_model\n",
      "print sub_vec\n",
      "print sub_model"
     ],
     "language": "python",
     "metadata": {},
     "outputs": [
      {
       "output_type": "stream",
       "stream": "stdout",
       "text": [
        "CountVectorizer(analyzer=word, binary=False, charset=None, charset_error=None,\n",
        "        decode_error=strict, dtype=<type 'numpy.int64'>, encoding=utf-8,\n",
        "        input=content, lowercase=True, max_df=1.0, max_features=None,\n",
        "        min_df=0.0100697976202, ngram_range=(1, 1), preprocessor=None,\n",
        "        stop_words=None, strip_accents=None, token_pattern=(?u)\\b\\w\\w+\\b,\n",
        "        tokenizer=None, vocabulary=None)\n",
        "<__main__.Model instance at 0x140c64d0>\n",
        "CountVectorizer(analyzer=word, binary=False, charset=None, charset_error=None,\n",
        "        decode_error=strict, dtype=<type 'numpy.int64'>, encoding=utf-8,\n",
        "        input=content, lowercase=True, max_df=1.0, max_features=None,\n",
        "        min_df=0.072519603541, ngram_range=(1, 1), preprocessor=None,\n",
        "        stop_words=None, strip_accents=None, token_pattern=(?u)\\b\\w\\w+\\b,\n",
        "        tokenizer=None, vocabulary=None)\n",
        "LogisticRegression(C=0.172511399439, class_weight=None, dual=False,\n",
        "          fit_intercept=True, intercept_scaling=1, penalty=l2,\n",
        "          random_state=None, tol=0.0001)\n"
       ]
      }
     ],
     "prompt_number": 426
    },
    {
     "cell_type": "code",
     "collapsed": false,
     "input": [
      "from sklearn import ensemble as ens"
     ],
     "language": "python",
     "metadata": {},
     "outputs": [],
     "prompt_number": 427
    },
    {
     "cell_type": "code",
     "collapsed": false,
     "input": [],
     "language": "python",
     "metadata": {},
     "outputs": [],
     "prompt_number": 427
    },
    {
     "cell_type": "heading",
     "level": 1,
     "metadata": {},
     "source": [
      "Model Combination"
     ]
    },
    {
     "cell_type": "heading",
     "level": 2,
     "metadata": {},
     "source": [
      "Stacking"
     ]
    },
    {
     "cell_type": "code",
     "collapsed": false,
     "input": [],
     "language": "python",
     "metadata": {},
     "outputs": [],
     "prompt_number": 427
    },
    {
     "cell_type": "heading",
     "level": 2,
     "metadata": {},
     "source": [
      "Model Combination"
     ]
    },
    {
     "cell_type": "code",
     "collapsed": false,
     "input": [
      "\"\"\"\n",
      "The Wikipedia Model\n",
      "\n",
      "function train_bayesian_model_combination(T)\n",
      "        For each model, m, in the ensemble:\n",
      "                weight[m] = 0\n",
      "        sum_weight = 0\n",
      "        z = -infinity\n",
      "        Let n be some number of weightings to sample.\n",
      "                (100 might be a reasonable value. Smaller is faster. \n",
      "                 Bigger leads to more precise results.)\n",
      "        for i from 0 to n - 1:\n",
      "                For each model, m, in the ensemble: // draw from a uniform Dirichlet distribution\n",
      "                        v[m] = -log(random_uniform(0,1))\n",
      "                Normalize v to sum to 1\n",
      "                Let x be the predictive accuracy (from 0 to 1) of the entire ensemble, weighted\n",
      "                        according to v, for predicting the labels in T.\n",
      "                Use x to estimate log_likelihood[i]. Often, this is computed as\n",
      "                        log_likelihood[i] = |T| * (x * log(x) + (1 - x) * log(1 - x)),\n",
      "                        where |T| is the number of training patterns in T.\n",
      "                If log_likelihood[i] > z: // z is used to maintain numerical stability\n",
      "                        For each model, m, in the ensemble:\n",
      "                                weight[m] = weight[m] * exp(z - log_likelihood[i])\n",
      "                        z = log_likelihood[i]\n",
      "                w = exp(log_likelihood[i] - z)\n",
      "                For each model, m, in the ensemble:\n",
      "                        weight[m] = weight[m] * sum_weight / (sum_weight + w) + w * v[m]\n",
      "                sum_weight = sum_weight + w\n",
      "        Normalize the model weights to sum to 1.\n",
      "\"\"\"\n",
      "\n",
      "class ModelGroup:\n",
      "    def __init__(self, models):\n",
      "        self.models = models\n",
      "        \n",
      "    def prob_matrix(self, X):\n",
      "        return np.transpose(np.array([m.predict(X) for m in self.models]))\n",
      "    \n",
      "    def set_parameters(self, comb_func, params):\n",
      "        self.combiner   = comb_func\n",
      "        self.parameters = params\n",
      "    \n",
      "    def predict_proba(self, X):\n",
      "        return [[1-p, p] for p in self.combiner.predict(self.parameters, self.prob_matrix(X))]\n",
      "    \n",
      "    def predict_log_proba(self, X):\n",
      "        return [[math.log(1-p), math.log(p)] for p in self.combiner.predict(self.parameters, self.prob_matrix(X))]\n",
      "\n",
      "class Model:\n",
      "    def __init__(self, func):\n",
      "        self.predict = func\n",
      "\n",
      "    def predict(X):\n",
      "        pass\n",
      "    \n",
      "class CombinationFunction:    \n",
      "    def __init__(self):\n",
      "        pass\n",
      "    \n",
      "    def predict(self, parameters, prob_mat):\n",
      "        return [self.combine(parameters, x) for x in prob_mat]\n",
      "    \n",
      "    def combine(self, parameters, x):\n",
      "        raise NotImplementedError(\"Subclass must implement method\")\n",
      "        \n",
      "    def gradient(self, parameters, x):\n",
      "        raise NotImplementedError(\"Subclass must implement method\")\n",
      "        \n",
      "    def dpdw(self, parameters, prob_mat):\n",
      "        return np.matrix([self.gradient(parameters, row) for row in prob_mat])\n",
      "\n",
      "class LinComb(CombinationFunction):\n",
      "    def combine(self, parameters, probability_row):\n",
      "        return sum([wi*xi for wi, xi in zip(parameters, probability_row)])\n",
      "    \n",
      "    def gradient(self, parameters, probability_row):\n",
      "        return [probi for wi, probi in zip(parameters, probability_row)]\n",
      "\n",
      "class LogComb(CombinationFunction):\n",
      "    def combine(parameters, probability_row):\n",
      "        return math.exp(linear_combination(parameters, probability_row))\n",
      "    \n",
      "    def gradient(self, parameters, probability_row):\n",
      "        current = LinComb.combine(LinComb(), parameters, probability_row)\n",
      "        return [probi * math.exp(current) for wi, probi in zip(parameters, probability_row)]\n",
      "    \n",
      "class MyComb(CombinationFunction):\n",
      "    def combine(self, parameters, probability_row):\n",
      "        return math.exp(LinComb.combine(LinComb(), parameters, [math.log(p) for p in probability_row]))\n",
      "    \n",
      "    def gradient(self, parameters, probability_row):\n",
      "        current = self.combine(parameters, probability_row)\n",
      "        return [math.log(probi) * math.exp(current) for wi, probi in zip(parameters, probability_row)]\n",
      "\n",
      "def log_derivative(p, y):\n",
      "    if y == 1:\n",
      "        return 1.0 / p\n",
      "    else:\n",
      "        return -1.0 / (1 - p)\n",
      "\n",
      "def ll_grad(pvector, ytrain):\n",
      "    #print [log_derivative(p, y) for p,y in zip(pvector, ytrain)]\n",
      "    return np.matrix([log_derivative(p, y) for p,y in zip(pvector, ytrain)])\n",
      "    \n",
      "def gradient(comb_func, parameters, prob_mat, ytrain):\n",
      "    P    = comb_func.predict(parameters, prob_mat)\n",
      "    dcdP = ll_grad(P, ytrain)\n",
      "    dPdw = comb_func.dpdw(parameters, prob_mat)\n",
      "    # print dcdP\n",
      "    # print dPdw\n",
      "    return dcdP * dPdw\n",
      "\n",
      "def fake_gradient(comb_func, parameters, pm, ytrain, step=.00001):\n",
      "    ans = []\n",
      "    for i in len(parameters):\n",
      "        old = frac_cost(comb_func.predict(parameters, prob_mat), y)\n",
      "        parameters[i] += step\n",
      "        new = frac_cost(comb_func.predict(parameters, prob_mat), y)\n",
      "        parameters[i] -= step\n",
      "        ans[i] = new - old   \n",
      "    return ans\n",
      "\n",
      "def fake_grad_desc(mg, comb_func, parameters, xtrain, ytrain, gamma=.1):\n",
      "    pm     = mg.prob_matrix(xtrain)\n",
      "    params = np.matrix(parameters)\n",
      "    plength = len(parameters)\n",
      "    length = len(xtrain)\n",
      "    grad   = fake_gradient(comb_func, parameters, pm, ytrain)\n",
      "    i      = 0\n",
      "    \n",
      "    while np.linalg.norm(grad) > 3 * plength:\n",
      "        step   = (gamma / length) * grad  \n",
      "        params += step \n",
      "        i += 1\n",
      "        \n",
      "        if i % 500 == 1:\n",
      "            print i, \":  \", params, grad\n",
      "            \n",
      "        grad = gradient(comb_func, params.tolist()[0], pm, ytrain)\n",
      "    return params   \n",
      "\n",
      "def gradient_descent(mg, comb_func, parameters, xtrain, ytrain, gamma = .1):\n",
      "    pm     = mg.prob_matrix(xtrain)\n",
      "    params = np.matrix(parameters)\n",
      "    grad   = gradient(comb_func, parameters, pm, ytrain)\n",
      "    i      = 0\n",
      "    \n",
      "    while np.linalg.norm(grad) > 3 * :\n",
      "        step   = (gamma / len(xtrain)) * grad  \n",
      "        params += step \n",
      "        \n",
      "        i += 1\n",
      "        \n",
      "        if i % 500 == 1:\n",
      "            print i, \":  \", params, grad\n",
      "            \n",
      "        grad   = gradient(comb_func, params.tolist()[0], pm, ytrain)\n",
      "    return params"
     ],
     "language": "python",
     "metadata": {},
     "outputs": [],
     "prompt_number": 16
    },
    {
     "cell_type": "code",
     "collapsed": false,
     "input": [
      "all_model = Model(lambda X: [p[1] for p in all_clf.predict_proba(all_vec.transform(X))])\n",
      "doc_model = Model(lambda X: [p[1] for p in cat_clf.predict_proba(cat_vec.transform(X))])\n",
      "mg = ModelGroup([all_model, doc_model])"
     ],
     "language": "python",
     "metadata": {},
     "outputs": [],
     "prompt_number": 438
    },
    {
     "cell_type": "code",
     "collapsed": false,
     "input": [
      "pm = mg.prob_matrix(xtest)\n",
      "#gradient(LinComb(), [1, 1], pm, ytest)\n",
      "best_params = gradient_descent(mg, LinComb(), [.5, .5], xtrain, ytrain)"
     ],
     "language": "python",
     "metadata": {},
     "outputs": [
      {
       "output_type": "stream",
       "stream": "stdout",
       "text": [
        "1 :   [[ 0.50288848  0.49888731]] [[ 44.82915163 -17.26899885]]\n"
       ]
      }
     ],
     "prompt_number": 439
    },
    {
     "cell_type": "code",
     "collapsed": false,
     "input": [
      "mg.set_parameters(LinComb(), best_params.tolist()[0])"
     ],
     "language": "python",
     "metadata": {},
     "outputs": [],
     "prompt_number": 440
    },
    {
     "cell_type": "code",
     "collapsed": false,
     "input": [
      "calibration_plot(mg, xtest, ytest)"
     ],
     "language": "python",
     "metadata": {},
     "outputs": [
      {
       "metadata": {},
       "output_type": "display_data",
       "png": "[encoded data removed]",
       "text": [
        "<matplotlib.figure.Figure at 0x140c8550>"
       ]
      },
      {
       "metadata": {},
       "output_type": "display_data",
       "png": "[encoded data removed]",
       "text": [
        "<matplotlib.figure.Figure at 0xfe04950>"
       ]
      }
     ],
     "prompt_number": 441
    },
    {
     "cell_type": "code",
     "collapsed": false,
     "input": [
      "print log_likelihood(mg, xtest,ytest.values)"
     ],
     "language": "python",
     "metadata": {},
     "outputs": [
      {
       "output_type": "stream",
       "stream": "stdout",
       "text": [
        "-347.794927378\n"
       ]
      }
     ],
     "prompt_number": 442
    },
    {
     "cell_type": "code",
     "collapsed": false,
     "input": [
      "best_params = gradient_descent(mg, MyComb(), [1.0, 1.0], xtrain, ytrain)"
     ],
     "language": "python",
     "metadata": {},
     "outputs": [
      {
       "output_type": "stream",
       "stream": "stdout",
       "text": [
        "1 :   [[ 0.88649     0.83841765]] [[-1761.67512278 -2507.75813173]]\n"
       ]
      }
     ],
     "prompt_number": 443
    },
    {
     "cell_type": "code",
     "collapsed": false,
     "input": [
      "mg.set_parameters(MyComb(), best_params.tolist()[0])"
     ],
     "language": "python",
     "metadata": {},
     "outputs": [],
     "prompt_number": 444
    },
    {
     "cell_type": "code",
     "collapsed": false,
     "input": [
      "calibration_plot(mg, xtest, ytest)"
     ],
     "language": "python",
     "metadata": {},
     "outputs": [
      {
       "metadata": {},
       "output_type": "display_data",
       "png": "[encoded data removed]",
       "text": [
        "<matplotlib.figure.Figure at 0x140f22d0>"
       ]
      },
      {
       "metadata": {},
       "output_type": "display_data",
       "png": "[encoded data removed]",
       "text": [
        "<matplotlib.figure.Figure at 0x12e25110>"
       ]
      }
     ],
     "prompt_number": 445
    },
    {
     "cell_type": "code",
     "collapsed": false,
     "input": [
      "print [(x[0], i) for x, i in zip(mg.predict_proba(xtest), range(len(xtest))) if x[0] < 0]\n",
      "print \n",
      "print log_likelihood(mg, xtest.values[:175].tolist()+  xtest.values[176:].tolist(), ytest.values[:175].tolist()+  ytest.values[176:].tolist())"
     ],
     "language": "python",
     "metadata": {},
     "outputs": [
      {
       "output_type": "stream",
       "stream": "stdout",
       "text": [
        "[(-0.19585465744606134, 175)]\n",
        "\n",
        "-360.018288537"
       ]
      },
      {
       "output_type": "stream",
       "stream": "stdout",
       "text": [
        "\n"
       ]
      }
     ],
     "prompt_number": 477
    },
    {
     "cell_type": "code",
     "collapsed": false,
     "input": [
      "def grad_descent(comb_func, parameters, xtrain_ps, ytrain, gamma = .1):\n",
      "    pm     = xtrain_ps\n",
      "    length = len(pm)\n",
      "    params = np.matrix(parameters)\n",
      "    grad   = gradient(comb_func, parameters, pm, ytrain)\n",
      "    i      = 0\n",
      "    \n",
      "    while np.linalg.norm(grad) > 10:\n",
      "        step   = (gamma / length) * grad  \n",
      "        params += step \n",
      "        \n",
      "        i += 1\n",
      "        \n",
      "        if i % 50 == 1:\n",
      "            print i, \":  \", params, grad\n",
      "            \n",
      "        grad   = gradient(comb_func, params[0].tolist(), pm, ytrain)\n",
      "    return params"
     ],
     "language": "python",
     "metadata": {},
     "outputs": [],
     "prompt_number": 45
    },
    {
     "cell_type": "code",
     "collapsed": false,
     "input": [
      "predictions = pd.read_csv('sub_model_predictions.csv')\n",
      "y = predictions['success'].values[:10000]\n",
      "pmat =  predictions.drop('success', axis=1).values[:10000,1:5]\n",
      "print pmat"
     ],
     "language": "python",
     "metadata": {},
     "outputs": [
      {
       "output_type": "stream",
       "stream": "stdout",
       "text": [
        "[[ 0.50205761  0.35802469  0.32098765  0.43484225]\n",
        " [ 0.50205761  0.39917695  0.34567901  0.48834019]\n",
        " [ 0.40329218  0.39506173  0.36625514  0.4691358 ]\n",
        " ..., \n",
        " [ 0.52263374  0.48285322  0.52263374  0.41838134]\n",
        " [ 0.62139918  0.61042524  0.69547325  0.45816187]\n",
        " [ 0.52674897  0.44032922  0.46502058  0.44993141]]\n"
       ]
      }
     ],
     "prompt_number": 46
    },
    {
     "cell_type": "code",
     "collapsed": false,
     "input": [
      "best_params = grad_descent(LinComb(), [.25, .25, .25, .25], pmat, y)"
     ],
     "language": "python",
     "metadata": {},
     "outputs": [
      {
       "ename": "TypeError",
       "evalue": "unsupported operand type(s) for +: 'int' and 'list'",
       "output_type": "pyerr",
       "traceback": [
        "\u001b[1;31m---------------------------------------------------------------------------\u001b[0m\n\u001b[1;31mTypeError\u001b[0m                                 Traceback (most recent call last)",
        "\u001b[1;32m<ipython-input-47-99d5b5550c68>\u001b[0m in \u001b[0;36m<module>\u001b[1;34m()\u001b[0m\n\u001b[1;32m----> 1\u001b[1;33m \u001b[0mbest_params\u001b[0m \u001b[1;33m=\u001b[0m \u001b[0mgrad_descent\u001b[0m\u001b[1;33m(\u001b[0m\u001b[0mLinComb\u001b[0m\u001b[1;33m(\u001b[0m\u001b[1;33m)\u001b[0m\u001b[1;33m,\u001b[0m \u001b[1;33m[\u001b[0m\u001b[1;36m.25\u001b[0m\u001b[1;33m,\u001b[0m \u001b[1;36m.25\u001b[0m\u001b[1;33m,\u001b[0m \u001b[1;36m.25\u001b[0m\u001b[1;33m,\u001b[0m \u001b[1;36m.25\u001b[0m\u001b[1;33m]\u001b[0m\u001b[1;33m,\u001b[0m \u001b[0mpmat\u001b[0m\u001b[1;33m,\u001b[0m \u001b[0my\u001b[0m\u001b[1;33m)\u001b[0m\u001b[1;33m\u001b[0m\u001b[0m\n\u001b[0m",
        "\u001b[1;32m<ipython-input-45-40aba9af336b>\u001b[0m in \u001b[0;36mgrad_descent\u001b[1;34m(comb_func, parameters, xtrain_ps, ytrain, gamma)\u001b[0m\n\u001b[0;32m     15\u001b[0m             \u001b[1;32mprint\u001b[0m \u001b[0mi\u001b[0m\u001b[1;33m,\u001b[0m \u001b[1;34m\":  \"\u001b[0m\u001b[1;33m,\u001b[0m \u001b[0mparams\u001b[0m\u001b[1;33m,\u001b[0m \u001b[0mgrad\u001b[0m\u001b[1;33m\u001b[0m\u001b[0m\n\u001b[0;32m     16\u001b[0m \u001b[1;33m\u001b[0m\u001b[0m\n\u001b[1;32m---> 17\u001b[1;33m         \u001b[0mgrad\u001b[0m   \u001b[1;33m=\u001b[0m \u001b[0mgradient\u001b[0m\u001b[1;33m(\u001b[0m\u001b[0mcomb_func\u001b[0m\u001b[1;33m,\u001b[0m \u001b[0mparams\u001b[0m\u001b[1;33m[\u001b[0m\u001b[1;36m0\u001b[0m\u001b[1;33m]\u001b[0m\u001b[1;33m.\u001b[0m\u001b[0mtolist\u001b[0m\u001b[1;33m(\u001b[0m\u001b[1;33m)\u001b[0m\u001b[1;33m,\u001b[0m \u001b[0mpm\u001b[0m\u001b[1;33m,\u001b[0m \u001b[0mytrain\u001b[0m\u001b[1;33m)\u001b[0m\u001b[1;33m\u001b[0m\u001b[0m\n\u001b[0m\u001b[0;32m     18\u001b[0m     \u001b[1;32mreturn\u001b[0m \u001b[0mparams\u001b[0m\u001b[1;33m\u001b[0m\u001b[0m\n",
        "\u001b[1;32m<ipython-input-16-9934ce8fc4c3>\u001b[0m in \u001b[0;36mgradient\u001b[1;34m(comb_func, parameters, prob_mat, ytrain)\u001b[0m\n\u001b[0;32m    104\u001b[0m \u001b[1;33m\u001b[0m\u001b[0m\n\u001b[0;32m    105\u001b[0m \u001b[1;32mdef\u001b[0m \u001b[0mgradient\u001b[0m\u001b[1;33m(\u001b[0m\u001b[0mcomb_func\u001b[0m\u001b[1;33m,\u001b[0m \u001b[0mparameters\u001b[0m\u001b[1;33m,\u001b[0m \u001b[0mprob_mat\u001b[0m\u001b[1;33m,\u001b[0m \u001b[0mytrain\u001b[0m\u001b[1;33m)\u001b[0m\u001b[1;33m:\u001b[0m\u001b[1;33m\u001b[0m\u001b[0m\n\u001b[1;32m--> 106\u001b[1;33m     \u001b[0mP\u001b[0m    \u001b[1;33m=\u001b[0m \u001b[0mcomb_func\u001b[0m\u001b[1;33m.\u001b[0m\u001b[0mpredict\u001b[0m\u001b[1;33m(\u001b[0m\u001b[0mparameters\u001b[0m\u001b[1;33m,\u001b[0m \u001b[0mprob_mat\u001b[0m\u001b[1;33m)\u001b[0m\u001b[1;33m\u001b[0m\u001b[0m\n\u001b[0m\u001b[0;32m    107\u001b[0m     \u001b[0mdcdP\u001b[0m \u001b[1;33m=\u001b[0m \u001b[0mll_grad\u001b[0m\u001b[1;33m(\u001b[0m\u001b[0mP\u001b[0m\u001b[1;33m,\u001b[0m \u001b[0mytrain\u001b[0m\u001b[1;33m)\u001b[0m\u001b[1;33m\u001b[0m\u001b[0m\n\u001b[0;32m    108\u001b[0m     \u001b[0mdPdw\u001b[0m \u001b[1;33m=\u001b[0m \u001b[0mcomb_func\u001b[0m\u001b[1;33m.\u001b[0m\u001b[0mdpdw\u001b[0m\u001b[1;33m(\u001b[0m\u001b[0mparameters\u001b[0m\u001b[1;33m,\u001b[0m \u001b[0mprob_mat\u001b[0m\u001b[1;33m)\u001b[0m\u001b[1;33m\u001b[0m\u001b[0m\n",
        "\u001b[1;32m<ipython-input-16-9934ce8fc4c3>\u001b[0m in \u001b[0;36mpredict\u001b[1;34m(self, parameters, prob_mat)\u001b[0m\n\u001b[0;32m     59\u001b[0m \u001b[1;33m\u001b[0m\u001b[0m\n\u001b[0;32m     60\u001b[0m     \u001b[1;32mdef\u001b[0m \u001b[0mpredict\u001b[0m\u001b[1;33m(\u001b[0m\u001b[0mself\u001b[0m\u001b[1;33m,\u001b[0m \u001b[0mparameters\u001b[0m\u001b[1;33m,\u001b[0m \u001b[0mprob_mat\u001b[0m\u001b[1;33m)\u001b[0m\u001b[1;33m:\u001b[0m\u001b[1;33m\u001b[0m\u001b[0m\n\u001b[1;32m---> 61\u001b[1;33m         \u001b[1;32mreturn\u001b[0m \u001b[1;33m[\u001b[0m\u001b[0mself\u001b[0m\u001b[1;33m.\u001b[0m\u001b[0mcombine\u001b[0m\u001b[1;33m(\u001b[0m\u001b[0mparameters\u001b[0m\u001b[1;33m,\u001b[0m \u001b[0mx\u001b[0m\u001b[1;33m)\u001b[0m \u001b[1;32mfor\u001b[0m \u001b[0mx\u001b[0m \u001b[1;32min\u001b[0m \u001b[0mprob_mat\u001b[0m\u001b[1;33m]\u001b[0m\u001b[1;33m\u001b[0m\u001b[0m\n\u001b[0m\u001b[0;32m     62\u001b[0m \u001b[1;33m\u001b[0m\u001b[0m\n\u001b[0;32m     63\u001b[0m     \u001b[1;32mdef\u001b[0m \u001b[0mcombine\u001b[0m\u001b[1;33m(\u001b[0m\u001b[0mself\u001b[0m\u001b[1;33m,\u001b[0m \u001b[0mparameters\u001b[0m\u001b[1;33m,\u001b[0m \u001b[0mx\u001b[0m\u001b[1;33m)\u001b[0m\u001b[1;33m:\u001b[0m\u001b[1;33m\u001b[0m\u001b[0m\n",
        "\u001b[1;32m<ipython-input-16-9934ce8fc4c3>\u001b[0m in \u001b[0;36mcombine\u001b[1;34m(self, parameters, probability_row)\u001b[0m\n\u001b[0;32m     72\u001b[0m \u001b[1;32mclass\u001b[0m \u001b[0mLinComb\u001b[0m\u001b[1;33m(\u001b[0m\u001b[0mCombinationFunction\u001b[0m\u001b[1;33m)\u001b[0m\u001b[1;33m:\u001b[0m\u001b[1;33m\u001b[0m\u001b[0m\n\u001b[0;32m     73\u001b[0m     \u001b[1;32mdef\u001b[0m \u001b[0mcombine\u001b[0m\u001b[1;33m(\u001b[0m\u001b[0mself\u001b[0m\u001b[1;33m,\u001b[0m \u001b[0mparameters\u001b[0m\u001b[1;33m,\u001b[0m \u001b[0mprobability_row\u001b[0m\u001b[1;33m)\u001b[0m\u001b[1;33m:\u001b[0m\u001b[1;33m\u001b[0m\u001b[0m\n\u001b[1;32m---> 74\u001b[1;33m         \u001b[1;32mreturn\u001b[0m \u001b[0msum\u001b[0m\u001b[1;33m(\u001b[0m\u001b[1;33m[\u001b[0m\u001b[0mwi\u001b[0m\u001b[1;33m*\u001b[0m\u001b[0mxi\u001b[0m \u001b[1;32mfor\u001b[0m \u001b[0mwi\u001b[0m\u001b[1;33m,\u001b[0m \u001b[0mxi\u001b[0m \u001b[1;32min\u001b[0m \u001b[0mzip\u001b[0m\u001b[1;33m(\u001b[0m\u001b[0mparameters\u001b[0m\u001b[1;33m,\u001b[0m \u001b[0mprobability_row\u001b[0m\u001b[1;33m)\u001b[0m\u001b[1;33m]\u001b[0m\u001b[1;33m)\u001b[0m\u001b[1;33m\u001b[0m\u001b[0m\n\u001b[0m\u001b[0;32m     75\u001b[0m \u001b[1;33m\u001b[0m\u001b[0m\n\u001b[0;32m     76\u001b[0m     \u001b[1;32mdef\u001b[0m \u001b[0mgradient\u001b[0m\u001b[1;33m(\u001b[0m\u001b[0mself\u001b[0m\u001b[1;33m,\u001b[0m \u001b[0mparameters\u001b[0m\u001b[1;33m,\u001b[0m \u001b[0mprobability_row\u001b[0m\u001b[1;33m)\u001b[0m\u001b[1;33m:\u001b[0m\u001b[1;33m\u001b[0m\u001b[0m\n",
        "\u001b[1;31mTypeError\u001b[0m: unsupported operand type(s) for +: 'int' and 'list'"
       ]
      },
      {
       "output_type": "stream",
       "stream": "stdout",
       "text": [
        "1 :   [[ 0.25771748  0.25969805  0.26012952  0.25634257]] [[  771.7482127    969.80497273  1012.95176133   634.25700739]]\n"
       ]
      }
     ],
     "prompt_number": 47
    },
    {
     "cell_type": "code",
     "collapsed": false,
     "input": [
      "pmat"
     ],
     "language": "python",
     "metadata": {},
     "outputs": [
      {
       "output_type": "stream",
       "stream": "stdout",
       "text": [
        "1 :   [[ 0.25771748  0.25969805  0.26012952  0.25634257]] [[  771.7482127    969.80497273  1012.95176133   634.25700739]]\n",
        "51"
       ]
      },
      {
       "output_type": "stream",
       "stream": "stdout",
       "text": [
        " :   [[ 0.21915635  0.33529046  0.35293128  0.1950536 ]] [[ -88.35703626   99.64018462  127.10563138 -133.11597632]]\n",
        "101"
       ]
      },
      {
       "output_type": "stream",
       "stream": "stdout",
       "text": [
        " :   [[ 0.18472607  0.37696677  0.40547024  0.13716102]] [[ -52.27930383   69.42708679   86.23467066 -100.83835612]]\n",
        "151"
       ]
      },
      {
       "ename": "KeyboardInterrupt",
       "evalue": "",
       "output_type": "pyerr",
       "traceback": [
        "\u001b[1;31m---------------------------------------------------------------------------\u001b[0m\n\u001b[1;31mKeyboardInterrupt\u001b[0m                         Traceback (most recent call last)",
        "\u001b[1;32m<ipython-input-41-836200c074ac>\u001b[0m in \u001b[0;36m<module>\u001b[1;34m()\u001b[0m\n\u001b[0;32m      1\u001b[0m \u001b[0mnum_models\u001b[0m \u001b[1;33m=\u001b[0m \u001b[0mlen\u001b[0m\u001b[1;33m(\u001b[0m\u001b[0mpmat\u001b[0m\u001b[1;33m[\u001b[0m\u001b[1;36m0\u001b[0m\u001b[1;33m]\u001b[0m\u001b[1;33m)\u001b[0m\u001b[1;33m\u001b[0m\u001b[0m\n\u001b[1;32m----> 2\u001b[1;33m \u001b[0mbest_params\u001b[0m \u001b[1;33m=\u001b[0m \u001b[0mgrad_descent\u001b[0m\u001b[1;33m(\u001b[0m\u001b[0mLinComb\u001b[0m\u001b[1;33m(\u001b[0m\u001b[1;33m)\u001b[0m\u001b[1;33m,\u001b[0m \u001b[1;33m[\u001b[0m\u001b[1;36m1.0\u001b[0m\u001b[1;33m/\u001b[0m\u001b[0mnum_models\u001b[0m \u001b[1;32mfor\u001b[0m \u001b[0mi\u001b[0m \u001b[1;32min\u001b[0m \u001b[0mrange\u001b[0m\u001b[1;33m(\u001b[0m\u001b[0mnum_models\u001b[0m\u001b[1;33m)\u001b[0m\u001b[1;33m]\u001b[0m\u001b[1;33m,\u001b[0m \u001b[0mpmat\u001b[0m\u001b[1;33m,\u001b[0m \u001b[0my\u001b[0m\u001b[1;33m)\u001b[0m\u001b[1;33m\u001b[0m\u001b[0m\n\u001b[0m",
        "\u001b[1;32m<ipython-input-38-00ddb7cdf28c>\u001b[0m in \u001b[0;36mgrad_descent\u001b[1;34m(comb_func, parameters, xtrain_ps, ytrain, gamma)\u001b[0m\n\u001b[0;32m     15\u001b[0m             \u001b[1;32mprint\u001b[0m \u001b[0mi\u001b[0m\u001b[1;33m,\u001b[0m \u001b[1;34m\":  \"\u001b[0m\u001b[1;33m,\u001b[0m \u001b[0mparams\u001b[0m\u001b[1;33m,\u001b[0m \u001b[0mgrad\u001b[0m\u001b[1;33m\u001b[0m\u001b[0m\n\u001b[0;32m     16\u001b[0m \u001b[1;33m\u001b[0m\u001b[0m\n\u001b[1;32m---> 17\u001b[1;33m         \u001b[0mgrad\u001b[0m   \u001b[1;33m=\u001b[0m \u001b[0mgradient\u001b[0m\u001b[1;33m(\u001b[0m\u001b[0mcomb_func\u001b[0m\u001b[1;33m,\u001b[0m \u001b[0mparams\u001b[0m\u001b[1;33m.\u001b[0m\u001b[0mtolist\u001b[0m\u001b[1;33m(\u001b[0m\u001b[1;33m)\u001b[0m\u001b[1;33m[\u001b[0m\u001b[1;36m0\u001b[0m\u001b[1;33m]\u001b[0m\u001b[1;33m,\u001b[0m \u001b[0mpm\u001b[0m\u001b[1;33m,\u001b[0m \u001b[0mytrain\u001b[0m\u001b[1;33m)\u001b[0m\u001b[1;33m\u001b[0m\u001b[0m\n\u001b[0m\u001b[0;32m     18\u001b[0m     \u001b[1;32mreturn\u001b[0m \u001b[0mparams\u001b[0m\u001b[1;33m\u001b[0m\u001b[0m\n",
        "\u001b[1;32m<ipython-input-16-9934ce8fc4c3>\u001b[0m in \u001b[0;36mgradient\u001b[1;34m(comb_func, parameters, prob_mat, ytrain)\u001b[0m\n\u001b[0;32m    104\u001b[0m \u001b[1;33m\u001b[0m\u001b[0m\n\u001b[0;32m    105\u001b[0m \u001b[1;32mdef\u001b[0m \u001b[0mgradient\u001b[0m\u001b[1;33m(\u001b[0m\u001b[0mcomb_func\u001b[0m\u001b[1;33m,\u001b[0m \u001b[0mparameters\u001b[0m\u001b[1;33m,\u001b[0m \u001b[0mprob_mat\u001b[0m\u001b[1;33m,\u001b[0m \u001b[0mytrain\u001b[0m\u001b[1;33m)\u001b[0m\u001b[1;33m:\u001b[0m\u001b[1;33m\u001b[0m\u001b[0m\n\u001b[1;32m--> 106\u001b[1;33m     \u001b[0mP\u001b[0m    \u001b[1;33m=\u001b[0m \u001b[0mcomb_func\u001b[0m\u001b[1;33m.\u001b[0m\u001b[0mpredict\u001b[0m\u001b[1;33m(\u001b[0m\u001b[0mparameters\u001b[0m\u001b[1;33m,\u001b[0m \u001b[0mprob_mat\u001b[0m\u001b[1;33m)\u001b[0m\u001b[1;33m\u001b[0m\u001b[0m\n\u001b[0m\u001b[0;32m    107\u001b[0m     \u001b[0mdcdP\u001b[0m \u001b[1;33m=\u001b[0m \u001b[0mll_grad\u001b[0m\u001b[1;33m(\u001b[0m\u001b[0mP\u001b[0m\u001b[1;33m,\u001b[0m \u001b[0mytrain\u001b[0m\u001b[1;33m)\u001b[0m\u001b[1;33m\u001b[0m\u001b[0m\n\u001b[0;32m    108\u001b[0m     \u001b[0mdPdw\u001b[0m \u001b[1;33m=\u001b[0m \u001b[0mcomb_func\u001b[0m\u001b[1;33m.\u001b[0m\u001b[0mdpdw\u001b[0m\u001b[1;33m(\u001b[0m\u001b[0mparameters\u001b[0m\u001b[1;33m,\u001b[0m \u001b[0mprob_mat\u001b[0m\u001b[1;33m)\u001b[0m\u001b[1;33m\u001b[0m\u001b[0m\n",
        "\u001b[1;32m<ipython-input-16-9934ce8fc4c3>\u001b[0m in \u001b[0;36mpredict\u001b[1;34m(self, parameters, prob_mat)\u001b[0m\n\u001b[0;32m     59\u001b[0m \u001b[1;33m\u001b[0m\u001b[0m\n\u001b[0;32m     60\u001b[0m     \u001b[1;32mdef\u001b[0m \u001b[0mpredict\u001b[0m\u001b[1;33m(\u001b[0m\u001b[0mself\u001b[0m\u001b[1;33m,\u001b[0m \u001b[0mparameters\u001b[0m\u001b[1;33m,\u001b[0m \u001b[0mprob_mat\u001b[0m\u001b[1;33m)\u001b[0m\u001b[1;33m:\u001b[0m\u001b[1;33m\u001b[0m\u001b[0m\n\u001b[1;32m---> 61\u001b[1;33m         \u001b[1;32mreturn\u001b[0m \u001b[1;33m[\u001b[0m\u001b[0mself\u001b[0m\u001b[1;33m.\u001b[0m\u001b[0mcombine\u001b[0m\u001b[1;33m(\u001b[0m\u001b[0mparameters\u001b[0m\u001b[1;33m,\u001b[0m \u001b[0mx\u001b[0m\u001b[1;33m)\u001b[0m \u001b[1;32mfor\u001b[0m \u001b[0mx\u001b[0m \u001b[1;32min\u001b[0m \u001b[0mprob_mat\u001b[0m\u001b[1;33m]\u001b[0m\u001b[1;33m\u001b[0m\u001b[0m\n\u001b[0m\u001b[0;32m     62\u001b[0m \u001b[1;33m\u001b[0m\u001b[0m\n\u001b[0;32m     63\u001b[0m     \u001b[1;32mdef\u001b[0m \u001b[0mcombine\u001b[0m\u001b[1;33m(\u001b[0m\u001b[0mself\u001b[0m\u001b[1;33m,\u001b[0m \u001b[0mparameters\u001b[0m\u001b[1;33m,\u001b[0m \u001b[0mx\u001b[0m\u001b[1;33m)\u001b[0m\u001b[1;33m:\u001b[0m\u001b[1;33m\u001b[0m\u001b[0m\n",
        "\u001b[1;32m<ipython-input-16-9934ce8fc4c3>\u001b[0m in \u001b[0;36mcombine\u001b[1;34m(self, parameters, probability_row)\u001b[0m\n\u001b[0;32m     72\u001b[0m \u001b[1;32mclass\u001b[0m \u001b[0mLinComb\u001b[0m\u001b[1;33m(\u001b[0m\u001b[0mCombinationFunction\u001b[0m\u001b[1;33m)\u001b[0m\u001b[1;33m:\u001b[0m\u001b[1;33m\u001b[0m\u001b[0m\n\u001b[0;32m     73\u001b[0m     \u001b[1;32mdef\u001b[0m \u001b[0mcombine\u001b[0m\u001b[1;33m(\u001b[0m\u001b[0mself\u001b[0m\u001b[1;33m,\u001b[0m \u001b[0mparameters\u001b[0m\u001b[1;33m,\u001b[0m \u001b[0mprobability_row\u001b[0m\u001b[1;33m)\u001b[0m\u001b[1;33m:\u001b[0m\u001b[1;33m\u001b[0m\u001b[0m\n\u001b[1;32m---> 74\u001b[1;33m         \u001b[1;32mreturn\u001b[0m \u001b[0msum\u001b[0m\u001b[1;33m(\u001b[0m\u001b[1;33m[\u001b[0m\u001b[0mwi\u001b[0m\u001b[1;33m*\u001b[0m\u001b[0mxi\u001b[0m \u001b[1;32mfor\u001b[0m \u001b[0mwi\u001b[0m\u001b[1;33m,\u001b[0m \u001b[0mxi\u001b[0m \u001b[1;32min\u001b[0m \u001b[0mzip\u001b[0m\u001b[1;33m(\u001b[0m\u001b[0mparameters\u001b[0m\u001b[1;33m,\u001b[0m \u001b[0mprobability_row\u001b[0m\u001b[1;33m)\u001b[0m\u001b[1;33m]\u001b[0m\u001b[1;33m)\u001b[0m\u001b[1;33m\u001b[0m\u001b[0m\n\u001b[0m\u001b[0;32m     75\u001b[0m \u001b[1;33m\u001b[0m\u001b[0m\n\u001b[0;32m     76\u001b[0m     \u001b[1;32mdef\u001b[0m \u001b[0mgradient\u001b[0m\u001b[1;33m(\u001b[0m\u001b[0mself\u001b[0m\u001b[1;33m,\u001b[0m \u001b[0mparameters\u001b[0m\u001b[1;33m,\u001b[0m \u001b[0mprobability_row\u001b[0m\u001b[1;33m)\u001b[0m\u001b[1;33m:\u001b[0m\u001b[1;33m\u001b[0m\u001b[0m\n",
        "\u001b[1;31mKeyboardInterrupt\u001b[0m: "
       ]
      },
      {
       "output_type": "stream",
       "stream": "stdout",
       "text": [
        " :   [[ 0.16530266  0.40596512  0.44084693  0.09299286]] [[-27.50586035  48.26845849  57.57148622 -77.58398627]]\n"
       ]
      }
     ],
     "prompt_number": 41
    },
    {
     "cell_type": "code",
     "collapsed": false,
     "input": [],
     "language": "python",
     "metadata": {},
     "outputs": []
    }
   ],
   "metadata": {}
  }
 ]
}